{
  "nbformat": 4,
  "nbformat_minor": 0,
  "metadata": {
    "colab": {
      "provenance": []
    },
    "kernelspec": {
      "name": "python3",
      "display_name": "Python 3"
    },
    "language_info": {
      "name": "python"
    }
  },
  "cells": [
    {
      "cell_type": "markdown",
      "source": [
        "# **Bootcamp Ciencia de Datos e Inteligencia Artificial**\n",
        "# **Proyecto Módulo 1. Python para Ciencia de Datos**\n",
        "\n"
      ],
      "metadata": {
        "id": "fR3jvxoWv9WN"
      }
    },
    {
      "cell_type": "markdown",
      "source": [
        "## Introducción \n",
        "\n",
        "Has aprendido lo más elemental en tu camino para convertirte en un científico de datos y estás preparado para afrontar una de las actividades más comunes del trabajo cotidiano de un _data scientist_; es decir, revisar y analizar información solicitada por algún cliente.  \n",
        "\n",
        "Este proyecto representa un desafío que tomará algo de tiempo, de manera que necesitarás mucha concentración y persistencia; sin embargo, eres completamente capaz de resolverlo. Así, en cuestión de semanas notarás la facilidad con que realizas este tipo de actividades."
      ],
      "metadata": {
        "id": "MHW9subLIsg5"
      }
    },
    {
      "cell_type": "markdown",
      "source": [
        "## Demo\n",
        "\n",
        "Este documento te servirá como inspiración para crear el tuyo: https://drive.google.com/file/d/1HH_aauW-84bnoBcooZtT7hRN4bFT5uB8/view?usp=sharing "
      ],
      "metadata": {
        "id": "PRIEEm01JYpW"
      }
    },
    {
      "cell_type": "markdown",
      "source": [
        "## ¿Qué construirás?\n",
        "\n",
        "Un documento de Google Colaboratory que funja como introducción a las actividades más comunes de tu labor cotidiana. Considera que este trabajo se convertirá en una guía para los módulos siguientes, dado que practicarás las habilidades básicas necesarias para implementar un modelo."
      ],
      "metadata": {
        "id": "ozrD68J_KHMc"
      }
    },
    {
      "cell_type": "markdown",
      "source": [
        "## Objetivos\n",
        "\n",
        "El participante:\n",
        "\n",
        "- Se familiarizará con la estructura del lenguaje **Python** enfocada en la ciencia de datos.\n",
        "- Comprenderá que cada proyecto solicitado poseerá distintas características (gráficos de un cierto tipo o diseño, algunos datos estadísticos, entre otros).\n",
        "- Entenderá que algunos datos se interpretan mejor al utilizar determinadas herramientas, tales como **Pandas**, **Numpy** y **Matplotlib**.\n",
        "- Asimilará la manera de estructurar la información que requiera analizar."
      ],
      "metadata": {
        "id": "ax8X7ytUKsrg"
      }
    },
    {
      "cell_type": "markdown",
      "source": [
        "## Requisitos\n",
        "\n",
        "- El proyecto se entregará en forma individual.\n",
        "- Cada participante deberá completar el archivo de **Google Colab** ubicado en su **Google Drive** personal. Al finalizar, compartirá el enlace en el espacio designado en **Teams**. "
      ],
      "metadata": {
        "id": "TI8jx-y3Exg1"
      }
    },
    {
      "cell_type": "markdown",
      "source": [
        "## Entregables\n",
        "\n",
        "Cada participante hará una copia del presente documento y la guardará en su **Google Drive** personal.\n",
        "\n",
        "Leerá cada una de las preguntas y responderá utilizando bloques de código (a excepción de la pregunta 7, que podrá responderse con un bloque de texto). \n",
        "\n",
        "Los resultados deberán ser inteligibles y se recomienda utilizar funciones como `print` para dar claridad a las respuestas.\n",
        "\n",
        "Es posible investigar soluciones en otras fuentes o recurrir a clases anteriores; sin embargo, el estudiante debe comprender lo escrito en código.\n",
        "\n",
        "Algunas respuestas tienen diversas formas de resolverse, no obstante, debe existir precisión en el código escrito y en el propósito que persigue.\n",
        "\n",
        "¡Comencemos!\n"
      ],
      "metadata": {
        "id": "R_kZ2D4v0u9X"
      }
    },
    {
      "cell_type": "code",
      "source": [
        "from google.colab import drive\n",
        "drive.mount('/content/drive')"
      ],
      "metadata": {
        "colab": {
          "base_uri": "https://localhost:8080/"
        },
        "id": "Q7DD3TsR6l6I",
        "outputId": "45a8a9b4-dbad-4608-e15f-60d7485f4554"
      },
      "execution_count": null,
      "outputs": [
        {
          "output_type": "stream",
          "name": "stdout",
          "text": [
            "Mounted at /content/drive\n"
          ]
        }
      ]
    },
    {
      "cell_type": "code",
      "execution_count": null,
      "metadata": {
        "id": "LjNwIEwZN8nP"
      },
      "outputs": [],
      "source": [
        "import pandas as pd\n",
        "import numpy as np\n",
        "import matplotlib.pyplot as plt #No quitar"
      ]
    },
    {
      "cell_type": "markdown",
      "source": [
        "### Pregunta 1\n",
        "Descarga los siguientes archivos:\n",
        "- Este archivo de Excel enlista diferentes celulares y una serie de calificaciones de distintos usuarios: https://drive.google.com/file/d/1atasE-fuDyAt8Z7JGZQroKJwjNkbpyrn/view?usp=sharing \n",
        "- Este documento incluye un listado de las marcas de dichos teléfonos celulares: https://drive.google.com/file/d/1ICBvPkSVajVVMHyrMABYiwuwefv_3oPJ/view?usp=sharing\n",
        "\n",
        "Sube estos archivos en un **Google Drive** y con `pd.read_excel` nómbralos como `df_modelos` y `df_marcas`.\n",
        "\n",
        "Indica en un solo código el número de filas que tiene el archivo `df_modelos` que creaste.\n",
        "\n"
      ],
      "metadata": {
        "id": "IksPNalDSH7R"
      }
    },
    {
      "cell_type": "code",
      "source": [
        "df_modelos = pd.read_excel('/content/drive/MyDrive/UCamp/Modelos.xlsx')\n",
        "df_marcas = pd.read_excel('/content/drive/MyDrive/UCamp/Marcas.xlsx')"
      ],
      "metadata": {
        "id": "I4iNlf32F1LE"
      },
      "execution_count": null,
      "outputs": []
    },
    {
      "cell_type": "code",
      "source": [
        "#filas del df_modelos en un solo código\n",
        "print('Hay ' + str(len(df_modelos)) + ' número de filas en df_modelos.')"
      ],
      "metadata": {
        "colab": {
          "base_uri": "https://localhost:8080/"
        },
        "id": "qi3-1zeuV_it",
        "outputId": "f0149bc6-6727-43dd-b7ff-0c4a426d1d97"
      },
      "execution_count": null,
      "outputs": [
        {
          "output_type": "stream",
          "name": "stdout",
          "text": [
            "Hay 120 número de filas en df_modelos.\n"
          ]
        }
      ]
    },
    {
      "cell_type": "markdown",
      "source": [
        "### Pregunta 2\n",
        "Haz un `merge` de ambos **data frames**, para generar un nuevo **data frame** que incluya los datos de `df_modelos` y `df_marcas`. Tu nuevo **data frame** recibirá el nombre de `df`.\n",
        "\n",
        "**Pista**: Ambos archivos tienen una columna que los relaciona, llamada `ID Marca`."
      ],
      "metadata": {
        "id": "cfoZq-nr2OkO"
      }
    },
    {
      "cell_type": "code",
      "source": [
        "#Nuevo data frame df relacionados con la columna ID_Marca\n",
        "df = pd.merge(left= df_modelos, right= df_marcas, on= 'ID_Marca')\n",
        "df"
      ],
      "metadata": {
        "colab": {
          "base_uri": "https://localhost:8080/",
          "height": 641
        },
        "id": "rcH0qOV4hQNu",
        "outputId": "8a4dd42f-7b61-4c98-8e3f-18a1f3ec104b"
      },
      "execution_count": null,
      "outputs": [
        {
          "output_type": "execute_result",
          "data": {
            "text/plain": [
              "     ID_Marca                                      Modelo  RAM_GB  ROM_GB  \\\n",
              "0          10                 Redmi 8 (Onyx Black, 64 GB)       4      64   \n",
              "1          10              Redmi 8 (Sapphire Blue, 64 GB)       4      32   \n",
              "2          10    Redmi Note 8 Pro (Electric Blue, 128 GB)       6      64   \n",
              "3          10             Redmi 8A Dual (Sea Blue, 64 GB)       3      64   \n",
              "4          10             Redmi 8A Dual (Sea Blue, 32 GB)       2      64   \n",
              "..        ...                                         ...     ...     ...   \n",
              "115         6                                Nokia 105 SS       4      64   \n",
              "116        11     Tecno Spark Power 2 (Misty Grey, 64 GB)       4       4   \n",
              "117        11  Tecno Camon 15 (Fascinating Purple, 64 GB)       4      32   \n",
              "118        11          Tecno Camon 15 (SHOAL GOLD, 64 GB)       4      32   \n",
              "119         4                                Lava 34 Plus      32      32   \n",
              "\n",
              "     Calificaciones  Rese–as  Estrellas  Precio de lista  Precio de venta  \\\n",
              "0            674638    50064        4.4            10999             9999   \n",
              "1            674638    50064        4.4            10999             9999   \n",
              "2             55815     4614        4.4            17999            16999   \n",
              "3               974       71        4.3             9750             9750   \n",
              "4              1246       81        4.2             8320             8320   \n",
              "..              ...      ...        ...              ...              ...   \n",
              "115           75730     7229        4.3             1299             1299   \n",
              "116            9603     1157        4.4            11999             9999   \n",
              "117            2219      238        4.2            12499            11499   \n",
              "118            2219      238        4.2            12499            11499   \n",
              "119             361       34        4.1             1699             1699   \n",
              "\n",
              "    Nombre Marca  \n",
              "0          Redmi  \n",
              "1          Redmi  \n",
              "2          Redmi  \n",
              "3          Redmi  \n",
              "4          Redmi  \n",
              "..           ...  \n",
              "115        Nokia  \n",
              "116        Tecno  \n",
              "117        Tecno  \n",
              "118        Tecno  \n",
              "119         Lava  \n",
              "\n",
              "[120 rows x 10 columns]"
            ],
            "text/html": [
              "\n",
              "  <div id=\"df-d5287e5e-da7d-4a73-9bf4-4189a163a18e\">\n",
              "    <div class=\"colab-df-container\">\n",
              "      <div>\n",
              "<style scoped>\n",
              "    .dataframe tbody tr th:only-of-type {\n",
              "        vertical-align: middle;\n",
              "    }\n",
              "\n",
              "    .dataframe tbody tr th {\n",
              "        vertical-align: top;\n",
              "    }\n",
              "\n",
              "    .dataframe thead th {\n",
              "        text-align: right;\n",
              "    }\n",
              "</style>\n",
              "<table border=\"1\" class=\"dataframe\">\n",
              "  <thead>\n",
              "    <tr style=\"text-align: right;\">\n",
              "      <th></th>\n",
              "      <th>ID_Marca</th>\n",
              "      <th>Modelo</th>\n",
              "      <th>RAM_GB</th>\n",
              "      <th>ROM_GB</th>\n",
              "      <th>Calificaciones</th>\n",
              "      <th>Rese–as</th>\n",
              "      <th>Estrellas</th>\n",
              "      <th>Precio de lista</th>\n",
              "      <th>Precio de venta</th>\n",
              "      <th>Nombre Marca</th>\n",
              "    </tr>\n",
              "  </thead>\n",
              "  <tbody>\n",
              "    <tr>\n",
              "      <th>0</th>\n",
              "      <td>10</td>\n",
              "      <td>Redmi 8 (Onyx Black, 64 GB)</td>\n",
              "      <td>4</td>\n",
              "      <td>64</td>\n",
              "      <td>674638</td>\n",
              "      <td>50064</td>\n",
              "      <td>4.4</td>\n",
              "      <td>10999</td>\n",
              "      <td>9999</td>\n",
              "      <td>Redmi</td>\n",
              "    </tr>\n",
              "    <tr>\n",
              "      <th>1</th>\n",
              "      <td>10</td>\n",
              "      <td>Redmi 8 (Sapphire Blue, 64 GB)</td>\n",
              "      <td>4</td>\n",
              "      <td>32</td>\n",
              "      <td>674638</td>\n",
              "      <td>50064</td>\n",
              "      <td>4.4</td>\n",
              "      <td>10999</td>\n",
              "      <td>9999</td>\n",
              "      <td>Redmi</td>\n",
              "    </tr>\n",
              "    <tr>\n",
              "      <th>2</th>\n",
              "      <td>10</td>\n",
              "      <td>Redmi Note 8 Pro (Electric Blue, 128 GB)</td>\n",
              "      <td>6</td>\n",
              "      <td>64</td>\n",
              "      <td>55815</td>\n",
              "      <td>4614</td>\n",
              "      <td>4.4</td>\n",
              "      <td>17999</td>\n",
              "      <td>16999</td>\n",
              "      <td>Redmi</td>\n",
              "    </tr>\n",
              "    <tr>\n",
              "      <th>3</th>\n",
              "      <td>10</td>\n",
              "      <td>Redmi 8A Dual (Sea Blue, 64 GB)</td>\n",
              "      <td>3</td>\n",
              "      <td>64</td>\n",
              "      <td>974</td>\n",
              "      <td>71</td>\n",
              "      <td>4.3</td>\n",
              "      <td>9750</td>\n",
              "      <td>9750</td>\n",
              "      <td>Redmi</td>\n",
              "    </tr>\n",
              "    <tr>\n",
              "      <th>4</th>\n",
              "      <td>10</td>\n",
              "      <td>Redmi 8A Dual (Sea Blue, 32 GB)</td>\n",
              "      <td>2</td>\n",
              "      <td>64</td>\n",
              "      <td>1246</td>\n",
              "      <td>81</td>\n",
              "      <td>4.2</td>\n",
              "      <td>8320</td>\n",
              "      <td>8320</td>\n",
              "      <td>Redmi</td>\n",
              "    </tr>\n",
              "    <tr>\n",
              "      <th>...</th>\n",
              "      <td>...</td>\n",
              "      <td>...</td>\n",
              "      <td>...</td>\n",
              "      <td>...</td>\n",
              "      <td>...</td>\n",
              "      <td>...</td>\n",
              "      <td>...</td>\n",
              "      <td>...</td>\n",
              "      <td>...</td>\n",
              "      <td>...</td>\n",
              "    </tr>\n",
              "    <tr>\n",
              "      <th>115</th>\n",
              "      <td>6</td>\n",
              "      <td>Nokia 105 SS</td>\n",
              "      <td>4</td>\n",
              "      <td>64</td>\n",
              "      <td>75730</td>\n",
              "      <td>7229</td>\n",
              "      <td>4.3</td>\n",
              "      <td>1299</td>\n",
              "      <td>1299</td>\n",
              "      <td>Nokia</td>\n",
              "    </tr>\n",
              "    <tr>\n",
              "      <th>116</th>\n",
              "      <td>11</td>\n",
              "      <td>Tecno Spark Power 2 (Misty Grey, 64 GB)</td>\n",
              "      <td>4</td>\n",
              "      <td>4</td>\n",
              "      <td>9603</td>\n",
              "      <td>1157</td>\n",
              "      <td>4.4</td>\n",
              "      <td>11999</td>\n",
              "      <td>9999</td>\n",
              "      <td>Tecno</td>\n",
              "    </tr>\n",
              "    <tr>\n",
              "      <th>117</th>\n",
              "      <td>11</td>\n",
              "      <td>Tecno Camon 15 (Fascinating Purple, 64 GB)</td>\n",
              "      <td>4</td>\n",
              "      <td>32</td>\n",
              "      <td>2219</td>\n",
              "      <td>238</td>\n",
              "      <td>4.2</td>\n",
              "      <td>12499</td>\n",
              "      <td>11499</td>\n",
              "      <td>Tecno</td>\n",
              "    </tr>\n",
              "    <tr>\n",
              "      <th>118</th>\n",
              "      <td>11</td>\n",
              "      <td>Tecno Camon 15 (SHOAL GOLD, 64 GB)</td>\n",
              "      <td>4</td>\n",
              "      <td>32</td>\n",
              "      <td>2219</td>\n",
              "      <td>238</td>\n",
              "      <td>4.2</td>\n",
              "      <td>12499</td>\n",
              "      <td>11499</td>\n",
              "      <td>Tecno</td>\n",
              "    </tr>\n",
              "    <tr>\n",
              "      <th>119</th>\n",
              "      <td>4</td>\n",
              "      <td>Lava 34 Plus</td>\n",
              "      <td>32</td>\n",
              "      <td>32</td>\n",
              "      <td>361</td>\n",
              "      <td>34</td>\n",
              "      <td>4.1</td>\n",
              "      <td>1699</td>\n",
              "      <td>1699</td>\n",
              "      <td>Lava</td>\n",
              "    </tr>\n",
              "  </tbody>\n",
              "</table>\n",
              "<p>120 rows × 10 columns</p>\n",
              "</div>\n",
              "      <button class=\"colab-df-convert\" onclick=\"convertToInteractive('df-d5287e5e-da7d-4a73-9bf4-4189a163a18e')\"\n",
              "              title=\"Convert this dataframe to an interactive table.\"\n",
              "              style=\"display:none;\">\n",
              "        \n",
              "  <svg xmlns=\"http://www.w3.org/2000/svg\" height=\"24px\"viewBox=\"0 0 24 24\"\n",
              "       width=\"24px\">\n",
              "    <path d=\"M0 0h24v24H0V0z\" fill=\"none\"/>\n",
              "    <path d=\"M18.56 5.44l.94 2.06.94-2.06 2.06-.94-2.06-.94-.94-2.06-.94 2.06-2.06.94zm-11 1L8.5 8.5l.94-2.06 2.06-.94-2.06-.94L8.5 2.5l-.94 2.06-2.06.94zm10 10l.94 2.06.94-2.06 2.06-.94-2.06-.94-.94-2.06-.94 2.06-2.06.94z\"/><path d=\"M17.41 7.96l-1.37-1.37c-.4-.4-.92-.59-1.43-.59-.52 0-1.04.2-1.43.59L10.3 9.45l-7.72 7.72c-.78.78-.78 2.05 0 2.83L4 21.41c.39.39.9.59 1.41.59.51 0 1.02-.2 1.41-.59l7.78-7.78 2.81-2.81c.8-.78.8-2.07 0-2.86zM5.41 20L4 18.59l7.72-7.72 1.47 1.35L5.41 20z\"/>\n",
              "  </svg>\n",
              "      </button>\n",
              "      \n",
              "  <style>\n",
              "    .colab-df-container {\n",
              "      display:flex;\n",
              "      flex-wrap:wrap;\n",
              "      gap: 12px;\n",
              "    }\n",
              "\n",
              "    .colab-df-convert {\n",
              "      background-color: #E8F0FE;\n",
              "      border: none;\n",
              "      border-radius: 50%;\n",
              "      cursor: pointer;\n",
              "      display: none;\n",
              "      fill: #1967D2;\n",
              "      height: 32px;\n",
              "      padding: 0 0 0 0;\n",
              "      width: 32px;\n",
              "    }\n",
              "\n",
              "    .colab-df-convert:hover {\n",
              "      background-color: #E2EBFA;\n",
              "      box-shadow: 0px 1px 2px rgba(60, 64, 67, 0.3), 0px 1px 3px 1px rgba(60, 64, 67, 0.15);\n",
              "      fill: #174EA6;\n",
              "    }\n",
              "\n",
              "    [theme=dark] .colab-df-convert {\n",
              "      background-color: #3B4455;\n",
              "      fill: #D2E3FC;\n",
              "    }\n",
              "\n",
              "    [theme=dark] .colab-df-convert:hover {\n",
              "      background-color: #434B5C;\n",
              "      box-shadow: 0px 1px 3px 1px rgba(0, 0, 0, 0.15);\n",
              "      filter: drop-shadow(0px 1px 2px rgba(0, 0, 0, 0.3));\n",
              "      fill: #FFFFFF;\n",
              "    }\n",
              "  </style>\n",
              "\n",
              "      <script>\n",
              "        const buttonEl =\n",
              "          document.querySelector('#df-d5287e5e-da7d-4a73-9bf4-4189a163a18e button.colab-df-convert');\n",
              "        buttonEl.style.display =\n",
              "          google.colab.kernel.accessAllowed ? 'block' : 'none';\n",
              "\n",
              "        async function convertToInteractive(key) {\n",
              "          const element = document.querySelector('#df-d5287e5e-da7d-4a73-9bf4-4189a163a18e');\n",
              "          const dataTable =\n",
              "            await google.colab.kernel.invokeFunction('convertToInteractive',\n",
              "                                                     [key], {});\n",
              "          if (!dataTable) return;\n",
              "\n",
              "          const docLinkHtml = 'Like what you see? Visit the ' +\n",
              "            '<a target=\"_blank\" href=https://colab.research.google.com/notebooks/data_table.ipynb>data table notebook</a>'\n",
              "            + ' to learn more about interactive tables.';\n",
              "          element.innerHTML = '';\n",
              "          dataTable['output_type'] = 'display_data';\n",
              "          await google.colab.output.renderOutput(dataTable, element);\n",
              "          const docLink = document.createElement('div');\n",
              "          docLink.innerHTML = docLinkHtml;\n",
              "          element.appendChild(docLink);\n",
              "        }\n",
              "      </script>\n",
              "    </div>\n",
              "  </div>\n",
              "  "
            ]
          },
          "metadata": {},
          "execution_count": 18
        }
      ]
    },
    {
      "cell_type": "markdown",
      "source": [
        "### Pregunta 3\n",
        "Muestra las primeras cinco filas, las últimas cinco y el nombre de todas las columnas."
      ],
      "metadata": {
        "id": "AqDaTcfaTC79"
      }
    },
    {
      "cell_type": "code",
      "source": [
        "#Primeras 5 filas\n",
        "df.head(5)"
      ],
      "metadata": {
        "id": "S1L6Hn8VF2_v",
        "colab": {
          "base_uri": "https://localhost:8080/",
          "height": 354
        },
        "outputId": "ed259f6d-75e2-4f83-f849-f7caa9bb704c"
      },
      "execution_count": null,
      "outputs": [
        {
          "output_type": "execute_result",
          "data": {
            "text/plain": [
              "   ID_Marca                                    Modelo  RAM_GB  ROM_GB  \\\n",
              "0        10               Redmi 8 (Onyx Black, 64 GB)       4      64   \n",
              "1        10            Redmi 8 (Sapphire Blue, 64 GB)       4      32   \n",
              "2        10  Redmi Note 8 Pro (Electric Blue, 128 GB)       6      64   \n",
              "3        10           Redmi 8A Dual (Sea Blue, 64 GB)       3      64   \n",
              "4        10           Redmi 8A Dual (Sea Blue, 32 GB)       2      64   \n",
              "\n",
              "   Calificaciones  Rese–as  Estrellas  Precio de lista  Precio de venta  \\\n",
              "0          674638    50064        4.4            10999             9999   \n",
              "1          674638    50064        4.4            10999             9999   \n",
              "2           55815     4614        4.4            17999            16999   \n",
              "3             974       71        4.3             9750             9750   \n",
              "4            1246       81        4.2             8320             8320   \n",
              "\n",
              "  Nombre Marca  \n",
              "0        Redmi  \n",
              "1        Redmi  \n",
              "2        Redmi  \n",
              "3        Redmi  \n",
              "4        Redmi  "
            ],
            "text/html": [
              "\n",
              "  <div id=\"df-3c4310cb-2c7a-42ec-9902-fcbc22588d84\">\n",
              "    <div class=\"colab-df-container\">\n",
              "      <div>\n",
              "<style scoped>\n",
              "    .dataframe tbody tr th:only-of-type {\n",
              "        vertical-align: middle;\n",
              "    }\n",
              "\n",
              "    .dataframe tbody tr th {\n",
              "        vertical-align: top;\n",
              "    }\n",
              "\n",
              "    .dataframe thead th {\n",
              "        text-align: right;\n",
              "    }\n",
              "</style>\n",
              "<table border=\"1\" class=\"dataframe\">\n",
              "  <thead>\n",
              "    <tr style=\"text-align: right;\">\n",
              "      <th></th>\n",
              "      <th>ID_Marca</th>\n",
              "      <th>Modelo</th>\n",
              "      <th>RAM_GB</th>\n",
              "      <th>ROM_GB</th>\n",
              "      <th>Calificaciones</th>\n",
              "      <th>Rese–as</th>\n",
              "      <th>Estrellas</th>\n",
              "      <th>Precio de lista</th>\n",
              "      <th>Precio de venta</th>\n",
              "      <th>Nombre Marca</th>\n",
              "    </tr>\n",
              "  </thead>\n",
              "  <tbody>\n",
              "    <tr>\n",
              "      <th>0</th>\n",
              "      <td>10</td>\n",
              "      <td>Redmi 8 (Onyx Black, 64 GB)</td>\n",
              "      <td>4</td>\n",
              "      <td>64</td>\n",
              "      <td>674638</td>\n",
              "      <td>50064</td>\n",
              "      <td>4.4</td>\n",
              "      <td>10999</td>\n",
              "      <td>9999</td>\n",
              "      <td>Redmi</td>\n",
              "    </tr>\n",
              "    <tr>\n",
              "      <th>1</th>\n",
              "      <td>10</td>\n",
              "      <td>Redmi 8 (Sapphire Blue, 64 GB)</td>\n",
              "      <td>4</td>\n",
              "      <td>32</td>\n",
              "      <td>674638</td>\n",
              "      <td>50064</td>\n",
              "      <td>4.4</td>\n",
              "      <td>10999</td>\n",
              "      <td>9999</td>\n",
              "      <td>Redmi</td>\n",
              "    </tr>\n",
              "    <tr>\n",
              "      <th>2</th>\n",
              "      <td>10</td>\n",
              "      <td>Redmi Note 8 Pro (Electric Blue, 128 GB)</td>\n",
              "      <td>6</td>\n",
              "      <td>64</td>\n",
              "      <td>55815</td>\n",
              "      <td>4614</td>\n",
              "      <td>4.4</td>\n",
              "      <td>17999</td>\n",
              "      <td>16999</td>\n",
              "      <td>Redmi</td>\n",
              "    </tr>\n",
              "    <tr>\n",
              "      <th>3</th>\n",
              "      <td>10</td>\n",
              "      <td>Redmi 8A Dual (Sea Blue, 64 GB)</td>\n",
              "      <td>3</td>\n",
              "      <td>64</td>\n",
              "      <td>974</td>\n",
              "      <td>71</td>\n",
              "      <td>4.3</td>\n",
              "      <td>9750</td>\n",
              "      <td>9750</td>\n",
              "      <td>Redmi</td>\n",
              "    </tr>\n",
              "    <tr>\n",
              "      <th>4</th>\n",
              "      <td>10</td>\n",
              "      <td>Redmi 8A Dual (Sea Blue, 32 GB)</td>\n",
              "      <td>2</td>\n",
              "      <td>64</td>\n",
              "      <td>1246</td>\n",
              "      <td>81</td>\n",
              "      <td>4.2</td>\n",
              "      <td>8320</td>\n",
              "      <td>8320</td>\n",
              "      <td>Redmi</td>\n",
              "    </tr>\n",
              "  </tbody>\n",
              "</table>\n",
              "</div>\n",
              "      <button class=\"colab-df-convert\" onclick=\"convertToInteractive('df-3c4310cb-2c7a-42ec-9902-fcbc22588d84')\"\n",
              "              title=\"Convert this dataframe to an interactive table.\"\n",
              "              style=\"display:none;\">\n",
              "        \n",
              "  <svg xmlns=\"http://www.w3.org/2000/svg\" height=\"24px\"viewBox=\"0 0 24 24\"\n",
              "       width=\"24px\">\n",
              "    <path d=\"M0 0h24v24H0V0z\" fill=\"none\"/>\n",
              "    <path d=\"M18.56 5.44l.94 2.06.94-2.06 2.06-.94-2.06-.94-.94-2.06-.94 2.06-2.06.94zm-11 1L8.5 8.5l.94-2.06 2.06-.94-2.06-.94L8.5 2.5l-.94 2.06-2.06.94zm10 10l.94 2.06.94-2.06 2.06-.94-2.06-.94-.94-2.06-.94 2.06-2.06.94z\"/><path d=\"M17.41 7.96l-1.37-1.37c-.4-.4-.92-.59-1.43-.59-.52 0-1.04.2-1.43.59L10.3 9.45l-7.72 7.72c-.78.78-.78 2.05 0 2.83L4 21.41c.39.39.9.59 1.41.59.51 0 1.02-.2 1.41-.59l7.78-7.78 2.81-2.81c.8-.78.8-2.07 0-2.86zM5.41 20L4 18.59l7.72-7.72 1.47 1.35L5.41 20z\"/>\n",
              "  </svg>\n",
              "      </button>\n",
              "      \n",
              "  <style>\n",
              "    .colab-df-container {\n",
              "      display:flex;\n",
              "      flex-wrap:wrap;\n",
              "      gap: 12px;\n",
              "    }\n",
              "\n",
              "    .colab-df-convert {\n",
              "      background-color: #E8F0FE;\n",
              "      border: none;\n",
              "      border-radius: 50%;\n",
              "      cursor: pointer;\n",
              "      display: none;\n",
              "      fill: #1967D2;\n",
              "      height: 32px;\n",
              "      padding: 0 0 0 0;\n",
              "      width: 32px;\n",
              "    }\n",
              "\n",
              "    .colab-df-convert:hover {\n",
              "      background-color: #E2EBFA;\n",
              "      box-shadow: 0px 1px 2px rgba(60, 64, 67, 0.3), 0px 1px 3px 1px rgba(60, 64, 67, 0.15);\n",
              "      fill: #174EA6;\n",
              "    }\n",
              "\n",
              "    [theme=dark] .colab-df-convert {\n",
              "      background-color: #3B4455;\n",
              "      fill: #D2E3FC;\n",
              "    }\n",
              "\n",
              "    [theme=dark] .colab-df-convert:hover {\n",
              "      background-color: #434B5C;\n",
              "      box-shadow: 0px 1px 3px 1px rgba(0, 0, 0, 0.15);\n",
              "      filter: drop-shadow(0px 1px 2px rgba(0, 0, 0, 0.3));\n",
              "      fill: #FFFFFF;\n",
              "    }\n",
              "  </style>\n",
              "\n",
              "      <script>\n",
              "        const buttonEl =\n",
              "          document.querySelector('#df-3c4310cb-2c7a-42ec-9902-fcbc22588d84 button.colab-df-convert');\n",
              "        buttonEl.style.display =\n",
              "          google.colab.kernel.accessAllowed ? 'block' : 'none';\n",
              "\n",
              "        async function convertToInteractive(key) {\n",
              "          const element = document.querySelector('#df-3c4310cb-2c7a-42ec-9902-fcbc22588d84');\n",
              "          const dataTable =\n",
              "            await google.colab.kernel.invokeFunction('convertToInteractive',\n",
              "                                                     [key], {});\n",
              "          if (!dataTable) return;\n",
              "\n",
              "          const docLinkHtml = 'Like what you see? Visit the ' +\n",
              "            '<a target=\"_blank\" href=https://colab.research.google.com/notebooks/data_table.ipynb>data table notebook</a>'\n",
              "            + ' to learn more about interactive tables.';\n",
              "          element.innerHTML = '';\n",
              "          dataTable['output_type'] = 'display_data';\n",
              "          await google.colab.output.renderOutput(dataTable, element);\n",
              "          const docLink = document.createElement('div');\n",
              "          docLink.innerHTML = docLinkHtml;\n",
              "          element.appendChild(docLink);\n",
              "        }\n",
              "      </script>\n",
              "    </div>\n",
              "  </div>\n",
              "  "
            ]
          },
          "metadata": {},
          "execution_count": 20
        }
      ]
    },
    {
      "cell_type": "code",
      "source": [
        "#Ultimas 5 filas\n",
        "df.tail(5)"
      ],
      "metadata": {
        "id": "AYPcw8cLF361",
        "colab": {
          "base_uri": "https://localhost:8080/",
          "height": 337
        },
        "outputId": "7a849c54-a64c-4bc7-ce7f-d6bd488abbda"
      },
      "execution_count": null,
      "outputs": [
        {
          "output_type": "execute_result",
          "data": {
            "text/plain": [
              "     ID_Marca                                      Modelo  RAM_GB  ROM_GB  \\\n",
              "115         6                                Nokia 105 SS       4      64   \n",
              "116        11     Tecno Spark Power 2 (Misty Grey, 64 GB)       4       4   \n",
              "117        11  Tecno Camon 15 (Fascinating Purple, 64 GB)       4      32   \n",
              "118        11          Tecno Camon 15 (SHOAL GOLD, 64 GB)       4      32   \n",
              "119         4                                Lava 34 Plus      32      32   \n",
              "\n",
              "     Calificaciones  Rese–as  Estrellas  Precio de lista  Precio de venta  \\\n",
              "115           75730     7229        4.3             1299             1299   \n",
              "116            9603     1157        4.4            11999             9999   \n",
              "117            2219      238        4.2            12499            11499   \n",
              "118            2219      238        4.2            12499            11499   \n",
              "119             361       34        4.1             1699             1699   \n",
              "\n",
              "    Nombre Marca  \n",
              "115        Nokia  \n",
              "116        Tecno  \n",
              "117        Tecno  \n",
              "118        Tecno  \n",
              "119         Lava  "
            ],
            "text/html": [
              "\n",
              "  <div id=\"df-1a6b604b-acf3-41d4-8dca-b6d009dbbea6\">\n",
              "    <div class=\"colab-df-container\">\n",
              "      <div>\n",
              "<style scoped>\n",
              "    .dataframe tbody tr th:only-of-type {\n",
              "        vertical-align: middle;\n",
              "    }\n",
              "\n",
              "    .dataframe tbody tr th {\n",
              "        vertical-align: top;\n",
              "    }\n",
              "\n",
              "    .dataframe thead th {\n",
              "        text-align: right;\n",
              "    }\n",
              "</style>\n",
              "<table border=\"1\" class=\"dataframe\">\n",
              "  <thead>\n",
              "    <tr style=\"text-align: right;\">\n",
              "      <th></th>\n",
              "      <th>ID_Marca</th>\n",
              "      <th>Modelo</th>\n",
              "      <th>RAM_GB</th>\n",
              "      <th>ROM_GB</th>\n",
              "      <th>Calificaciones</th>\n",
              "      <th>Rese–as</th>\n",
              "      <th>Estrellas</th>\n",
              "      <th>Precio de lista</th>\n",
              "      <th>Precio de venta</th>\n",
              "      <th>Nombre Marca</th>\n",
              "    </tr>\n",
              "  </thead>\n",
              "  <tbody>\n",
              "    <tr>\n",
              "      <th>115</th>\n",
              "      <td>6</td>\n",
              "      <td>Nokia 105 SS</td>\n",
              "      <td>4</td>\n",
              "      <td>64</td>\n",
              "      <td>75730</td>\n",
              "      <td>7229</td>\n",
              "      <td>4.3</td>\n",
              "      <td>1299</td>\n",
              "      <td>1299</td>\n",
              "      <td>Nokia</td>\n",
              "    </tr>\n",
              "    <tr>\n",
              "      <th>116</th>\n",
              "      <td>11</td>\n",
              "      <td>Tecno Spark Power 2 (Misty Grey, 64 GB)</td>\n",
              "      <td>4</td>\n",
              "      <td>4</td>\n",
              "      <td>9603</td>\n",
              "      <td>1157</td>\n",
              "      <td>4.4</td>\n",
              "      <td>11999</td>\n",
              "      <td>9999</td>\n",
              "      <td>Tecno</td>\n",
              "    </tr>\n",
              "    <tr>\n",
              "      <th>117</th>\n",
              "      <td>11</td>\n",
              "      <td>Tecno Camon 15 (Fascinating Purple, 64 GB)</td>\n",
              "      <td>4</td>\n",
              "      <td>32</td>\n",
              "      <td>2219</td>\n",
              "      <td>238</td>\n",
              "      <td>4.2</td>\n",
              "      <td>12499</td>\n",
              "      <td>11499</td>\n",
              "      <td>Tecno</td>\n",
              "    </tr>\n",
              "    <tr>\n",
              "      <th>118</th>\n",
              "      <td>11</td>\n",
              "      <td>Tecno Camon 15 (SHOAL GOLD, 64 GB)</td>\n",
              "      <td>4</td>\n",
              "      <td>32</td>\n",
              "      <td>2219</td>\n",
              "      <td>238</td>\n",
              "      <td>4.2</td>\n",
              "      <td>12499</td>\n",
              "      <td>11499</td>\n",
              "      <td>Tecno</td>\n",
              "    </tr>\n",
              "    <tr>\n",
              "      <th>119</th>\n",
              "      <td>4</td>\n",
              "      <td>Lava 34 Plus</td>\n",
              "      <td>32</td>\n",
              "      <td>32</td>\n",
              "      <td>361</td>\n",
              "      <td>34</td>\n",
              "      <td>4.1</td>\n",
              "      <td>1699</td>\n",
              "      <td>1699</td>\n",
              "      <td>Lava</td>\n",
              "    </tr>\n",
              "  </tbody>\n",
              "</table>\n",
              "</div>\n",
              "      <button class=\"colab-df-convert\" onclick=\"convertToInteractive('df-1a6b604b-acf3-41d4-8dca-b6d009dbbea6')\"\n",
              "              title=\"Convert this dataframe to an interactive table.\"\n",
              "              style=\"display:none;\">\n",
              "        \n",
              "  <svg xmlns=\"http://www.w3.org/2000/svg\" height=\"24px\"viewBox=\"0 0 24 24\"\n",
              "       width=\"24px\">\n",
              "    <path d=\"M0 0h24v24H0V0z\" fill=\"none\"/>\n",
              "    <path d=\"M18.56 5.44l.94 2.06.94-2.06 2.06-.94-2.06-.94-.94-2.06-.94 2.06-2.06.94zm-11 1L8.5 8.5l.94-2.06 2.06-.94-2.06-.94L8.5 2.5l-.94 2.06-2.06.94zm10 10l.94 2.06.94-2.06 2.06-.94-2.06-.94-.94-2.06-.94 2.06-2.06.94z\"/><path d=\"M17.41 7.96l-1.37-1.37c-.4-.4-.92-.59-1.43-.59-.52 0-1.04.2-1.43.59L10.3 9.45l-7.72 7.72c-.78.78-.78 2.05 0 2.83L4 21.41c.39.39.9.59 1.41.59.51 0 1.02-.2 1.41-.59l7.78-7.78 2.81-2.81c.8-.78.8-2.07 0-2.86zM5.41 20L4 18.59l7.72-7.72 1.47 1.35L5.41 20z\"/>\n",
              "  </svg>\n",
              "      </button>\n",
              "      \n",
              "  <style>\n",
              "    .colab-df-container {\n",
              "      display:flex;\n",
              "      flex-wrap:wrap;\n",
              "      gap: 12px;\n",
              "    }\n",
              "\n",
              "    .colab-df-convert {\n",
              "      background-color: #E8F0FE;\n",
              "      border: none;\n",
              "      border-radius: 50%;\n",
              "      cursor: pointer;\n",
              "      display: none;\n",
              "      fill: #1967D2;\n",
              "      height: 32px;\n",
              "      padding: 0 0 0 0;\n",
              "      width: 32px;\n",
              "    }\n",
              "\n",
              "    .colab-df-convert:hover {\n",
              "      background-color: #E2EBFA;\n",
              "      box-shadow: 0px 1px 2px rgba(60, 64, 67, 0.3), 0px 1px 3px 1px rgba(60, 64, 67, 0.15);\n",
              "      fill: #174EA6;\n",
              "    }\n",
              "\n",
              "    [theme=dark] .colab-df-convert {\n",
              "      background-color: #3B4455;\n",
              "      fill: #D2E3FC;\n",
              "    }\n",
              "\n",
              "    [theme=dark] .colab-df-convert:hover {\n",
              "      background-color: #434B5C;\n",
              "      box-shadow: 0px 1px 3px 1px rgba(0, 0, 0, 0.15);\n",
              "      filter: drop-shadow(0px 1px 2px rgba(0, 0, 0, 0.3));\n",
              "      fill: #FFFFFF;\n",
              "    }\n",
              "  </style>\n",
              "\n",
              "      <script>\n",
              "        const buttonEl =\n",
              "          document.querySelector('#df-1a6b604b-acf3-41d4-8dca-b6d009dbbea6 button.colab-df-convert');\n",
              "        buttonEl.style.display =\n",
              "          google.colab.kernel.accessAllowed ? 'block' : 'none';\n",
              "\n",
              "        async function convertToInteractive(key) {\n",
              "          const element = document.querySelector('#df-1a6b604b-acf3-41d4-8dca-b6d009dbbea6');\n",
              "          const dataTable =\n",
              "            await google.colab.kernel.invokeFunction('convertToInteractive',\n",
              "                                                     [key], {});\n",
              "          if (!dataTable) return;\n",
              "\n",
              "          const docLinkHtml = 'Like what you see? Visit the ' +\n",
              "            '<a target=\"_blank\" href=https://colab.research.google.com/notebooks/data_table.ipynb>data table notebook</a>'\n",
              "            + ' to learn more about interactive tables.';\n",
              "          element.innerHTML = '';\n",
              "          dataTable['output_type'] = 'display_data';\n",
              "          await google.colab.output.renderOutput(dataTable, element);\n",
              "          const docLink = document.createElement('div');\n",
              "          docLink.innerHTML = docLinkHtml;\n",
              "          element.appendChild(docLink);\n",
              "        }\n",
              "      </script>\n",
              "    </div>\n",
              "  </div>\n",
              "  "
            ]
          },
          "metadata": {},
          "execution_count": 22
        }
      ]
    },
    {
      "cell_type": "code",
      "source": [
        "#Nombres de todas las columnas\n",
        "list (df.columns)"
      ],
      "metadata": {
        "colab": {
          "base_uri": "https://localhost:8080/"
        },
        "id": "EL1zH5vPyIoD",
        "outputId": "24d8519d-2089-4dd7-a22a-a9c3ec06aabf"
      },
      "execution_count": null,
      "outputs": [
        {
          "output_type": "execute_result",
          "data": {
            "text/plain": [
              "['ID_Marca',\n",
              " 'Modelo',\n",
              " 'RAM_GB',\n",
              " 'ROM_GB',\n",
              " 'Calificaciones',\n",
              " 'Rese–as',\n",
              " 'Estrellas',\n",
              " 'Precio de lista',\n",
              " 'Precio de venta',\n",
              " 'Nombre Marca']"
            ]
          },
          "metadata": {},
          "execution_count": 23
        }
      ]
    },
    {
      "cell_type": "markdown",
      "source": [
        "### Pregunta 4\n",
        "Utiliza los filtros para mostrar todos los teléfonos con 64GB en la columna `ROM_GB` e indica cuántos del listado poseen esta característica."
      ],
      "metadata": {
        "id": "m2HobjRsTz7V"
      }
    },
    {
      "cell_type": "code",
      "source": [
        "#Filtro de los telefonos con 64GB de ROM\n",
        "df_rom64 = df[df['ROM_GB'] == 64]\n",
        "print('Hay ' + str(len(df_rom64)) + ' registros de 64 GB.')"
      ],
      "metadata": {
        "id": "-yfgYqiZF4yS",
        "colab": {
          "base_uri": "https://localhost:8080/"
        },
        "outputId": "660825fe-5747-4b03-f374-af4388b7cccb"
      },
      "execution_count": null,
      "outputs": [
        {
          "output_type": "stream",
          "name": "stdout",
          "text": [
            "Hay 62 registros de 64 GB.\n"
          ]
        }
      ]
    },
    {
      "cell_type": "markdown",
      "source": [
        "### Pregunta 5\n",
        "Haz un histograma (`hist`) de la columna `ROM_GB` del **data frame** `df`.\n",
        "\n",
        "El gráfico debe incluir un título y las columnas tener un color personalizado."
      ],
      "metadata": {
        "id": "tfXR1-kf_WQd"
      }
    },
    {
      "cell_type": "code",
      "source": [
        "#Histograma \n",
        "fig, ax = plt.subplots(figsize= (15,5))\n",
        "x = df['ROM_GB']\n",
        "ax.hist(x, color= 'purple', bins=15, edgecolor= 'black')\n",
        "ax.set_title('Resultados de la muestra de cantidad de teléfonos segun ROM', color= 'blue')\n",
        "ax.set_xlabel('Gigas ROM',color= 'purple')\n",
        "ax.set_ylabel('Cantidad',color= 'purple')\n",
        "plt.show()"
      ],
      "metadata": {
        "id": "Dfk9NBLQGGb3",
        "colab": {
          "base_uri": "https://localhost:8080/",
          "height": 350
        },
        "outputId": "4e2aa4c8-eb85-46ba-f4ab-e20e9efa5d86"
      },
      "execution_count": null,
      "outputs": [
        {
          "output_type": "display_data",
          "data": {
            "text/plain": [
              "<Figure size 1080x360 with 1 Axes>"
            ],
            "image/png": "[encoded data removed]"
          },
          "metadata": {
            "needs_background": "light"
          }
        }
      ]
    },
    {
      "cell_type": "markdown",
      "source": [
        "### Pregunta 6\n",
        "Haz un diagrama de dispersión (`scatter`) con las siguientes características: el eje X deberá indicar el contenido de la columna `Precio de lista`, mientras que el eje Y expresará el contenido de la columna `Precio de venta`.\n",
        "\n",
        "El diagrama debe incluir un título y los puntos tener un color personalizado."
      ],
      "metadata": {
        "id": "U8QOkYQnBCDY"
      }
    },
    {
      "cell_type": "code",
      "source": [
        "#Diagrama de dispersión\n",
        "fig, ax = plt.subplots()\n",
        "x = df['Precio de lista']\n",
        "y = df['Precio de venta']\n",
        "ax.scatter(x, y, color='purple')\n",
        "ax.set_title('Relación entre el precio de lista y el precio de venta', color= 'blue')\n",
        "ax.set_xlabel('Precio de lista', color= 'purple')\n",
        "ax.set_ylabel('Precio de venta', color= 'purple')\n",
        "plt.show()"
      ],
      "metadata": {
        "id": "ttIgS7LAGHDm",
        "colab": {
          "base_uri": "https://localhost:8080/",
          "height": 295
        },
        "outputId": "3866b84b-54f3-4ba3-ca0f-33de67901015"
      },
      "execution_count": null,
      "outputs": [
        {
          "output_type": "display_data",
          "data": {
            "text/plain": [
              "<Figure size 432x288 with 1 Axes>"
            ],
            "image/png": "[encoded data removed]"
          },
          "metadata": {
            "needs_background": "light"
          }
        }
      ]
    },
    {
      "cell_type": "markdown",
      "source": [
        "### Pregunta 7\n",
        "\n",
        "Con base en el diagrama de la **pregunta 6**, responde la siguiente pregunta: ¿A qué conclusión podrías llegar si observas únicamente la gráfica?"
      ],
      "metadata": {
        "id": "qWHZAMi2DZos"
      }
    },
    {
      "cell_type": "markdown",
      "source": [
        "Rpta: **Existe una correlación positiva, dado que mientras aumenta el precio de lista tambien aumenta el precio de venta.**\n"
      ],
      "metadata": {
        "id": "Aql08i4fGIxs"
      }
    },
    {
      "cell_type": "markdown",
      "source": [
        "### Pregunta 8\n",
        "Utiliza el código para obtener la siguiente información (ubicada en `df`).\n",
        "\n",
        "- Promedio de los precios de venta de los modelos marca **Realme**\n",
        "- Máximo de estrellas de los modelos marca **Redmi**\n",
        "- Mínimo de Estrellas de los modelos marca **Redmi**"
      ],
      "metadata": {
        "id": "3H4LtqjhEGME"
      }
    },
    {
      "cell_type": "code",
      "source": [
        "#Promedio\n",
        "df_realme = df[df['Nombre Marca'] == 'Realme']\n",
        "df_pv = df_realme.groupby(['Nombre Marca'])['Precio de venta'].mean()\n",
        "df_pv"
      ],
      "metadata": {
        "id": "8AApDz1dGKQr",
        "colab": {
          "base_uri": "https://localhost:8080/"
        },
        "outputId": "0fac640a-4f05-4036-f2cd-948d01bc1fec"
      },
      "execution_count": null,
      "outputs": [
        {
          "output_type": "execute_result",
          "data": {
            "text/plain": [
              "Nombre Marca\n",
              "Realme    12423.242424\n",
              "Name: Precio de venta, dtype: float64"
            ]
          },
          "metadata": {},
          "execution_count": 49
        }
      ]
    },
    {
      "cell_type": "code",
      "source": [
        "#Máximo\n",
        "df_redmi = df[df['Nombre Marca'] == 'Redmi']\n",
        "df_est = df_redmi.groupby(['Nombre Marca'])['Estrellas'].max()\n",
        "df_est"
      ],
      "metadata": {
        "colab": {
          "base_uri": "https://localhost:8080/"
        },
        "id": "lOO8C5WKMZ17",
        "outputId": "8f98fa02-26d4-4e17-8d48-eba2a0d6ec1a"
      },
      "execution_count": null,
      "outputs": [
        {
          "output_type": "execute_result",
          "data": {
            "text/plain": [
              "Nombre Marca\n",
              "Redmi    4.4\n",
              "Name: Estrellas, dtype: float64"
            ]
          },
          "metadata": {},
          "execution_count": 41
        }
      ]
    },
    {
      "cell_type": "code",
      "source": [
        "#Mínimo\n",
        "df_redmi = df[df['Nombre Marca'] == 'Redmi']\n",
        "df_est = df_redmi.groupby(['Nombre Marca'])['Estrellas'].min()\n",
        "df_est"
      ],
      "metadata": {
        "colab": {
          "base_uri": "https://localhost:8080/"
        },
        "id": "s1ckxZBEM5eG",
        "outputId": "a9561d49-b4a1-4641-8b2d-66effe3b3dcd"
      },
      "execution_count": null,
      "outputs": [
        {
          "output_type": "execute_result",
          "data": {
            "text/plain": [
              "Nombre Marca\n",
              "Redmi    4.2\n",
              "Name: Estrellas, dtype: float64"
            ]
          },
          "metadata": {},
          "execution_count": 42
        }
      ]
    },
    {
      "cell_type": "markdown",
      "source": [
        "### Pregunta 9\n",
        "Utiliza un **Groupby** para mostrar la cantidad de estrellas promedio que cada marca tiene en `df`."
      ],
      "metadata": {
        "id": "ds4EGI0SHEKB"
      }
    },
    {
      "cell_type": "code",
      "source": [
        "#Promedio de estrellas por marca\n",
        "df.groupby(by= 'Nombre Marca')['Estrellas'].mean()"
      ],
      "metadata": {
        "id": "U_iMhR_gGLBV",
        "colab": {
          "base_uri": "https://localhost:8080/"
        },
        "outputId": "24fedc30-a583-49d6-84da-c949191a4104"
      },
      "execution_count": null,
      "outputs": [
        {
          "output_type": "execute_result",
          "data": {
            "text/plain": [
              "Nombre Marca\n",
              "Apple       4.554545\n",
              "I Kall      2.984615\n",
              "Infinix     4.387500\n",
              "Lava        4.100000\n",
              "Motorola    4.400000\n",
              "Nokia       4.300000\n",
              "Oppo        4.325000\n",
              "Poco        4.500000\n",
              "Realme      4.475758\n",
              "Redmi       4.340000\n",
              "Tecno       4.266667\n",
              "Vivo        4.375000\n",
              "Name: Estrellas, dtype: float64"
            ]
          },
          "metadata": {},
          "execution_count": 51
        }
      ]
    },
    {
      "cell_type": "code",
      "source": [],
      "metadata": {
        "id": "ta-2RE36wrWn"
      },
      "execution_count": null,
      "outputs": []
    },
    {
      "cell_type": "markdown",
      "source": [
        "### Pregunta 10\n",
        "¿Qué otro dato puedes obtener de `df` y cómo lo extraerías? "
      ],
      "metadata": {
        "id": "ALRDH3eRHkZN"
      }
    },
    {
      "cell_type": "code",
      "source": [
        "#Cantidad de modelos por marca de teléfono\n",
        "df.groupby(by= 'Nombre Marca')['Modelo'].size()"
      ],
      "metadata": {
        "id": "9HUy8LdgGLvM",
        "colab": {
          "base_uri": "https://localhost:8080/"
        },
        "outputId": "9603b664-1d1f-49f8-a033-85864ed24f50"
      },
      "execution_count": null,
      "outputs": [
        {
          "output_type": "execute_result",
          "data": {
            "text/plain": [
              "Nombre Marca\n",
              "Apple       11\n",
              "I Kall      13\n",
              "Infinix      8\n",
              "Lava         1\n",
              "Motorola     3\n",
              "Nokia        1\n",
              "Oppo        16\n",
              "Poco         5\n",
              "Realme      33\n",
              "Redmi       10\n",
              "Tecno        3\n",
              "Vivo        16\n",
              "Name: Modelo, dtype: int64"
            ]
          },
          "metadata": {},
          "execution_count": 52
        }
      ]
    }
  ]
}