{
  "cells": [
    {
      "cell_type": "markdown",
      "metadata": {
        "id": "appIq4HAHKgk"
      },
      "source": [
        "#Bootcamp Ciencia de Datos e Inteligencia Artificial \n",
        "## Proyecto del Módulo 3: Modelado supervisado en Machine Learning\n",
        "\n",
        "\n",
        "## Estudiante: **Priscila Elías**\n"
      ]
    },
    {
      "cell_type": "markdown",
      "metadata": {
        "id": "rGT2I4nhlnK0"
      },
      "source": [
        "¡Hola, qué gusto que estés a un paso de obtener tu insignia del módulo 3! Aquí pondrás en juego las habilidades y conocimientos que has practicado a lo largo de estas semanas.\n",
        "\n",
        "Esta actividad constará de dos partes. Revisa con cuidado cada una de las instrucciones y procura plasmar todo tu potencial para que concluyas tu proyecto de manera exitosa. \n",
        "\n",
        "¡Éxito! "
      ]
    },
    {
      "cell_type": "markdown",
      "metadata": {
        "id": "L4bqNdPG36hp"
      },
      "source": [
        "## Objetivos\n",
        "* Diseñarás y aplicarás un modelo de regresión lineal y un modelo de regresión logística en el que:\n",
        "  - harás _dummies_ a valores categóricos,\n",
        "  - «splitear» _dataframe_, \n",
        "  - estandarizarás conjuntos,  \n",
        "  - entrenarás con conjunto de entrenamiento, \n",
        "  - predecirás con conjunto de pruebas.\n",
        "* Aplicarás cuadros de confusión y medirás la precisión.\n",
        "* Graficarás mapas de calor a partir del cuadro de confusión.\n",
        "* Utilizarás métricas MSE, RMSE y R2."
      ]
    },
    {
      "cell_type": "markdown",
      "metadata": {
        "id": "UuD9OwgzmKqf"
      },
      "source": [
        "## Primera parte\n",
        "\n",
        "Descarga el archivo de la siguiente liga: https://drive.google.com/file/d/1mwbTl_m-r6oyKVl_ZHPOE4Io5tMohkr1/view?usp=sharing \n",
        "\n",
        "Un equipo de Recursos Humanos te acaba de proporcionar el archivo que has descargado. En este se indican algunas características que ellos creen que influyen en el salario que buscan algunas personas que se postulan en empresas de tecnología.\n",
        "\n",
        "Este equipo pide de tu apoyo para diseñar un modelo que pueda predecir cuánto pedirá cada postulante con base en las siguientes características:\n",
        "\n",
        "- `Experiencia`: Años de experiencia en el área.\n",
        "- `Posición`: Posición que busca; existen tres opciones:\n",
        "  - `Analista`\n",
        "  - `Coordinador`\n",
        "  - `Gerente`\n",
        "- `Hijos`: Número de hijos que tiene.\n",
        "- `Casado`: ¿El postulante está casado?\n",
        "  - `0`: No\n",
        "  - `1`: Sí\n",
        "- `Educación`: ¿Cuál es el grado máximo de estudios concluido? Existen tres opciones:\n",
        "  - `Bachillerato`\n",
        "  - `Licenciatura`\n",
        "  - `Posgrado`\n",
        "- `Salario`: Cantidad en pesos mexicanos que pide. Esta variable es la que se pretende predecir en este ejercicio.\n",
        "\n",
        "### Criterios de evaluación:\n",
        "- Modelar regresión lineal correctamente (**2 puntos**):\n",
        "  - hacer _dummies_ a valores categóricos,\n",
        "  - «splitear» _dataframe_, \n",
        "  - estandarizar conjuntos, \n",
        "  - aplicar modelo, \n",
        "  - entrenar con conjunto de entrenamiento, \n",
        "  - predecir con conjunto de pruebas.\n",
        "\n",
        "> **Nota:** Si alguno de los 3 últimos puntos anteriores (aplicar modelo, entrenar con conjunto de entrenamiento y predecir con conjunto de pruebas) no es realizado se descontará **un punto**.\n",
        "\n",
        "- Aplicar por lo menos dos métricas (**2 puntos**):\n",
        "  - **MSE**, \n",
        "  - **RMSE** o \n",
        "  - **R2**.\n"
      ]
    },
    {
      "cell_type": "code",
      "execution_count": null,
      "metadata": {
        "id": "zEjWzmxiJSwL"
      },
      "outputs": [],
      "source": [
        "import pandas as pd\n",
        "import numpy as np\n",
        "import matplotlib.pyplot as plt\n",
        "import seaborn as sns\n",
        "import warnings\n",
        "warnings.filterwarnings(\"ignore\")\n",
        "\n",
        "#Funciones de sklearn para estandarizar/normalizar los datos\n",
        "from sklearn.preprocessing import StandardScaler\n",
        "\n",
        "\n",
        "#Función de Sklearn para trabajar con dummies\n",
        "from sklearn.dummy           import DummyClassifier\n",
        "\n",
        "#Funciones de Sklearn para trabajar con Regresión Lineal y Logística\n",
        "from sklearn.linear_model  import LogisticRegression\n",
        "from sklearn.linear_model  import LinearRegression\n",
        "\n",
        "\n",
        "#Funciones adicionales (complemento)\n",
        "from sklearn.linear_model    import Lasso\n",
        "from sklearn.metrics         import confusion_matrix\n",
        "from sklearn.metrics         import roc_curve\n",
        "from sklearn.metrics         import roc_auc_score\n",
        "from sklearn.model_selection import train_test_split\n",
        "\n",
        "#Comando para ver el total de columnas y filas en head\n",
        "pd.set_option('display.max_columns', None)\n",
        "pd.set_option('display.max_rows', None)\n",
        "\n",
        "from sklearn.metrics import mean_squared_error"
      ]
    },
    {
      "cell_type": "markdown",
      "metadata": {
        "id": "95AJFwJOJVQw"
      },
      "source": [
        "# **Desarrollo de la parte número 1**\n",
        "\n",
        "---"
      ]
    },
    {
      "cell_type": "markdown",
      "metadata": {
        "id": "pNxx824jWm8t"
      },
      "source": [
        "*Primero realizamos EDA para observar las variables involucradas y determinar que tipo de encoder utilizar;\n",
        "ya sea un codificador/encoder para una variable categorica a ordinal (Label Encoder) o bien un codificador/encoder que binarice la clasificación de la etiqueta (de tipo dummie) sin darle un \"peso/valor\" a la variable.*"
      ]
    },
    {
      "cell_type": "code",
      "execution_count": null,
      "metadata": {
        "id": "4n_BDwKuJTBt",
        "colab": {
          "base_uri": "https://localhost:8080/"
        },
        "outputId": "3c62791f-2500-40df-8aab-0987e22e3f26"
      },
      "outputs": [
        {
          "output_type": "stream",
          "name": "stdout",
          "text": [
            "Drive already mounted at /content/drive; to attempt to forcibly remount, call drive.mount(\"/content/drive\", force_remount=True).\n"
          ]
        }
      ],
      "source": [
        "from google.colab import drive\n",
        "drive.mount('/content/drive')"
      ]
    },
    {
      "cell_type": "code",
      "source": [
        "# Importacion de datos\n",
        "df = pd.read_csv('/content/drive/MyDrive/UCamp/rrhh.csv')"
      ],
      "metadata": {
        "id": "GTRhKCeenzVE"
      },
      "execution_count": null,
      "outputs": []
    },
    {
      "cell_type": "code",
      "execution_count": null,
      "metadata": {
        "id": "QFjU2yc7JTLz",
        "colab": {
          "base_uri": "https://localhost:8080/"
        },
        "outputId": "0813d828-3b27-4765-83c3-f58bc6157a80"
      },
      "outputs": [
        {
          "output_type": "stream",
          "name": "stdout",
          "text": [
            "<class 'pandas.core.frame.DataFrame'>\n",
            "RangeIndex: 1000 entries, 0 to 999\n",
            "Data columns (total 6 columns):\n",
            " #   Column       Non-Null Count  Dtype  \n",
            "---  ------       --------------  -----  \n",
            " 0   Experiencia  1000 non-null   float64\n",
            " 1   Posicion     1000 non-null   object \n",
            " 2   Hijos        1000 non-null   int64  \n",
            " 3   Casado       1000 non-null   int64  \n",
            " 4   Educacion    1000 non-null   object \n",
            " 5   Salario      1000 non-null   int64  \n",
            "dtypes: float64(1), int64(3), object(2)\n",
            "memory usage: 47.0+ KB\n"
          ]
        }
      ],
      "source": [
        "#Función para describir la estructura de datos\n",
        "df.info (6)"
      ]
    },
    {
      "cell_type": "markdown",
      "source": [
        "*Se observa que no hay nulos*"
      ],
      "metadata": {
        "id": "0itsvoJfSK45"
      }
    },
    {
      "cell_type": "code",
      "execution_count": null,
      "metadata": {
        "id": "nZP6vpvQJTOm",
        "colab": {
          "base_uri": "https://localhost:8080/",
          "height": 143
        },
        "outputId": "18826884-9c95-46b8-95dd-df1bebf51a28"
      },
      "outputs": [
        {
          "output_type": "execute_result",
          "data": {
            "text/plain": [
              "   Experiencia  Posicion  Hijos  Casado     Educacion  Salario\n",
              "0          0.5  Analista      4       1  Bachillerato    13540\n",
              "1          5.6  Analista      2       0  Licenciatura    31240\n",
              "2         11.7  Analista      1       0  Licenciatura    63880"
            ],
            "text/html": [
              "\n",
              "  <div id=\"df-b5a862cc-9e2f-4575-9294-947b432ffec1\">\n",
              "    <div class=\"colab-df-container\">\n",
              "      <div>\n",
              "<style scoped>\n",
              "    .dataframe tbody tr th:only-of-type {\n",
              "        vertical-align: middle;\n",
              "    }\n",
              "\n",
              "    .dataframe tbody tr th {\n",
              "        vertical-align: top;\n",
              "    }\n",
              "\n",
              "    .dataframe thead th {\n",
              "        text-align: right;\n",
              "    }\n",
              "</style>\n",
              "<table border=\"1\" class=\"dataframe\">\n",
              "  <thead>\n",
              "    <tr style=\"text-align: right;\">\n",
              "      <th></th>\n",
              "      <th>Experiencia</th>\n",
              "      <th>Posicion</th>\n",
              "      <th>Hijos</th>\n",
              "      <th>Casado</th>\n",
              "      <th>Educacion</th>\n",
              "      <th>Salario</th>\n",
              "    </tr>\n",
              "  </thead>\n",
              "  <tbody>\n",
              "    <tr>\n",
              "      <th>0</th>\n",
              "      <td>0.5</td>\n",
              "      <td>Analista</td>\n",
              "      <td>4</td>\n",
              "      <td>1</td>\n",
              "      <td>Bachillerato</td>\n",
              "      <td>13540</td>\n",
              "    </tr>\n",
              "    <tr>\n",
              "      <th>1</th>\n",
              "      <td>5.6</td>\n",
              "      <td>Analista</td>\n",
              "      <td>2</td>\n",
              "      <td>0</td>\n",
              "      <td>Licenciatura</td>\n",
              "      <td>31240</td>\n",
              "    </tr>\n",
              "    <tr>\n",
              "      <th>2</th>\n",
              "      <td>11.7</td>\n",
              "      <td>Analista</td>\n",
              "      <td>1</td>\n",
              "      <td>0</td>\n",
              "      <td>Licenciatura</td>\n",
              "      <td>63880</td>\n",
              "    </tr>\n",
              "  </tbody>\n",
              "</table>\n",
              "</div>\n",
              "      <button class=\"colab-df-convert\" onclick=\"convertToInteractive('df-b5a862cc-9e2f-4575-9294-947b432ffec1')\"\n",
              "              title=\"Convert this dataframe to an interactive table.\"\n",
              "              style=\"display:none;\">\n",
              "        \n",
              "  <svg xmlns=\"http://www.w3.org/2000/svg\" height=\"24px\"viewBox=\"0 0 24 24\"\n",
              "       width=\"24px\">\n",
              "    <path d=\"M0 0h24v24H0V0z\" fill=\"none\"/>\n",
              "    <path d=\"M18.56 5.44l.94 2.06.94-2.06 2.06-.94-2.06-.94-.94-2.06-.94 2.06-2.06.94zm-11 1L8.5 8.5l.94-2.06 2.06-.94-2.06-.94L8.5 2.5l-.94 2.06-2.06.94zm10 10l.94 2.06.94-2.06 2.06-.94-2.06-.94-.94-2.06-.94 2.06-2.06.94z\"/><path d=\"M17.41 7.96l-1.37-1.37c-.4-.4-.92-.59-1.43-.59-.52 0-1.04.2-1.43.59L10.3 9.45l-7.72 7.72c-.78.78-.78 2.05 0 2.83L4 21.41c.39.39.9.59 1.41.59.51 0 1.02-.2 1.41-.59l7.78-7.78 2.81-2.81c.8-.78.8-2.07 0-2.86zM5.41 20L4 18.59l7.72-7.72 1.47 1.35L5.41 20z\"/>\n",
              "  </svg>\n",
              "      </button>\n",
              "      \n",
              "  <style>\n",
              "    .colab-df-container {\n",
              "      display:flex;\n",
              "      flex-wrap:wrap;\n",
              "      gap: 12px;\n",
              "    }\n",
              "\n",
              "    .colab-df-convert {\n",
              "      background-color: #E8F0FE;\n",
              "      border: none;\n",
              "      border-radius: 50%;\n",
              "      cursor: pointer;\n",
              "      display: none;\n",
              "      fill: #1967D2;\n",
              "      height: 32px;\n",
              "      padding: 0 0 0 0;\n",
              "      width: 32px;\n",
              "    }\n",
              "\n",
              "    .colab-df-convert:hover {\n",
              "      background-color: #E2EBFA;\n",
              "      box-shadow: 0px 1px 2px rgba(60, 64, 67, 0.3), 0px 1px 3px 1px rgba(60, 64, 67, 0.15);\n",
              "      fill: #174EA6;\n",
              "    }\n",
              "\n",
              "    [theme=dark] .colab-df-convert {\n",
              "      background-color: #3B4455;\n",
              "      fill: #D2E3FC;\n",
              "    }\n",
              "\n",
              "    [theme=dark] .colab-df-convert:hover {\n",
              "      background-color: #434B5C;\n",
              "      box-shadow: 0px 1px 3px 1px rgba(0, 0, 0, 0.15);\n",
              "      filter: drop-shadow(0px 1px 2px rgba(0, 0, 0, 0.3));\n",
              "      fill: #FFFFFF;\n",
              "    }\n",
              "  </style>\n",
              "\n",
              "      <script>\n",
              "        const buttonEl =\n",
              "          document.querySelector('#df-b5a862cc-9e2f-4575-9294-947b432ffec1 button.colab-df-convert');\n",
              "        buttonEl.style.display =\n",
              "          google.colab.kernel.accessAllowed ? 'block' : 'none';\n",
              "\n",
              "        async function convertToInteractive(key) {\n",
              "          const element = document.querySelector('#df-b5a862cc-9e2f-4575-9294-947b432ffec1');\n",
              "          const dataTable =\n",
              "            await google.colab.kernel.invokeFunction('convertToInteractive',\n",
              "                                                     [key], {});\n",
              "          if (!dataTable) return;\n",
              "\n",
              "          const docLinkHtml = 'Like what you see? Visit the ' +\n",
              "            '<a target=\"_blank\" href=https://colab.research.google.com/notebooks/data_table.ipynb>data table notebook</a>'\n",
              "            + ' to learn more about interactive tables.';\n",
              "          element.innerHTML = '';\n",
              "          dataTable['output_type'] = 'display_data';\n",
              "          await google.colab.output.renderOutput(dataTable, element);\n",
              "          const docLink = document.createElement('div');\n",
              "          docLink.innerHTML = docLinkHtml;\n",
              "          element.appendChild(docLink);\n",
              "        }\n",
              "      </script>\n",
              "    </div>\n",
              "  </div>\n",
              "  "
            ]
          },
          "metadata": {},
          "execution_count": 494
        }
      ],
      "source": [
        "#Función para observar la cabeza de la estructura\n",
        "df.head(3)"
      ]
    },
    {
      "cell_type": "markdown",
      "source": [
        "*Se observan las variables categóricas de Posición y Educación*"
      ],
      "metadata": {
        "id": "oJ5Yrg_fSS6T"
      }
    },
    {
      "cell_type": "code",
      "execution_count": null,
      "metadata": {
        "id": "G_osfcPiJTZV",
        "colab": {
          "base_uri": "https://localhost:8080/",
          "height": 143
        },
        "outputId": "da7d0b8f-eb59-4738-ad1e-8951af8c8f79"
      },
      "outputs": [
        {
          "output_type": "execute_result",
          "data": {
            "text/plain": [
              "     Experiencia  Posicion  Hijos  Casado     Educacion  Salario\n",
              "997         11.4  Analista      0       0  Licenciatura    38840\n",
              "998          9.9  Analista      2       1  Bachillerato    45660\n",
              "999         10.2  Analista      3       1  Bachillerato    55210"
            ],
            "text/html": [
              "\n",
              "  <div id=\"df-7f965044-9c4d-4436-bc4b-ad04e6e1df88\">\n",
              "    <div class=\"colab-df-container\">\n",
              "      <div>\n",
              "<style scoped>\n",
              "    .dataframe tbody tr th:only-of-type {\n",
              "        vertical-align: middle;\n",
              "    }\n",
              "\n",
              "    .dataframe tbody tr th {\n",
              "        vertical-align: top;\n",
              "    }\n",
              "\n",
              "    .dataframe thead th {\n",
              "        text-align: right;\n",
              "    }\n",
              "</style>\n",
              "<table border=\"1\" class=\"dataframe\">\n",
              "  <thead>\n",
              "    <tr style=\"text-align: right;\">\n",
              "      <th></th>\n",
              "      <th>Experiencia</th>\n",
              "      <th>Posicion</th>\n",
              "      <th>Hijos</th>\n",
              "      <th>Casado</th>\n",
              "      <th>Educacion</th>\n",
              "      <th>Salario</th>\n",
              "    </tr>\n",
              "  </thead>\n",
              "  <tbody>\n",
              "    <tr>\n",
              "      <th>997</th>\n",
              "      <td>11.4</td>\n",
              "      <td>Analista</td>\n",
              "      <td>0</td>\n",
              "      <td>0</td>\n",
              "      <td>Licenciatura</td>\n",
              "      <td>38840</td>\n",
              "    </tr>\n",
              "    <tr>\n",
              "      <th>998</th>\n",
              "      <td>9.9</td>\n",
              "      <td>Analista</td>\n",
              "      <td>2</td>\n",
              "      <td>1</td>\n",
              "      <td>Bachillerato</td>\n",
              "      <td>45660</td>\n",
              "    </tr>\n",
              "    <tr>\n",
              "      <th>999</th>\n",
              "      <td>10.2</td>\n",
              "      <td>Analista</td>\n",
              "      <td>3</td>\n",
              "      <td>1</td>\n",
              "      <td>Bachillerato</td>\n",
              "      <td>55210</td>\n",
              "    </tr>\n",
              "  </tbody>\n",
              "</table>\n",
              "</div>\n",
              "      <button class=\"colab-df-convert\" onclick=\"convertToInteractive('df-7f965044-9c4d-4436-bc4b-ad04e6e1df88')\"\n",
              "              title=\"Convert this dataframe to an interactive table.\"\n",
              "              style=\"display:none;\">\n",
              "        \n",
              "  <svg xmlns=\"http://www.w3.org/2000/svg\" height=\"24px\"viewBox=\"0 0 24 24\"\n",
              "       width=\"24px\">\n",
              "    <path d=\"M0 0h24v24H0V0z\" fill=\"none\"/>\n",
              "    <path d=\"M18.56 5.44l.94 2.06.94-2.06 2.06-.94-2.06-.94-.94-2.06-.94 2.06-2.06.94zm-11 1L8.5 8.5l.94-2.06 2.06-.94-2.06-.94L8.5 2.5l-.94 2.06-2.06.94zm10 10l.94 2.06.94-2.06 2.06-.94-2.06-.94-.94-2.06-.94 2.06-2.06.94z\"/><path d=\"M17.41 7.96l-1.37-1.37c-.4-.4-.92-.59-1.43-.59-.52 0-1.04.2-1.43.59L10.3 9.45l-7.72 7.72c-.78.78-.78 2.05 0 2.83L4 21.41c.39.39.9.59 1.41.59.51 0 1.02-.2 1.41-.59l7.78-7.78 2.81-2.81c.8-.78.8-2.07 0-2.86zM5.41 20L4 18.59l7.72-7.72 1.47 1.35L5.41 20z\"/>\n",
              "  </svg>\n",
              "      </button>\n",
              "      \n",
              "  <style>\n",
              "    .colab-df-container {\n",
              "      display:flex;\n",
              "      flex-wrap:wrap;\n",
              "      gap: 12px;\n",
              "    }\n",
              "\n",
              "    .colab-df-convert {\n",
              "      background-color: #E8F0FE;\n",
              "      border: none;\n",
              "      border-radius: 50%;\n",
              "      cursor: pointer;\n",
              "      display: none;\n",
              "      fill: #1967D2;\n",
              "      height: 32px;\n",
              "      padding: 0 0 0 0;\n",
              "      width: 32px;\n",
              "    }\n",
              "\n",
              "    .colab-df-convert:hover {\n",
              "      background-color: #E2EBFA;\n",
              "      box-shadow: 0px 1px 2px rgba(60, 64, 67, 0.3), 0px 1px 3px 1px rgba(60, 64, 67, 0.15);\n",
              "      fill: #174EA6;\n",
              "    }\n",
              "\n",
              "    [theme=dark] .colab-df-convert {\n",
              "      background-color: #3B4455;\n",
              "      fill: #D2E3FC;\n",
              "    }\n",
              "\n",
              "    [theme=dark] .colab-df-convert:hover {\n",
              "      background-color: #434B5C;\n",
              "      box-shadow: 0px 1px 3px 1px rgba(0, 0, 0, 0.15);\n",
              "      filter: drop-shadow(0px 1px 2px rgba(0, 0, 0, 0.3));\n",
              "      fill: #FFFFFF;\n",
              "    }\n",
              "  </style>\n",
              "\n",
              "      <script>\n",
              "        const buttonEl =\n",
              "          document.querySelector('#df-7f965044-9c4d-4436-bc4b-ad04e6e1df88 button.colab-df-convert');\n",
              "        buttonEl.style.display =\n",
              "          google.colab.kernel.accessAllowed ? 'block' : 'none';\n",
              "\n",
              "        async function convertToInteractive(key) {\n",
              "          const element = document.querySelector('#df-7f965044-9c4d-4436-bc4b-ad04e6e1df88');\n",
              "          const dataTable =\n",
              "            await google.colab.kernel.invokeFunction('convertToInteractive',\n",
              "                                                     [key], {});\n",
              "          if (!dataTable) return;\n",
              "\n",
              "          const docLinkHtml = 'Like what you see? Visit the ' +\n",
              "            '<a target=\"_blank\" href=https://colab.research.google.com/notebooks/data_table.ipynb>data table notebook</a>'\n",
              "            + ' to learn more about interactive tables.';\n",
              "          element.innerHTML = '';\n",
              "          dataTable['output_type'] = 'display_data';\n",
              "          await google.colab.output.renderOutput(dataTable, element);\n",
              "          const docLink = document.createElement('div');\n",
              "          docLink.innerHTML = docLinkHtml;\n",
              "          element.appendChild(docLink);\n",
              "        }\n",
              "      </script>\n",
              "    </div>\n",
              "  </div>\n",
              "  "
            ]
          },
          "metadata": {},
          "execution_count": 495
        }
      ],
      "source": [
        "#Función para observar el final/la cola de la estructura\n",
        "df.tail(3)"
      ]
    },
    {
      "cell_type": "markdown",
      "source": [
        "*Observemos si tiene Outliers*"
      ],
      "metadata": {
        "id": "brYahP6HS9jn"
      }
    },
    {
      "cell_type": "code",
      "source": [
        "#Visualizamos los Outliers\n",
        "df.plot(kind=\"box\")"
      ],
      "metadata": {
        "id": "X25tP2QXT7kk",
        "colab": {
          "base_uri": "https://localhost:8080/",
          "height": 283
        },
        "outputId": "e4351d18-be6a-4893-d3f5-fc878d8d857e"
      },
      "execution_count": null,
      "outputs": [
        {
          "output_type": "execute_result",
          "data": {
            "text/plain": [
              "<matplotlib.axes._subplots.AxesSubplot at 0x7ff0d2514b50>"
            ]
          },
          "metadata": {},
          "execution_count": 496
        },
        {
          "output_type": "display_data",
          "data": {
            "text/plain": [
              "<Figure size 432x288 with 1 Axes>"
            ],
            "image/png": "[encoded data removed]"
          },
          "metadata": {
            "needs_background": "light"
          }
        }
      ]
    },
    {
      "cell_type": "code",
      "source": [
        "#Outliers de la variable categorica Salario\n",
        "df['Salario'].plot(kind='box', figsize=(8, 5))\n",
        "plt.title('Box plot')\n",
        "plt.ylabel('Salario')\n",
        "plt.show()"
      ],
      "metadata": {
        "colab": {
          "base_uri": "https://localhost:8080/",
          "height": 336
        },
        "id": "zxZqSSQp7o37",
        "outputId": "f00d4cbf-2a45-436b-b5a0-408e87290bfe"
      },
      "execution_count": null,
      "outputs": [
        {
          "output_type": "display_data",
          "data": {
            "text/plain": [
              "<Figure size 576x360 with 1 Axes>"
            ],
            "image/png": "[encoded data removed]"
          },
          "metadata": {
            "needs_background": "light"
          }
        }
      ]
    },
    {
      "cell_type": "code",
      "source": [
        "#Retiramos los Outliers\n",
        "q1 = df['Salario'].quantile(0.25)\n",
        "q3 = df['Salario'].quantile(0.75)\n",
        "iqr = q3-q1 #Interquartile range    #*   Q1 (25%)     #*   Q3 (75%)    #*   IQR = Q3 - Q1     \n",
        "lowV = q1-1.5*iqr\n",
        "highV = q3+1.5*iqr\n",
        "\n",
        "df = df.loc[(df['Salario'] > lowV) & (df['Salario'] < highV)]"
      ],
      "metadata": {
        "id": "DzW5luMV8Dez"
      },
      "execution_count": null,
      "outputs": []
    },
    {
      "cell_type": "code",
      "source": [
        "#Grafica sin outliers\n",
        "df['Salario'].plot(kind='box', figsize=(6, 5))\n",
        "plt.title('Box plot')\n",
        "plt.ylabel('Salario')\n",
        "plt.show()"
      ],
      "metadata": {
        "colab": {
          "base_uri": "https://localhost:8080/",
          "height": 336
        },
        "id": "-1weBYgZ8UbF",
        "outputId": "37c4e977-2f41-49be-826c-725c49d1a402"
      },
      "execution_count": null,
      "outputs": [
        {
          "output_type": "display_data",
          "data": {
            "text/plain": [
              "<Figure size 432x360 with 1 Axes>"
            ],
            "image/png": "[encoded data removed]"
          },
          "metadata": {
            "needs_background": "light"
          }
        }
      ]
    },
    {
      "cell_type": "markdown",
      "source": [
        "*Realizamos dummies a valores categóricos*"
      ],
      "metadata": {
        "id": "OOn2TLxfTjI2"
      }
    },
    {
      "cell_type": "code",
      "execution_count": null,
      "metadata": {
        "id": "DiXEB3c8Wm8v"
      },
      "outputs": [],
      "source": [
        "#Aplicamos la función dummie para la variable categórica de Posición\n",
        "df = pd.get_dummies(data = df, columns=['Posicion'])"
      ]
    },
    {
      "cell_type": "code",
      "execution_count": null,
      "metadata": {
        "colab": {
          "base_uri": "https://localhost:8080/",
          "height": 206
        },
        "id": "2lXihpvUWm8w",
        "outputId": "b6ca6aa9-c8d4-4e1b-c622-0d25aa5f5cd9"
      },
      "outputs": [
        {
          "output_type": "execute_result",
          "data": {
            "text/plain": [
              "   Experiencia  Hijos  Casado     Educacion  Salario  Posicion_Analista  \\\n",
              "0          0.5      4       1  Bachillerato    13540                  1   \n",
              "1          5.6      2       0  Licenciatura    31240                  1   \n",
              "3          5.2      2       1  Licenciatura    29960                  1   \n",
              "4          7.2      2       1  Licenciatura    34710                  0   \n",
              "5          7.2      2       1  Bachillerato    32210                  1   \n",
              "\n",
              "   Posicion_Coordinador  Posicion_Gerente  \n",
              "0                     0                 0  \n",
              "1                     0                 0  \n",
              "3                     0                 0  \n",
              "4                     1                 0  \n",
              "5                     0                 0  "
            ],
            "text/html": [
              "\n",
              "  <div id=\"df-92a773f6-1166-4bf9-848a-b81624b644af\">\n",
              "    <div class=\"colab-df-container\">\n",
              "      <div>\n",
              "<style scoped>\n",
              "    .dataframe tbody tr th:only-of-type {\n",
              "        vertical-align: middle;\n",
              "    }\n",
              "\n",
              "    .dataframe tbody tr th {\n",
              "        vertical-align: top;\n",
              "    }\n",
              "\n",
              "    .dataframe thead th {\n",
              "        text-align: right;\n",
              "    }\n",
              "</style>\n",
              "<table border=\"1\" class=\"dataframe\">\n",
              "  <thead>\n",
              "    <tr style=\"text-align: right;\">\n",
              "      <th></th>\n",
              "      <th>Experiencia</th>\n",
              "      <th>Hijos</th>\n",
              "      <th>Casado</th>\n",
              "      <th>Educacion</th>\n",
              "      <th>Salario</th>\n",
              "      <th>Posicion_Analista</th>\n",
              "      <th>Posicion_Coordinador</th>\n",
              "      <th>Posicion_Gerente</th>\n",
              "    </tr>\n",
              "  </thead>\n",
              "  <tbody>\n",
              "    <tr>\n",
              "      <th>0</th>\n",
              "      <td>0.5</td>\n",
              "      <td>4</td>\n",
              "      <td>1</td>\n",
              "      <td>Bachillerato</td>\n",
              "      <td>13540</td>\n",
              "      <td>1</td>\n",
              "      <td>0</td>\n",
              "      <td>0</td>\n",
              "    </tr>\n",
              "    <tr>\n",
              "      <th>1</th>\n",
              "      <td>5.6</td>\n",
              "      <td>2</td>\n",
              "      <td>0</td>\n",
              "      <td>Licenciatura</td>\n",
              "      <td>31240</td>\n",
              "      <td>1</td>\n",
              "      <td>0</td>\n",
              "      <td>0</td>\n",
              "    </tr>\n",
              "    <tr>\n",
              "      <th>3</th>\n",
              "      <td>5.2</td>\n",
              "      <td>2</td>\n",
              "      <td>1</td>\n",
              "      <td>Licenciatura</td>\n",
              "      <td>29960</td>\n",
              "      <td>1</td>\n",
              "      <td>0</td>\n",
              "      <td>0</td>\n",
              "    </tr>\n",
              "    <tr>\n",
              "      <th>4</th>\n",
              "      <td>7.2</td>\n",
              "      <td>2</td>\n",
              "      <td>1</td>\n",
              "      <td>Licenciatura</td>\n",
              "      <td>34710</td>\n",
              "      <td>0</td>\n",
              "      <td>1</td>\n",
              "      <td>0</td>\n",
              "    </tr>\n",
              "    <tr>\n",
              "      <th>5</th>\n",
              "      <td>7.2</td>\n",
              "      <td>2</td>\n",
              "      <td>1</td>\n",
              "      <td>Bachillerato</td>\n",
              "      <td>32210</td>\n",
              "      <td>1</td>\n",
              "      <td>0</td>\n",
              "      <td>0</td>\n",
              "    </tr>\n",
              "  </tbody>\n",
              "</table>\n",
              "</div>\n",
              "      <button class=\"colab-df-convert\" onclick=\"convertToInteractive('df-92a773f6-1166-4bf9-848a-b81624b644af')\"\n",
              "              title=\"Convert this dataframe to an interactive table.\"\n",
              "              style=\"display:none;\">\n",
              "        \n",
              "  <svg xmlns=\"http://www.w3.org/2000/svg\" height=\"24px\"viewBox=\"0 0 24 24\"\n",
              "       width=\"24px\">\n",
              "    <path d=\"M0 0h24v24H0V0z\" fill=\"none\"/>\n",
              "    <path d=\"M18.56 5.44l.94 2.06.94-2.06 2.06-.94-2.06-.94-.94-2.06-.94 2.06-2.06.94zm-11 1L8.5 8.5l.94-2.06 2.06-.94-2.06-.94L8.5 2.5l-.94 2.06-2.06.94zm10 10l.94 2.06.94-2.06 2.06-.94-2.06-.94-.94-2.06-.94 2.06-2.06.94z\"/><path d=\"M17.41 7.96l-1.37-1.37c-.4-.4-.92-.59-1.43-.59-.52 0-1.04.2-1.43.59L10.3 9.45l-7.72 7.72c-.78.78-.78 2.05 0 2.83L4 21.41c.39.39.9.59 1.41.59.51 0 1.02-.2 1.41-.59l7.78-7.78 2.81-2.81c.8-.78.8-2.07 0-2.86zM5.41 20L4 18.59l7.72-7.72 1.47 1.35L5.41 20z\"/>\n",
              "  </svg>\n",
              "      </button>\n",
              "      \n",
              "  <style>\n",
              "    .colab-df-container {\n",
              "      display:flex;\n",
              "      flex-wrap:wrap;\n",
              "      gap: 12px;\n",
              "    }\n",
              "\n",
              "    .colab-df-convert {\n",
              "      background-color: #E8F0FE;\n",
              "      border: none;\n",
              "      border-radius: 50%;\n",
              "      cursor: pointer;\n",
              "      display: none;\n",
              "      fill: #1967D2;\n",
              "      height: 32px;\n",
              "      padding: 0 0 0 0;\n",
              "      width: 32px;\n",
              "    }\n",
              "\n",
              "    .colab-df-convert:hover {\n",
              "      background-color: #E2EBFA;\n",
              "      box-shadow: 0px 1px 2px rgba(60, 64, 67, 0.3), 0px 1px 3px 1px rgba(60, 64, 67, 0.15);\n",
              "      fill: #174EA6;\n",
              "    }\n",
              "\n",
              "    [theme=dark] .colab-df-convert {\n",
              "      background-color: #3B4455;\n",
              "      fill: #D2E3FC;\n",
              "    }\n",
              "\n",
              "    [theme=dark] .colab-df-convert:hover {\n",
              "      background-color: #434B5C;\n",
              "      box-shadow: 0px 1px 3px 1px rgba(0, 0, 0, 0.15);\n",
              "      filter: drop-shadow(0px 1px 2px rgba(0, 0, 0, 0.3));\n",
              "      fill: #FFFFFF;\n",
              "    }\n",
              "  </style>\n",
              "\n",
              "      <script>\n",
              "        const buttonEl =\n",
              "          document.querySelector('#df-92a773f6-1166-4bf9-848a-b81624b644af button.colab-df-convert');\n",
              "        buttonEl.style.display =\n",
              "          google.colab.kernel.accessAllowed ? 'block' : 'none';\n",
              "\n",
              "        async function convertToInteractive(key) {\n",
              "          const element = document.querySelector('#df-92a773f6-1166-4bf9-848a-b81624b644af');\n",
              "          const dataTable =\n",
              "            await google.colab.kernel.invokeFunction('convertToInteractive',\n",
              "                                                     [key], {});\n",
              "          if (!dataTable) return;\n",
              "\n",
              "          const docLinkHtml = 'Like what you see? Visit the ' +\n",
              "            '<a target=\"_blank\" href=https://colab.research.google.com/notebooks/data_table.ipynb>data table notebook</a>'\n",
              "            + ' to learn more about interactive tables.';\n",
              "          element.innerHTML = '';\n",
              "          dataTable['output_type'] = 'display_data';\n",
              "          await google.colab.output.renderOutput(dataTable, element);\n",
              "          const docLink = document.createElement('div');\n",
              "          docLink.innerHTML = docLinkHtml;\n",
              "          element.appendChild(docLink);\n",
              "        }\n",
              "      </script>\n",
              "    </div>\n",
              "  </div>\n",
              "  "
            ]
          },
          "metadata": {},
          "execution_count": 501
        }
      ],
      "source": [
        "df.head(5)"
      ]
    },
    {
      "cell_type": "code",
      "execution_count": null,
      "metadata": {
        "id": "7LmrU1MYWm8w"
      },
      "outputs": [],
      "source": [
        "#Aplicamos Label Encoder ya que Bachillerato, Licenciatura y Posgrado ya que es una  \n",
        "#variable categorica a la que se le puede asignar un valor ordinal.\n",
        "from sklearn.preprocessing import LabelEncoder\n",
        "labelencoder = LabelEncoder()"
      ]
    },
    {
      "cell_type": "code",
      "execution_count": null,
      "metadata": {
        "id": "86gE-WhnWm8w"
      },
      "outputs": [],
      "source": [
        "df['Educacion'] = labelencoder.fit_transform(df['Educacion'])"
      ]
    },
    {
      "cell_type": "code",
      "execution_count": null,
      "metadata": {
        "colab": {
          "base_uri": "https://localhost:8080/",
          "height": 143
        },
        "id": "uVXpXjR-Wm8w",
        "outputId": "a8fa0048-a3af-4072-a27d-e9d092b5152a"
      },
      "outputs": [
        {
          "output_type": "execute_result",
          "data": {
            "text/plain": [
              "   Experiencia  Hijos  Casado  Educacion  Salario  Posicion_Analista  \\\n",
              "0          0.5      4       1          0    13540                  1   \n",
              "1          5.6      2       0          1    31240                  1   \n",
              "3          5.2      2       1          1    29960                  1   \n",
              "\n",
              "   Posicion_Coordinador  Posicion_Gerente  \n",
              "0                     0                 0  \n",
              "1                     0                 0  \n",
              "3                     0                 0  "
            ],
            "text/html": [
              "\n",
              "  <div id=\"df-7f6ee8d1-e1b2-4431-8a69-75359e637df6\">\n",
              "    <div class=\"colab-df-container\">\n",
              "      <div>\n",
              "<style scoped>\n",
              "    .dataframe tbody tr th:only-of-type {\n",
              "        vertical-align: middle;\n",
              "    }\n",
              "\n",
              "    .dataframe tbody tr th {\n",
              "        vertical-align: top;\n",
              "    }\n",
              "\n",
              "    .dataframe thead th {\n",
              "        text-align: right;\n",
              "    }\n",
              "</style>\n",
              "<table border=\"1\" class=\"dataframe\">\n",
              "  <thead>\n",
              "    <tr style=\"text-align: right;\">\n",
              "      <th></th>\n",
              "      <th>Experiencia</th>\n",
              "      <th>Hijos</th>\n",
              "      <th>Casado</th>\n",
              "      <th>Educacion</th>\n",
              "      <th>Salario</th>\n",
              "      <th>Posicion_Analista</th>\n",
              "      <th>Posicion_Coordinador</th>\n",
              "      <th>Posicion_Gerente</th>\n",
              "    </tr>\n",
              "  </thead>\n",
              "  <tbody>\n",
              "    <tr>\n",
              "      <th>0</th>\n",
              "      <td>0.5</td>\n",
              "      <td>4</td>\n",
              "      <td>1</td>\n",
              "      <td>0</td>\n",
              "      <td>13540</td>\n",
              "      <td>1</td>\n",
              "      <td>0</td>\n",
              "      <td>0</td>\n",
              "    </tr>\n",
              "    <tr>\n",
              "      <th>1</th>\n",
              "      <td>5.6</td>\n",
              "      <td>2</td>\n",
              "      <td>0</td>\n",
              "      <td>1</td>\n",
              "      <td>31240</td>\n",
              "      <td>1</td>\n",
              "      <td>0</td>\n",
              "      <td>0</td>\n",
              "    </tr>\n",
              "    <tr>\n",
              "      <th>3</th>\n",
              "      <td>5.2</td>\n",
              "      <td>2</td>\n",
              "      <td>1</td>\n",
              "      <td>1</td>\n",
              "      <td>29960</td>\n",
              "      <td>1</td>\n",
              "      <td>0</td>\n",
              "      <td>0</td>\n",
              "    </tr>\n",
              "  </tbody>\n",
              "</table>\n",
              "</div>\n",
              "      <button class=\"colab-df-convert\" onclick=\"convertToInteractive('df-7f6ee8d1-e1b2-4431-8a69-75359e637df6')\"\n",
              "              title=\"Convert this dataframe to an interactive table.\"\n",
              "              style=\"display:none;\">\n",
              "        \n",
              "  <svg xmlns=\"http://www.w3.org/2000/svg\" height=\"24px\"viewBox=\"0 0 24 24\"\n",
              "       width=\"24px\">\n",
              "    <path d=\"M0 0h24v24H0V0z\" fill=\"none\"/>\n",
              "    <path d=\"M18.56 5.44l.94 2.06.94-2.06 2.06-.94-2.06-.94-.94-2.06-.94 2.06-2.06.94zm-11 1L8.5 8.5l.94-2.06 2.06-.94-2.06-.94L8.5 2.5l-.94 2.06-2.06.94zm10 10l.94 2.06.94-2.06 2.06-.94-2.06-.94-.94-2.06-.94 2.06-2.06.94z\"/><path d=\"M17.41 7.96l-1.37-1.37c-.4-.4-.92-.59-1.43-.59-.52 0-1.04.2-1.43.59L10.3 9.45l-7.72 7.72c-.78.78-.78 2.05 0 2.83L4 21.41c.39.39.9.59 1.41.59.51 0 1.02-.2 1.41-.59l7.78-7.78 2.81-2.81c.8-.78.8-2.07 0-2.86zM5.41 20L4 18.59l7.72-7.72 1.47 1.35L5.41 20z\"/>\n",
              "  </svg>\n",
              "      </button>\n",
              "      \n",
              "  <style>\n",
              "    .colab-df-container {\n",
              "      display:flex;\n",
              "      flex-wrap:wrap;\n",
              "      gap: 12px;\n",
              "    }\n",
              "\n",
              "    .colab-df-convert {\n",
              "      background-color: #E8F0FE;\n",
              "      border: none;\n",
              "      border-radius: 50%;\n",
              "      cursor: pointer;\n",
              "      display: none;\n",
              "      fill: #1967D2;\n",
              "      height: 32px;\n",
              "      padding: 0 0 0 0;\n",
              "      width: 32px;\n",
              "    }\n",
              "\n",
              "    .colab-df-convert:hover {\n",
              "      background-color: #E2EBFA;\n",
              "      box-shadow: 0px 1px 2px rgba(60, 64, 67, 0.3), 0px 1px 3px 1px rgba(60, 64, 67, 0.15);\n",
              "      fill: #174EA6;\n",
              "    }\n",
              "\n",
              "    [theme=dark] .colab-df-convert {\n",
              "      background-color: #3B4455;\n",
              "      fill: #D2E3FC;\n",
              "    }\n",
              "\n",
              "    [theme=dark] .colab-df-convert:hover {\n",
              "      background-color: #434B5C;\n",
              "      box-shadow: 0px 1px 3px 1px rgba(0, 0, 0, 0.15);\n",
              "      filter: drop-shadow(0px 1px 2px rgba(0, 0, 0, 0.3));\n",
              "      fill: #FFFFFF;\n",
              "    }\n",
              "  </style>\n",
              "\n",
              "      <script>\n",
              "        const buttonEl =\n",
              "          document.querySelector('#df-7f6ee8d1-e1b2-4431-8a69-75359e637df6 button.colab-df-convert');\n",
              "        buttonEl.style.display =\n",
              "          google.colab.kernel.accessAllowed ? 'block' : 'none';\n",
              "\n",
              "        async function convertToInteractive(key) {\n",
              "          const element = document.querySelector('#df-7f6ee8d1-e1b2-4431-8a69-75359e637df6');\n",
              "          const dataTable =\n",
              "            await google.colab.kernel.invokeFunction('convertToInteractive',\n",
              "                                                     [key], {});\n",
              "          if (!dataTable) return;\n",
              "\n",
              "          const docLinkHtml = 'Like what you see? Visit the ' +\n",
              "            '<a target=\"_blank\" href=https://colab.research.google.com/notebooks/data_table.ipynb>data table notebook</a>'\n",
              "            + ' to learn more about interactive tables.';\n",
              "          element.innerHTML = '';\n",
              "          dataTable['output_type'] = 'display_data';\n",
              "          await google.colab.output.renderOutput(dataTable, element);\n",
              "          const docLink = document.createElement('div');\n",
              "          docLink.innerHTML = docLinkHtml;\n",
              "          element.appendChild(docLink);\n",
              "        }\n",
              "      </script>\n",
              "    </div>\n",
              "  </div>\n",
              "  "
            ]
          },
          "metadata": {},
          "execution_count": 504
        }
      ],
      "source": [
        "df.head(3)"
      ]
    },
    {
      "cell_type": "markdown",
      "source": [
        "*Se separa los conjuntos de entrenamiento, «splitear» dataframe:*"
      ],
      "metadata": {
        "id": "PL6QOSb-YIe7"
      }
    },
    {
      "cell_type": "code",
      "source": [
        "df.columns\n"
      ],
      "metadata": {
        "colab": {
          "base_uri": "https://localhost:8080/"
        },
        "id": "3k2_92v7ZIOy",
        "outputId": "7314b8a5-b301-4d0f-e925-de235df1b518"
      },
      "execution_count": null,
      "outputs": [
        {
          "output_type": "execute_result",
          "data": {
            "text/plain": [
              "Index(['Experiencia', 'Hijos', 'Casado', 'Educacion', 'Salario',\n",
              "       'Posicion_Analista', 'Posicion_Coordinador', 'Posicion_Gerente'],\n",
              "      dtype='object')"
            ]
          },
          "metadata": {},
          "execution_count": 505
        }
      ]
    },
    {
      "cell_type": "code",
      "source": [
        "X = df[['Experiencia', 'Hijos', 'Casado', 'Educacion',\n",
        "       'Posicion_Analista', 'Posicion_Coordinador', 'Posicion_Gerente']]\n",
        "y = df['Salario']"
      ],
      "metadata": {
        "id": "YrF2Z5VbYw6F"
      },
      "execution_count": null,
      "outputs": []
    },
    {
      "cell_type": "code",
      "source": [
        "df.describe()"
      ],
      "metadata": {
        "colab": {
          "base_uri": "https://localhost:8080/",
          "height": 300
        },
        "id": "kNW581W0bKoU",
        "outputId": "a0b854b2-a571-46d3-b3ae-13a3fd37e490"
      },
      "execution_count": null,
      "outputs": [
        {
          "output_type": "execute_result",
          "data": {
            "text/plain": [
              "       Experiencia       Hijos      Casado   Educacion       Salario  \\\n",
              "count   985.000000  985.000000  985.000000  985.000000    985.000000   \n",
              "mean      6.352183    1.445685    0.592893    0.563452  30208.548223   \n",
              "std       2.532211    1.206075    0.491545    0.665867  10568.622163   \n",
              "min       0.100000    0.000000    0.000000    0.000000   5630.000000   \n",
              "25%       4.600000    0.000000    0.000000    0.000000  22450.000000   \n",
              "50%       6.400000    1.000000    1.000000    0.000000  29340.000000   \n",
              "75%       8.000000    2.000000    1.000000    1.000000  37360.000000   \n",
              "max      15.200000    4.000000    1.000000    2.000000  60730.000000   \n",
              "\n",
              "       Posicion_Analista  Posicion_Coordinador  Posicion_Gerente  \n",
              "count         985.000000            985.000000        985.000000  \n",
              "mean            0.796954              0.153299          0.049746  \n",
              "std             0.402471              0.360459          0.217531  \n",
              "min             0.000000              0.000000          0.000000  \n",
              "25%             1.000000              0.000000          0.000000  \n",
              "50%             1.000000              0.000000          0.000000  \n",
              "75%             1.000000              0.000000          0.000000  \n",
              "max             1.000000              1.000000          1.000000  "
            ],
            "text/html": [
              "\n",
              "  <div id=\"df-4b739801-a9b8-4cd0-aa60-b5ebe350feb7\">\n",
              "    <div class=\"colab-df-container\">\n",
              "      <div>\n",
              "<style scoped>\n",
              "    .dataframe tbody tr th:only-of-type {\n",
              "        vertical-align: middle;\n",
              "    }\n",
              "\n",
              "    .dataframe tbody tr th {\n",
              "        vertical-align: top;\n",
              "    }\n",
              "\n",
              "    .dataframe thead th {\n",
              "        text-align: right;\n",
              "    }\n",
              "</style>\n",
              "<table border=\"1\" class=\"dataframe\">\n",
              "  <thead>\n",
              "    <tr style=\"text-align: right;\">\n",
              "      <th></th>\n",
              "      <th>Experiencia</th>\n",
              "      <th>Hijos</th>\n",
              "      <th>Casado</th>\n",
              "      <th>Educacion</th>\n",
              "      <th>Salario</th>\n",
              "      <th>Posicion_Analista</th>\n",
              "      <th>Posicion_Coordinador</th>\n",
              "      <th>Posicion_Gerente</th>\n",
              "    </tr>\n",
              "  </thead>\n",
              "  <tbody>\n",
              "    <tr>\n",
              "      <th>count</th>\n",
              "      <td>985.000000</td>\n",
              "      <td>985.000000</td>\n",
              "      <td>985.000000</td>\n",
              "      <td>985.000000</td>\n",
              "      <td>985.000000</td>\n",
              "      <td>985.000000</td>\n",
              "      <td>985.000000</td>\n",
              "      <td>985.000000</td>\n",
              "    </tr>\n",
              "    <tr>\n",
              "      <th>mean</th>\n",
              "      <td>6.352183</td>\n",
              "      <td>1.445685</td>\n",
              "      <td>0.592893</td>\n",
              "      <td>0.563452</td>\n",
              "      <td>30208.548223</td>\n",
              "      <td>0.796954</td>\n",
              "      <td>0.153299</td>\n",
              "      <td>0.049746</td>\n",
              "    </tr>\n",
              "    <tr>\n",
              "      <th>std</th>\n",
              "      <td>2.532211</td>\n",
              "      <td>1.206075</td>\n",
              "      <td>0.491545</td>\n",
              "      <td>0.665867</td>\n",
              "      <td>10568.622163</td>\n",
              "      <td>0.402471</td>\n",
              "      <td>0.360459</td>\n",
              "      <td>0.217531</td>\n",
              "    </tr>\n",
              "    <tr>\n",
              "      <th>min</th>\n",
              "      <td>0.100000</td>\n",
              "      <td>0.000000</td>\n",
              "      <td>0.000000</td>\n",
              "      <td>0.000000</td>\n",
              "      <td>5630.000000</td>\n",
              "      <td>0.000000</td>\n",
              "      <td>0.000000</td>\n",
              "      <td>0.000000</td>\n",
              "    </tr>\n",
              "    <tr>\n",
              "      <th>25%</th>\n",
              "      <td>4.600000</td>\n",
              "      <td>0.000000</td>\n",
              "      <td>0.000000</td>\n",
              "      <td>0.000000</td>\n",
              "      <td>22450.000000</td>\n",
              "      <td>1.000000</td>\n",
              "      <td>0.000000</td>\n",
              "      <td>0.000000</td>\n",
              "    </tr>\n",
              "    <tr>\n",
              "      <th>50%</th>\n",
              "      <td>6.400000</td>\n",
              "      <td>1.000000</td>\n",
              "      <td>1.000000</td>\n",
              "      <td>0.000000</td>\n",
              "      <td>29340.000000</td>\n",
              "      <td>1.000000</td>\n",
              "      <td>0.000000</td>\n",
              "      <td>0.000000</td>\n",
              "    </tr>\n",
              "    <tr>\n",
              "      <th>75%</th>\n",
              "      <td>8.000000</td>\n",
              "      <td>2.000000</td>\n",
              "      <td>1.000000</td>\n",
              "      <td>1.000000</td>\n",
              "      <td>37360.000000</td>\n",
              "      <td>1.000000</td>\n",
              "      <td>0.000000</td>\n",
              "      <td>0.000000</td>\n",
              "    </tr>\n",
              "    <tr>\n",
              "      <th>max</th>\n",
              "      <td>15.200000</td>\n",
              "      <td>4.000000</td>\n",
              "      <td>1.000000</td>\n",
              "      <td>2.000000</td>\n",
              "      <td>60730.000000</td>\n",
              "      <td>1.000000</td>\n",
              "      <td>1.000000</td>\n",
              "      <td>1.000000</td>\n",
              "    </tr>\n",
              "  </tbody>\n",
              "</table>\n",
              "</div>\n",
              "      <button class=\"colab-df-convert\" onclick=\"convertToInteractive('df-4b739801-a9b8-4cd0-aa60-b5ebe350feb7')\"\n",
              "              title=\"Convert this dataframe to an interactive table.\"\n",
              "              style=\"display:none;\">\n",
              "        \n",
              "  <svg xmlns=\"http://www.w3.org/2000/svg\" height=\"24px\"viewBox=\"0 0 24 24\"\n",
              "       width=\"24px\">\n",
              "    <path d=\"M0 0h24v24H0V0z\" fill=\"none\"/>\n",
              "    <path d=\"M18.56 5.44l.94 2.06.94-2.06 2.06-.94-2.06-.94-.94-2.06-.94 2.06-2.06.94zm-11 1L8.5 8.5l.94-2.06 2.06-.94-2.06-.94L8.5 2.5l-.94 2.06-2.06.94zm10 10l.94 2.06.94-2.06 2.06-.94-2.06-.94-.94-2.06-.94 2.06-2.06.94z\"/><path d=\"M17.41 7.96l-1.37-1.37c-.4-.4-.92-.59-1.43-.59-.52 0-1.04.2-1.43.59L10.3 9.45l-7.72 7.72c-.78.78-.78 2.05 0 2.83L4 21.41c.39.39.9.59 1.41.59.51 0 1.02-.2 1.41-.59l7.78-7.78 2.81-2.81c.8-.78.8-2.07 0-2.86zM5.41 20L4 18.59l7.72-7.72 1.47 1.35L5.41 20z\"/>\n",
              "  </svg>\n",
              "      </button>\n",
              "      \n",
              "  <style>\n",
              "    .colab-df-container {\n",
              "      display:flex;\n",
              "      flex-wrap:wrap;\n",
              "      gap: 12px;\n",
              "    }\n",
              "\n",
              "    .colab-df-convert {\n",
              "      background-color: #E8F0FE;\n",
              "      border: none;\n",
              "      border-radius: 50%;\n",
              "      cursor: pointer;\n",
              "      display: none;\n",
              "      fill: #1967D2;\n",
              "      height: 32px;\n",
              "      padding: 0 0 0 0;\n",
              "      width: 32px;\n",
              "    }\n",
              "\n",
              "    .colab-df-convert:hover {\n",
              "      background-color: #E2EBFA;\n",
              "      box-shadow: 0px 1px 2px rgba(60, 64, 67, 0.3), 0px 1px 3px 1px rgba(60, 64, 67, 0.15);\n",
              "      fill: #174EA6;\n",
              "    }\n",
              "\n",
              "    [theme=dark] .colab-df-convert {\n",
              "      background-color: #3B4455;\n",
              "      fill: #D2E3FC;\n",
              "    }\n",
              "\n",
              "    [theme=dark] .colab-df-convert:hover {\n",
              "      background-color: #434B5C;\n",
              "      box-shadow: 0px 1px 3px 1px rgba(0, 0, 0, 0.15);\n",
              "      filter: drop-shadow(0px 1px 2px rgba(0, 0, 0, 0.3));\n",
              "      fill: #FFFFFF;\n",
              "    }\n",
              "  </style>\n",
              "\n",
              "      <script>\n",
              "        const buttonEl =\n",
              "          document.querySelector('#df-4b739801-a9b8-4cd0-aa60-b5ebe350feb7 button.colab-df-convert');\n",
              "        buttonEl.style.display =\n",
              "          google.colab.kernel.accessAllowed ? 'block' : 'none';\n",
              "\n",
              "        async function convertToInteractive(key) {\n",
              "          const element = document.querySelector('#df-4b739801-a9b8-4cd0-aa60-b5ebe350feb7');\n",
              "          const dataTable =\n",
              "            await google.colab.kernel.invokeFunction('convertToInteractive',\n",
              "                                                     [key], {});\n",
              "          if (!dataTable) return;\n",
              "\n",
              "          const docLinkHtml = 'Like what you see? Visit the ' +\n",
              "            '<a target=\"_blank\" href=https://colab.research.google.com/notebooks/data_table.ipynb>data table notebook</a>'\n",
              "            + ' to learn more about interactive tables.';\n",
              "          element.innerHTML = '';\n",
              "          dataTable['output_type'] = 'display_data';\n",
              "          await google.colab.output.renderOutput(dataTable, element);\n",
              "          const docLink = document.createElement('div');\n",
              "          docLink.innerHTML = docLinkHtml;\n",
              "          element.appendChild(docLink);\n",
              "        }\n",
              "      </script>\n",
              "    </div>\n",
              "  </div>\n",
              "  "
            ]
          },
          "metadata": {},
          "execution_count": 507
        }
      ]
    },
    {
      "cell_type": "code",
      "source": [
        "df.corr()"
      ],
      "metadata": {
        "colab": {
          "base_uri": "https://localhost:8080/",
          "height": 300
        },
        "id": "DpKWmfF7ckG5",
        "outputId": "967c9212-7ced-42d2-f9ba-b3b0e5aad2d2"
      },
      "execution_count": null,
      "outputs": [
        {
          "output_type": "execute_result",
          "data": {
            "text/plain": [
              "                      Experiencia     Hijos    Casado  Educacion   Salario  \\\n",
              "Experiencia              1.000000 -0.009387 -0.002837  -0.009259  0.656143   \n",
              "Hijos                   -0.009387  1.000000  0.325222  -0.001715  0.211429   \n",
              "Casado                  -0.002837  0.325222  1.000000   0.055716  0.079916   \n",
              "Educacion               -0.009259 -0.001715  0.055716   1.000000  0.242199   \n",
              "Salario                  0.656143  0.211429  0.079916   0.242199  1.000000   \n",
              "Posicion_Analista       -0.000263 -0.018556 -0.027849  -0.270416 -0.345727   \n",
              "Posicion_Coordinador     0.046674 -0.010048  0.014185   0.215596  0.200269   \n",
              "Posicion_Gerente        -0.076855  0.050982  0.028021   0.143065  0.307801   \n",
              "\n",
              "                      Posicion_Analista  Posicion_Coordinador  \\\n",
              "Experiencia                   -0.000263              0.046674   \n",
              "Hijos                         -0.018556             -0.010048   \n",
              "Casado                        -0.027849              0.014185   \n",
              "Educacion                     -0.270416              0.215596   \n",
              "Salario                       -0.345727              0.200269   \n",
              "Posicion_Analista              1.000000             -0.842996   \n",
              "Posicion_Coordinador          -0.842996              1.000000   \n",
              "Posicion_Gerente              -0.453294             -0.097357   \n",
              "\n",
              "                      Posicion_Gerente  \n",
              "Experiencia                  -0.076855  \n",
              "Hijos                         0.050982  \n",
              "Casado                        0.028021  \n",
              "Educacion                     0.143065  \n",
              "Salario                       0.307801  \n",
              "Posicion_Analista            -0.453294  \n",
              "Posicion_Coordinador         -0.097357  \n",
              "Posicion_Gerente              1.000000  "
            ],
            "text/html": [
              "\n",
              "  <div id=\"df-5b07d501-8d20-4318-8c0b-dd0ee28af7a1\">\n",
              "    <div class=\"colab-df-container\">\n",
              "      <div>\n",
              "<style scoped>\n",
              "    .dataframe tbody tr th:only-of-type {\n",
              "        vertical-align: middle;\n",
              "    }\n",
              "\n",
              "    .dataframe tbody tr th {\n",
              "        vertical-align: top;\n",
              "    }\n",
              "\n",
              "    .dataframe thead th {\n",
              "        text-align: right;\n",
              "    }\n",
              "</style>\n",
              "<table border=\"1\" class=\"dataframe\">\n",
              "  <thead>\n",
              "    <tr style=\"text-align: right;\">\n",
              "      <th></th>\n",
              "      <th>Experiencia</th>\n",
              "      <th>Hijos</th>\n",
              "      <th>Casado</th>\n",
              "      <th>Educacion</th>\n",
              "      <th>Salario</th>\n",
              "      <th>Posicion_Analista</th>\n",
              "      <th>Posicion_Coordinador</th>\n",
              "      <th>Posicion_Gerente</th>\n",
              "    </tr>\n",
              "  </thead>\n",
              "  <tbody>\n",
              "    <tr>\n",
              "      <th>Experiencia</th>\n",
              "      <td>1.000000</td>\n",
              "      <td>-0.009387</td>\n",
              "      <td>-0.002837</td>\n",
              "      <td>-0.009259</td>\n",
              "      <td>0.656143</td>\n",
              "      <td>-0.000263</td>\n",
              "      <td>0.046674</td>\n",
              "      <td>-0.076855</td>\n",
              "    </tr>\n",
              "    <tr>\n",
              "      <th>Hijos</th>\n",
              "      <td>-0.009387</td>\n",
              "      <td>1.000000</td>\n",
              "      <td>0.325222</td>\n",
              "      <td>-0.001715</td>\n",
              "      <td>0.211429</td>\n",
              "      <td>-0.018556</td>\n",
              "      <td>-0.010048</td>\n",
              "      <td>0.050982</td>\n",
              "    </tr>\n",
              "    <tr>\n",
              "      <th>Casado</th>\n",
              "      <td>-0.002837</td>\n",
              "      <td>0.325222</td>\n",
              "      <td>1.000000</td>\n",
              "      <td>0.055716</td>\n",
              "      <td>0.079916</td>\n",
              "      <td>-0.027849</td>\n",
              "      <td>0.014185</td>\n",
              "      <td>0.028021</td>\n",
              "    </tr>\n",
              "    <tr>\n",
              "      <th>Educacion</th>\n",
              "      <td>-0.009259</td>\n",
              "      <td>-0.001715</td>\n",
              "      <td>0.055716</td>\n",
              "      <td>1.000000</td>\n",
              "      <td>0.242199</td>\n",
              "      <td>-0.270416</td>\n",
              "      <td>0.215596</td>\n",
              "      <td>0.143065</td>\n",
              "    </tr>\n",
              "    <tr>\n",
              "      <th>Salario</th>\n",
              "      <td>0.656143</td>\n",
              "      <td>0.211429</td>\n",
              "      <td>0.079916</td>\n",
              "      <td>0.242199</td>\n",
              "      <td>1.000000</td>\n",
              "      <td>-0.345727</td>\n",
              "      <td>0.200269</td>\n",
              "      <td>0.307801</td>\n",
              "    </tr>\n",
              "    <tr>\n",
              "      <th>Posicion_Analista</th>\n",
              "      <td>-0.000263</td>\n",
              "      <td>-0.018556</td>\n",
              "      <td>-0.027849</td>\n",
              "      <td>-0.270416</td>\n",
              "      <td>-0.345727</td>\n",
              "      <td>1.000000</td>\n",
              "      <td>-0.842996</td>\n",
              "      <td>-0.453294</td>\n",
              "    </tr>\n",
              "    <tr>\n",
              "      <th>Posicion_Coordinador</th>\n",
              "      <td>0.046674</td>\n",
              "      <td>-0.010048</td>\n",
              "      <td>0.014185</td>\n",
              "      <td>0.215596</td>\n",
              "      <td>0.200269</td>\n",
              "      <td>-0.842996</td>\n",
              "      <td>1.000000</td>\n",
              "      <td>-0.097357</td>\n",
              "    </tr>\n",
              "    <tr>\n",
              "      <th>Posicion_Gerente</th>\n",
              "      <td>-0.076855</td>\n",
              "      <td>0.050982</td>\n",
              "      <td>0.028021</td>\n",
              "      <td>0.143065</td>\n",
              "      <td>0.307801</td>\n",
              "      <td>-0.453294</td>\n",
              "      <td>-0.097357</td>\n",
              "      <td>1.000000</td>\n",
              "    </tr>\n",
              "  </tbody>\n",
              "</table>\n",
              "</div>\n",
              "      <button class=\"colab-df-convert\" onclick=\"convertToInteractive('df-5b07d501-8d20-4318-8c0b-dd0ee28af7a1')\"\n",
              "              title=\"Convert this dataframe to an interactive table.\"\n",
              "              style=\"display:none;\">\n",
              "        \n",
              "  <svg xmlns=\"http://www.w3.org/2000/svg\" height=\"24px\"viewBox=\"0 0 24 24\"\n",
              "       width=\"24px\">\n",
              "    <path d=\"M0 0h24v24H0V0z\" fill=\"none\"/>\n",
              "    <path d=\"M18.56 5.44l.94 2.06.94-2.06 2.06-.94-2.06-.94-.94-2.06-.94 2.06-2.06.94zm-11 1L8.5 8.5l.94-2.06 2.06-.94-2.06-.94L8.5 2.5l-.94 2.06-2.06.94zm10 10l.94 2.06.94-2.06 2.06-.94-2.06-.94-.94-2.06-.94 2.06-2.06.94z\"/><path d=\"M17.41 7.96l-1.37-1.37c-.4-.4-.92-.59-1.43-.59-.52 0-1.04.2-1.43.59L10.3 9.45l-7.72 7.72c-.78.78-.78 2.05 0 2.83L4 21.41c.39.39.9.59 1.41.59.51 0 1.02-.2 1.41-.59l7.78-7.78 2.81-2.81c.8-.78.8-2.07 0-2.86zM5.41 20L4 18.59l7.72-7.72 1.47 1.35L5.41 20z\"/>\n",
              "  </svg>\n",
              "      </button>\n",
              "      \n",
              "  <style>\n",
              "    .colab-df-container {\n",
              "      display:flex;\n",
              "      flex-wrap:wrap;\n",
              "      gap: 12px;\n",
              "    }\n",
              "\n",
              "    .colab-df-convert {\n",
              "      background-color: #E8F0FE;\n",
              "      border: none;\n",
              "      border-radius: 50%;\n",
              "      cursor: pointer;\n",
              "      display: none;\n",
              "      fill: #1967D2;\n",
              "      height: 32px;\n",
              "      padding: 0 0 0 0;\n",
              "      width: 32px;\n",
              "    }\n",
              "\n",
              "    .colab-df-convert:hover {\n",
              "      background-color: #E2EBFA;\n",
              "      box-shadow: 0px 1px 2px rgba(60, 64, 67, 0.3), 0px 1px 3px 1px rgba(60, 64, 67, 0.15);\n",
              "      fill: #174EA6;\n",
              "    }\n",
              "\n",
              "    [theme=dark] .colab-df-convert {\n",
              "      background-color: #3B4455;\n",
              "      fill: #D2E3FC;\n",
              "    }\n",
              "\n",
              "    [theme=dark] .colab-df-convert:hover {\n",
              "      background-color: #434B5C;\n",
              "      box-shadow: 0px 1px 3px 1px rgba(0, 0, 0, 0.15);\n",
              "      filter: drop-shadow(0px 1px 2px rgba(0, 0, 0, 0.3));\n",
              "      fill: #FFFFFF;\n",
              "    }\n",
              "  </style>\n",
              "\n",
              "      <script>\n",
              "        const buttonEl =\n",
              "          document.querySelector('#df-5b07d501-8d20-4318-8c0b-dd0ee28af7a1 button.colab-df-convert');\n",
              "        buttonEl.style.display =\n",
              "          google.colab.kernel.accessAllowed ? 'block' : 'none';\n",
              "\n",
              "        async function convertToInteractive(key) {\n",
              "          const element = document.querySelector('#df-5b07d501-8d20-4318-8c0b-dd0ee28af7a1');\n",
              "          const dataTable =\n",
              "            await google.colab.kernel.invokeFunction('convertToInteractive',\n",
              "                                                     [key], {});\n",
              "          if (!dataTable) return;\n",
              "\n",
              "          const docLinkHtml = 'Like what you see? Visit the ' +\n",
              "            '<a target=\"_blank\" href=https://colab.research.google.com/notebooks/data_table.ipynb>data table notebook</a>'\n",
              "            + ' to learn more about interactive tables.';\n",
              "          element.innerHTML = '';\n",
              "          dataTable['output_type'] = 'display_data';\n",
              "          await google.colab.output.renderOutput(dataTable, element);\n",
              "          const docLink = document.createElement('div');\n",
              "          docLink.innerHTML = docLinkHtml;\n",
              "          element.appendChild(docLink);\n",
              "        }\n",
              "      </script>\n",
              "    </div>\n",
              "  </div>\n",
              "  "
            ]
          },
          "metadata": {},
          "execution_count": 508
        }
      ]
    },
    {
      "cell_type": "code",
      "execution_count": null,
      "metadata": {
        "id": "FZk9LLquWm8x"
      },
      "outputs": [],
      "source": [
        "#Spliteamos la orden en conjunto de entrenamiento y en conjunto de pruebas.\n",
        "from sklearn.model_selection import train_test_split\n",
        "X_train, X_test, y_train, y_test = train_test_split(X, y, test_size=0.75, random_state=1)"
      ]
    },
    {
      "cell_type": "markdown",
      "source": [
        "*Se estandarizan los conjuntos con standardScaler*"
      ],
      "metadata": {
        "id": "mA022Gc_U538"
      }
    },
    {
      "cell_type": "code",
      "source": [
        "#Escalamos los valores de X.\n",
        "from sklearn.preprocessing import StandardScaler\n",
        "sc_X = StandardScaler()\n",
        "X_train = sc_X.fit_transform(X_train)\n",
        "X_test = sc_X.transform(X_test)"
      ],
      "metadata": {
        "id": "bi3ejXUpbBtE"
      },
      "execution_count": null,
      "outputs": []
    },
    {
      "cell_type": "code",
      "source": [
        "X_train"
      ],
      "metadata": {
        "colab": {
          "base_uri": "https://localhost:8080/"
        },
        "id": "hTNcEQLplVTr",
        "outputId": "8f959d76-2ab6-48cf-f7c6-52ad7e928527"
      },
      "execution_count": null,
      "outputs": [
        {
          "output_type": "execute_result",
          "data": {
            "text/plain": [
              "array([[ 1.0689923 , -1.16313834, -1.15881713, ..., -2.14264068,\n",
              "         2.54057975, -0.21635275],\n",
              "       [-1.27339582, -0.34794737,  0.86294893, ...,  0.46671381,\n",
              "        -0.39361095, -0.21635275],\n",
              "       [ 1.84978834,  1.28243458,  0.86294893, ...,  0.46671381,\n",
              "        -0.39361095, -0.21635275],\n",
              "       ...,\n",
              "       [ 0.28819626,  1.28243458,  0.86294893, ..., -2.14264068,\n",
              "         2.54057975, -0.21635275],\n",
              "       [-0.37548037, -1.16313834,  0.86294893, ...,  0.46671381,\n",
              "        -0.39361095, -0.21635275],\n",
              "       [-0.21932116,  0.46724361,  0.86294893, ...,  0.46671381,\n",
              "        -0.39361095, -0.21635275]])"
            ]
          },
          "metadata": {},
          "execution_count": 511
        }
      ]
    },
    {
      "cell_type": "markdown",
      "source": [
        "*Se aplica el modelo de Regresión Lineal y entrenamiento al modelo*"
      ],
      "metadata": {
        "id": "Tt6KZzxaVKzk"
      }
    },
    {
      "cell_type": "code",
      "execution_count": null,
      "metadata": {
        "id": "ZzBZrWpzWm8x"
      },
      "outputs": [],
      "source": [
        "from sklearn.linear_model import LinearRegression"
      ]
    },
    {
      "cell_type": "code",
      "source": [
        "modelo = LinearRegression(normalize=True)\n",
        "modelo.fit(X = X_train, y = y_train)"
      ],
      "metadata": {
        "colab": {
          "base_uri": "https://localhost:8080/"
        },
        "id": "Z6wmtZMTjGzC",
        "outputId": "4589282f-0779-4496-e945-7cb0dc3cb1f0"
      },
      "execution_count": null,
      "outputs": [
        {
          "output_type": "execute_result",
          "data": {
            "text/plain": [
              "LinearRegression(normalize=True)"
            ]
          },
          "metadata": {},
          "execution_count": 513
        }
      ]
    },
    {
      "cell_type": "code",
      "source": [
        "prediccion_y = modelo.predict(X_test)"
      ],
      "metadata": {
        "id": "p3mN7JvdhiUS"
      },
      "execution_count": null,
      "outputs": []
    },
    {
      "cell_type": "code",
      "source": [
        "prediccion_y"
      ],
      "metadata": {
        "id": "yPNbo12Hly1-",
        "colab": {
          "base_uri": "https://localhost:8080/"
        },
        "outputId": "f06b7520-7c90-49fd-8611-ba6b4f9ef097"
      },
      "execution_count": null,
      "outputs": [
        {
          "output_type": "execute_result",
          "data": {
            "text/plain": [
              "array([21765.2027659 , 14847.29398624, 32361.24175115, 36809.00825109,\n",
              "       20777.41525944, 41123.39952809, 30603.03118751, 12554.55206699,\n",
              "       30831.41011596, 28240.86987387,  9732.88335222, 31550.29434087,\n",
              "       41036.09957161, 10021.15521727, 38860.25390868, 31383.82203367,\n",
              "       23775.92407039, 35014.14133314, 27242.06788824, 28085.41204585,\n",
              "       26189.62421629, 24655.02935221, 42423.45063935, 27154.76793176,\n",
              "       34257.02958071, 30585.1506254 , 31918.21331663, 48167.9575204 ,\n",
              "       37498.29617617, 33377.92429889, 40859.25947543, 23052.27661659,\n",
              "       33912.4556545 , 34072.67671141, 33055.99416367, 33486.60652353,\n",
              "       34394.60684663, 30331.37836172, 19001.32413369, 18668.37951929,\n",
              "       35915.89040596, 37313.94330686, 19623.15544578, 26207.50477839,\n",
              "       24810.48718023, 34550.06467465, 29792.08377722, 54239.52405831,\n",
              "       36964.46607911, 44358.50129917, 26775.69440417, 27154.76793176,\n",
              "       28866.20289202, 32860.01198255, 26638.11713825, 12974.14994767,\n",
              "       28464.48557344, 19989.11164015, 27509.70964695, 33779.64161747,\n",
              "       41468.67471286, 39842.57692769, 28085.41204585, 29516.92924539,\n",
              "       19506.96044802, 31728.39595988, 18122.21885187, 14847.29398624,\n",
              "       24224.41699235, 39767.35900169, 30585.1506254 , 28171.4504795 ,\n",
              "       22615.41300644, 36326.1558004 , 39112.76464952, 26189.62421629,\n",
              "       13882.15027078, 23052.27661659, 13444.02513779, 28367.43266062,\n",
              "       34394.60684663, 30585.1506254 , 40147.32775937, 27447.8030257 ,\n",
              "       20845.57313098, 32429.39962269, 35004.02208406, 22506.7307818 ,\n",
              "       25707.47302416, 19156.78196171, 21540.3255435 , 21345.60488521,\n",
              "       29521.69247428, 52671.4648956 , 31453.24142805, 23103.81544886,\n",
              "       31210.48364354, 11486.33068698, 37226.64335038, 34412.48740874,\n",
              "       44478.56429573, 42031.3998512 , 31189.10137539, 37451.52057278,\n",
              "       25103.52227417, 22517.74526098, 31051.52410947, 50179.94034773,\n",
              "       24932.14666544, 38635.37668628, 36445.85250422, 21967.4361973 ,\n",
              "       33395.80486099, 38567.21881474, 38290.10150151, 33222.46647087,\n",
              "       21294.06605294, 39153.28900262, 30693.83285004, 26431.12047796,\n",
              "       31482.13646933, 26228.88704655, 44117.00503751, 22087.13290112,\n",
              "       20300.02729619, 47115.8801412 , 28211.97483259, 28378.44713979,\n",
              "       16312.46945595, 25919.9341719 , 26453.76426895, 35303.30842829,\n",
              "       23259.27327688, 26219.22051613, 32584.85745071, 23189.8538825 ,\n",
              "       26397.32213514, 45070.43301524, 29970.18539624, 21811.97836928,\n",
              "       50368.16121583, 23103.81544886, 27068.72949811, 27401.02742231,\n",
              "       22126.39573138, 14105.76597034, 45638.62264102, 40560.42584986,\n",
              "       24988.58879925, 36555.23598741, 28046.85047415, 10111.95687981,\n",
              "       27918.93973865, 22144.27629348, 24086.83972643, 44324.14177045,\n",
              "       24431.41365264, 31326.67864131, 29586.34863976, 31004.74850608,\n",
              "       41375.91026894, 21713.66393362, 28171.4504795 ,  9710.23956123,\n",
              "       23570.18893293, 35763.43066207, 36048.70444299, 27361.76459205,\n",
              "       27447.8030257 , 23189.8538825 , 39749.47843958, 32939.79916591,\n",
              "       22006.69902756, 29550.58751556, 29361.47141737, 22213.69568786,\n",
              "       32900.53633565, 29654.50651131, 31746.27652199, 23414.7311049 ,\n",
              "       23005.5010132 , 39209.73113643, 29832.60813032, 14984.87125216,\n",
              "       42324.43494514, 26931.15223219, 34796.32416521, 40911.49956626,\n",
              "       21833.36063744, 29050.55576132, 27901.05917655, 25310.51893447,\n",
              "       23121.69601096, 35945.82074998, 26327.20148221, 35136.13486254,\n",
              "       27441.55177541, 32590.32193816, 34773.68037422, 18794.32747339,\n",
              "       35751.80135025, 17864.94488213, 21345.60488521, 13244.54125062,\n",
              "       37997.06640757, 47206.68180373, 24091.60295532, 41152.29456937,\n",
              "       40284.90502528, 22310.74860068, 22914.69935067, 12232.62193177,\n",
              "       19156.78196171, 51062.91362834, 35284.07991743, 26620.23657615,\n",
              "       45122.67310607, 36163.18519925, 34482.60806167, 24431.41365264,\n",
              "       19828.89058324, 30400.7977561 , 21247.29044956, 20621.95743141,\n",
              "       27286.09394739, 22087.13290112, 37410.99621968, 29843.6226095 ,\n",
              "       20368.18516773, 18765.43243211, 20144.56946817, 32060.69388408,\n",
              "       18093.32381058, 21265.17101166, 39561.25757148, 21237.62391913,\n",
              "       25633.15032825, 26591.34153487, 22310.74860068, 32343.36118905,\n",
              "       30693.83285004, 38468.20312052, 27303.97450949, 24862.0260125 ,\n",
              "       31181.58860226, 29900.76600186, 29413.01024964, 32361.24175115,\n",
              "       24965.94500825, 29620.70816849, 17829.18375793, 36170.69797238,\n",
              "        8745.09584576, 24879.90657461, 35107.23982125, 24655.02935221,\n",
              "       31503.51873748, 34072.67671141, 32314.46614776, 43185.65966485,\n",
              "       33525.86935379, 32654.27684509, 37675.13627234, 46139.35565381,\n",
              "       35916.9257087 , 36475.44880405, 33572.64495717, 35939.56949969,\n",
              "       31658.97656551, 34394.60684663, 22712.46591926, 38292.0642829 ,\n",
              "       38221.94362997, 34325.18745225, 25465.97676249, 38927.71052166,\n",
              "       27107.99232837, 35429.16995648, 30253.55395976, 29327.67307455,\n",
              "       31189.10137539, 25592.53954923, 25328.39949657, 32107.46948747,\n",
              "       32745.07850762, 39290.86626854, 29638.58873059, 34274.91014282,\n",
              "       22242.59072914, 31350.02369085, 46880.88366971, 30107.76266216,\n",
              "       37071.18552236, 41957.07715528, 22781.88531364, 23707.76619884,\n",
              "       37882.13293264, 33710.22222309, 32079.92239494, 17123.41686623,\n",
              "       40410.76655347, 28344.78886962, 43789.61041484, 44185.52920179,\n",
              "       51851.21724763, 41933.08541554, 38330.6258546 , 52132.87156966,\n",
              "       21609.74493787, 43034.77109418,  9818.92178587, 35652.78565604,\n",
              "       24932.14666544, 34808.40619568, 30292.11553146, 30302.48332044,\n",
              "       32722.43471663, 38623.66094854, 26189.62421629, 23775.92407039,\n",
              "       14641.55884878, 35262.69764928, 30779.87128368, 40463.0066443 ,\n",
              "       24224.41699235, 37239.62061095, 24828.36774234, 21355.97267419,\n",
              "       44816.66075156, 35877.66287844, 28689.36279584, 11623.9079529 ,\n",
              "       23189.8538825 , 24965.94500825, 33515.50156481, 29246.53794244,\n",
              "       17777.64492565, 28349.55209851, 26306.52047261, 22126.39573138,\n",
              "       20972.13591772, 30263.22049018, 32675.65911325, 41484.59249357,\n",
              "       28912.9784954 , 38997.83117459, 27740.83811964, 28826.94006176,\n",
              "       23345.31171053, 51626.34002523, 24068.95916433, 35916.9257087 ,\n",
              "       40393.58724992, 46772.20144508, 28757.52066738, 35907.25917828,\n",
              "       20437.60456211, 30016.96099962, 40066.19262726, 30671.18905905,\n",
              "       25935.85195261, 40618.46447232, 17829.18375793, 25759.01185643,\n",
              "       21345.60488521, 27896.29594766, 15209.74847456, 40721.68220951,\n",
              "       34687.64194057, 32584.85745071, 21794.09780718, 29999.08043752,\n",
              "       31344.55920341, 25592.53954923, 51171.59585298, 31658.97656551,\n",
              "       17398.57139807, 47787.98876272, 38071.95028939, 41795.50814962,\n",
              "       26316.18700303, 28298.01326624, 30831.41011596, 32273.94179467,\n",
              "       17622.18709763, 36308.2752383 , 34257.02958071, 34579.66097449,\n",
              "       25689.59246205, 24224.41699235, 16898.53964383, 33114.48550479,\n",
              "       15502.7835685 , 30147.02549242, 44639.82065538, 38975.1873836 ,\n",
              "       47306.73280069, 34228.13453943, 38221.94362997, 32344.0624476 ,\n",
              "       30396.03452721, 28879.18015259, 27086.61006022, 39182.1840439 ,\n",
              "       26345.08204431, 36824.9260318 , 28533.90496782, 55769.3556935 ,\n",
              "       34819.42067486, 24897.78713671, 27362.46585061, 34911.25764014,\n",
              "       25258.98010219, 38302.18353198, 20035.88724353, 38468.20312052,\n",
              "       32130.11327846, 29119.9751557 , 20621.95743141, 37744.55566672,\n",
              "       45070.43301524, 31757.99225972, 23505.53276744, 33308.50490451,\n",
              "       40312.45211781, 33688.83995494, 28240.86987387, 15495.27079538,\n",
              "       50442.117619  , 32745.07850762, 16898.53964383, 17243.11357004,\n",
              "       38497.0981618 , 21518.94327534, 30693.83285004, 25310.51893447,\n",
              "       35066.71546816, 31004.74850608, 34872.69606843, 11675.44678517,\n",
              "       41026.43304119, 23931.38189841, 39324.66461135, 42239.09777005,\n",
              "       31865.9732258 , 38507.46595078, 39290.86626854, 19156.78196171,\n",
              "       36669.46820378, 41577.1083976 , 34072.67671141, 25827.16972797,\n",
              "       26620.23657615, 33624.18378945, 28103.29260796, 41157.75905682,\n",
              "       29011.99418962, 21018.9115211 , 30808.76632496, 35262.69764928,\n",
              "       41323.33613392, 13968.18870442, 19984.34841126, 25829.13250936,\n",
              "       27781.36247273, 45357.66957755, 28464.48557344, 30878.18571934,\n",
              "       15863.97653398, 32198.27115   , 31912.74882919, 35652.78565604,\n",
              "       23581.90467066, 30400.7977561 , 42708.27170161, 28033.87321358,\n",
              "       23074.92040758, 16812.50121018, 35411.28939437, 30779.87128368,\n",
              "       26160.72917501, 41135.11526583, 27154.76793176, 40893.61900416,\n",
              "       30206.77835637, 23552.30837082, 36485.11533448, 25258.98010219,\n",
              "       29607.73090792, 30671.18905905, 24540.09587728, 35566.74722239,\n",
              "       28689.36279584, 34480.64528028, 32107.46948747, 57940.2980549 ,\n",
              "       37170.20121657, 28573.16779808, 22105.01346322, 11244.83442531,\n",
              "       21587.10114688, 34589.32750491, 19213.92535407,  7728.41329802,\n",
              "       26052.04695037, 27901.05917655, 40566.22438149, 21294.06605294,\n",
              "       17322.9007534 , 41307.7523974 , 17191.57473777, 35217.26999465,\n",
              "       21109.71318364, 23396.8505428 , 21208.0276193 , 26034.16638827,\n",
              "       45132.79235515, 41761.7098068 , 30447.57335948, 19519.93770859,\n",
              "       42846.55022609, 22116.72920096, 34629.85185801, 50028.3505185 ,\n",
              "       22442.07461631, 29492.79743299, 55581.13482541, 32636.39628299,\n",
              "       43880.41207737, 34550.06467465, 21501.06271324, 47242.0766352 ,\n",
              "       23513.74679912, 29814.72756822, 31251.00799664, 34726.90477083,\n",
              "       43588.07824199, 34417.95189618, 22035.59406885, 35693.31000914,\n",
              "       45100.02931508, 35813.70797151, 19742.85214959, 45392.36315046,\n",
              "       37324.95778604, 43581.5784518 , 39739.3591905 , 43644.5203758 ,\n",
              "       36669.46820378, 20914.99252536, 27810.25751402, 30418.6783182 ,\n",
              "       28660.46775456, 49665.89603018, 31563.27160144, 58717.22090227,\n",
              "       30380.1167465 , 16490.57107496, 27030.16792641, 20173.46450945,\n",
              "       33826.41722085, 37089.06608446, 38549.33825263, 36290.39467619,\n",
              "       17243.11357004, 39795.80132431, 28027.62196329, 17191.57473777,\n",
              "       22673.203089  , 34951.78199323, 36692.81325333, 42479.89277316,\n",
              "       32809.73467311, 12503.01323472, 39687.11909967, 34503.28907127,\n",
              "       29413.01024964, 44944.57148706, 22955.22370376, 34412.48740874,\n",
              "       29706.04534358, 34296.29241097, 46898.76423182, 27323.20302035,\n",
              "       27694.06251625, 22919.46257956, 30418.6783182 , 29361.47141737,\n",
              "       23074.92040758, 36847.56982279, 37665.46974192, 15295.78690821,\n",
              "       45117.20861863, 29119.9751557 , 30216.44488679, 23523.41332954,\n",
              "       23816.44842348, 28533.90496782, 22035.59406885, 22890.56753827,\n",
              "       27310.22575978, 46104.99612509, 28033.87321358, 40882.60452498,\n",
              "       35019.93986477, 41611.15528032, 50310.37113326, 38037.59076066,\n",
              "       29814.72756822, 20035.88724353, 28367.43266062, 32948.01319759,\n",
              "       26775.69440417, 25820.91847768, 22040.35729773, 28085.41204585,\n",
              "       20914.99252536, 30085.11887116, 26586.57830598, 42991.64026513,\n",
              "       37395.07843897, 14312.76263064, 23074.92040758, 25603.55402841,\n",
              "       38330.6258546 , 37117.96112574, 19242.82039536, 41173.67683753,\n",
              "       22976.60597192, 20121.92567718, 19001.32413369, 15054.29064654,\n",
              "       44829.63801213, 28004.9781723 , 44542.85416848, 23396.8505428 ,\n",
              "       34924.23490071, 27556.48525033, 36826.8888132 , 18523.93617044,\n",
              "       24195.52195107, 11761.48521881, 24470.6764829 , 27901.05917655,\n",
              "       26586.57830598, 26337.56927119, 40036.26228323, 22017.71350674,\n",
              "       42271.86081012,  9279.62720137, 44134.88559961, 49292.62103423,\n",
              "       38623.66094854, 30009.4482265 , 51323.18568221, 36962.50329772,\n",
              "       41152.29456937, 21161.25201591, 36192.08024054, 12232.62193177,\n",
              "       26793.57496628, 35514.17308738, 40566.22438149, 32429.39962269,\n",
              "       39513.78070954, 26345.08204431, 22242.59072914, 20173.46450945,\n",
              "       45375.18384692, 24224.41699235, 21695.78337152, 57480.79065376,\n",
              "       50737.11549433, 29729.39039313, 29636.6259492 , 26431.12047796,\n",
              "       26580.32705569, 25310.51893447, 32130.11327846, 33515.50156481,\n",
              "       25349.78176473, 37812.71353826, 20707.99586506, 35584.6277845 ,\n",
              "       35312.97495871, 24200.28517996, 46511.92939121, 24068.95916433,\n",
              "       32089.58892536, 28522.89048864, 25827.16972797, 23189.8538825 ,\n",
              "       21571.18336617, 24655.02935221, 43060.16442941, 17915.22219157,\n",
              "       25419.2011591 , 15835.0814927 , 38227.40811741, 30263.22049018,\n",
              "       19001.32413369, 14800.51838286, 33710.22222309, 32929.43137693,\n",
              "       22310.74860068, 25827.16972797, 31775.17156327, 47655.17472569,\n",
              "       53091.06277628, 22517.74526098, 29970.18539624, 23660.99059546,\n",
              "       29913.74326243, 31119.68198101, 16081.34098326, 27391.36089189,\n",
              "       30711.71341214, 30624.41345566, 32176.88888185, 17507.2536227 ,\n",
              "       24361.99425827, 27206.30676403, 38359.52089588, 32654.27684509,\n",
              "       35997.35958225, 25896.58912235, 35359.7505621 , 28884.08345412,\n",
              "       33774.87838858, 31964.98892002, 18295.55724199, 44552.5206989 ,\n",
              "       47057.02250734, 21161.25201591, 30896.06628145, 34860.9803307 ,\n",
              "       24872.39380148, 29423.37803862, 40501.568216  ])"
            ]
          },
          "metadata": {},
          "execution_count": 515
        }
      ]
    },
    {
      "cell_type": "code",
      "execution_count": null,
      "metadata": {
        "colab": {
          "base_uri": "https://localhost:8080/",
          "height": 206
        },
        "id": "9ffHv_OhWm8x",
        "outputId": "1280a221-ffeb-4f65-8eef-7283e5f67463"
      },
      "outputs": [
        {
          "output_type": "execute_result",
          "data": {
            "text/plain": [
              "     Realidad    Prediccion\n",
              "968     19690  21765.202766\n",
              "238     11080  14847.293986\n",
              "489     39090  32361.241751\n",
              "810     39310  36809.008251\n",
              "734     25000  20777.415259"
            ],
            "text/html": [
              "\n",
              "  <div id=\"df-196f112c-3965-4afa-aab0-c8ba11457d3a\">\n",
              "    <div class=\"colab-df-container\">\n",
              "      <div>\n",
              "<style scoped>\n",
              "    .dataframe tbody tr th:only-of-type {\n",
              "        vertical-align: middle;\n",
              "    }\n",
              "\n",
              "    .dataframe tbody tr th {\n",
              "        vertical-align: top;\n",
              "    }\n",
              "\n",
              "    .dataframe thead th {\n",
              "        text-align: right;\n",
              "    }\n",
              "</style>\n",
              "<table border=\"1\" class=\"dataframe\">\n",
              "  <thead>\n",
              "    <tr style=\"text-align: right;\">\n",
              "      <th></th>\n",
              "      <th>Realidad</th>\n",
              "      <th>Prediccion</th>\n",
              "    </tr>\n",
              "  </thead>\n",
              "  <tbody>\n",
              "    <tr>\n",
              "      <th>968</th>\n",
              "      <td>19690</td>\n",
              "      <td>21765.202766</td>\n",
              "    </tr>\n",
              "    <tr>\n",
              "      <th>238</th>\n",
              "      <td>11080</td>\n",
              "      <td>14847.293986</td>\n",
              "    </tr>\n",
              "    <tr>\n",
              "      <th>489</th>\n",
              "      <td>39090</td>\n",
              "      <td>32361.241751</td>\n",
              "    </tr>\n",
              "    <tr>\n",
              "      <th>810</th>\n",
              "      <td>39310</td>\n",
              "      <td>36809.008251</td>\n",
              "    </tr>\n",
              "    <tr>\n",
              "      <th>734</th>\n",
              "      <td>25000</td>\n",
              "      <td>20777.415259</td>\n",
              "    </tr>\n",
              "  </tbody>\n",
              "</table>\n",
              "</div>\n",
              "      <button class=\"colab-df-convert\" onclick=\"convertToInteractive('df-196f112c-3965-4afa-aab0-c8ba11457d3a')\"\n",
              "              title=\"Convert this dataframe to an interactive table.\"\n",
              "              style=\"display:none;\">\n",
              "        \n",
              "  <svg xmlns=\"http://www.w3.org/2000/svg\" height=\"24px\"viewBox=\"0 0 24 24\"\n",
              "       width=\"24px\">\n",
              "    <path d=\"M0 0h24v24H0V0z\" fill=\"none\"/>\n",
              "    <path d=\"M18.56 5.44l.94 2.06.94-2.06 2.06-.94-2.06-.94-.94-2.06-.94 2.06-2.06.94zm-11 1L8.5 8.5l.94-2.06 2.06-.94-2.06-.94L8.5 2.5l-.94 2.06-2.06.94zm10 10l.94 2.06.94-2.06 2.06-.94-2.06-.94-.94-2.06-.94 2.06-2.06.94z\"/><path d=\"M17.41 7.96l-1.37-1.37c-.4-.4-.92-.59-1.43-.59-.52 0-1.04.2-1.43.59L10.3 9.45l-7.72 7.72c-.78.78-.78 2.05 0 2.83L4 21.41c.39.39.9.59 1.41.59.51 0 1.02-.2 1.41-.59l7.78-7.78 2.81-2.81c.8-.78.8-2.07 0-2.86zM5.41 20L4 18.59l7.72-7.72 1.47 1.35L5.41 20z\"/>\n",
              "  </svg>\n",
              "      </button>\n",
              "      \n",
              "  <style>\n",
              "    .colab-df-container {\n",
              "      display:flex;\n",
              "      flex-wrap:wrap;\n",
              "      gap: 12px;\n",
              "    }\n",
              "\n",
              "    .colab-df-convert {\n",
              "      background-color: #E8F0FE;\n",
              "      border: none;\n",
              "      border-radius: 50%;\n",
              "      cursor: pointer;\n",
              "      display: none;\n",
              "      fill: #1967D2;\n",
              "      height: 32px;\n",
              "      padding: 0 0 0 0;\n",
              "      width: 32px;\n",
              "    }\n",
              "\n",
              "    .colab-df-convert:hover {\n",
              "      background-color: #E2EBFA;\n",
              "      box-shadow: 0px 1px 2px rgba(60, 64, 67, 0.3), 0px 1px 3px 1px rgba(60, 64, 67, 0.15);\n",
              "      fill: #174EA6;\n",
              "    }\n",
              "\n",
              "    [theme=dark] .colab-df-convert {\n",
              "      background-color: #3B4455;\n",
              "      fill: #D2E3FC;\n",
              "    }\n",
              "\n",
              "    [theme=dark] .colab-df-convert:hover {\n",
              "      background-color: #434B5C;\n",
              "      box-shadow: 0px 1px 3px 1px rgba(0, 0, 0, 0.15);\n",
              "      filter: drop-shadow(0px 1px 2px rgba(0, 0, 0, 0.3));\n",
              "      fill: #FFFFFF;\n",
              "    }\n",
              "  </style>\n",
              "\n",
              "      <script>\n",
              "        const buttonEl =\n",
              "          document.querySelector('#df-196f112c-3965-4afa-aab0-c8ba11457d3a button.colab-df-convert');\n",
              "        buttonEl.style.display =\n",
              "          google.colab.kernel.accessAllowed ? 'block' : 'none';\n",
              "\n",
              "        async function convertToInteractive(key) {\n",
              "          const element = document.querySelector('#df-196f112c-3965-4afa-aab0-c8ba11457d3a');\n",
              "          const dataTable =\n",
              "            await google.colab.kernel.invokeFunction('convertToInteractive',\n",
              "                                                     [key], {});\n",
              "          if (!dataTable) return;\n",
              "\n",
              "          const docLinkHtml = 'Like what you see? Visit the ' +\n",
              "            '<a target=\"_blank\" href=https://colab.research.google.com/notebooks/data_table.ipynb>data table notebook</a>'\n",
              "            + ' to learn more about interactive tables.';\n",
              "          element.innerHTML = '';\n",
              "          dataTable['output_type'] = 'display_data';\n",
              "          await google.colab.output.renderOutput(dataTable, element);\n",
              "          const docLink = document.createElement('div');\n",
              "          docLink.innerHTML = docLinkHtml;\n",
              "          element.appendChild(docLink);\n",
              "        }\n",
              "      </script>\n",
              "    </div>\n",
              "  </div>\n",
              "  "
            ]
          },
          "metadata": {},
          "execution_count": 516
        }
      ],
      "source": [
        "pd.DataFrame({'Realidad': y_test,\n",
        "              'Prediccion': prediccion_y}).head()"
      ]
    },
    {
      "cell_type": "code",
      "execution_count": null,
      "metadata": {
        "colab": {
          "base_uri": "https://localhost:8080/"
        },
        "id": "cyZAfN_eWm8x",
        "outputId": "007155f0-4b1f-4385-a3c4-b9301db2dd16"
      },
      "outputs": [
        {
          "output_type": "stream",
          "name": "stdout",
          "text": [
            "\n",
            "El error cuadrático medio de test es: 6276.972216207822\n"
          ]
        }
      ],
      "source": [
        "rmse_ols = mean_squared_error(\n",
        "            y_true  = y_test,\n",
        "            y_pred  = prediccion_y,\n",
        "            squared = False\n",
        "           )\n",
        "print(\"\")\n",
        "print(f\"El error cuadrático medio de test es: {rmse_ols}\")"
      ]
    },
    {
      "cell_type": "code",
      "source": [
        "dfx = pd.DataFrame(X_train.T, X.columns)"
      ],
      "metadata": {
        "id": "nv0WtFM6okCl"
      },
      "execution_count": null,
      "outputs": []
    },
    {
      "cell_type": "code",
      "source": [
        "dfx = dfx.T"
      ],
      "metadata": {
        "id": "6lca49PepC3M"
      },
      "execution_count": null,
      "outputs": []
    },
    {
      "cell_type": "code",
      "source": [
        "dfx.head(3)"
      ],
      "metadata": {
        "colab": {
          "base_uri": "https://localhost:8080/",
          "height": 143
        },
        "id": "pmL6T-adpM8Q",
        "outputId": "db115c9e-b849-4396-8230-3cf962291fc1"
      },
      "execution_count": null,
      "outputs": [
        {
          "output_type": "execute_result",
          "data": {
            "text/plain": [
              "   Experiencia     Hijos    Casado  Educacion  Posicion_Analista  \\\n",
              "0     1.068992 -1.163138 -1.158817   0.754614          -2.142641   \n",
              "1    -1.273396 -0.347947  0.862949   0.754614           0.466714   \n",
              "2     1.849788  1.282435  0.862949  -0.818564           0.466714   \n",
              "\n",
              "   Posicion_Coordinador  Posicion_Gerente  \n",
              "0              2.540580         -0.216353  \n",
              "1             -0.393611         -0.216353  \n",
              "2             -0.393611         -0.216353  "
            ],
            "text/html": [
              "\n",
              "  <div id=\"df-fdeb487d-a72c-466f-bd61-11fccd01bdf3\">\n",
              "    <div class=\"colab-df-container\">\n",
              "      <div>\n",
              "<style scoped>\n",
              "    .dataframe tbody tr th:only-of-type {\n",
              "        vertical-align: middle;\n",
              "    }\n",
              "\n",
              "    .dataframe tbody tr th {\n",
              "        vertical-align: top;\n",
              "    }\n",
              "\n",
              "    .dataframe thead th {\n",
              "        text-align: right;\n",
              "    }\n",
              "</style>\n",
              "<table border=\"1\" class=\"dataframe\">\n",
              "  <thead>\n",
              "    <tr style=\"text-align: right;\">\n",
              "      <th></th>\n",
              "      <th>Experiencia</th>\n",
              "      <th>Hijos</th>\n",
              "      <th>Casado</th>\n",
              "      <th>Educacion</th>\n",
              "      <th>Posicion_Analista</th>\n",
              "      <th>Posicion_Coordinador</th>\n",
              "      <th>Posicion_Gerente</th>\n",
              "    </tr>\n",
              "  </thead>\n",
              "  <tbody>\n",
              "    <tr>\n",
              "      <th>0</th>\n",
              "      <td>1.068992</td>\n",
              "      <td>-1.163138</td>\n",
              "      <td>-1.158817</td>\n",
              "      <td>0.754614</td>\n",
              "      <td>-2.142641</td>\n",
              "      <td>2.540580</td>\n",
              "      <td>-0.216353</td>\n",
              "    </tr>\n",
              "    <tr>\n",
              "      <th>1</th>\n",
              "      <td>-1.273396</td>\n",
              "      <td>-0.347947</td>\n",
              "      <td>0.862949</td>\n",
              "      <td>0.754614</td>\n",
              "      <td>0.466714</td>\n",
              "      <td>-0.393611</td>\n",
              "      <td>-0.216353</td>\n",
              "    </tr>\n",
              "    <tr>\n",
              "      <th>2</th>\n",
              "      <td>1.849788</td>\n",
              "      <td>1.282435</td>\n",
              "      <td>0.862949</td>\n",
              "      <td>-0.818564</td>\n",
              "      <td>0.466714</td>\n",
              "      <td>-0.393611</td>\n",
              "      <td>-0.216353</td>\n",
              "    </tr>\n",
              "  </tbody>\n",
              "</table>\n",
              "</div>\n",
              "      <button class=\"colab-df-convert\" onclick=\"convertToInteractive('df-fdeb487d-a72c-466f-bd61-11fccd01bdf3')\"\n",
              "              title=\"Convert this dataframe to an interactive table.\"\n",
              "              style=\"display:none;\">\n",
              "        \n",
              "  <svg xmlns=\"http://www.w3.org/2000/svg\" height=\"24px\"viewBox=\"0 0 24 24\"\n",
              "       width=\"24px\">\n",
              "    <path d=\"M0 0h24v24H0V0z\" fill=\"none\"/>\n",
              "    <path d=\"M18.56 5.44l.94 2.06.94-2.06 2.06-.94-2.06-.94-.94-2.06-.94 2.06-2.06.94zm-11 1L8.5 8.5l.94-2.06 2.06-.94-2.06-.94L8.5 2.5l-.94 2.06-2.06.94zm10 10l.94 2.06.94-2.06 2.06-.94-2.06-.94-.94-2.06-.94 2.06-2.06.94z\"/><path d=\"M17.41 7.96l-1.37-1.37c-.4-.4-.92-.59-1.43-.59-.52 0-1.04.2-1.43.59L10.3 9.45l-7.72 7.72c-.78.78-.78 2.05 0 2.83L4 21.41c.39.39.9.59 1.41.59.51 0 1.02-.2 1.41-.59l7.78-7.78 2.81-2.81c.8-.78.8-2.07 0-2.86zM5.41 20L4 18.59l7.72-7.72 1.47 1.35L5.41 20z\"/>\n",
              "  </svg>\n",
              "      </button>\n",
              "      \n",
              "  <style>\n",
              "    .colab-df-container {\n",
              "      display:flex;\n",
              "      flex-wrap:wrap;\n",
              "      gap: 12px;\n",
              "    }\n",
              "\n",
              "    .colab-df-convert {\n",
              "      background-color: #E8F0FE;\n",
              "      border: none;\n",
              "      border-radius: 50%;\n",
              "      cursor: pointer;\n",
              "      display: none;\n",
              "      fill: #1967D2;\n",
              "      height: 32px;\n",
              "      padding: 0 0 0 0;\n",
              "      width: 32px;\n",
              "    }\n",
              "\n",
              "    .colab-df-convert:hover {\n",
              "      background-color: #E2EBFA;\n",
              "      box-shadow: 0px 1px 2px rgba(60, 64, 67, 0.3), 0px 1px 3px 1px rgba(60, 64, 67, 0.15);\n",
              "      fill: #174EA6;\n",
              "    }\n",
              "\n",
              "    [theme=dark] .colab-df-convert {\n",
              "      background-color: #3B4455;\n",
              "      fill: #D2E3FC;\n",
              "    }\n",
              "\n",
              "    [theme=dark] .colab-df-convert:hover {\n",
              "      background-color: #434B5C;\n",
              "      box-shadow: 0px 1px 3px 1px rgba(0, 0, 0, 0.15);\n",
              "      filter: drop-shadow(0px 1px 2px rgba(0, 0, 0, 0.3));\n",
              "      fill: #FFFFFF;\n",
              "    }\n",
              "  </style>\n",
              "\n",
              "      <script>\n",
              "        const buttonEl =\n",
              "          document.querySelector('#df-fdeb487d-a72c-466f-bd61-11fccd01bdf3 button.colab-df-convert');\n",
              "        buttonEl.style.display =\n",
              "          google.colab.kernel.accessAllowed ? 'block' : 'none';\n",
              "\n",
              "        async function convertToInteractive(key) {\n",
              "          const element = document.querySelector('#df-fdeb487d-a72c-466f-bd61-11fccd01bdf3');\n",
              "          const dataTable =\n",
              "            await google.colab.kernel.invokeFunction('convertToInteractive',\n",
              "                                                     [key], {});\n",
              "          if (!dataTable) return;\n",
              "\n",
              "          const docLinkHtml = 'Like what you see? Visit the ' +\n",
              "            '<a target=\"_blank\" href=https://colab.research.google.com/notebooks/data_table.ipynb>data table notebook</a>'\n",
              "            + ' to learn more about interactive tables.';\n",
              "          element.innerHTML = '';\n",
              "          dataTable['output_type'] = 'display_data';\n",
              "          await google.colab.output.renderOutput(dataTable, element);\n",
              "          const docLink = document.createElement('div');\n",
              "          docLink.innerHTML = docLinkHtml;\n",
              "          element.appendChild(docLink);\n",
              "        }\n",
              "      </script>\n",
              "    </div>\n",
              "  </div>\n",
              "  "
            ]
          },
          "metadata": {},
          "execution_count": 520
        }
      ]
    },
    {
      "cell_type": "code",
      "source": [
        "df_coeficientes = pd.DataFrame(\n",
        "                        {'predictor': dfx.columns,\n",
        "                         'coef': modelo.coef_.flatten()}\n",
        "                  )\n"
      ],
      "metadata": {
        "id": "EmApD4Omn38s"
      },
      "execution_count": null,
      "outputs": []
    },
    {
      "cell_type": "code",
      "source": [
        "modelo.coef_.shape"
      ],
      "metadata": {
        "colab": {
          "base_uri": "https://localhost:8080/"
        },
        "id": "bTCDNvRRGGdX",
        "outputId": "9c801dd4-67a0-4c43-dbda-c4f8c538c1f4"
      },
      "execution_count": null,
      "outputs": [
        {
          "output_type": "execute_result",
          "data": {
            "text/plain": [
              "(7,)"
            ]
          },
          "metadata": {},
          "execution_count": 522
        }
      ]
    },
    {
      "cell_type": "code",
      "source": [
        "df_coeficientes"
      ],
      "metadata": {
        "colab": {
          "base_uri": "https://localhost:8080/",
          "height": 269
        },
        "id": "4GQrxhsspbcb",
        "outputId": "083289af-1cf2-457c-9b10-fab371a67125"
      },
      "execution_count": null,
      "outputs": [
        {
          "output_type": "execute_result",
          "data": {
            "text/plain": [
              "              predictor         coef\n",
              "0           Experiencia  7506.059936\n",
              "1                 Hijos  2347.509306\n",
              "2                Casado  -187.496237\n",
              "3             Educacion  1186.701427\n",
              "4     Posicion_Analista -2015.240076\n",
              "5  Posicion_Coordinador   538.597273\n",
              "6      Posicion_Gerente  2848.650295"
            ],
            "text/html": [
              "\n",
              "  <div id=\"df-3c70008c-ce68-452b-8f93-95753783352a\">\n",
              "    <div class=\"colab-df-container\">\n",
              "      <div>\n",
              "<style scoped>\n",
              "    .dataframe tbody tr th:only-of-type {\n",
              "        vertical-align: middle;\n",
              "    }\n",
              "\n",
              "    .dataframe tbody tr th {\n",
              "        vertical-align: top;\n",
              "    }\n",
              "\n",
              "    .dataframe thead th {\n",
              "        text-align: right;\n",
              "    }\n",
              "</style>\n",
              "<table border=\"1\" class=\"dataframe\">\n",
              "  <thead>\n",
              "    <tr style=\"text-align: right;\">\n",
              "      <th></th>\n",
              "      <th>predictor</th>\n",
              "      <th>coef</th>\n",
              "    </tr>\n",
              "  </thead>\n",
              "  <tbody>\n",
              "    <tr>\n",
              "      <th>0</th>\n",
              "      <td>Experiencia</td>\n",
              "      <td>7506.059936</td>\n",
              "    </tr>\n",
              "    <tr>\n",
              "      <th>1</th>\n",
              "      <td>Hijos</td>\n",
              "      <td>2347.509306</td>\n",
              "    </tr>\n",
              "    <tr>\n",
              "      <th>2</th>\n",
              "      <td>Casado</td>\n",
              "      <td>-187.496237</td>\n",
              "    </tr>\n",
              "    <tr>\n",
              "      <th>3</th>\n",
              "      <td>Educacion</td>\n",
              "      <td>1186.701427</td>\n",
              "    </tr>\n",
              "    <tr>\n",
              "      <th>4</th>\n",
              "      <td>Posicion_Analista</td>\n",
              "      <td>-2015.240076</td>\n",
              "    </tr>\n",
              "    <tr>\n",
              "      <th>5</th>\n",
              "      <td>Posicion_Coordinador</td>\n",
              "      <td>538.597273</td>\n",
              "    </tr>\n",
              "    <tr>\n",
              "      <th>6</th>\n",
              "      <td>Posicion_Gerente</td>\n",
              "      <td>2848.650295</td>\n",
              "    </tr>\n",
              "  </tbody>\n",
              "</table>\n",
              "</div>\n",
              "      <button class=\"colab-df-convert\" onclick=\"convertToInteractive('df-3c70008c-ce68-452b-8f93-95753783352a')\"\n",
              "              title=\"Convert this dataframe to an interactive table.\"\n",
              "              style=\"display:none;\">\n",
              "        \n",
              "  <svg xmlns=\"http://www.w3.org/2000/svg\" height=\"24px\"viewBox=\"0 0 24 24\"\n",
              "       width=\"24px\">\n",
              "    <path d=\"M0 0h24v24H0V0z\" fill=\"none\"/>\n",
              "    <path d=\"M18.56 5.44l.94 2.06.94-2.06 2.06-.94-2.06-.94-.94-2.06-.94 2.06-2.06.94zm-11 1L8.5 8.5l.94-2.06 2.06-.94-2.06-.94L8.5 2.5l-.94 2.06-2.06.94zm10 10l.94 2.06.94-2.06 2.06-.94-2.06-.94-.94-2.06-.94 2.06-2.06.94z\"/><path d=\"M17.41 7.96l-1.37-1.37c-.4-.4-.92-.59-1.43-.59-.52 0-1.04.2-1.43.59L10.3 9.45l-7.72 7.72c-.78.78-.78 2.05 0 2.83L4 21.41c.39.39.9.59 1.41.59.51 0 1.02-.2 1.41-.59l7.78-7.78 2.81-2.81c.8-.78.8-2.07 0-2.86zM5.41 20L4 18.59l7.72-7.72 1.47 1.35L5.41 20z\"/>\n",
              "  </svg>\n",
              "      </button>\n",
              "      \n",
              "  <style>\n",
              "    .colab-df-container {\n",
              "      display:flex;\n",
              "      flex-wrap:wrap;\n",
              "      gap: 12px;\n",
              "    }\n",
              "\n",
              "    .colab-df-convert {\n",
              "      background-color: #E8F0FE;\n",
              "      border: none;\n",
              "      border-radius: 50%;\n",
              "      cursor: pointer;\n",
              "      display: none;\n",
              "      fill: #1967D2;\n",
              "      height: 32px;\n",
              "      padding: 0 0 0 0;\n",
              "      width: 32px;\n",
              "    }\n",
              "\n",
              "    .colab-df-convert:hover {\n",
              "      background-color: #E2EBFA;\n",
              "      box-shadow: 0px 1px 2px rgba(60, 64, 67, 0.3), 0px 1px 3px 1px rgba(60, 64, 67, 0.15);\n",
              "      fill: #174EA6;\n",
              "    }\n",
              "\n",
              "    [theme=dark] .colab-df-convert {\n",
              "      background-color: #3B4455;\n",
              "      fill: #D2E3FC;\n",
              "    }\n",
              "\n",
              "    [theme=dark] .colab-df-convert:hover {\n",
              "      background-color: #434B5C;\n",
              "      box-shadow: 0px 1px 3px 1px rgba(0, 0, 0, 0.15);\n",
              "      filter: drop-shadow(0px 1px 2px rgba(0, 0, 0, 0.3));\n",
              "      fill: #FFFFFF;\n",
              "    }\n",
              "  </style>\n",
              "\n",
              "      <script>\n",
              "        const buttonEl =\n",
              "          document.querySelector('#df-3c70008c-ce68-452b-8f93-95753783352a button.colab-df-convert');\n",
              "        buttonEl.style.display =\n",
              "          google.colab.kernel.accessAllowed ? 'block' : 'none';\n",
              "\n",
              "        async function convertToInteractive(key) {\n",
              "          const element = document.querySelector('#df-3c70008c-ce68-452b-8f93-95753783352a');\n",
              "          const dataTable =\n",
              "            await google.colab.kernel.invokeFunction('convertToInteractive',\n",
              "                                                     [key], {});\n",
              "          if (!dataTable) return;\n",
              "\n",
              "          const docLinkHtml = 'Like what you see? Visit the ' +\n",
              "            '<a target=\"_blank\" href=https://colab.research.google.com/notebooks/data_table.ipynb>data table notebook</a>'\n",
              "            + ' to learn more about interactive tables.';\n",
              "          element.innerHTML = '';\n",
              "          dataTable['output_type'] = 'display_data';\n",
              "          await google.colab.output.renderOutput(dataTable, element);\n",
              "          const docLink = document.createElement('div');\n",
              "          docLink.innerHTML = docLinkHtml;\n",
              "          element.appendChild(docLink);\n",
              "        }\n",
              "      </script>\n",
              "    </div>\n",
              "  </div>\n",
              "  "
            ]
          },
          "metadata": {},
          "execution_count": 523
        }
      ]
    },
    {
      "cell_type": "code",
      "execution_count": null,
      "metadata": {
        "colab": {
          "base_uri": "https://localhost:8080/",
          "height": 330
        },
        "id": "grUpnfoiWm8x",
        "outputId": "d6b0475c-318c-420e-b18e-53460ac08638"
      },
      "outputs": [
        {
          "output_type": "display_data",
          "data": {
            "text/plain": [
              "<Figure size 792x276.48 with 1 Axes>"
            ],
            "image/png": "[encoded data removed]"
          },
          "metadata": {
            "needs_background": "light"
          }
        }
      ],
      "source": [
        "fig, ax = plt.subplots(figsize=(11, 3.84))\n",
        "ax.stem(df_coeficientes.predictor, df_coeficientes.coef, markerfmt=' ')\n",
        "plt.xticks(rotation=90, ha='right', size=5)\n",
        "ax.set_xlabel('variable')\n",
        "ax.set_ylabel('coeficientes')\n",
        "ax.set_title('Coeficientes del modelo');"
      ]
    },
    {
      "cell_type": "code",
      "execution_count": null,
      "metadata": {
        "id": "_Cm7vDdWWm8x",
        "colab": {
          "base_uri": "https://localhost:8080/"
        },
        "outputId": "2fff6d6a-7880-4a59-b69e-e4d32e09986f"
      },
      "outputs": [
        {
          "output_type": "execute_result",
          "data": {
            "text/plain": [
              "array([ 7506.05993566,  2347.50930554,  -187.4962368 ,  1186.70142673,\n",
              "       -2015.24007629,   538.59727288])"
            ]
          },
          "metadata": {},
          "execution_count": 525
        }
      ],
      "source": [
        "modelo.coef_[0:6] \n",
        "#betas de la ecuacion"
      ]
    },
    {
      "cell_type": "code",
      "source": [
        "modelo.intercept_\n",
        "#alfa de la ecuacion"
      ],
      "metadata": {
        "colab": {
          "base_uri": "https://localhost:8080/"
        },
        "id": "DWAt-vJEGbY8",
        "outputId": "041174ac-adeb-4eca-d96d-717f2c1de247"
      },
      "execution_count": null,
      "outputs": [
        {
          "output_type": "execute_result",
          "data": {
            "text/plain": [
              "28917.39837398374"
            ]
          },
          "metadata": {},
          "execution_count": 526
        }
      ]
    },
    {
      "cell_type": "code",
      "source": [
        "predicciones = modelo.predict(X_test)\n"
      ],
      "metadata": {
        "id": "pMzHk_EeGqOq"
      },
      "execution_count": null,
      "outputs": []
    },
    {
      "cell_type": "code",
      "source": [
        "predicciones = predicciones.flatten()\n",
        "predicciones[:250]"
      ],
      "metadata": {
        "id": "h-aNgKcKG9yY",
        "colab": {
          "base_uri": "https://localhost:8080/"
        },
        "outputId": "630ab16f-5f91-4bc3-f784-e59ff96be150"
      },
      "execution_count": null,
      "outputs": [
        {
          "output_type": "execute_result",
          "data": {
            "text/plain": [
              "array([21765.2027659 , 14847.29398624, 32361.24175115, 36809.00825109,\n",
              "       20777.41525944, 41123.39952809, 30603.03118751, 12554.55206699,\n",
              "       30831.41011596, 28240.86987387,  9732.88335222, 31550.29434087,\n",
              "       41036.09957161, 10021.15521727, 38860.25390868, 31383.82203367,\n",
              "       23775.92407039, 35014.14133314, 27242.06788824, 28085.41204585,\n",
              "       26189.62421629, 24655.02935221, 42423.45063935, 27154.76793176,\n",
              "       34257.02958071, 30585.1506254 , 31918.21331663, 48167.9575204 ,\n",
              "       37498.29617617, 33377.92429889, 40859.25947543, 23052.27661659,\n",
              "       33912.4556545 , 34072.67671141, 33055.99416367, 33486.60652353,\n",
              "       34394.60684663, 30331.37836172, 19001.32413369, 18668.37951929,\n",
              "       35915.89040596, 37313.94330686, 19623.15544578, 26207.50477839,\n",
              "       24810.48718023, 34550.06467465, 29792.08377722, 54239.52405831,\n",
              "       36964.46607911, 44358.50129917, 26775.69440417, 27154.76793176,\n",
              "       28866.20289202, 32860.01198255, 26638.11713825, 12974.14994767,\n",
              "       28464.48557344, 19989.11164015, 27509.70964695, 33779.64161747,\n",
              "       41468.67471286, 39842.57692769, 28085.41204585, 29516.92924539,\n",
              "       19506.96044802, 31728.39595988, 18122.21885187, 14847.29398624,\n",
              "       24224.41699235, 39767.35900169, 30585.1506254 , 28171.4504795 ,\n",
              "       22615.41300644, 36326.1558004 , 39112.76464952, 26189.62421629,\n",
              "       13882.15027078, 23052.27661659, 13444.02513779, 28367.43266062,\n",
              "       34394.60684663, 30585.1506254 , 40147.32775937, 27447.8030257 ,\n",
              "       20845.57313098, 32429.39962269, 35004.02208406, 22506.7307818 ,\n",
              "       25707.47302416, 19156.78196171, 21540.3255435 , 21345.60488521,\n",
              "       29521.69247428, 52671.4648956 , 31453.24142805, 23103.81544886,\n",
              "       31210.48364354, 11486.33068698, 37226.64335038, 34412.48740874,\n",
              "       44478.56429573, 42031.3998512 , 31189.10137539, 37451.52057278,\n",
              "       25103.52227417, 22517.74526098, 31051.52410947, 50179.94034773,\n",
              "       24932.14666544, 38635.37668628, 36445.85250422, 21967.4361973 ,\n",
              "       33395.80486099, 38567.21881474, 38290.10150151, 33222.46647087,\n",
              "       21294.06605294, 39153.28900262, 30693.83285004, 26431.12047796,\n",
              "       31482.13646933, 26228.88704655, 44117.00503751, 22087.13290112,\n",
              "       20300.02729619, 47115.8801412 , 28211.97483259, 28378.44713979,\n",
              "       16312.46945595, 25919.9341719 , 26453.76426895, 35303.30842829,\n",
              "       23259.27327688, 26219.22051613, 32584.85745071, 23189.8538825 ,\n",
              "       26397.32213514, 45070.43301524, 29970.18539624, 21811.97836928,\n",
              "       50368.16121583, 23103.81544886, 27068.72949811, 27401.02742231,\n",
              "       22126.39573138, 14105.76597034, 45638.62264102, 40560.42584986,\n",
              "       24988.58879925, 36555.23598741, 28046.85047415, 10111.95687981,\n",
              "       27918.93973865, 22144.27629348, 24086.83972643, 44324.14177045,\n",
              "       24431.41365264, 31326.67864131, 29586.34863976, 31004.74850608,\n",
              "       41375.91026894, 21713.66393362, 28171.4504795 ,  9710.23956123,\n",
              "       23570.18893293, 35763.43066207, 36048.70444299, 27361.76459205,\n",
              "       27447.8030257 , 23189.8538825 , 39749.47843958, 32939.79916591,\n",
              "       22006.69902756, 29550.58751556, 29361.47141737, 22213.69568786,\n",
              "       32900.53633565, 29654.50651131, 31746.27652199, 23414.7311049 ,\n",
              "       23005.5010132 , 39209.73113643, 29832.60813032, 14984.87125216,\n",
              "       42324.43494514, 26931.15223219, 34796.32416521, 40911.49956626,\n",
              "       21833.36063744, 29050.55576132, 27901.05917655, 25310.51893447,\n",
              "       23121.69601096, 35945.82074998, 26327.20148221, 35136.13486254,\n",
              "       27441.55177541, 32590.32193816, 34773.68037422, 18794.32747339,\n",
              "       35751.80135025, 17864.94488213, 21345.60488521, 13244.54125062,\n",
              "       37997.06640757, 47206.68180373, 24091.60295532, 41152.29456937,\n",
              "       40284.90502528, 22310.74860068, 22914.69935067, 12232.62193177,\n",
              "       19156.78196171, 51062.91362834, 35284.07991743, 26620.23657615,\n",
              "       45122.67310607, 36163.18519925, 34482.60806167, 24431.41365264,\n",
              "       19828.89058324, 30400.7977561 , 21247.29044956, 20621.95743141,\n",
              "       27286.09394739, 22087.13290112, 37410.99621968, 29843.6226095 ,\n",
              "       20368.18516773, 18765.43243211, 20144.56946817, 32060.69388408,\n",
              "       18093.32381058, 21265.17101166, 39561.25757148, 21237.62391913,\n",
              "       25633.15032825, 26591.34153487, 22310.74860068, 32343.36118905,\n",
              "       30693.83285004, 38468.20312052, 27303.97450949, 24862.0260125 ,\n",
              "       31181.58860226, 29900.76600186, 29413.01024964, 32361.24175115,\n",
              "       24965.94500825, 29620.70816849])"
            ]
          },
          "metadata": {},
          "execution_count": 528
        }
      ]
    },
    {
      "cell_type": "code",
      "source": [
        "X_test.shape"
      ],
      "metadata": {
        "colab": {
          "base_uri": "https://localhost:8080/"
        },
        "id": "5yb51sQZHCrU",
        "outputId": "187b4101-dc68-4f2d-dcf5-f41b00bc0929"
      },
      "execution_count": null,
      "outputs": [
        {
          "output_type": "execute_result",
          "data": {
            "text/plain": [
              "(739, 7)"
            ]
          },
          "metadata": {},
          "execution_count": 529
        }
      ]
    },
    {
      "cell_type": "code",
      "source": [
        "X_train.shape"
      ],
      "metadata": {
        "colab": {
          "base_uri": "https://localhost:8080/"
        },
        "id": "BT8DoMOMHZWb",
        "outputId": "5e9c15be-892e-41c2-f735-efab73d842d6"
      },
      "execution_count": null,
      "outputs": [
        {
          "output_type": "execute_result",
          "data": {
            "text/plain": [
              "(246, 7)"
            ]
          },
          "metadata": {},
          "execution_count": 530
        }
      ]
    },
    {
      "cell_type": "markdown",
      "source": [
        "*Se predice el conjunto de pruebas de los 5 primeros valores reales y predichos*"
      ],
      "metadata": {
        "id": "HjGGPPxTYLsv"
      }
    },
    {
      "cell_type": "code",
      "source": [
        "comp = pd.DataFrame({'Real': y_test,\n",
        "                     'Predicción': predicciones})\n",
        "comp.head(5)"
      ],
      "metadata": {
        "id": "ydvIOexIHuXP",
        "colab": {
          "base_uri": "https://localhost:8080/",
          "height": 206
        },
        "outputId": "4f30307a-c86b-494c-b4a0-2ef84f751b7e"
      },
      "execution_count": null,
      "outputs": [
        {
          "output_type": "execute_result",
          "data": {
            "text/plain": [
              "      Real    Predicción\n",
              "968  19690  21765.202766\n",
              "238  11080  14847.293986\n",
              "489  39090  32361.241751\n",
              "810  39310  36809.008251\n",
              "734  25000  20777.415259"
            ],
            "text/html": [
              "\n",
              "  <div id=\"df-9cb932d8-b8e1-4545-a35a-a3ab0ae31295\">\n",
              "    <div class=\"colab-df-container\">\n",
              "      <div>\n",
              "<style scoped>\n",
              "    .dataframe tbody tr th:only-of-type {\n",
              "        vertical-align: middle;\n",
              "    }\n",
              "\n",
              "    .dataframe tbody tr th {\n",
              "        vertical-align: top;\n",
              "    }\n",
              "\n",
              "    .dataframe thead th {\n",
              "        text-align: right;\n",
              "    }\n",
              "</style>\n",
              "<table border=\"1\" class=\"dataframe\">\n",
              "  <thead>\n",
              "    <tr style=\"text-align: right;\">\n",
              "      <th></th>\n",
              "      <th>Real</th>\n",
              "      <th>Predicción</th>\n",
              "    </tr>\n",
              "  </thead>\n",
              "  <tbody>\n",
              "    <tr>\n",
              "      <th>968</th>\n",
              "      <td>19690</td>\n",
              "      <td>21765.202766</td>\n",
              "    </tr>\n",
              "    <tr>\n",
              "      <th>238</th>\n",
              "      <td>11080</td>\n",
              "      <td>14847.293986</td>\n",
              "    </tr>\n",
              "    <tr>\n",
              "      <th>489</th>\n",
              "      <td>39090</td>\n",
              "      <td>32361.241751</td>\n",
              "    </tr>\n",
              "    <tr>\n",
              "      <th>810</th>\n",
              "      <td>39310</td>\n",
              "      <td>36809.008251</td>\n",
              "    </tr>\n",
              "    <tr>\n",
              "      <th>734</th>\n",
              "      <td>25000</td>\n",
              "      <td>20777.415259</td>\n",
              "    </tr>\n",
              "  </tbody>\n",
              "</table>\n",
              "</div>\n",
              "      <button class=\"colab-df-convert\" onclick=\"convertToInteractive('df-9cb932d8-b8e1-4545-a35a-a3ab0ae31295')\"\n",
              "              title=\"Convert this dataframe to an interactive table.\"\n",
              "              style=\"display:none;\">\n",
              "        \n",
              "  <svg xmlns=\"http://www.w3.org/2000/svg\" height=\"24px\"viewBox=\"0 0 24 24\"\n",
              "       width=\"24px\">\n",
              "    <path d=\"M0 0h24v24H0V0z\" fill=\"none\"/>\n",
              "    <path d=\"M18.56 5.44l.94 2.06.94-2.06 2.06-.94-2.06-.94-.94-2.06-.94 2.06-2.06.94zm-11 1L8.5 8.5l.94-2.06 2.06-.94-2.06-.94L8.5 2.5l-.94 2.06-2.06.94zm10 10l.94 2.06.94-2.06 2.06-.94-2.06-.94-.94-2.06-.94 2.06-2.06.94z\"/><path d=\"M17.41 7.96l-1.37-1.37c-.4-.4-.92-.59-1.43-.59-.52 0-1.04.2-1.43.59L10.3 9.45l-7.72 7.72c-.78.78-.78 2.05 0 2.83L4 21.41c.39.39.9.59 1.41.59.51 0 1.02-.2 1.41-.59l7.78-7.78 2.81-2.81c.8-.78.8-2.07 0-2.86zM5.41 20L4 18.59l7.72-7.72 1.47 1.35L5.41 20z\"/>\n",
              "  </svg>\n",
              "      </button>\n",
              "      \n",
              "  <style>\n",
              "    .colab-df-container {\n",
              "      display:flex;\n",
              "      flex-wrap:wrap;\n",
              "      gap: 12px;\n",
              "    }\n",
              "\n",
              "    .colab-df-convert {\n",
              "      background-color: #E8F0FE;\n",
              "      border: none;\n",
              "      border-radius: 50%;\n",
              "      cursor: pointer;\n",
              "      display: none;\n",
              "      fill: #1967D2;\n",
              "      height: 32px;\n",
              "      padding: 0 0 0 0;\n",
              "      width: 32px;\n",
              "    }\n",
              "\n",
              "    .colab-df-convert:hover {\n",
              "      background-color: #E2EBFA;\n",
              "      box-shadow: 0px 1px 2px rgba(60, 64, 67, 0.3), 0px 1px 3px 1px rgba(60, 64, 67, 0.15);\n",
              "      fill: #174EA6;\n",
              "    }\n",
              "\n",
              "    [theme=dark] .colab-df-convert {\n",
              "      background-color: #3B4455;\n",
              "      fill: #D2E3FC;\n",
              "    }\n",
              "\n",
              "    [theme=dark] .colab-df-convert:hover {\n",
              "      background-color: #434B5C;\n",
              "      box-shadow: 0px 1px 3px 1px rgba(0, 0, 0, 0.15);\n",
              "      filter: drop-shadow(0px 1px 2px rgba(0, 0, 0, 0.3));\n",
              "      fill: #FFFFFF;\n",
              "    }\n",
              "  </style>\n",
              "\n",
              "      <script>\n",
              "        const buttonEl =\n",
              "          document.querySelector('#df-9cb932d8-b8e1-4545-a35a-a3ab0ae31295 button.colab-df-convert');\n",
              "        buttonEl.style.display =\n",
              "          google.colab.kernel.accessAllowed ? 'block' : 'none';\n",
              "\n",
              "        async function convertToInteractive(key) {\n",
              "          const element = document.querySelector('#df-9cb932d8-b8e1-4545-a35a-a3ab0ae31295');\n",
              "          const dataTable =\n",
              "            await google.colab.kernel.invokeFunction('convertToInteractive',\n",
              "                                                     [key], {});\n",
              "          if (!dataTable) return;\n",
              "\n",
              "          const docLinkHtml = 'Like what you see? Visit the ' +\n",
              "            '<a target=\"_blank\" href=https://colab.research.google.com/notebooks/data_table.ipynb>data table notebook</a>'\n",
              "            + ' to learn more about interactive tables.';\n",
              "          element.innerHTML = '';\n",
              "          dataTable['output_type'] = 'display_data';\n",
              "          await google.colab.output.renderOutput(dataTable, element);\n",
              "          const docLink = document.createElement('div');\n",
              "          docLink.innerHTML = docLinkHtml;\n",
              "          element.appendChild(docLink);\n",
              "        }\n",
              "      </script>\n",
              "    </div>\n",
              "  </div>\n",
              "  "
            ]
          },
          "metadata": {},
          "execution_count": 531
        }
      ]
    },
    {
      "cell_type": "markdown",
      "source": [
        "*Se aplican las métricas de RMSE, MSE y R2*"
      ],
      "metadata": {
        "id": "IEayyGkYZ7zO"
      }
    },
    {
      "cell_type": "code",
      "source": [
        "# RMSE - Para cada punto entre el real y prediccion \n",
        "rmse_ols = mean_squared_error(\n",
        "            y_true  = y_test,\n",
        "            y_pred  = predicciones,\n",
        "            squared = True\n",
        "           )\n",
        "print(\"\")\n",
        "print(f\"La raiz del error cuadrático medio de test es: {rmse_ols}\")"
      ],
      "metadata": {
        "colab": {
          "base_uri": "https://localhost:8080/"
        },
        "id": "SLEN_zYpcn9O",
        "outputId": "d6aaebe8-0a68-4f5d-9939-af97bb658837"
      },
      "execution_count": null,
      "outputs": [
        {
          "output_type": "stream",
          "name": "stdout",
          "text": [
            "\n",
            "La raiz del error cuadrático medio de test es: 39400380.203044936\n"
          ]
        }
      ]
    },
    {
      "cell_type": "code",
      "source": [
        "# MSE - Para cada punto entre el real y prediccion \n",
        "rmse_ols = mean_squared_error(\n",
        "            y_true  = y_test,\n",
        "            y_pred  = predicciones,\n",
        "            squared = False\n",
        "           )\n",
        "print(\"\")\n",
        "print(f\"El error cuadrático medio de test es: {rmse_ols}\")"
      ],
      "metadata": {
        "colab": {
          "base_uri": "https://localhost:8080/"
        },
        "id": "ksM1M_Q1IVbk",
        "outputId": "21820ba3-8a28-4152-a013-ef639f07447e"
      },
      "execution_count": null,
      "outputs": [
        {
          "output_type": "stream",
          "name": "stdout",
          "text": [
            "\n",
            "El error cuadrático medio de test es: 6276.972216207822\n"
          ]
        }
      ]
    },
    {
      "cell_type": "code",
      "source": [
        "# Revisa la medida de R^2 de la regresión anterior\n",
        "modelo.score(X_train,y_train)"
      ],
      "metadata": {
        "colab": {
          "base_uri": "https://localhost:8080/"
        },
        "id": "DtEaPxs1IeHt",
        "outputId": "fa1ffcfb-43d2-4489-b25c-41f7d6250e54"
      },
      "execution_count": null,
      "outputs": [
        {
          "output_type": "execute_result",
          "data": {
            "text/plain": [
              "0.7190746443069105"
            ]
          },
          "metadata": {},
          "execution_count": 534
        }
      ]
    },
    {
      "cell_type": "code",
      "source": [
        "modelo.score(X_test,y_test)"
      ],
      "metadata": {
        "colab": {
          "base_uri": "https://localhost:8080/"
        },
        "id": "mOoXr38BJ-oH",
        "outputId": "86f87390-cf37-4cd5-de5b-779829bc05e3"
      },
      "execution_count": null,
      "outputs": [
        {
          "output_type": "execute_result",
          "data": {
            "text/plain": [
              "0.6349384074220812"
            ]
          },
          "metadata": {},
          "execution_count": 535
        }
      ]
    },
    {
      "cell_type": "markdown",
      "metadata": {
        "id": "qLZeFGAAJpZf"
      },
      "source": [
        "# **Fin de la parte 1**\n",
        "---"
      ]
    },
    {
      "cell_type": "markdown",
      "metadata": {
        "id": "4EU38Rc-2zR7"
      },
      "source": [
        "## **Segunda parte**\n",
        "\n",
        "El equipo que te ha compartido la información te ha proporcionado un nuevo archivo, el cual puedes descargar de este *link*: https://drive.google.com/file/d/1qZsrAcB-02Z-8RA6wHzG2ZpJvYOFrTwp/view?usp=sharing\n",
        "\n",
        "Es exactamente el mismo archivo de la **parte 1**, aunque ahora incluye una nueva columna, llamada `Contratado`, la cual tiene un `1` si el postulante fue contratado y un `0` si no lo fue.\n",
        "\n",
        "En esta parte deberás hacer un modelo de clasificación que pueda predecir si un postulante será contrato o no, de acuerdo con las variables que te han compartido.\n",
        "\n",
        "### Criterios de evaluación:\n",
        "- Modelar la regresión logística correctamente (**2 puntos**):\n",
        "  - hacer _dummies_ a valores categóricos,\n",
        "  - «splitear» _dataframe_, \n",
        "  - estandarizar conjuntos, \n",
        "  - aplicar modelo, \n",
        "  - entrenar con conjunto de entrenamiento, \n",
        "  - predecir con conjunto de pruebas.\n",
        "\n",
        "> **Nota:** Si falta alguno de los 3 puntos finales (aplicar modelo, entrenar con conjunto de entrenamiento y predecir con conjunto de pruebas) se descontará **un punto**.\n",
        "\n",
        "- Aplicar cuadro de confusión y medir la precisión (**2 puntos**).\n",
        "- Graficar un mapa de calor del cuadro de confusión (**2 puntos**).\n",
        "- Aplicar un modelo de clasificación diferente (el que quieras) e indicar su precisión\n",
        "- Graficar un mapa de calor del cuadro de confusión del nuevo modelo (**2 puntos**).\n",
        "\n",
        "> **Nota:** Las gráficas generadas deberán tener título y rótulos en sus ejes, de lo contrario, se descontará **un punto**.\n",
        "\n",
        "> En el caso de las métricas, deberás indicar qué significan; puedes hacerlo a través de un comentario o imprimiéndolo directamente en pantalla.\n"
      ]
    },
    {
      "cell_type": "markdown",
      "metadata": {
        "id": "XiylrrFuKW8e"
      },
      "source": [
        "# **Desarrollo de la parte númer 2**\n",
        "\n",
        "---"
      ]
    },
    {
      "cell_type": "markdown",
      "source": [
        "Ahora se realizará una regresión logística a una nueva DF llamada df2"
      ],
      "metadata": {
        "id": "ek-vim6ffNic"
      }
    },
    {
      "cell_type": "code",
      "execution_count": null,
      "metadata": {
        "id": "gTLIQajJKeL1"
      },
      "outputs": [],
      "source": [
        "# Importar datos\n",
        "df2 = pd.read_csv('/content/drive/MyDrive/UCamp/rrhh_2.csv')\n"
      ]
    },
    {
      "cell_type": "code",
      "execution_count": null,
      "metadata": {
        "id": "wTyD9feeKeuI",
        "colab": {
          "base_uri": "https://localhost:8080/",
          "height": 206
        },
        "outputId": "7cfbca9b-1674-412a-8c33-e14d4392e8e7"
      },
      "outputs": [
        {
          "output_type": "execute_result",
          "data": {
            "text/plain": [
              "   Experiencia     Posicion  Hijos  Casado     Educacion  Salario  Contratado\n",
              "0          0.5     Analista      4       1  Bachillerato    13540           1\n",
              "1          5.6     Analista      2       0  Licenciatura    31240           0\n",
              "2         11.7     Analista      1       0  Licenciatura    63880           0\n",
              "3          5.2     Analista      2       1  Licenciatura    29960           1\n",
              "4          7.2  Coordinador      2       1  Licenciatura    34710           1"
            ],
            "text/html": [
              "\n",
              "  <div id=\"df-cef21210-0fde-4c0c-801a-a0777647ab0a\">\n",
              "    <div class=\"colab-df-container\">\n",
              "      <div>\n",
              "<style scoped>\n",
              "    .dataframe tbody tr th:only-of-type {\n",
              "        vertical-align: middle;\n",
              "    }\n",
              "\n",
              "    .dataframe tbody tr th {\n",
              "        vertical-align: top;\n",
              "    }\n",
              "\n",
              "    .dataframe thead th {\n",
              "        text-align: right;\n",
              "    }\n",
              "</style>\n",
              "<table border=\"1\" class=\"dataframe\">\n",
              "  <thead>\n",
              "    <tr style=\"text-align: right;\">\n",
              "      <th></th>\n",
              "      <th>Experiencia</th>\n",
              "      <th>Posicion</th>\n",
              "      <th>Hijos</th>\n",
              "      <th>Casado</th>\n",
              "      <th>Educacion</th>\n",
              "      <th>Salario</th>\n",
              "      <th>Contratado</th>\n",
              "    </tr>\n",
              "  </thead>\n",
              "  <tbody>\n",
              "    <tr>\n",
              "      <th>0</th>\n",
              "      <td>0.5</td>\n",
              "      <td>Analista</td>\n",
              "      <td>4</td>\n",
              "      <td>1</td>\n",
              "      <td>Bachillerato</td>\n",
              "      <td>13540</td>\n",
              "      <td>1</td>\n",
              "    </tr>\n",
              "    <tr>\n",
              "      <th>1</th>\n",
              "      <td>5.6</td>\n",
              "      <td>Analista</td>\n",
              "      <td>2</td>\n",
              "      <td>0</td>\n",
              "      <td>Licenciatura</td>\n",
              "      <td>31240</td>\n",
              "      <td>0</td>\n",
              "    </tr>\n",
              "    <tr>\n",
              "      <th>2</th>\n",
              "      <td>11.7</td>\n",
              "      <td>Analista</td>\n",
              "      <td>1</td>\n",
              "      <td>0</td>\n",
              "      <td>Licenciatura</td>\n",
              "      <td>63880</td>\n",
              "      <td>0</td>\n",
              "    </tr>\n",
              "    <tr>\n",
              "      <th>3</th>\n",
              "      <td>5.2</td>\n",
              "      <td>Analista</td>\n",
              "      <td>2</td>\n",
              "      <td>1</td>\n",
              "      <td>Licenciatura</td>\n",
              "      <td>29960</td>\n",
              "      <td>1</td>\n",
              "    </tr>\n",
              "    <tr>\n",
              "      <th>4</th>\n",
              "      <td>7.2</td>\n",
              "      <td>Coordinador</td>\n",
              "      <td>2</td>\n",
              "      <td>1</td>\n",
              "      <td>Licenciatura</td>\n",
              "      <td>34710</td>\n",
              "      <td>1</td>\n",
              "    </tr>\n",
              "  </tbody>\n",
              "</table>\n",
              "</div>\n",
              "      <button class=\"colab-df-convert\" onclick=\"convertToInteractive('df-cef21210-0fde-4c0c-801a-a0777647ab0a')\"\n",
              "              title=\"Convert this dataframe to an interactive table.\"\n",
              "              style=\"display:none;\">\n",
              "        \n",
              "  <svg xmlns=\"http://www.w3.org/2000/svg\" height=\"24px\"viewBox=\"0 0 24 24\"\n",
              "       width=\"24px\">\n",
              "    <path d=\"M0 0h24v24H0V0z\" fill=\"none\"/>\n",
              "    <path d=\"M18.56 5.44l.94 2.06.94-2.06 2.06-.94-2.06-.94-.94-2.06-.94 2.06-2.06.94zm-11 1L8.5 8.5l.94-2.06 2.06-.94-2.06-.94L8.5 2.5l-.94 2.06-2.06.94zm10 10l.94 2.06.94-2.06 2.06-.94-2.06-.94-.94-2.06-.94 2.06-2.06.94z\"/><path d=\"M17.41 7.96l-1.37-1.37c-.4-.4-.92-.59-1.43-.59-.52 0-1.04.2-1.43.59L10.3 9.45l-7.72 7.72c-.78.78-.78 2.05 0 2.83L4 21.41c.39.39.9.59 1.41.59.51 0 1.02-.2 1.41-.59l7.78-7.78 2.81-2.81c.8-.78.8-2.07 0-2.86zM5.41 20L4 18.59l7.72-7.72 1.47 1.35L5.41 20z\"/>\n",
              "  </svg>\n",
              "      </button>\n",
              "      \n",
              "  <style>\n",
              "    .colab-df-container {\n",
              "      display:flex;\n",
              "      flex-wrap:wrap;\n",
              "      gap: 12px;\n",
              "    }\n",
              "\n",
              "    .colab-df-convert {\n",
              "      background-color: #E8F0FE;\n",
              "      border: none;\n",
              "      border-radius: 50%;\n",
              "      cursor: pointer;\n",
              "      display: none;\n",
              "      fill: #1967D2;\n",
              "      height: 32px;\n",
              "      padding: 0 0 0 0;\n",
              "      width: 32px;\n",
              "    }\n",
              "\n",
              "    .colab-df-convert:hover {\n",
              "      background-color: #E2EBFA;\n",
              "      box-shadow: 0px 1px 2px rgba(60, 64, 67, 0.3), 0px 1px 3px 1px rgba(60, 64, 67, 0.15);\n",
              "      fill: #174EA6;\n",
              "    }\n",
              "\n",
              "    [theme=dark] .colab-df-convert {\n",
              "      background-color: #3B4455;\n",
              "      fill: #D2E3FC;\n",
              "    }\n",
              "\n",
              "    [theme=dark] .colab-df-convert:hover {\n",
              "      background-color: #434B5C;\n",
              "      box-shadow: 0px 1px 3px 1px rgba(0, 0, 0, 0.15);\n",
              "      filter: drop-shadow(0px 1px 2px rgba(0, 0, 0, 0.3));\n",
              "      fill: #FFFFFF;\n",
              "    }\n",
              "  </style>\n",
              "\n",
              "      <script>\n",
              "        const buttonEl =\n",
              "          document.querySelector('#df-cef21210-0fde-4c0c-801a-a0777647ab0a button.colab-df-convert');\n",
              "        buttonEl.style.display =\n",
              "          google.colab.kernel.accessAllowed ? 'block' : 'none';\n",
              "\n",
              "        async function convertToInteractive(key) {\n",
              "          const element = document.querySelector('#df-cef21210-0fde-4c0c-801a-a0777647ab0a');\n",
              "          const dataTable =\n",
              "            await google.colab.kernel.invokeFunction('convertToInteractive',\n",
              "                                                     [key], {});\n",
              "          if (!dataTable) return;\n",
              "\n",
              "          const docLinkHtml = 'Like what you see? Visit the ' +\n",
              "            '<a target=\"_blank\" href=https://colab.research.google.com/notebooks/data_table.ipynb>data table notebook</a>'\n",
              "            + ' to learn more about interactive tables.';\n",
              "          element.innerHTML = '';\n",
              "          dataTable['output_type'] = 'display_data';\n",
              "          await google.colab.output.renderOutput(dataTable, element);\n",
              "          const docLink = document.createElement('div');\n",
              "          docLink.innerHTML = docLinkHtml;\n",
              "          element.appendChild(docLink);\n",
              "        }\n",
              "      </script>\n",
              "    </div>\n",
              "  </div>\n",
              "  "
            ]
          },
          "metadata": {},
          "execution_count": 537
        }
      ],
      "source": [
        "df2.head()"
      ]
    },
    {
      "cell_type": "markdown",
      "source": [
        "*Igual al anterior ejercicio comenzamos por limpiar outliers*"
      ],
      "metadata": {
        "id": "xN3mOgwhfcZK"
      }
    },
    {
      "cell_type": "code",
      "source": [
        "df2.plot(kind=\"box\")"
      ],
      "metadata": {
        "id": "IpeFeMeUVdx0",
        "colab": {
          "base_uri": "https://localhost:8080/",
          "height": 283
        },
        "outputId": "71495507-8c33-4fd6-c77b-ff72a7d36fd4"
      },
      "execution_count": null,
      "outputs": [
        {
          "output_type": "execute_result",
          "data": {
            "text/plain": [
              "<matplotlib.axes._subplots.AxesSubplot at 0x7ff0d2a7e110>"
            ]
          },
          "metadata": {},
          "execution_count": 538
        },
        {
          "output_type": "display_data",
          "data": {
            "text/plain": [
              "<Figure size 432x288 with 1 Axes>"
            ],
            "image/png": "[encoded data removed]"
          },
          "metadata": {
            "needs_background": "light"
          }
        }
      ]
    },
    {
      "cell_type": "code",
      "source": [
        "df2['Salario'].plot(kind='box', figsize=(8, 5))\n",
        "plt.title('Box plot')\n",
        "plt.ylabel('Salario')\n",
        "plt.show()"
      ],
      "metadata": {
        "id": "3DXj_Ws2VlWa",
        "colab": {
          "base_uri": "https://localhost:8080/",
          "height": 336
        },
        "outputId": "ec2f8bc7-8e0e-4e8b-d162-e9fe7cf6a74a"
      },
      "execution_count": null,
      "outputs": [
        {
          "output_type": "display_data",
          "data": {
            "text/plain": [
              "<Figure size 576x360 with 1 Axes>"
            ],
            "image/png": "[encoded data removed]"
          },
          "metadata": {
            "needs_background": "light"
          }
        }
      ]
    },
    {
      "cell_type": "code",
      "source": [
        "q1 = df2['Salario'].quantile(0.25)\n",
        "q3 = df2['Salario'].quantile(0.75)\n",
        "iqr = q3-q1 #Interquartile range    #*   Q1 (25%)     #*   Q3 (75%)    #*   IQR = Q3 - Q1     \n",
        "lowV = q1-1.5*iqr\n",
        "highV = q3+1.5*iqr\n",
        "\n",
        "df2 = df2.loc[(df2['Salario'] > lowV) & (df2['Salario'] < highV)]"
      ],
      "metadata": {
        "id": "JMcllUB-Vu4F"
      },
      "execution_count": null,
      "outputs": []
    },
    {
      "cell_type": "code",
      "source": [
        "df2['Salario'].plot(kind='box', figsize=(6, 5))\n",
        "plt.title('Box plot')\n",
        "plt.ylabel('Salario')\n",
        "plt.show()"
      ],
      "metadata": {
        "colab": {
          "base_uri": "https://localhost:8080/",
          "height": 336
        },
        "id": "V06i54EPV1Lg",
        "outputId": "fa8c4a57-2574-4ce6-8e39-e43d1dd8ff15"
      },
      "execution_count": null,
      "outputs": [
        {
          "output_type": "display_data",
          "data": {
            "text/plain": [
              "<Figure size 432x360 with 1 Axes>"
            ],
            "image/png": "[encoded data removed]"
          },
          "metadata": {
            "needs_background": "light"
          }
        }
      ]
    },
    {
      "cell_type": "code",
      "source": [
        "df2.head()"
      ],
      "metadata": {
        "colab": {
          "base_uri": "https://localhost:8080/",
          "height": 206
        },
        "id": "4XClx6Gn2bwD",
        "outputId": "f75c1d6f-52ca-4c9f-b712-319e565258bb"
      },
      "execution_count": null,
      "outputs": [
        {
          "output_type": "execute_result",
          "data": {
            "text/plain": [
              "   Experiencia     Posicion  Hijos  Casado     Educacion  Salario  Contratado\n",
              "0          0.5     Analista      4       1  Bachillerato    13540           1\n",
              "1          5.6     Analista      2       0  Licenciatura    31240           0\n",
              "3          5.2     Analista      2       1  Licenciatura    29960           1\n",
              "4          7.2  Coordinador      2       1  Licenciatura    34710           1\n",
              "5          7.2     Analista      2       1  Bachillerato    32210           0"
            ],
            "text/html": [
              "\n",
              "  <div id=\"df-e0173120-1027-451b-9070-31e1a47fa217\">\n",
              "    <div class=\"colab-df-container\">\n",
              "      <div>\n",
              "<style scoped>\n",
              "    .dataframe tbody tr th:only-of-type {\n",
              "        vertical-align: middle;\n",
              "    }\n",
              "\n",
              "    .dataframe tbody tr th {\n",
              "        vertical-align: top;\n",
              "    }\n",
              "\n",
              "    .dataframe thead th {\n",
              "        text-align: right;\n",
              "    }\n",
              "</style>\n",
              "<table border=\"1\" class=\"dataframe\">\n",
              "  <thead>\n",
              "    <tr style=\"text-align: right;\">\n",
              "      <th></th>\n",
              "      <th>Experiencia</th>\n",
              "      <th>Posicion</th>\n",
              "      <th>Hijos</th>\n",
              "      <th>Casado</th>\n",
              "      <th>Educacion</th>\n",
              "      <th>Salario</th>\n",
              "      <th>Contratado</th>\n",
              "    </tr>\n",
              "  </thead>\n",
              "  <tbody>\n",
              "    <tr>\n",
              "      <th>0</th>\n",
              "      <td>0.5</td>\n",
              "      <td>Analista</td>\n",
              "      <td>4</td>\n",
              "      <td>1</td>\n",
              "      <td>Bachillerato</td>\n",
              "      <td>13540</td>\n",
              "      <td>1</td>\n",
              "    </tr>\n",
              "    <tr>\n",
              "      <th>1</th>\n",
              "      <td>5.6</td>\n",
              "      <td>Analista</td>\n",
              "      <td>2</td>\n",
              "      <td>0</td>\n",
              "      <td>Licenciatura</td>\n",
              "      <td>31240</td>\n",
              "      <td>0</td>\n",
              "    </tr>\n",
              "    <tr>\n",
              "      <th>3</th>\n",
              "      <td>5.2</td>\n",
              "      <td>Analista</td>\n",
              "      <td>2</td>\n",
              "      <td>1</td>\n",
              "      <td>Licenciatura</td>\n",
              "      <td>29960</td>\n",
              "      <td>1</td>\n",
              "    </tr>\n",
              "    <tr>\n",
              "      <th>4</th>\n",
              "      <td>7.2</td>\n",
              "      <td>Coordinador</td>\n",
              "      <td>2</td>\n",
              "      <td>1</td>\n",
              "      <td>Licenciatura</td>\n",
              "      <td>34710</td>\n",
              "      <td>1</td>\n",
              "    </tr>\n",
              "    <tr>\n",
              "      <th>5</th>\n",
              "      <td>7.2</td>\n",
              "      <td>Analista</td>\n",
              "      <td>2</td>\n",
              "      <td>1</td>\n",
              "      <td>Bachillerato</td>\n",
              "      <td>32210</td>\n",
              "      <td>0</td>\n",
              "    </tr>\n",
              "  </tbody>\n",
              "</table>\n",
              "</div>\n",
              "      <button class=\"colab-df-convert\" onclick=\"convertToInteractive('df-e0173120-1027-451b-9070-31e1a47fa217')\"\n",
              "              title=\"Convert this dataframe to an interactive table.\"\n",
              "              style=\"display:none;\">\n",
              "        \n",
              "  <svg xmlns=\"http://www.w3.org/2000/svg\" height=\"24px\"viewBox=\"0 0 24 24\"\n",
              "       width=\"24px\">\n",
              "    <path d=\"M0 0h24v24H0V0z\" fill=\"none\"/>\n",
              "    <path d=\"M18.56 5.44l.94 2.06.94-2.06 2.06-.94-2.06-.94-.94-2.06-.94 2.06-2.06.94zm-11 1L8.5 8.5l.94-2.06 2.06-.94-2.06-.94L8.5 2.5l-.94 2.06-2.06.94zm10 10l.94 2.06.94-2.06 2.06-.94-2.06-.94-.94-2.06-.94 2.06-2.06.94z\"/><path d=\"M17.41 7.96l-1.37-1.37c-.4-.4-.92-.59-1.43-.59-.52 0-1.04.2-1.43.59L10.3 9.45l-7.72 7.72c-.78.78-.78 2.05 0 2.83L4 21.41c.39.39.9.59 1.41.59.51 0 1.02-.2 1.41-.59l7.78-7.78 2.81-2.81c.8-.78.8-2.07 0-2.86zM5.41 20L4 18.59l7.72-7.72 1.47 1.35L5.41 20z\"/>\n",
              "  </svg>\n",
              "      </button>\n",
              "      \n",
              "  <style>\n",
              "    .colab-df-container {\n",
              "      display:flex;\n",
              "      flex-wrap:wrap;\n",
              "      gap: 12px;\n",
              "    }\n",
              "\n",
              "    .colab-df-convert {\n",
              "      background-color: #E8F0FE;\n",
              "      border: none;\n",
              "      border-radius: 50%;\n",
              "      cursor: pointer;\n",
              "      display: none;\n",
              "      fill: #1967D2;\n",
              "      height: 32px;\n",
              "      padding: 0 0 0 0;\n",
              "      width: 32px;\n",
              "    }\n",
              "\n",
              "    .colab-df-convert:hover {\n",
              "      background-color: #E2EBFA;\n",
              "      box-shadow: 0px 1px 2px rgba(60, 64, 67, 0.3), 0px 1px 3px 1px rgba(60, 64, 67, 0.15);\n",
              "      fill: #174EA6;\n",
              "    }\n",
              "\n",
              "    [theme=dark] .colab-df-convert {\n",
              "      background-color: #3B4455;\n",
              "      fill: #D2E3FC;\n",
              "    }\n",
              "\n",
              "    [theme=dark] .colab-df-convert:hover {\n",
              "      background-color: #434B5C;\n",
              "      box-shadow: 0px 1px 3px 1px rgba(0, 0, 0, 0.15);\n",
              "      filter: drop-shadow(0px 1px 2px rgba(0, 0, 0, 0.3));\n",
              "      fill: #FFFFFF;\n",
              "    }\n",
              "  </style>\n",
              "\n",
              "      <script>\n",
              "        const buttonEl =\n",
              "          document.querySelector('#df-e0173120-1027-451b-9070-31e1a47fa217 button.colab-df-convert');\n",
              "        buttonEl.style.display =\n",
              "          google.colab.kernel.accessAllowed ? 'block' : 'none';\n",
              "\n",
              "        async function convertToInteractive(key) {\n",
              "          const element = document.querySelector('#df-e0173120-1027-451b-9070-31e1a47fa217');\n",
              "          const dataTable =\n",
              "            await google.colab.kernel.invokeFunction('convertToInteractive',\n",
              "                                                     [key], {});\n",
              "          if (!dataTable) return;\n",
              "\n",
              "          const docLinkHtml = 'Like what you see? Visit the ' +\n",
              "            '<a target=\"_blank\" href=https://colab.research.google.com/notebooks/data_table.ipynb>data table notebook</a>'\n",
              "            + ' to learn more about interactive tables.';\n",
              "          element.innerHTML = '';\n",
              "          dataTable['output_type'] = 'display_data';\n",
              "          await google.colab.output.renderOutput(dataTable, element);\n",
              "          const docLink = document.createElement('div');\n",
              "          docLink.innerHTML = docLinkHtml;\n",
              "          element.appendChild(docLink);\n",
              "        }\n",
              "      </script>\n",
              "    </div>\n",
              "  </div>\n",
              "  "
            ]
          },
          "metadata": {},
          "execution_count": 542
        }
      ]
    },
    {
      "cell_type": "markdown",
      "source": [
        "*Aplicaremos dummies a las variables categóricas de la df2*"
      ],
      "metadata": {
        "id": "r_Qr-EQFfrUM"
      }
    },
    {
      "cell_type": "code",
      "execution_count": null,
      "metadata": {
        "id": "05FqKsM2Kewe"
      },
      "outputs": [],
      "source": [
        "#hacer dummies a valores categóricos,\n",
        "#Aplicamos la función dummie para la variable categorica de Posición\n",
        "df2 = pd.get_dummies(data = df2, columns=['Posicion'])"
      ]
    },
    {
      "cell_type": "code",
      "source": [
        "df2.head()"
      ],
      "metadata": {
        "colab": {
          "base_uri": "https://localhost:8080/",
          "height": 206
        },
        "id": "xyoJL-6kWOsK",
        "outputId": "83ed5db4-bf43-4c95-cfdb-50fb37a1fcf3"
      },
      "execution_count": null,
      "outputs": [
        {
          "output_type": "execute_result",
          "data": {
            "text/plain": [
              "   Experiencia  Hijos  Casado     Educacion  Salario  Contratado  \\\n",
              "0          0.5      4       1  Bachillerato    13540           1   \n",
              "1          5.6      2       0  Licenciatura    31240           0   \n",
              "3          5.2      2       1  Licenciatura    29960           1   \n",
              "4          7.2      2       1  Licenciatura    34710           1   \n",
              "5          7.2      2       1  Bachillerato    32210           0   \n",
              "\n",
              "   Posicion_Analista  Posicion_Coordinador  Posicion_Gerente  \n",
              "0                  1                     0                 0  \n",
              "1                  1                     0                 0  \n",
              "3                  1                     0                 0  \n",
              "4                  0                     1                 0  \n",
              "5                  1                     0                 0  "
            ],
            "text/html": [
              "\n",
              "  <div id=\"df-5b494586-3d25-4cbd-90c0-1738390e8a63\">\n",
              "    <div class=\"colab-df-container\">\n",
              "      <div>\n",
              "<style scoped>\n",
              "    .dataframe tbody tr th:only-of-type {\n",
              "        vertical-align: middle;\n",
              "    }\n",
              "\n",
              "    .dataframe tbody tr th {\n",
              "        vertical-align: top;\n",
              "    }\n",
              "\n",
              "    .dataframe thead th {\n",
              "        text-align: right;\n",
              "    }\n",
              "</style>\n",
              "<table border=\"1\" class=\"dataframe\">\n",
              "  <thead>\n",
              "    <tr style=\"text-align: right;\">\n",
              "      <th></th>\n",
              "      <th>Experiencia</th>\n",
              "      <th>Hijos</th>\n",
              "      <th>Casado</th>\n",
              "      <th>Educacion</th>\n",
              "      <th>Salario</th>\n",
              "      <th>Contratado</th>\n",
              "      <th>Posicion_Analista</th>\n",
              "      <th>Posicion_Coordinador</th>\n",
              "      <th>Posicion_Gerente</th>\n",
              "    </tr>\n",
              "  </thead>\n",
              "  <tbody>\n",
              "    <tr>\n",
              "      <th>0</th>\n",
              "      <td>0.5</td>\n",
              "      <td>4</td>\n",
              "      <td>1</td>\n",
              "      <td>Bachillerato</td>\n",
              "      <td>13540</td>\n",
              "      <td>1</td>\n",
              "      <td>1</td>\n",
              "      <td>0</td>\n",
              "      <td>0</td>\n",
              "    </tr>\n",
              "    <tr>\n",
              "      <th>1</th>\n",
              "      <td>5.6</td>\n",
              "      <td>2</td>\n",
              "      <td>0</td>\n",
              "      <td>Licenciatura</td>\n",
              "      <td>31240</td>\n",
              "      <td>0</td>\n",
              "      <td>1</td>\n",
              "      <td>0</td>\n",
              "      <td>0</td>\n",
              "    </tr>\n",
              "    <tr>\n",
              "      <th>3</th>\n",
              "      <td>5.2</td>\n",
              "      <td>2</td>\n",
              "      <td>1</td>\n",
              "      <td>Licenciatura</td>\n",
              "      <td>29960</td>\n",
              "      <td>1</td>\n",
              "      <td>1</td>\n",
              "      <td>0</td>\n",
              "      <td>0</td>\n",
              "    </tr>\n",
              "    <tr>\n",
              "      <th>4</th>\n",
              "      <td>7.2</td>\n",
              "      <td>2</td>\n",
              "      <td>1</td>\n",
              "      <td>Licenciatura</td>\n",
              "      <td>34710</td>\n",
              "      <td>1</td>\n",
              "      <td>0</td>\n",
              "      <td>1</td>\n",
              "      <td>0</td>\n",
              "    </tr>\n",
              "    <tr>\n",
              "      <th>5</th>\n",
              "      <td>7.2</td>\n",
              "      <td>2</td>\n",
              "      <td>1</td>\n",
              "      <td>Bachillerato</td>\n",
              "      <td>32210</td>\n",
              "      <td>0</td>\n",
              "      <td>1</td>\n",
              "      <td>0</td>\n",
              "      <td>0</td>\n",
              "    </tr>\n",
              "  </tbody>\n",
              "</table>\n",
              "</div>\n",
              "      <button class=\"colab-df-convert\" onclick=\"convertToInteractive('df-5b494586-3d25-4cbd-90c0-1738390e8a63')\"\n",
              "              title=\"Convert this dataframe to an interactive table.\"\n",
              "              style=\"display:none;\">\n",
              "        \n",
              "  <svg xmlns=\"http://www.w3.org/2000/svg\" height=\"24px\"viewBox=\"0 0 24 24\"\n",
              "       width=\"24px\">\n",
              "    <path d=\"M0 0h24v24H0V0z\" fill=\"none\"/>\n",
              "    <path d=\"M18.56 5.44l.94 2.06.94-2.06 2.06-.94-2.06-.94-.94-2.06-.94 2.06-2.06.94zm-11 1L8.5 8.5l.94-2.06 2.06-.94-2.06-.94L8.5 2.5l-.94 2.06-2.06.94zm10 10l.94 2.06.94-2.06 2.06-.94-2.06-.94-.94-2.06-.94 2.06-2.06.94z\"/><path d=\"M17.41 7.96l-1.37-1.37c-.4-.4-.92-.59-1.43-.59-.52 0-1.04.2-1.43.59L10.3 9.45l-7.72 7.72c-.78.78-.78 2.05 0 2.83L4 21.41c.39.39.9.59 1.41.59.51 0 1.02-.2 1.41-.59l7.78-7.78 2.81-2.81c.8-.78.8-2.07 0-2.86zM5.41 20L4 18.59l7.72-7.72 1.47 1.35L5.41 20z\"/>\n",
              "  </svg>\n",
              "      </button>\n",
              "      \n",
              "  <style>\n",
              "    .colab-df-container {\n",
              "      display:flex;\n",
              "      flex-wrap:wrap;\n",
              "      gap: 12px;\n",
              "    }\n",
              "\n",
              "    .colab-df-convert {\n",
              "      background-color: #E8F0FE;\n",
              "      border: none;\n",
              "      border-radius: 50%;\n",
              "      cursor: pointer;\n",
              "      display: none;\n",
              "      fill: #1967D2;\n",
              "      height: 32px;\n",
              "      padding: 0 0 0 0;\n",
              "      width: 32px;\n",
              "    }\n",
              "\n",
              "    .colab-df-convert:hover {\n",
              "      background-color: #E2EBFA;\n",
              "      box-shadow: 0px 1px 2px rgba(60, 64, 67, 0.3), 0px 1px 3px 1px rgba(60, 64, 67, 0.15);\n",
              "      fill: #174EA6;\n",
              "    }\n",
              "\n",
              "    [theme=dark] .colab-df-convert {\n",
              "      background-color: #3B4455;\n",
              "      fill: #D2E3FC;\n",
              "    }\n",
              "\n",
              "    [theme=dark] .colab-df-convert:hover {\n",
              "      background-color: #434B5C;\n",
              "      box-shadow: 0px 1px 3px 1px rgba(0, 0, 0, 0.15);\n",
              "      filter: drop-shadow(0px 1px 2px rgba(0, 0, 0, 0.3));\n",
              "      fill: #FFFFFF;\n",
              "    }\n",
              "  </style>\n",
              "\n",
              "      <script>\n",
              "        const buttonEl =\n",
              "          document.querySelector('#df-5b494586-3d25-4cbd-90c0-1738390e8a63 button.colab-df-convert');\n",
              "        buttonEl.style.display =\n",
              "          google.colab.kernel.accessAllowed ? 'block' : 'none';\n",
              "\n",
              "        async function convertToInteractive(key) {\n",
              "          const element = document.querySelector('#df-5b494586-3d25-4cbd-90c0-1738390e8a63');\n",
              "          const dataTable =\n",
              "            await google.colab.kernel.invokeFunction('convertToInteractive',\n",
              "                                                     [key], {});\n",
              "          if (!dataTable) return;\n",
              "\n",
              "          const docLinkHtml = 'Like what you see? Visit the ' +\n",
              "            '<a target=\"_blank\" href=https://colab.research.google.com/notebooks/data_table.ipynb>data table notebook</a>'\n",
              "            + ' to learn more about interactive tables.';\n",
              "          element.innerHTML = '';\n",
              "          dataTable['output_type'] = 'display_data';\n",
              "          await google.colab.output.renderOutput(dataTable, element);\n",
              "          const docLink = document.createElement('div');\n",
              "          docLink.innerHTML = docLinkHtml;\n",
              "          element.appendChild(docLink);\n",
              "        }\n",
              "      </script>\n",
              "    </div>\n",
              "  </div>\n",
              "  "
            ]
          },
          "metadata": {},
          "execution_count": 544
        }
      ]
    },
    {
      "cell_type": "code",
      "source": [
        "df2['Educacion'] = labelencoder.fit_transform(df2['Educacion'])"
      ],
      "metadata": {
        "id": "PkrA2tAMWZm0"
      },
      "execution_count": null,
      "outputs": []
    },
    {
      "cell_type": "code",
      "source": [
        "df2.head()"
      ],
      "metadata": {
        "colab": {
          "base_uri": "https://localhost:8080/",
          "height": 206
        },
        "id": "e-PXiz1yWq1X",
        "outputId": "d50eaaef-fecc-4342-9b7a-3f3bc544fb54"
      },
      "execution_count": null,
      "outputs": [
        {
          "output_type": "execute_result",
          "data": {
            "text/plain": [
              "   Experiencia  Hijos  Casado  Educacion  Salario  Contratado  \\\n",
              "0          0.5      4       1          0    13540           1   \n",
              "1          5.6      2       0          1    31240           0   \n",
              "3          5.2      2       1          1    29960           1   \n",
              "4          7.2      2       1          1    34710           1   \n",
              "5          7.2      2       1          0    32210           0   \n",
              "\n",
              "   Posicion_Analista  Posicion_Coordinador  Posicion_Gerente  \n",
              "0                  1                     0                 0  \n",
              "1                  1                     0                 0  \n",
              "3                  1                     0                 0  \n",
              "4                  0                     1                 0  \n",
              "5                  1                     0                 0  "
            ],
            "text/html": [
              "\n",
              "  <div id=\"df-45c86b90-5f1b-4ebc-8d68-dfd315f4668a\">\n",
              "    <div class=\"colab-df-container\">\n",
              "      <div>\n",
              "<style scoped>\n",
              "    .dataframe tbody tr th:only-of-type {\n",
              "        vertical-align: middle;\n",
              "    }\n",
              "\n",
              "    .dataframe tbody tr th {\n",
              "        vertical-align: top;\n",
              "    }\n",
              "\n",
              "    .dataframe thead th {\n",
              "        text-align: right;\n",
              "    }\n",
              "</style>\n",
              "<table border=\"1\" class=\"dataframe\">\n",
              "  <thead>\n",
              "    <tr style=\"text-align: right;\">\n",
              "      <th></th>\n",
              "      <th>Experiencia</th>\n",
              "      <th>Hijos</th>\n",
              "      <th>Casado</th>\n",
              "      <th>Educacion</th>\n",
              "      <th>Salario</th>\n",
              "      <th>Contratado</th>\n",
              "      <th>Posicion_Analista</th>\n",
              "      <th>Posicion_Coordinador</th>\n",
              "      <th>Posicion_Gerente</th>\n",
              "    </tr>\n",
              "  </thead>\n",
              "  <tbody>\n",
              "    <tr>\n",
              "      <th>0</th>\n",
              "      <td>0.5</td>\n",
              "      <td>4</td>\n",
              "      <td>1</td>\n",
              "      <td>0</td>\n",
              "      <td>13540</td>\n",
              "      <td>1</td>\n",
              "      <td>1</td>\n",
              "      <td>0</td>\n",
              "      <td>0</td>\n",
              "    </tr>\n",
              "    <tr>\n",
              "      <th>1</th>\n",
              "      <td>5.6</td>\n",
              "      <td>2</td>\n",
              "      <td>0</td>\n",
              "      <td>1</td>\n",
              "      <td>31240</td>\n",
              "      <td>0</td>\n",
              "      <td>1</td>\n",
              "      <td>0</td>\n",
              "      <td>0</td>\n",
              "    </tr>\n",
              "    <tr>\n",
              "      <th>3</th>\n",
              "      <td>5.2</td>\n",
              "      <td>2</td>\n",
              "      <td>1</td>\n",
              "      <td>1</td>\n",
              "      <td>29960</td>\n",
              "      <td>1</td>\n",
              "      <td>1</td>\n",
              "      <td>0</td>\n",
              "      <td>0</td>\n",
              "    </tr>\n",
              "    <tr>\n",
              "      <th>4</th>\n",
              "      <td>7.2</td>\n",
              "      <td>2</td>\n",
              "      <td>1</td>\n",
              "      <td>1</td>\n",
              "      <td>34710</td>\n",
              "      <td>1</td>\n",
              "      <td>0</td>\n",
              "      <td>1</td>\n",
              "      <td>0</td>\n",
              "    </tr>\n",
              "    <tr>\n",
              "      <th>5</th>\n",
              "      <td>7.2</td>\n",
              "      <td>2</td>\n",
              "      <td>1</td>\n",
              "      <td>0</td>\n",
              "      <td>32210</td>\n",
              "      <td>0</td>\n",
              "      <td>1</td>\n",
              "      <td>0</td>\n",
              "      <td>0</td>\n",
              "    </tr>\n",
              "  </tbody>\n",
              "</table>\n",
              "</div>\n",
              "      <button class=\"colab-df-convert\" onclick=\"convertToInteractive('df-45c86b90-5f1b-4ebc-8d68-dfd315f4668a')\"\n",
              "              title=\"Convert this dataframe to an interactive table.\"\n",
              "              style=\"display:none;\">\n",
              "        \n",
              "  <svg xmlns=\"http://www.w3.org/2000/svg\" height=\"24px\"viewBox=\"0 0 24 24\"\n",
              "       width=\"24px\">\n",
              "    <path d=\"M0 0h24v24H0V0z\" fill=\"none\"/>\n",
              "    <path d=\"M18.56 5.44l.94 2.06.94-2.06 2.06-.94-2.06-.94-.94-2.06-.94 2.06-2.06.94zm-11 1L8.5 8.5l.94-2.06 2.06-.94-2.06-.94L8.5 2.5l-.94 2.06-2.06.94zm10 10l.94 2.06.94-2.06 2.06-.94-2.06-.94-.94-2.06-.94 2.06-2.06.94z\"/><path d=\"M17.41 7.96l-1.37-1.37c-.4-.4-.92-.59-1.43-.59-.52 0-1.04.2-1.43.59L10.3 9.45l-7.72 7.72c-.78.78-.78 2.05 0 2.83L4 21.41c.39.39.9.59 1.41.59.51 0 1.02-.2 1.41-.59l7.78-7.78 2.81-2.81c.8-.78.8-2.07 0-2.86zM5.41 20L4 18.59l7.72-7.72 1.47 1.35L5.41 20z\"/>\n",
              "  </svg>\n",
              "      </button>\n",
              "      \n",
              "  <style>\n",
              "    .colab-df-container {\n",
              "      display:flex;\n",
              "      flex-wrap:wrap;\n",
              "      gap: 12px;\n",
              "    }\n",
              "\n",
              "    .colab-df-convert {\n",
              "      background-color: #E8F0FE;\n",
              "      border: none;\n",
              "      border-radius: 50%;\n",
              "      cursor: pointer;\n",
              "      display: none;\n",
              "      fill: #1967D2;\n",
              "      height: 32px;\n",
              "      padding: 0 0 0 0;\n",
              "      width: 32px;\n",
              "    }\n",
              "\n",
              "    .colab-df-convert:hover {\n",
              "      background-color: #E2EBFA;\n",
              "      box-shadow: 0px 1px 2px rgba(60, 64, 67, 0.3), 0px 1px 3px 1px rgba(60, 64, 67, 0.15);\n",
              "      fill: #174EA6;\n",
              "    }\n",
              "\n",
              "    [theme=dark] .colab-df-convert {\n",
              "      background-color: #3B4455;\n",
              "      fill: #D2E3FC;\n",
              "    }\n",
              "\n",
              "    [theme=dark] .colab-df-convert:hover {\n",
              "      background-color: #434B5C;\n",
              "      box-shadow: 0px 1px 3px 1px rgba(0, 0, 0, 0.15);\n",
              "      filter: drop-shadow(0px 1px 2px rgba(0, 0, 0, 0.3));\n",
              "      fill: #FFFFFF;\n",
              "    }\n",
              "  </style>\n",
              "\n",
              "      <script>\n",
              "        const buttonEl =\n",
              "          document.querySelector('#df-45c86b90-5f1b-4ebc-8d68-dfd315f4668a button.colab-df-convert');\n",
              "        buttonEl.style.display =\n",
              "          google.colab.kernel.accessAllowed ? 'block' : 'none';\n",
              "\n",
              "        async function convertToInteractive(key) {\n",
              "          const element = document.querySelector('#df-45c86b90-5f1b-4ebc-8d68-dfd315f4668a');\n",
              "          const dataTable =\n",
              "            await google.colab.kernel.invokeFunction('convertToInteractive',\n",
              "                                                     [key], {});\n",
              "          if (!dataTable) return;\n",
              "\n",
              "          const docLinkHtml = 'Like what you see? Visit the ' +\n",
              "            '<a target=\"_blank\" href=https://colab.research.google.com/notebooks/data_table.ipynb>data table notebook</a>'\n",
              "            + ' to learn more about interactive tables.';\n",
              "          element.innerHTML = '';\n",
              "          dataTable['output_type'] = 'display_data';\n",
              "          await google.colab.output.renderOutput(dataTable, element);\n",
              "          const docLink = document.createElement('div');\n",
              "          docLink.innerHTML = docLinkHtml;\n",
              "          element.appendChild(docLink);\n",
              "        }\n",
              "      </script>\n",
              "    </div>\n",
              "  </div>\n",
              "  "
            ]
          },
          "metadata": {},
          "execution_count": 546
        }
      ]
    },
    {
      "cell_type": "markdown",
      "source": [
        "*Se realiza la separación de los conjuntos, creando un modelo para saber si el candidato sera contratado o no.*"
      ],
      "metadata": {
        "id": "80LpWDqwf7tc"
      }
    },
    {
      "cell_type": "code",
      "source": [
        "df2.columns"
      ],
      "metadata": {
        "colab": {
          "base_uri": "https://localhost:8080/"
        },
        "id": "Yr5kA5rsXgNQ",
        "outputId": "5a1e0216-3054-481e-a826-7e2700fcb041"
      },
      "execution_count": null,
      "outputs": [
        {
          "output_type": "execute_result",
          "data": {
            "text/plain": [
              "Index(['Experiencia', 'Hijos', 'Casado', 'Educacion', 'Salario', 'Contratado',\n",
              "       'Posicion_Analista', 'Posicion_Coordinador', 'Posicion_Gerente'],\n",
              "      dtype='object')"
            ]
          },
          "metadata": {},
          "execution_count": 547
        }
      ]
    },
    {
      "cell_type": "code",
      "source": [
        "X = df2[['Experiencia', 'Hijos', 'Casado', 'Educacion', 'Salario',\n",
        "       'Posicion_Analista', 'Posicion_Coordinador', 'Posicion_Gerente']]\n",
        "y = df2['Contratado']"
      ],
      "metadata": {
        "id": "QQkDgjl-Wxnj"
      },
      "execution_count": null,
      "outputs": []
    },
    {
      "cell_type": "code",
      "execution_count": null,
      "metadata": {
        "id": "loC982VIKeyi"
      },
      "outputs": [],
      "source": [
        "#«splitear» dataframe,\n",
        "#Spliteamos la orden en conjunto de entrenamiento y en conjunto de pruebas.\n",
        "from sklearn.model_selection import train_test_split\n",
        "X_train, X_test, y_train, y_test = train_test_split(X, y, test_size=0.80, random_state=40)\n"
      ]
    },
    {
      "cell_type": "code",
      "source": [
        "#estandarizar conjuntos,\n",
        "#Escalamos los valores de X.\n",
        "from sklearn.preprocessing import StandardScaler\n",
        "sc_X = StandardScaler()\n",
        "X_train = sc_X.fit_transform(X_train)\n",
        "X_test = sc_X.transform(X_test)"
      ],
      "metadata": {
        "id": "NS13YqEfYtOU"
      },
      "execution_count": null,
      "outputs": []
    },
    {
      "cell_type": "code",
      "source": [
        "#aplicar modelo\n",
        "from sklearn.linear_model import LogisticRegression\n",
        "model = LogisticRegression() #Es importante asignarlo a un objeto para aplicarlo fácilmente."
      ],
      "metadata": {
        "id": "D2s9xbfbY2Ti"
      },
      "execution_count": null,
      "outputs": []
    },
    {
      "cell_type": "code",
      "source": [
        "#entrenar con conjunto de entrenamiento,\n",
        "#Entrenamos el modelo. Usa matrices para aplicar de forma sencilla.\n",
        "model.fit(X_train, y_train)"
      ],
      "metadata": {
        "colab": {
          "base_uri": "https://localhost:8080/"
        },
        "id": "hTH-SjYyY31d",
        "outputId": "00dfe506-19be-4045-b591-d0a0212a8123"
      },
      "execution_count": null,
      "outputs": [
        {
          "output_type": "execute_result",
          "data": {
            "text/plain": [
              "LogisticRegression()"
            ]
          },
          "metadata": {},
          "execution_count": 552
        }
      ]
    },
    {
      "cell_type": "code",
      "source": [
        "#predecir con conjunto de pruebas.\n",
        "y_pred = model.predict(X_test)"
      ],
      "metadata": {
        "id": "tmKb690mY42D"
      },
      "execution_count": null,
      "outputs": []
    },
    {
      "cell_type": "markdown",
      "source": [
        "*Se tiene el modelo entrenado con los conjuntos de entrenamiento, se aplica en las variables dependientes ( 𝑋 ) para obtener unas predicciones ( 𝑦̂  ).*"
      ],
      "metadata": {
        "id": "wfTqD1h2gmIO"
      }
    },
    {
      "cell_type": "code",
      "source": [
        "#Trae valores de 0 y 1\n",
        "y_pred"
      ],
      "metadata": {
        "id": "RfJnHUFNY4w2"
      },
      "execution_count": null,
      "outputs": []
    },
    {
      "cell_type": "markdown",
      "source": [
        "*Ahora mediremos la efectividad del modelo con la matriz de confusión, con los valores de acierto y no acierto.*"
      ],
      "metadata": {
        "id": "iqNU2c3DhGLj"
      }
    },
    {
      "cell_type": "code",
      "source": [
        "#Aplicar cuadro de confusión y medir la precisión (2 puntos).\n",
        "from sklearn.metrics import confusion_matrix\n",
        "cm = confusion_matrix(y_test, y_pred)\n",
        "cm"
      ],
      "metadata": {
        "colab": {
          "base_uri": "https://localhost:8080/"
        },
        "id": "_ViaOOhIaTDq",
        "outputId": "4842af6b-df6f-4bb8-8d14-c8cd5d51b954"
      },
      "execution_count": null,
      "outputs": [
        {
          "output_type": "execute_result",
          "data": {
            "text/plain": [
              "array([[288,  89],\n",
              "       [ 92, 319]])"
            ]
          },
          "metadata": {},
          "execution_count": 555
        }
      ]
    },
    {
      "cell_type": "code",
      "source": [
        "#Graficar un mapa de calor del cuadro de confusión (2 puntos).\n",
        "sns.heatmap(cm, annot= True, fmt= '.0f', cmap= 'Pastel1')\n",
        "plt.title('Matriz de confusión')\n",
        "plt.xlabel('Valor predecido')\n",
        "plt.ylabel('Valor real')\n",
        "plt.show()"
      ],
      "metadata": {
        "colab": {
          "base_uri": "https://localhost:8080/",
          "height": 295
        },
        "id": "jwv5OmRpaXxs",
        "outputId": "533bbdf6-f999-4b1a-b309-a6706b7fd81f"
      },
      "execution_count": null,
      "outputs": [
        {
          "output_type": "display_data",
          "data": {
            "text/plain": [
              "<Figure size 432x288 with 2 Axes>"
            ],
            "image/png": "[encoded data removed]"
          },
          "metadata": {
            "needs_background": "light"
          }
        }
      ]
    },
    {
      "cell_type": "code",
      "source": [
        "#La eficiencia para saber si esta bien clasificado\n",
        "\n",
        "(288 + 319)/(288 + 319 + 92 + 89)\n"
      ],
      "metadata": {
        "colab": {
          "base_uri": "https://localhost:8080/"
        },
        "id": "lwrSvJM1bDzw",
        "outputId": "bd284846-4505-4d41-ec05-a6825e2b26bf"
      },
      "execution_count": null,
      "outputs": [
        {
          "output_type": "execute_result",
          "data": {
            "text/plain": [
              "0.7703045685279187"
            ]
          },
          "metadata": {},
          "execution_count": 565
        }
      ]
    },
    {
      "cell_type": "code",
      "source": [
        "#Aplicar un modelo de clasificación diferente (el que quieras) e indicar su precisión\n",
        "# Importamos el modelo KNN para regresión de la siguiente manera y lo asignamos a un objeto.\n",
        "from sklearn.neighbors import KNeighborsClassifier\n",
        "modelo_knn = KNeighborsClassifier(n_neighbors= 3)"
      ],
      "metadata": {
        "id": "iFFLssDnaZfE"
      },
      "execution_count": null,
      "outputs": []
    },
    {
      "cell_type": "code",
      "source": [
        "#Entrenamos el modelo\n",
        "modelo_knn.fit(X_train, y_train)"
      ],
      "metadata": {
        "colab": {
          "base_uri": "https://localhost:8080/"
        },
        "id": "FPVaZuyacqFR",
        "outputId": "1a56b009-926d-44d7-e7b7-b43a76d6776d"
      },
      "execution_count": null,
      "outputs": [
        {
          "output_type": "execute_result",
          "data": {
            "text/plain": [
              "KNeighborsClassifier(n_neighbors=3)"
            ]
          },
          "metadata": {},
          "execution_count": 559
        }
      ]
    },
    {
      "cell_type": "code",
      "source": [
        "y_pred_knn = modelo_knn.predict(X_test)\n",
        "cm_knn = confusion_matrix(y_test, y_pred_knn)\n",
        "cm_knn"
      ],
      "metadata": {
        "colab": {
          "base_uri": "https://localhost:8080/"
        },
        "id": "k89CXB2ba9U5",
        "outputId": "3440d089-babc-4f96-fafe-eb39e801bd06"
      },
      "execution_count": null,
      "outputs": [
        {
          "output_type": "execute_result",
          "data": {
            "text/plain": [
              "array([[302,  75],\n",
              "       [ 70, 341]])"
            ]
          },
          "metadata": {},
          "execution_count": 560
        }
      ]
    },
    {
      "cell_type": "code",
      "source": [
        "#Graficar un mapa de calor del cuadro de confusión del nuevo modelo (2 puntos)."
      ],
      "metadata": {
        "id": "iByFCUr1abZN"
      },
      "execution_count": null,
      "outputs": []
    },
    {
      "cell_type": "code",
      "source": [
        "sns.heatmap(cm_knn, annot= True, fmt= '.0f', cmap= 'Pastel2')\n",
        "plt.title('Matriz de confusión')\n",
        "plt.xlabel('Valor predecido')\n",
        "plt.ylabel('Valor real')\n",
        "plt.show()"
      ],
      "metadata": {
        "colab": {
          "base_uri": "https://localhost:8080/",
          "height": 295
        },
        "id": "h3oiVGW6a9Nm",
        "outputId": "4edb0264-3753-4533-b5e3-f02ca5d9d1ae"
      },
      "execution_count": null,
      "outputs": [
        {
          "output_type": "display_data",
          "data": {
            "text/plain": [
              "<Figure size 432x288 with 2 Axes>"
            ],
            "image/png": "[encoded data removed]"
          },
          "metadata": {
            "needs_background": "light"
          }
        }
      ]
    },
    {
      "cell_type": "code",
      "source": [
        "#La eficiencia para saber si esta bien clasificado\n",
        "\n",
        "(302 + 341)/(302 + 341 + 75 + 70)  "
      ],
      "metadata": {
        "colab": {
          "base_uri": "https://localhost:8080/"
        },
        "id": "jd3nmfUScyJI",
        "outputId": "acab63c8-dac9-4215-9d7a-9a88495020f3"
      },
      "execution_count": null,
      "outputs": [
        {
          "output_type": "execute_result",
          "data": {
            "text/plain": [
              "0.815989847715736"
            ]
          },
          "metadata": {},
          "execution_count": 567
        }
      ]
    },
    {
      "cell_type": "markdown",
      "metadata": {
        "id": "Qurx0ht5Kj65"
      },
      "source": [
        "# **Fin de la parte 2**\n",
        "---"
      ]
    },
    {
      "cell_type": "markdown",
      "metadata": {
        "id": "483wllovbh4S"
      },
      "source": [
        "\n",
        "> **Punto extra**\n",
        "\n",
        "\n",
        "Indica el F1 *score* para los modelos de clasificación que has hecho y explícalos.\n",
        "\n",
        "*Este* tema lo puedes revisar nuevamente en tu curso de la semana 11."
      ]
    },
    {
      "cell_type": "markdown",
      "source": [],
      "metadata": {
        "id": "4rv6JpfdkJMu"
      }
    },
    {
      "cell_type": "code",
      "execution_count": null,
      "metadata": {
        "id": "32G8TCK3Kpf5"
      },
      "outputs": [],
      "source": [
        "#@title Se aplicará la métrica F1-Score\n",
        "\n",
        "from sklearn.metrics import (precision_score, recall_score, f1_score, confusion_matrix)\n"
      ]
    },
    {
      "cell_type": "markdown",
      "source": [
        "*F1-Score para regresión logística*"
      ],
      "metadata": {
        "id": "qiwTO_M2mfEV"
      }
    },
    {
      "cell_type": "code",
      "source": [
        "print(\"\\tPrecision: %1.3f\" % precision_score(y_test, y_pred))"
      ],
      "metadata": {
        "colab": {
          "base_uri": "https://localhost:8080/"
        },
        "id": "GZUZ7WDtlZde",
        "outputId": "97bb509a-bf45-46e0-e87f-016ec6069d0a"
      },
      "execution_count": null,
      "outputs": [
        {
          "output_type": "stream",
          "name": "stdout",
          "text": [
            "\tPrecision: 0.782\n"
          ]
        }
      ]
    },
    {
      "cell_type": "code",
      "execution_count": null,
      "metadata": {
        "id": "UbyCl__BKp73",
        "colab": {
          "base_uri": "https://localhost:8080/"
        },
        "outputId": "df0392a0-95c3-4d36-b23a-bb14318694d1"
      },
      "outputs": [
        {
          "output_type": "stream",
          "name": "stdout",
          "text": [
            "\tRecall: 0.776\n"
          ]
        }
      ],
      "source": [
        "print(\"\\tRecall: %1.3f\" % recall_score(y_test, y_pred))"
      ]
    },
    {
      "cell_type": "code",
      "execution_count": null,
      "metadata": {
        "id": "mza9azN_KqF1",
        "colab": {
          "base_uri": "https://localhost:8080/"
        },
        "outputId": "c33a1291-6bf5-473f-c059-db7e03eceeb9"
      },
      "outputs": [
        {
          "output_type": "stream",
          "name": "stdout",
          "text": [
            "\tF1: 0.779\n"
          ]
        }
      ],
      "source": [
        "print(\"\\tF1: %1.3f\" % f1_score(y_test, y_pred))"
      ]
    },
    {
      "cell_type": "markdown",
      "source": [
        "*F1-Score para K-Nearest Neighbors*"
      ],
      "metadata": {
        "id": "u1DnnA4umk0Y"
      }
    },
    {
      "cell_type": "code",
      "source": [
        "print(\"\\tPrecision: %1.3f\" % precision_score(y_test, y_pred_knn))"
      ],
      "metadata": {
        "colab": {
          "base_uri": "https://localhost:8080/"
        },
        "id": "0TpVApzImbrw",
        "outputId": "bf5213da-d219-437e-d2fe-9965893bf13b"
      },
      "execution_count": null,
      "outputs": [
        {
          "output_type": "stream",
          "name": "stdout",
          "text": [
            "\tPrecision: 0.820\n"
          ]
        }
      ]
    },
    {
      "cell_type": "code",
      "source": [
        "print(\"\\tRecall: %1.3f\" % recall_score(y_test, y_pred_knn))"
      ],
      "metadata": {
        "colab": {
          "base_uri": "https://localhost:8080/"
        },
        "id": "QImbthFKm7me",
        "outputId": "31be08c3-cf07-4820-dcf1-4837a9a457a0"
      },
      "execution_count": null,
      "outputs": [
        {
          "output_type": "stream",
          "name": "stdout",
          "text": [
            "\tRecall: 0.830\n"
          ]
        }
      ]
    },
    {
      "cell_type": "code",
      "source": [
        "print(\"\\tF1: %1.3f\" % f1_score(y_test, y_pred_knn))"
      ],
      "metadata": {
        "colab": {
          "base_uri": "https://localhost:8080/"
        },
        "id": "lQKZK5PQm_7C",
        "outputId": "d3ec9776-b1fe-4bfb-af86-1012fe249a7c"
      },
      "execution_count": null,
      "outputs": [
        {
          "output_type": "stream",
          "name": "stdout",
          "text": [
            "\tF1: 0.825\n"
          ]
        }
      ]
    },
    {
      "cell_type": "markdown",
      "source": [
        "*Valores F1-score cercanos a 1 nos permitiran afirmar que el modelo cumple con su objetivo, en este caso el modelo de clasificación de K-nearest neighbors nos da una mejor métrica como lo haría tambien la métrica de la eficiencia.*"
      ],
      "metadata": {
        "id": "noPvz0F4nwdt"
      }
    },
    {
      "cell_type": "markdown",
      "metadata": {
        "id": "s4v1-p_wKqZV"
      },
      "source": [
        "# **Fin del apartado para la obtención del punto extra**\n",
        "---"
      ]
    }
  ],
  "metadata": {
    "colab": {
      "provenance": []
    },
    "kernelspec": {
      "display_name": "Python 3 (ipykernel)",
      "language": "python",
      "name": "python3"
    },
    "language_info": {
      "codemirror_mode": {
        "name": "ipython",
        "version": 3
      },
      "file_extension": ".py",
      "mimetype": "text/x-python",
      "name": "python",
      "nbconvert_exporter": "python",
      "pygments_lexer": "ipython3",
      "version": "3.9.7"
    }
  },
  "nbformat": 4,
  "nbformat_minor": 0
}