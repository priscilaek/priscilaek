{
  "nbformat": 4,
  "nbformat_minor": 0,
  "metadata": {
    "colab": {
      "provenance": []
    },
    "kernelspec": {
      "name": "python3",
      "display_name": "Python 3"
    },
    "language_info": {
      "name": "python"
    }
  },
  "cells": [
    {
      "cell_type": "markdown",
      "source": [
        "**Nombre: Priscila Elías**"
      ],
      "metadata": {
        "id": "ulpLCDER1J-v"
      }
    },
    {
      "cell_type": "markdown",
      "source": [
        "## Bootcamp: Ciencia de Datos e Inteligencia Artificial\n",
        "## Proyecto del Módulo 4: Modelado no supervisado en Machine Learning\n",
        "¡Hola, qué gusto que estés a un paso de obtener tu insignia del módulo 4! Aquí pondrás en juego las habilidades y conocimientos que has practicado a lo largo de estas semanas.\n",
        "\n",
        "Lee el caso y revisa con cuidado cada una de las instrucciones. Procura plasmar todo tu potencial para que concluyas tu proyecto de manera exitosa.\n",
        "\n",
        "¡Éxito!"
      ],
      "metadata": {
        "id": "D2O6tBSaG7n9"
      }
    },
    {
      "cell_type": "markdown",
      "source": [
        "## Objetivos\n",
        "- Diseñarás y aplicarás un modelo de *clustering*.\n",
        "- Indicarás la cantidad óptima de grupos dado un conjunto que se te proporcionará.\n",
        "- Generarás visualizaciones para *clustering* y método del codo.\n",
        "- Usarás por lo menos un índice de desempeño para evaluar el modelo.\n"
      ],
      "metadata": {
        "id": "3y3iUVdfVkVB"
      }
    },
    {
      "cell_type": "markdown",
      "source": [
        "## Caso de estudio\n",
        "\n",
        "Una empresa financiera tiene un nuevo producto dirigido a sus clientes con diferentes límites de crédito, por ello, es necesario dividir a los clientes en grupos más pequeños.\n",
        "\n",
        "Desafortunadamente, los directivos no tienen idea de cuál es la cantidad óptima en la que se puede segregar a los clientes y cómo dirigir a nuevos clientes a esos grupos.\n",
        "\n",
        "Es por eso que en este punto se te ha contratado. Para poder ejecutar tu trabajo te han compartido una base de datos que contiene las características que, según sus informes, son los más importantes para la aplicación de este programa. Consiste en seis puntos:\n",
        "- **Salario mensual:** indica el ingreso mensual del cliente en pesos mexicanos. \n",
        "- **Crédito tipo 1:** es un producto financiero que el cliente ha obtenido de la institución financiera; `1` significa que tiene este producto y `0` que no cuenta con él.\n",
        "- **Crédito tipo 2:** es similar a las características del anterior; `1` significa que cuenta con el producto y `0` que no.\n",
        "- **Límite de TC:** indica el límite de crédito de la tarjeta del cliente.\n",
        "- **Años siendo cliente:** corresponde al tiempo que el cliente ha tenido una relación comercial con la institución financiera.\n",
        "- **Previamente se ofreció el producto:** es la versión previa del producto e indica si el cliente se mostró interesado en obtenerlo (`1`) o no (`0`).\n",
        "\n",
        "El archivo puede ser descargado aquí: https://drive.google.com/file/d/1wcjPCZPTMuDlyWcE1Do4-yqU5AglW_p9/view?usp=sharing\n",
        "\n",
        "### Observaciones\n",
        "\n",
        "El cliente requiere que le indiques la cantidad óptima de grupos en los que deberás catalogar a sus clientes. Para ello, usa el método del codo y grafícalo. Recuerda que tus clientes necesitan apoyos visuales.\n",
        "\n",
        "Una vez que tengas la cantidad de grupos óptimos, deberás aplicar un método de *clustering*. El cliente solicita que le muestres gráficamente cómo están organizados los clientes. Para ello, usa una gráfica de dispersión o la que creas más conveniente.\n",
        "\n",
        "Incluye, por lo menos, un índice de desempeño (*scoring*) para complementar tus análisis.\n",
        "\n",
        "Tus visualizaciones deberán tener título y estar presentables. Puedes usar **Pyplot** o **Seaborn**.\n",
        "\n",
        "Deberás escribir un texto explicando qué representa tu análisis. Usa un lenguaje que vaya dirigido a personas que no saben de ciencia de datos o matemáticas, esto es muy común en la realidad. Deberás hablar de tu gráfica, tus resultados y el manejo de la información, así como del beneficio de usar tu modelo.\n",
        "\n",
        "Como reto adicional se te proprocionará un archivo en la liga siguiente: https://drive.google.com/file/d/1Nkoc-6AeC3Vzy7gfCNB_DlWTs4dXz7Ug/view?usp=sharing, la cual incluye 50 clientes más. Deberás aplicar el método que usaste para entrenar con tu primer modelo y aplicarlo en estos nuevos clientes. No olvides graficarlos (solo a los nuevos 50 clientes).\n"
      ],
      "metadata": {
        "id": "oqiTO07ezogm"
      }
    },
    {
      "cell_type": "markdown",
      "source": [
        "## Criterios de evaluación\n",
        "\n",
        "Modelar el *clustering* correctamente:\n",
        "- Determinar el número máximo de *clusters* y aplicar PCA (**2 puntos**).\n",
        "- Hacer el diagrama de codo (**2 puntos**); si no tiene títulos, leyendas y etiquetas, solo tendrás **1 punto**.\n",
        "- Seleccionar y entrenar modelo (**2 puntos**); si no tiene títulos, leyendas y etiquetas, solo tendrás **1 punto**.\n",
        "- Generar la visualización de datos con un diseño personalizado y agregar títulos y leyendas (**2 puntos**).\n",
        "- Evaluar el desempeño aplicado y explicar el modelo, la gráfica y el uso de datos a una persona que no es científica de datos (**2 puntos**). Si las explicaciones son dudosas, equivocadas o sin comentarios suficientes, solo tendrás **1 punto**.\n",
        "\n",
        "**Punto extra**\n",
        "- Si aplicas el mismo modelo que ya creaste en los nuevos 50 registros, obtendrás **1 punto** extra.\n",
        " **Nota:** No debes realizar un nuevo modelo, sino aplicar el ya hecho.\n",
        "- Si estos nuevos 50 registros se agregan a los registros previos con los que diseñaste la primera gráfica, tendrás **1 punto** extra. Puedes diferenciarlos cambiándoles la forma, color o tamaño; así resaltarán más. Este punto no es válido si la grafica no tiene títulos, etiquetas y leyendas."
      ],
      "metadata": {
        "id": "9fUrQEi7VyxR"
      }
    },
    {
      "cell_type": "markdown",
      "source": [
        "¡Éxito! Te vemos en el contenido del siguiente módulo."
      ],
      "metadata": {
        "id": "_T_z68Hcy6fA"
      }
    },
    {
      "cell_type": "markdown",
      "source": [
        "**Desarrollo**"
      ],
      "metadata": {
        "id": "51NaJu1tDRIx"
      }
    },
    {
      "cell_type": "code",
      "source": [
        "#Aplicamos el modelo de clustering con métricas de distancia."
      ],
      "metadata": {
        "id": "H_CtkNgBDUcd"
      },
      "execution_count": null,
      "outputs": []
    },
    {
      "cell_type": "code",
      "source": [
        "!pip install pyclustering"
      ],
      "metadata": {
        "colab": {
          "base_uri": "https://localhost:8080/"
        },
        "id": "Gmz9MMEn8RLx",
        "outputId": "55e3ac94-67a3-4d2b-e534-1e85db95a259"
      },
      "execution_count": null,
      "outputs": [
        {
          "output_type": "stream",
          "name": "stdout",
          "text": [
            "Looking in indexes: https://pypi.org/simple, https://us-python.pkg.dev/colab-wheels/public/simple/\n",
            "Requirement already satisfied: pyclustering in /usr/local/lib/python3.8/dist-packages (0.10.1.2)\n",
            "Requirement already satisfied: numpy>=1.15.2 in /usr/local/lib/python3.8/dist-packages (from pyclustering) (1.21.6)\n",
            "Requirement already satisfied: scipy>=1.1.0 in /usr/local/lib/python3.8/dist-packages (from pyclustering) (1.7.3)\n",
            "Requirement already satisfied: matplotlib>=3.0.0 in /usr/local/lib/python3.8/dist-packages (from pyclustering) (3.2.2)\n",
            "Requirement already satisfied: Pillow>=5.2.0 in /usr/local/lib/python3.8/dist-packages (from pyclustering) (7.1.2)\n",
            "Requirement already satisfied: pyparsing!=2.0.4,!=2.1.2,!=2.1.6,>=2.0.1 in /usr/local/lib/python3.8/dist-packages (from matplotlib>=3.0.0->pyclustering) (3.0.9)\n",
            "Requirement already satisfied: python-dateutil>=2.1 in /usr/local/lib/python3.8/dist-packages (from matplotlib>=3.0.0->pyclustering) (2.8.2)\n",
            "Requirement already satisfied: kiwisolver>=1.0.1 in /usr/local/lib/python3.8/dist-packages (from matplotlib>=3.0.0->pyclustering) (1.4.4)\n",
            "Requirement already satisfied: cycler>=0.10 in /usr/local/lib/python3.8/dist-packages (from matplotlib>=3.0.0->pyclustering) (0.11.0)\n",
            "Requirement already satisfied: six>=1.5 in /usr/local/lib/python3.8/dist-packages (from python-dateutil>=2.1->matplotlib>=3.0.0->pyclustering) (1.15.0)\n"
          ]
        }
      ]
    },
    {
      "cell_type": "code",
      "source": [
        "import pandas as pd\n",
        "import numpy as np\n",
        "import matplotlib.pyplot as plt\n",
        "import seaborn as sns\n",
        "import matplotlib.pyplot as plt \n",
        "from yellowbrick.cluster import KElbowVisualizer \n",
        "from sklearn.cluster import KMeans\n",
        "from sklearn.decomposition import PCA\n",
        "from sklearn.preprocessing import StandardScaler\n",
        "from sklearn.metrics.cluster import contingency_matrix\n",
        "from pyclustering.cluster.kmeans import kmeans\n",
        "from pyclustering.utils.metric import distance_metric\n",
        "from pyclustering.cluster.center_initializer import random_center_initializer\n",
        "from pyclustering.cluster.encoder import type_encoding\n",
        "from pyclustering.cluster.encoder import cluster_encoder"
      ],
      "metadata": {
        "id": "49UvyN3l8deX"
      },
      "execution_count": null,
      "outputs": []
    },
    {
      "cell_type": "code",
      "source": [
        "from google.colab import drive\n",
        "drive.mount('/content/drive')"
      ],
      "metadata": {
        "colab": {
          "base_uri": "https://localhost:8080/"
        },
        "id": "eOPAr3Wl8mjk",
        "outputId": "9b94678e-5888-4aec-cd4f-ce5a79b0ddcc"
      },
      "execution_count": null,
      "outputs": [
        {
          "output_type": "stream",
          "name": "stdout",
          "text": [
            "Drive already mounted at /content/drive; to attempt to forcibly remount, call drive.mount(\"/content/drive\", force_remount=True).\n"
          ]
        }
      ]
    },
    {
      "cell_type": "code",
      "source": [
        "df = pd.read_csv('/content/drive/MyDrive/UCamp/costumers.csv')\n",
        "df.describe().T\n"
      ],
      "metadata": {
        "colab": {
          "base_uri": "https://localhost:8080/",
          "height": 237
        },
        "id": "SBiPNZP48tvX",
        "outputId": "c87444d7-3f7b-4892-882b-6e0a1c4c3aa2"
      },
      "execution_count": null,
      "outputs": [
        {
          "output_type": "execute_result",
          "data": {
            "text/plain": [
              "                   count         mean           std       min        25%  \\\n",
              "Salario            500.0  12089.09738   5123.700116  -2911.65   8534.350   \n",
              "Credito_tipo_1     500.0      0.61000      0.488238      0.00      0.000   \n",
              "Credito_tipo_2     500.0      0.45800      0.498732      0.00      0.000   \n",
              "Limite_TC          500.0  44784.55496  22150.923996 -22207.95  30096.285   \n",
              "Tiempo_cliente     500.0      4.32700      4.784776      0.00      0.000   \n",
              "Producto_ofrecido  500.0      0.60200      0.489976      0.00      0.000   \n",
              "\n",
              "                         50%         75%        max  \n",
              "Salario            11438.600  15171.4675   30041.40  \n",
              "Credito_tipo_1         1.000      1.0000       1.00  \n",
              "Credito_tipo_2         0.000      1.0000       1.00  \n",
              "Limite_TC          47991.515  59108.1750  118636.82  \n",
              "Tiempo_cliente         0.000      8.4000      19.30  \n",
              "Producto_ofrecido      1.000      1.0000       1.00  "
            ],
            "text/html": [
              "\n",
              "  <div id=\"df-6b7465c6-1b21-4fbf-bd1c-a08aa0fd3b23\">\n",
              "    <div class=\"colab-df-container\">\n",
              "      <div>\n",
              "<style scoped>\n",
              "    .dataframe tbody tr th:only-of-type {\n",
              "        vertical-align: middle;\n",
              "    }\n",
              "\n",
              "    .dataframe tbody tr th {\n",
              "        vertical-align: top;\n",
              "    }\n",
              "\n",
              "    .dataframe thead th {\n",
              "        text-align: right;\n",
              "    }\n",
              "</style>\n",
              "<table border=\"1\" class=\"dataframe\">\n",
              "  <thead>\n",
              "    <tr style=\"text-align: right;\">\n",
              "      <th></th>\n",
              "      <th>count</th>\n",
              "      <th>mean</th>\n",
              "      <th>std</th>\n",
              "      <th>min</th>\n",
              "      <th>25%</th>\n",
              "      <th>50%</th>\n",
              "      <th>75%</th>\n",
              "      <th>max</th>\n",
              "    </tr>\n",
              "  </thead>\n",
              "  <tbody>\n",
              "    <tr>\n",
              "      <th>Salario</th>\n",
              "      <td>500.0</td>\n",
              "      <td>12089.09738</td>\n",
              "      <td>5123.700116</td>\n",
              "      <td>-2911.65</td>\n",
              "      <td>8534.350</td>\n",
              "      <td>11438.600</td>\n",
              "      <td>15171.4675</td>\n",
              "      <td>30041.40</td>\n",
              "    </tr>\n",
              "    <tr>\n",
              "      <th>Credito_tipo_1</th>\n",
              "      <td>500.0</td>\n",
              "      <td>0.61000</td>\n",
              "      <td>0.488238</td>\n",
              "      <td>0.00</td>\n",
              "      <td>0.000</td>\n",
              "      <td>1.000</td>\n",
              "      <td>1.0000</td>\n",
              "      <td>1.00</td>\n",
              "    </tr>\n",
              "    <tr>\n",
              "      <th>Credito_tipo_2</th>\n",
              "      <td>500.0</td>\n",
              "      <td>0.45800</td>\n",
              "      <td>0.498732</td>\n",
              "      <td>0.00</td>\n",
              "      <td>0.000</td>\n",
              "      <td>0.000</td>\n",
              "      <td>1.0000</td>\n",
              "      <td>1.00</td>\n",
              "    </tr>\n",
              "    <tr>\n",
              "      <th>Limite_TC</th>\n",
              "      <td>500.0</td>\n",
              "      <td>44784.55496</td>\n",
              "      <td>22150.923996</td>\n",
              "      <td>-22207.95</td>\n",
              "      <td>30096.285</td>\n",
              "      <td>47991.515</td>\n",
              "      <td>59108.1750</td>\n",
              "      <td>118636.82</td>\n",
              "    </tr>\n",
              "    <tr>\n",
              "      <th>Tiempo_cliente</th>\n",
              "      <td>500.0</td>\n",
              "      <td>4.32700</td>\n",
              "      <td>4.784776</td>\n",
              "      <td>0.00</td>\n",
              "      <td>0.000</td>\n",
              "      <td>0.000</td>\n",
              "      <td>8.4000</td>\n",
              "      <td>19.30</td>\n",
              "    </tr>\n",
              "    <tr>\n",
              "      <th>Producto_ofrecido</th>\n",
              "      <td>500.0</td>\n",
              "      <td>0.60200</td>\n",
              "      <td>0.489976</td>\n",
              "      <td>0.00</td>\n",
              "      <td>0.000</td>\n",
              "      <td>1.000</td>\n",
              "      <td>1.0000</td>\n",
              "      <td>1.00</td>\n",
              "    </tr>\n",
              "  </tbody>\n",
              "</table>\n",
              "</div>\n",
              "      <button class=\"colab-df-convert\" onclick=\"convertToInteractive('df-6b7465c6-1b21-4fbf-bd1c-a08aa0fd3b23')\"\n",
              "              title=\"Convert this dataframe to an interactive table.\"\n",
              "              style=\"display:none;\">\n",
              "        \n",
              "  <svg xmlns=\"http://www.w3.org/2000/svg\" height=\"24px\"viewBox=\"0 0 24 24\"\n",
              "       width=\"24px\">\n",
              "    <path d=\"M0 0h24v24H0V0z\" fill=\"none\"/>\n",
              "    <path d=\"M18.56 5.44l.94 2.06.94-2.06 2.06-.94-2.06-.94-.94-2.06-.94 2.06-2.06.94zm-11 1L8.5 8.5l.94-2.06 2.06-.94-2.06-.94L8.5 2.5l-.94 2.06-2.06.94zm10 10l.94 2.06.94-2.06 2.06-.94-2.06-.94-.94-2.06-.94 2.06-2.06.94z\"/><path d=\"M17.41 7.96l-1.37-1.37c-.4-.4-.92-.59-1.43-.59-.52 0-1.04.2-1.43.59L10.3 9.45l-7.72 7.72c-.78.78-.78 2.05 0 2.83L4 21.41c.39.39.9.59 1.41.59.51 0 1.02-.2 1.41-.59l7.78-7.78 2.81-2.81c.8-.78.8-2.07 0-2.86zM5.41 20L4 18.59l7.72-7.72 1.47 1.35L5.41 20z\"/>\n",
              "  </svg>\n",
              "      </button>\n",
              "      \n",
              "  <style>\n",
              "    .colab-df-container {\n",
              "      display:flex;\n",
              "      flex-wrap:wrap;\n",
              "      gap: 12px;\n",
              "    }\n",
              "\n",
              "    .colab-df-convert {\n",
              "      background-color: #E8F0FE;\n",
              "      border: none;\n",
              "      border-radius: 50%;\n",
              "      cursor: pointer;\n",
              "      display: none;\n",
              "      fill: #1967D2;\n",
              "      height: 32px;\n",
              "      padding: 0 0 0 0;\n",
              "      width: 32px;\n",
              "    }\n",
              "\n",
              "    .colab-df-convert:hover {\n",
              "      background-color: #E2EBFA;\n",
              "      box-shadow: 0px 1px 2px rgba(60, 64, 67, 0.3), 0px 1px 3px 1px rgba(60, 64, 67, 0.15);\n",
              "      fill: #174EA6;\n",
              "    }\n",
              "\n",
              "    [theme=dark] .colab-df-convert {\n",
              "      background-color: #3B4455;\n",
              "      fill: #D2E3FC;\n",
              "    }\n",
              "\n",
              "    [theme=dark] .colab-df-convert:hover {\n",
              "      background-color: #434B5C;\n",
              "      box-shadow: 0px 1px 3px 1px rgba(0, 0, 0, 0.15);\n",
              "      filter: drop-shadow(0px 1px 2px rgba(0, 0, 0, 0.3));\n",
              "      fill: #FFFFFF;\n",
              "    }\n",
              "  </style>\n",
              "\n",
              "      <script>\n",
              "        const buttonEl =\n",
              "          document.querySelector('#df-6b7465c6-1b21-4fbf-bd1c-a08aa0fd3b23 button.colab-df-convert');\n",
              "        buttonEl.style.display =\n",
              "          google.colab.kernel.accessAllowed ? 'block' : 'none';\n",
              "\n",
              "        async function convertToInteractive(key) {\n",
              "          const element = document.querySelector('#df-6b7465c6-1b21-4fbf-bd1c-a08aa0fd3b23');\n",
              "          const dataTable =\n",
              "            await google.colab.kernel.invokeFunction('convertToInteractive',\n",
              "                                                     [key], {});\n",
              "          if (!dataTable) return;\n",
              "\n",
              "          const docLinkHtml = 'Like what you see? Visit the ' +\n",
              "            '<a target=\"_blank\" href=https://colab.research.google.com/notebooks/data_table.ipynb>data table notebook</a>'\n",
              "            + ' to learn more about interactive tables.';\n",
              "          element.innerHTML = '';\n",
              "          dataTable['output_type'] = 'display_data';\n",
              "          await google.colab.output.renderOutput(dataTable, element);\n",
              "          const docLink = document.createElement('div');\n",
              "          docLink.innerHTML = docLinkHtml;\n",
              "          element.appendChild(docLink);\n",
              "        }\n",
              "      </script>\n",
              "    </div>\n",
              "  </div>\n",
              "  "
            ]
          },
          "metadata": {},
          "execution_count": 222
        }
      ]
    },
    {
      "cell_type": "code",
      "source": [
        "df.info()"
      ],
      "metadata": {
        "colab": {
          "base_uri": "https://localhost:8080/"
        },
        "id": "W22GmbKcYoGf",
        "outputId": "e9226102-7b4e-473d-d263-4d9c8e1846c5"
      },
      "execution_count": null,
      "outputs": [
        {
          "output_type": "stream",
          "name": "stdout",
          "text": [
            "<class 'pandas.core.frame.DataFrame'>\n",
            "RangeIndex: 500 entries, 0 to 499\n",
            "Data columns (total 6 columns):\n",
            " #   Column             Non-Null Count  Dtype  \n",
            "---  ------             --------------  -----  \n",
            " 0   Salario            500 non-null    float64\n",
            " 1   Credito_tipo_1     500 non-null    int64  \n",
            " 2   Credito_tipo_2     500 non-null    int64  \n",
            " 3   Limite_TC          500 non-null    float64\n",
            " 4   Tiempo_cliente     500 non-null    float64\n",
            " 5   Producto_ofrecido  500 non-null    int64  \n",
            "dtypes: float64(3), int64(3)\n",
            "memory usage: 23.6 KB\n"
          ]
        }
      ]
    },
    {
      "cell_type": "markdown",
      "source": [
        "**Determinar el número máximo de clusters y aplicar PCA**"
      ],
      "metadata": {
        "id": "UVRyYObkqEco"
      }
    },
    {
      "cell_type": "code",
      "source": [
        "#Se determina el número máximo de clusters y se aplica PCA para bajar la dimensionalidad, pasar de 5 a 2 dimensiones.\n",
        "from sklearn.decomposition import PCA\n",
        "pca = PCA(n_components=2) # Establecemos el PCA de 2 componentes\n",
        "df1 = pca.fit_transform(df)  # Lo aplicamos a nuestro dataset codificado\n",
        "pca.explained_variance_ratio_.cumsum() # Calculamos las varianzas acumuladas explicadas"
      ],
      "metadata": {
        "id": "RHvRFuoKE-AM",
        "colab": {
          "base_uri": "https://localhost:8080/"
        },
        "outputId": "6c120cb4-dcc3-40e7-f36e-a7f8b213d9bd"
      },
      "execution_count": null,
      "outputs": [
        {
          "output_type": "execute_result",
          "data": {
            "text/plain": [
              "array([0.95543853, 0.99999998])"
            ]
          },
          "metadata": {},
          "execution_count": 224
        }
      ]
    },
    {
      "cell_type": "code",
      "source": [
        "# Dispersion de Clientes\n",
        "# Grafica con Pyplot\n",
        "df1_feature1 = df1[:,0]\n",
        "df1_feature2 = df1[:,1]\n",
        "plt.scatter(df1_feature1, df1_feature2)\n",
        "plt.title('Gráfica de dispersión de clientes')\n",
        "plt.xlabel('Componente 1')\n",
        "plt.ylabel('Componente 2')\n",
        "plt.show()\n",
        "\n",
        "# Grafica con Seaborn\n",
        "pc1_values = df1[:,0]\n",
        "pc2_values = df1[:,1]\n",
        "plt.title('Gráfica de dispersión de clientes')\n",
        "plt.xlabel('Componente 1')\n",
        "plt.ylabel('Componente 2')\n",
        "sns.scatterplot(x=pc1_values, y=pc2_values)"
      ],
      "metadata": {
        "colab": {
          "base_uri": "https://localhost:8080/",
          "height": 753
        },
        "id": "MqDFyZNjE_8U",
        "outputId": "c71afdbc-bcb6-42ce-8cab-6ce311587e23"
      },
      "execution_count": null,
      "outputs": [
        {
          "output_type": "display_data",
          "data": {
            "text/plain": [
              "<Figure size 576x396 with 1 Axes>"
            ],
            "image/png": "[encoded data removed]"
          },
          "metadata": {}
        },
        {
          "output_type": "execute_result",
          "data": {
            "text/plain": [
              "<matplotlib.axes._subplots.AxesSubplot at 0x7f631e7cc4f0>"
            ]
          },
          "metadata": {},
          "execution_count": 225
        },
        {
          "output_type": "display_data",
          "data": {
            "text/plain": [
              "<Figure size 576x396 with 1 Axes>"
            ],
            "image/png": "[encoded data removed]"
          },
          "metadata": {}
        }
      ]
    },
    {
      "cell_type": "markdown",
      "source": [
        "**Hacer el diagrama de codo**"
      ],
      "metadata": {
        "id": "8zq9RTVXqY7r"
      }
    },
    {
      "cell_type": "code",
      "source": [
        "#Visualizamos los valores representativos del df\n",
        "df.head()"
      ],
      "metadata": {
        "colab": {
          "base_uri": "https://localhost:8080/",
          "height": 206
        },
        "id": "NJzfoQ39_rxo",
        "outputId": "26f4af3b-e6af-4bfb-f255-49119ca775bf"
      },
      "execution_count": null,
      "outputs": [
        {
          "output_type": "execute_result",
          "data": {
            "text/plain": [
              "    Salario  Credito_tipo_1  Credito_tipo_2  Limite_TC  Tiempo_cliente  \\\n",
              "0  22572.91               1               0   30136.74             0.0   \n",
              "1  10609.64               1               1   53623.94             0.0   \n",
              "2  10079.48               0               1   18135.44             0.0   \n",
              "3  13871.35               1               0   30831.75             0.0   \n",
              "4   6541.46               0               1   20626.23             0.0   \n",
              "\n",
              "   Producto_ofrecido  \n",
              "0                  1  \n",
              "1                  1  \n",
              "2                  0  \n",
              "3                  1  \n",
              "4                  0  "
            ],
            "text/html": [
              "\n",
              "  <div id=\"df-8977e6c6-742b-4e53-985c-726f89f2ed3f\">\n",
              "    <div class=\"colab-df-container\">\n",
              "      <div>\n",
              "<style scoped>\n",
              "    .dataframe tbody tr th:only-of-type {\n",
              "        vertical-align: middle;\n",
              "    }\n",
              "\n",
              "    .dataframe tbody tr th {\n",
              "        vertical-align: top;\n",
              "    }\n",
              "\n",
              "    .dataframe thead th {\n",
              "        text-align: right;\n",
              "    }\n",
              "</style>\n",
              "<table border=\"1\" class=\"dataframe\">\n",
              "  <thead>\n",
              "    <tr style=\"text-align: right;\">\n",
              "      <th></th>\n",
              "      <th>Salario</th>\n",
              "      <th>Credito_tipo_1</th>\n",
              "      <th>Credito_tipo_2</th>\n",
              "      <th>Limite_TC</th>\n",
              "      <th>Tiempo_cliente</th>\n",
              "      <th>Producto_ofrecido</th>\n",
              "    </tr>\n",
              "  </thead>\n",
              "  <tbody>\n",
              "    <tr>\n",
              "      <th>0</th>\n",
              "      <td>22572.91</td>\n",
              "      <td>1</td>\n",
              "      <td>0</td>\n",
              "      <td>30136.74</td>\n",
              "      <td>0.0</td>\n",
              "      <td>1</td>\n",
              "    </tr>\n",
              "    <tr>\n",
              "      <th>1</th>\n",
              "      <td>10609.64</td>\n",
              "      <td>1</td>\n",
              "      <td>1</td>\n",
              "      <td>53623.94</td>\n",
              "      <td>0.0</td>\n",
              "      <td>1</td>\n",
              "    </tr>\n",
              "    <tr>\n",
              "      <th>2</th>\n",
              "      <td>10079.48</td>\n",
              "      <td>0</td>\n",
              "      <td>1</td>\n",
              "      <td>18135.44</td>\n",
              "      <td>0.0</td>\n",
              "      <td>0</td>\n",
              "    </tr>\n",
              "    <tr>\n",
              "      <th>3</th>\n",
              "      <td>13871.35</td>\n",
              "      <td>1</td>\n",
              "      <td>0</td>\n",
              "      <td>30831.75</td>\n",
              "      <td>0.0</td>\n",
              "      <td>1</td>\n",
              "    </tr>\n",
              "    <tr>\n",
              "      <th>4</th>\n",
              "      <td>6541.46</td>\n",
              "      <td>0</td>\n",
              "      <td>1</td>\n",
              "      <td>20626.23</td>\n",
              "      <td>0.0</td>\n",
              "      <td>0</td>\n",
              "    </tr>\n",
              "  </tbody>\n",
              "</table>\n",
              "</div>\n",
              "      <button class=\"colab-df-convert\" onclick=\"convertToInteractive('df-8977e6c6-742b-4e53-985c-726f89f2ed3f')\"\n",
              "              title=\"Convert this dataframe to an interactive table.\"\n",
              "              style=\"display:none;\">\n",
              "        \n",
              "  <svg xmlns=\"http://www.w3.org/2000/svg\" height=\"24px\"viewBox=\"0 0 24 24\"\n",
              "       width=\"24px\">\n",
              "    <path d=\"M0 0h24v24H0V0z\" fill=\"none\"/>\n",
              "    <path d=\"M18.56 5.44l.94 2.06.94-2.06 2.06-.94-2.06-.94-.94-2.06-.94 2.06-2.06.94zm-11 1L8.5 8.5l.94-2.06 2.06-.94-2.06-.94L8.5 2.5l-.94 2.06-2.06.94zm10 10l.94 2.06.94-2.06 2.06-.94-2.06-.94-.94-2.06-.94 2.06-2.06.94z\"/><path d=\"M17.41 7.96l-1.37-1.37c-.4-.4-.92-.59-1.43-.59-.52 0-1.04.2-1.43.59L10.3 9.45l-7.72 7.72c-.78.78-.78 2.05 0 2.83L4 21.41c.39.39.9.59 1.41.59.51 0 1.02-.2 1.41-.59l7.78-7.78 2.81-2.81c.8-.78.8-2.07 0-2.86zM5.41 20L4 18.59l7.72-7.72 1.47 1.35L5.41 20z\"/>\n",
              "  </svg>\n",
              "      </button>\n",
              "      \n",
              "  <style>\n",
              "    .colab-df-container {\n",
              "      display:flex;\n",
              "      flex-wrap:wrap;\n",
              "      gap: 12px;\n",
              "    }\n",
              "\n",
              "    .colab-df-convert {\n",
              "      background-color: #E8F0FE;\n",
              "      border: none;\n",
              "      border-radius: 50%;\n",
              "      cursor: pointer;\n",
              "      display: none;\n",
              "      fill: #1967D2;\n",
              "      height: 32px;\n",
              "      padding: 0 0 0 0;\n",
              "      width: 32px;\n",
              "    }\n",
              "\n",
              "    .colab-df-convert:hover {\n",
              "      background-color: #E2EBFA;\n",
              "      box-shadow: 0px 1px 2px rgba(60, 64, 67, 0.3), 0px 1px 3px 1px rgba(60, 64, 67, 0.15);\n",
              "      fill: #174EA6;\n",
              "    }\n",
              "\n",
              "    [theme=dark] .colab-df-convert {\n",
              "      background-color: #3B4455;\n",
              "      fill: #D2E3FC;\n",
              "    }\n",
              "\n",
              "    [theme=dark] .colab-df-convert:hover {\n",
              "      background-color: #434B5C;\n",
              "      box-shadow: 0px 1px 3px 1px rgba(0, 0, 0, 0.15);\n",
              "      filter: drop-shadow(0px 1px 2px rgba(0, 0, 0, 0.3));\n",
              "      fill: #FFFFFF;\n",
              "    }\n",
              "  </style>\n",
              "\n",
              "      <script>\n",
              "        const buttonEl =\n",
              "          document.querySelector('#df-8977e6c6-742b-4e53-985c-726f89f2ed3f button.colab-df-convert');\n",
              "        buttonEl.style.display =\n",
              "          google.colab.kernel.accessAllowed ? 'block' : 'none';\n",
              "\n",
              "        async function convertToInteractive(key) {\n",
              "          const element = document.querySelector('#df-8977e6c6-742b-4e53-985c-726f89f2ed3f');\n",
              "          const dataTable =\n",
              "            await google.colab.kernel.invokeFunction('convertToInteractive',\n",
              "                                                     [key], {});\n",
              "          if (!dataTable) return;\n",
              "\n",
              "          const docLinkHtml = 'Like what you see? Visit the ' +\n",
              "            '<a target=\"_blank\" href=https://colab.research.google.com/notebooks/data_table.ipynb>data table notebook</a>'\n",
              "            + ' to learn more about interactive tables.';\n",
              "          element.innerHTML = '';\n",
              "          dataTable['output_type'] = 'display_data';\n",
              "          await google.colab.output.renderOutput(dataTable, element);\n",
              "          const docLink = document.createElement('div');\n",
              "          docLink.innerHTML = docLinkHtml;\n",
              "          element.appendChild(docLink);\n",
              "        }\n",
              "      </script>\n",
              "    </div>\n",
              "  </div>\n",
              "  "
            ]
          },
          "metadata": {},
          "execution_count": 226
        }
      ]
    },
    {
      "cell_type": "code",
      "source": [
        "#Selecionamos los datos para el aprendizaje automatico\n",
        "X = df.iloc[:, 0:5].values"
      ],
      "metadata": {
        "id": "ZoyaVWHV_M-l"
      },
      "execution_count": null,
      "outputs": []
    },
    {
      "cell_type": "code",
      "source": [
        "# Iniciamos el modelo y el visualizador\n",
        "model = KMeans()\n",
        "visualizer = KElbowVisualizer(model, k=(1, 11), title = \"Número Óptimo de Grupos\" )\n",
        "\n",
        "visualizer.fit(X) # Hacemos fit a los datos en el visualizador\n",
        "visualizer.show() # Renderizamos la figura y la mostramos\n",
        "\n",
        "# Aqui presentamos la Gráfica de visualización de agrupación de clientes\n",
        "# donde la X representa K que es el Número de grupos óptimos\n",
        "# y Y representa el error de agrupamiento o similitud de los clientes dentro de los grupos."
      ],
      "metadata": {
        "colab": {
          "base_uri": "https://localhost:8080/",
          "height": 396
        },
        "id": "QGaVwfZS_aks",
        "outputId": "89d3cf51-80f7-4582-b1f7-11babcb4fa4e"
      },
      "execution_count": null,
      "outputs": [
        {
          "output_type": "display_data",
          "data": {
            "text/plain": [
              "<Figure size 576x396 with 2 Axes>"
            ],
            "image/png": "[encoded data removed]"
          },
          "metadata": {}
        },
        {
          "output_type": "execute_result",
          "data": {
            "text/plain": [
              "<matplotlib.axes._subplots.AxesSubplot at 0x7f631e92f3d0>"
            ]
          },
          "metadata": {},
          "execution_count": 228
        }
      ]
    },
    {
      "cell_type": "markdown",
      "source": [
        "En esta gráfica, el punto de inflexión (el codo) se encuentra alrededor del valor de k = 3 puesto que el error disminuye en este punto. Esto significa que 3 grupos es el número óptimo de grupos para este conjunto de datos de clientes."
      ],
      "metadata": {
        "id": "uj6lbsnYsPQf"
      }
    },
    {
      "cell_type": "markdown",
      "source": [
        "**Seleccionar y entrenar modelo**"
      ],
      "metadata": {
        "id": "11NqBiiwGyet"
      }
    },
    {
      "cell_type": "code",
      "source": [
        "# Seleccionaremos el modelo de Clustering KNN \n",
        "# para clasificar la agrupacion de datos basado en los datos de sus vecinos.\n",
        "# Usaremos 3 clusters dado el numero de grupos optimos de la grafica del codo.\n",
        "\n",
        "from sklearn.cluster import KMeans\n",
        "kmeans = KMeans(n_clusters = 3, init=\"k-means++\", max_iter = 300, n_init = 10, random_state = 0)\n",
        "y_kmeans = kmeans.fit_predict(df1)\n",
        "labels = kmeans.labels_\n",
        "\n",
        "#El modelo entrenado sera y_kmeans"
      ],
      "metadata": {
        "id": "rUvPa_RMGx4f"
      },
      "execution_count": null,
      "outputs": []
    },
    {
      "cell_type": "code",
      "source": [
        "#Luego de entrenarlo, veamos los valores resultantes\n",
        "y_kmeans"
      ],
      "metadata": {
        "colab": {
          "base_uri": "https://localhost:8080/"
        },
        "id": "Be8w0Tecygbq",
        "outputId": "36b9b10c-389e-4517-ee3c-6e1a225fb266"
      },
      "execution_count": null,
      "outputs": [
        {
          "output_type": "execute_result",
          "data": {
            "text/plain": [
              "array([0, 1, 2, 0, 2, 1, 1, 0, 1, 1, 2, 1, 0, 0, 1, 0, 1, 2, 2, 0, 0, 2,\n",
              "       1, 0, 1, 0, 1, 0, 2, 0, 0, 1, 2, 0, 0, 1, 1, 2, 0, 0, 0, 1, 0, 1,\n",
              "       0, 0, 0, 2, 0, 1, 0, 1, 0, 0, 1, 1, 1, 1, 1, 0, 0, 1, 1, 0, 1, 1,\n",
              "       0, 0, 0, 1, 2, 1, 1, 1, 0, 1, 0, 0, 0, 2, 0, 1, 1, 1, 2, 1, 2, 0,\n",
              "       1, 2, 1, 2, 0, 0, 1, 0, 0, 2, 2, 1, 2, 1, 1, 1, 0, 2, 1, 1, 0, 0,\n",
              "       2, 1, 0, 1, 1, 0, 1, 0, 0, 1, 0, 2, 0, 1, 0, 2, 0, 2, 1, 1, 2, 1,\n",
              "       0, 2, 0, 2, 0, 1, 0, 0, 2, 1, 0, 1, 2, 0, 2, 0, 1, 1, 1, 0, 1, 1,\n",
              "       0, 2, 1, 1, 1, 1, 0, 1, 0, 0, 0, 0, 1, 0, 2, 1, 1, 1, 0, 0, 2, 2,\n",
              "       0, 2, 1, 0, 0, 0, 1, 1, 2, 1, 1, 1, 1, 1, 1, 0, 1, 0, 1, 1, 1, 2,\n",
              "       0, 0, 0, 2, 2, 0, 1, 1, 1, 2, 1, 1, 2, 0, 2, 0, 1, 0, 1, 1, 0, 1,\n",
              "       1, 1, 1, 1, 2, 1, 1, 2, 2, 2, 2, 0, 0, 1, 1, 2, 1, 2, 1, 0, 0, 1,\n",
              "       0, 1, 1, 0, 0, 0, 1, 0, 0, 1, 1, 1, 1, 2, 1, 0, 0, 1, 1, 0, 0, 1,\n",
              "       2, 1, 1, 1, 1, 1, 0, 2, 1, 0, 0, 1, 0, 1, 2, 0, 2, 2, 2, 2, 0, 0,\n",
              "       0, 1, 1, 2, 2, 1, 1, 1, 0, 1, 0, 1, 2, 1, 0, 1, 0, 2, 1, 1, 2, 0,\n",
              "       0, 0, 0, 0, 2, 0, 0, 0, 2, 0, 0, 2, 1, 1, 1, 1, 0, 2, 1, 1, 1, 2,\n",
              "       1, 0, 0, 1, 0, 1, 0, 1, 1, 1, 0, 2, 0, 1, 0, 0, 0, 1, 0, 1, 0, 1,\n",
              "       0, 2, 1, 0, 1, 1, 0, 1, 0, 1, 0, 1, 1, 0, 0, 1, 0, 0, 1, 1, 1, 2,\n",
              "       1, 1, 0, 0, 0, 0, 0, 0, 0, 1, 2, 2, 1, 2, 2, 0, 1, 0, 2, 1, 1, 0,\n",
              "       2, 0, 1, 2, 0, 0, 1, 0, 1, 0, 0, 0, 1, 0, 1, 0, 0, 2, 1, 2, 1, 1,\n",
              "       0, 0, 0, 1, 2, 1, 2, 1, 2, 1, 0, 0, 1, 1, 1, 1, 0, 0, 2, 0, 0, 1,\n",
              "       1, 1, 0, 0, 1, 0, 1, 1, 0, 2, 0, 0, 2, 1, 0, 0, 1, 1, 1, 2, 0, 1,\n",
              "       1, 1, 0, 1, 0, 2, 1, 0, 0, 1, 1, 2, 1, 0, 1, 1, 2, 2, 0, 0, 1, 1,\n",
              "       1, 1, 2, 2, 1, 1, 1, 0, 0, 1, 2, 0, 1, 2, 0, 1], dtype=int32)"
            ]
          },
          "metadata": {},
          "execution_count": 230
        }
      ]
    },
    {
      "cell_type": "code",
      "source": [
        "#veamos cuantos resulados se generaron por cada cluster\n",
        "\n",
        "np.unique(y_kmeans, return_counts= True)"
      ],
      "metadata": {
        "colab": {
          "base_uri": "https://localhost:8080/"
        },
        "id": "799O8P31y5Re",
        "outputId": "fd30c0d1-f72a-4d71-c364-0cab45795c86"
      },
      "execution_count": null,
      "outputs": [
        {
          "output_type": "execute_result",
          "data": {
            "text/plain": [
              "(array([0, 1, 2], dtype=int32), array([191, 215,  94]))"
            ]
          },
          "metadata": {},
          "execution_count": 231
        }
      ]
    },
    {
      "cell_type": "markdown",
      "source": [
        "**Generar la visualización de datos con un diseño personalizado**"
      ],
      "metadata": {
        "id": "qZxhlKys2OBx"
      }
    },
    {
      "cell_type": "code",
      "source": [
        "#realizamos el grafico de dispersion de K-means, donde vemos un grupo diferente llamados cluster 1, 2 y 3.\n",
        "\n",
        "plt.scatter(df1[y_kmeans == 0, 0], df1[y_kmeans == 0, 1], s = 100, marker= '.', c = \"pink\", label = \"Cluster 1\")\n",
        "plt.scatter(df1[y_kmeans == 1, 0], df1[y_kmeans == 1, 1], s = 100, marker= '.', c = \"orange\", label = \"Cluster 2\")\n",
        "plt.scatter(df1[y_kmeans == 2, 0], df1[y_kmeans == 2, 1], s = 100, marker= '.', c = \"lightgreen\", label = \"Cluster 3\")\n",
        "plt.scatter(kmeans.cluster_centers_[:, 0], kmeans.cluster_centers_[:, 1], s = 100, marker= '*', c = \"red\", label = \"Centroides\")\n",
        "plt.title(\"Resultados de dispersion K-Means\")\n",
        "plt.xlabel(\"Valores en el componente 1\")\n",
        "plt.ylabel(\"Valores en el componente 2\")\n",
        "plt.legend()\n",
        "plt.show()"
      ],
      "metadata": {
        "colab": {
          "base_uri": "https://localhost:8080/",
          "height": 376
        },
        "id": "2q6qvgT-zBpp",
        "outputId": "75d0e357-7586-40c3-a2fe-d14852256a19"
      },
      "execution_count": null,
      "outputs": [
        {
          "output_type": "display_data",
          "data": {
            "text/plain": [
              "<Figure size 576x396 with 1 Axes>"
            ],
            "image/png": "[encoded data removed]"
          },
          "metadata": {}
        }
      ]
    },
    {
      "cell_type": "markdown",
      "source": [
        "**Evaluar el desempeño aplicado y explicar el modelo, la gráfica y el uso de datos.**"
      ],
      "metadata": {
        "id": "RtDIH9DJ3DR3"
      }
    },
    {
      "cell_type": "code",
      "source": [
        "# Usamos una de la métricas de evaluación de agrupamiento más utilizada, \n",
        "# el coeficiente de silhouette realizando la comparación de la distancia\n",
        "# Importamos las bibliotecas\n",
        "from sklearn import metrics\n",
        "from sklearn.metrics import silhouette_score\n",
        "\n",
        "s_score = silhouette_score(df1, labels, metric='euclidean')\n",
        "print(f'El coeficiente de silueta es de {s_score}.')\n",
        "\n"
      ],
      "metadata": {
        "colab": {
          "base_uri": "https://localhost:8080/"
        },
        "id": "vPe4HvKe3TL2",
        "outputId": "78fda5a3-83e7-4526-d510-136c7ab5e0f3"
      },
      "execution_count": null,
      "outputs": [
        {
          "output_type": "stream",
          "name": "stdout",
          "text": [
            "El coeficiente de silueta es de 0.4492136887086693.\n"
          ]
        }
      ]
    },
    {
      "cell_type": "markdown",
      "source": [
        "Un valor cercano a 1 indica un resultado de agrupación excelente, en la que las distancias entre grupos son mucho mayores que las distancias dentro de los grupos; mientras que un valor cercano a -1 significa una asignación de clúster totalmente incorrecta, en la que las distancias entre clústeres ni siquiera son comparables con las distancias dentro de los clústeres.\n"
      ],
      "metadata": {
        "id": "1FCPrjkeJ_xb"
      }
    },
    {
      "cell_type": "code",
      "source": [
        "# Generamos los scores con ayuda de scikit-learn\n",
        "Silueta = metrics.silhouette_score(df1, labels)\n",
        "Calinski_Harabasz = metrics.calinski_harabasz_score(df1, labels)\n",
        "Davies_Bouldin = metrics.davies_bouldin_score(df1, labels)"
      ],
      "metadata": {
        "id": "mMzPTaZVDN2T"
      },
      "execution_count": null,
      "outputs": []
    },
    {
      "cell_type": "code",
      "source": [
        "# Imprimimos los scores\n",
        "print(\"Score Analísis de silueta: \", Silueta)\n",
        "print(\"Score indice Calinski-Harabasz : \", Calinski_Harabasz)\n",
        "print(\"Score indice Davies-Bouldin: \", Davies_Bouldin)"
      ],
      "metadata": {
        "colab": {
          "base_uri": "https://localhost:8080/"
        },
        "id": "SMIB2is7DUjT",
        "outputId": "c0f8ae19-27bb-4dda-bc8f-491d123be40c"
      },
      "execution_count": null,
      "outputs": [
        {
          "output_type": "stream",
          "name": "stdout",
          "text": [
            "Score Analísis de silueta:  0.4492136887086693\n",
            "Score indice Calinski-Harabasz :  825.2218813936208\n",
            "Score indice Davies-Bouldin:  0.7016102858446226\n"
          ]
        }
      ]
    },
    {
      "cell_type": "markdown",
      "source": [
        "Podemos decir que la agrupación y separación de nuestro modelo de clustering son buenas debido a que los resultados anteriores muestran que el algoritmo K-Means tuvo un buen desempeño para agrupar los datos. \n",
        "\n",
        "El puntaje de análisis de silueta fue de 0.4492 el cual tiende a 1, lo que indica una buena agrupación. El puntaje de índice Calinski-Harabasz fue de 825.22, lo que indica una buena separación entre si de los grupos. El puntaje de índice Davies-Bouldin fue de 0.7016, lo que indica una buena separación entre los grupos. Los resultados indican que el algoritmo K-Means fue capaz de encontrar patrones en los datos."
      ],
      "metadata": {
        "id": "0LitSfV3JD6b"
      }
    },
    {
      "cell_type": "markdown",
      "source": [
        "\n",
        "La agrupacion de clientes en 3 grupos y su respectiva evaluación, nos ayudan a indicar que el agrupamiento, definición y la similitud que tienen entre ellos son los patrones adecuados para realizar propuestas de nuevos productos a los clientes."
      ],
      "metadata": {
        "id": "hltWgbC9PcRs"
      }
    },
    {
      "cell_type": "markdown",
      "source": [
        "**Punto extra 1**"
      ],
      "metadata": {
        "id": "Ib0vrqCPHnwx"
      }
    },
    {
      "cell_type": "code",
      "source": [
        "#Punto extra\n",
        "from google.colab import drive\n",
        "drive.mount('/content/drive')\n"
      ],
      "metadata": {
        "colab": {
          "base_uri": "https://localhost:8080/"
        },
        "id": "eeCOov6gHl-Z",
        "outputId": "face1f10-c6dd-4eba-8719-3c4bde1d822c"
      },
      "execution_count": null,
      "outputs": [
        {
          "output_type": "stream",
          "name": "stdout",
          "text": [
            "Drive already mounted at /content/drive; to attempt to forcibly remount, call drive.mount(\"/content/drive\", force_remount=True).\n"
          ]
        }
      ]
    },
    {
      "cell_type": "code",
      "source": [
        "dfnew = pd.read_csv('/content/drive/MyDrive/UCamp/new_costumer.csv')\n",
        "dfnew.describe().T"
      ],
      "metadata": {
        "colab": {
          "base_uri": "https://localhost:8080/",
          "height": 269
        },
        "id": "r0cXiFayZCqW",
        "outputId": "6c403dac-cc28-4d5e-d59a-2d2f1c1c6664"
      },
      "execution_count": null,
      "outputs": [
        {
          "output_type": "execute_result",
          "data": {
            "text/plain": [
              "                   count        mean           std      min         25%  \\\n",
              "Salario             50.0  13232.1144   5767.078320  -638.96   9783.8875   \n",
              "Credito_tipo_1      50.0      0.5200      0.504672     0.00      0.0000   \n",
              "Credito_tipo_2      50.0      0.5000      0.505076     0.00      0.0000   \n",
              "Limite_TC           50.0  38422.6698  20240.655015 -2756.45  22922.6175   \n",
              "Tiempo_cliente      50.0      2.9440      3.973338     0.00      0.0000   \n",
              "Producto_ofrecido   50.0      0.7000      0.462910     0.00      0.0000   \n",
              "Tipo_de_cliente     50.0      1.3800      1.122861     0.00      0.0000   \n",
              "\n",
              "                         50%         75%       max  \n",
              "Salario            12849.835  16788.6725  23890.65  \n",
              "Credito_tipo_1         1.000      1.0000      1.00  \n",
              "Credito_tipo_2         0.500      1.0000      1.00  \n",
              "Limite_TC          39054.305  52052.3200  83578.93  \n",
              "Tiempo_cliente         0.000      6.3500     11.30  \n",
              "Producto_ofrecido      1.000      1.0000      1.00  \n",
              "Tipo_de_cliente        1.000      2.0000      3.00  "
            ],
            "text/html": [
              "\n",
              "  <div id=\"df-102bd167-12e9-4bfc-afbd-5d25dae12fae\">\n",
              "    <div class=\"colab-df-container\">\n",
              "      <div>\n",
              "<style scoped>\n",
              "    .dataframe tbody tr th:only-of-type {\n",
              "        vertical-align: middle;\n",
              "    }\n",
              "\n",
              "    .dataframe tbody tr th {\n",
              "        vertical-align: top;\n",
              "    }\n",
              "\n",
              "    .dataframe thead th {\n",
              "        text-align: right;\n",
              "    }\n",
              "</style>\n",
              "<table border=\"1\" class=\"dataframe\">\n",
              "  <thead>\n",
              "    <tr style=\"text-align: right;\">\n",
              "      <th></th>\n",
              "      <th>count</th>\n",
              "      <th>mean</th>\n",
              "      <th>std</th>\n",
              "      <th>min</th>\n",
              "      <th>25%</th>\n",
              "      <th>50%</th>\n",
              "      <th>75%</th>\n",
              "      <th>max</th>\n",
              "    </tr>\n",
              "  </thead>\n",
              "  <tbody>\n",
              "    <tr>\n",
              "      <th>Salario</th>\n",
              "      <td>50.0</td>\n",
              "      <td>13232.1144</td>\n",
              "      <td>5767.078320</td>\n",
              "      <td>-638.96</td>\n",
              "      <td>9783.8875</td>\n",
              "      <td>12849.835</td>\n",
              "      <td>16788.6725</td>\n",
              "      <td>23890.65</td>\n",
              "    </tr>\n",
              "    <tr>\n",
              "      <th>Credito_tipo_1</th>\n",
              "      <td>50.0</td>\n",
              "      <td>0.5200</td>\n",
              "      <td>0.504672</td>\n",
              "      <td>0.00</td>\n",
              "      <td>0.0000</td>\n",
              "      <td>1.000</td>\n",
              "      <td>1.0000</td>\n",
              "      <td>1.00</td>\n",
              "    </tr>\n",
              "    <tr>\n",
              "      <th>Credito_tipo_2</th>\n",
              "      <td>50.0</td>\n",
              "      <td>0.5000</td>\n",
              "      <td>0.505076</td>\n",
              "      <td>0.00</td>\n",
              "      <td>0.0000</td>\n",
              "      <td>0.500</td>\n",
              "      <td>1.0000</td>\n",
              "      <td>1.00</td>\n",
              "    </tr>\n",
              "    <tr>\n",
              "      <th>Limite_TC</th>\n",
              "      <td>50.0</td>\n",
              "      <td>38422.6698</td>\n",
              "      <td>20240.655015</td>\n",
              "      <td>-2756.45</td>\n",
              "      <td>22922.6175</td>\n",
              "      <td>39054.305</td>\n",
              "      <td>52052.3200</td>\n",
              "      <td>83578.93</td>\n",
              "    </tr>\n",
              "    <tr>\n",
              "      <th>Tiempo_cliente</th>\n",
              "      <td>50.0</td>\n",
              "      <td>2.9440</td>\n",
              "      <td>3.973338</td>\n",
              "      <td>0.00</td>\n",
              "      <td>0.0000</td>\n",
              "      <td>0.000</td>\n",
              "      <td>6.3500</td>\n",
              "      <td>11.30</td>\n",
              "    </tr>\n",
              "    <tr>\n",
              "      <th>Producto_ofrecido</th>\n",
              "      <td>50.0</td>\n",
              "      <td>0.7000</td>\n",
              "      <td>0.462910</td>\n",
              "      <td>0.00</td>\n",
              "      <td>0.0000</td>\n",
              "      <td>1.000</td>\n",
              "      <td>1.0000</td>\n",
              "      <td>1.00</td>\n",
              "    </tr>\n",
              "    <tr>\n",
              "      <th>Tipo_de_cliente</th>\n",
              "      <td>50.0</td>\n",
              "      <td>1.3800</td>\n",
              "      <td>1.122861</td>\n",
              "      <td>0.00</td>\n",
              "      <td>0.0000</td>\n",
              "      <td>1.000</td>\n",
              "      <td>2.0000</td>\n",
              "      <td>3.00</td>\n",
              "    </tr>\n",
              "  </tbody>\n",
              "</table>\n",
              "</div>\n",
              "      <button class=\"colab-df-convert\" onclick=\"convertToInteractive('df-102bd167-12e9-4bfc-afbd-5d25dae12fae')\"\n",
              "              title=\"Convert this dataframe to an interactive table.\"\n",
              "              style=\"display:none;\">\n",
              "        \n",
              "  <svg xmlns=\"http://www.w3.org/2000/svg\" height=\"24px\"viewBox=\"0 0 24 24\"\n",
              "       width=\"24px\">\n",
              "    <path d=\"M0 0h24v24H0V0z\" fill=\"none\"/>\n",
              "    <path d=\"M18.56 5.44l.94 2.06.94-2.06 2.06-.94-2.06-.94-.94-2.06-.94 2.06-2.06.94zm-11 1L8.5 8.5l.94-2.06 2.06-.94-2.06-.94L8.5 2.5l-.94 2.06-2.06.94zm10 10l.94 2.06.94-2.06 2.06-.94-2.06-.94-.94-2.06-.94 2.06-2.06.94z\"/><path d=\"M17.41 7.96l-1.37-1.37c-.4-.4-.92-.59-1.43-.59-.52 0-1.04.2-1.43.59L10.3 9.45l-7.72 7.72c-.78.78-.78 2.05 0 2.83L4 21.41c.39.39.9.59 1.41.59.51 0 1.02-.2 1.41-.59l7.78-7.78 2.81-2.81c.8-.78.8-2.07 0-2.86zM5.41 20L4 18.59l7.72-7.72 1.47 1.35L5.41 20z\"/>\n",
              "  </svg>\n",
              "      </button>\n",
              "      \n",
              "  <style>\n",
              "    .colab-df-container {\n",
              "      display:flex;\n",
              "      flex-wrap:wrap;\n",
              "      gap: 12px;\n",
              "    }\n",
              "\n",
              "    .colab-df-convert {\n",
              "      background-color: #E8F0FE;\n",
              "      border: none;\n",
              "      border-radius: 50%;\n",
              "      cursor: pointer;\n",
              "      display: none;\n",
              "      fill: #1967D2;\n",
              "      height: 32px;\n",
              "      padding: 0 0 0 0;\n",
              "      width: 32px;\n",
              "    }\n",
              "\n",
              "    .colab-df-convert:hover {\n",
              "      background-color: #E2EBFA;\n",
              "      box-shadow: 0px 1px 2px rgba(60, 64, 67, 0.3), 0px 1px 3px 1px rgba(60, 64, 67, 0.15);\n",
              "      fill: #174EA6;\n",
              "    }\n",
              "\n",
              "    [theme=dark] .colab-df-convert {\n",
              "      background-color: #3B4455;\n",
              "      fill: #D2E3FC;\n",
              "    }\n",
              "\n",
              "    [theme=dark] .colab-df-convert:hover {\n",
              "      background-color: #434B5C;\n",
              "      box-shadow: 0px 1px 3px 1px rgba(0, 0, 0, 0.15);\n",
              "      filter: drop-shadow(0px 1px 2px rgba(0, 0, 0, 0.3));\n",
              "      fill: #FFFFFF;\n",
              "    }\n",
              "  </style>\n",
              "\n",
              "      <script>\n",
              "        const buttonEl =\n",
              "          document.querySelector('#df-102bd167-12e9-4bfc-afbd-5d25dae12fae button.colab-df-convert');\n",
              "        buttonEl.style.display =\n",
              "          google.colab.kernel.accessAllowed ? 'block' : 'none';\n",
              "\n",
              "        async function convertToInteractive(key) {\n",
              "          const element = document.querySelector('#df-102bd167-12e9-4bfc-afbd-5d25dae12fae');\n",
              "          const dataTable =\n",
              "            await google.colab.kernel.invokeFunction('convertToInteractive',\n",
              "                                                     [key], {});\n",
              "          if (!dataTable) return;\n",
              "\n",
              "          const docLinkHtml = 'Like what you see? Visit the ' +\n",
              "            '<a target=\"_blank\" href=https://colab.research.google.com/notebooks/data_table.ipynb>data table notebook</a>'\n",
              "            + ' to learn more about interactive tables.';\n",
              "          element.innerHTML = '';\n",
              "          dataTable['output_type'] = 'display_data';\n",
              "          await google.colab.output.renderOutput(dataTable, element);\n",
              "          const docLink = document.createElement('div');\n",
              "          docLink.innerHTML = docLinkHtml;\n",
              "          element.appendChild(docLink);\n",
              "        }\n",
              "      </script>\n",
              "    </div>\n",
              "  </div>\n",
              "  "
            ]
          },
          "metadata": {},
          "execution_count": 237
        }
      ]
    },
    {
      "cell_type": "code",
      "source": [
        "#Se determina el número máximo de clusters y se aplica PCA para bajar la dimensionalidad, pasar de 6 a 2 dimensiones.\n",
        "from sklearn.decomposition import PCA\n",
        "pca = PCA(n_components=2) # Establecemos el PCA de 2 componentes\n",
        "dfnew1 = pca.fit_transform(dfnew)  # Lo aplicamos a nuestro dataset codificado\n",
        "pca.explained_variance_ratio_.cumsum() # Calculamos las varianzas acumuladas explicadas"
      ],
      "metadata": {
        "colab": {
          "base_uri": "https://localhost:8080/"
        },
        "id": "5uIiuqnwZdMk",
        "outputId": "7c57fff7-ce9a-4dc8-bf1c-f503ec5ea7f4"
      },
      "execution_count": null,
      "outputs": [
        {
          "output_type": "execute_result",
          "data": {
            "text/plain": [
              "array([0.95222838, 0.99999997])"
            ]
          },
          "metadata": {},
          "execution_count": 238
        }
      ]
    },
    {
      "cell_type": "code",
      "source": [
        "# Dispersion de Clientes\n",
        "# Grafica con Pyplot\n",
        "data1_feature1 = dfnew1[:,0]\n",
        "data1_feature2 = dfnew1[:,1]\n",
        "plt.scatter(data1_feature1, data1_feature2)\n",
        "plt.title('Gráfica de dispersión de clientes')\n",
        "plt.xlabel('Componente 1')\n",
        "plt.ylabel('Componente 2')\n",
        "plt.show()"
      ],
      "metadata": {
        "colab": {
          "base_uri": "https://localhost:8080/",
          "height": 376
        },
        "id": "hnvavBNBaqjd",
        "outputId": "72a6a143-c4da-4f17-faf9-bae9055dabc0"
      },
      "execution_count": null,
      "outputs": [
        {
          "output_type": "display_data",
          "data": {
            "text/plain": [
              "<Figure size 576x396 with 1 Axes>"
            ],
            "image/png": "[encoded data removed]"
          },
          "metadata": {}
        }
      ]
    },
    {
      "cell_type": "code",
      "source": [
        "#Selecionamos los datos para el aprendizaje automatico\n",
        "Xnew = dfnew.iloc[:, 0:6].values"
      ],
      "metadata": {
        "id": "HB6AcVX8asS2"
      },
      "execution_count": null,
      "outputs": []
    },
    {
      "cell_type": "code",
      "source": [
        "# Iniciamos el modelo y el visualizador\n",
        "model = KMeans()\n",
        "visualizer = KElbowVisualizer(model, k=(1, 11), title = \"Número Óptimo de Grupos\" )\n",
        "\n",
        "visualizer.fit(Xnew) # Hacemos fit a los datos en el visualizador\n",
        "#visualizer.ax.set_xlabel(\"Número de grupos óptimos\", fontsize=14)\n",
        "visualizer.show() # Renderizamos la figura y la mostramos"
      ],
      "metadata": {
        "colab": {
          "base_uri": "https://localhost:8080/",
          "height": 396
        },
        "id": "SShVxTfPa4Ae",
        "outputId": "a9285c8f-f337-4b13-a97c-f377a1b0a24c"
      },
      "execution_count": null,
      "outputs": [
        {
          "output_type": "display_data",
          "data": {
            "text/plain": [
              "<Figure size 576x396 with 2 Axes>"
            ],
            "image/png": "[encoded data removed]"
          },
          "metadata": {}
        },
        {
          "output_type": "execute_result",
          "data": {
            "text/plain": [
              "<matplotlib.axes._subplots.AxesSubplot at 0x7f631fdd6520>"
            ]
          },
          "metadata": {},
          "execution_count": 241
        }
      ]
    },
    {
      "cell_type": "code",
      "source": [
        "# Usaremos 3 clusters dado el numero de grupos optimos de la grafica del codo.\n",
        "\n",
        "from sklearn.cluster import KMeans\n",
        "kmeans = KMeans(n_clusters = 3, init=\"k-means++\", max_iter = 300, n_init = 10, random_state = 0)\n",
        "ynew_kmeans = kmeans.fit_predict(dfnew1)\n",
        "labelsnew = kmeans.labels_"
      ],
      "metadata": {
        "id": "2JAwQ_WebmBF"
      },
      "execution_count": null,
      "outputs": []
    },
    {
      "cell_type": "code",
      "source": [
        "#Luego de entrenarlo, veamos los valores resultantes\n",
        "ynew_kmeans"
      ],
      "metadata": {
        "colab": {
          "base_uri": "https://localhost:8080/"
        },
        "id": "OQeIjlJUb2DL",
        "outputId": "51973952-d519-4c05-cf1d-b66368c018a8"
      },
      "execution_count": null,
      "outputs": [
        {
          "output_type": "execute_result",
          "data": {
            "text/plain": [
              "array([0, 0, 1, 0, 1, 2, 2, 1, 1, 1, 2, 0, 1, 0, 2, 2, 2, 0, 0, 0, 1, 0,\n",
              "       0, 0, 0, 2, 1, 1, 0, 2, 0, 0, 2, 2, 2, 2, 0, 2, 2, 0, 0, 0, 1, 1,\n",
              "       0, 1, 0, 2, 2, 2], dtype=int32)"
            ]
          },
          "metadata": {},
          "execution_count": 243
        }
      ]
    },
    {
      "cell_type": "code",
      "source": [
        "#veamos cuantos resulados se generaron por cada cluster\n",
        "np.unique(ynew_kmeans, return_counts= True)"
      ],
      "metadata": {
        "colab": {
          "base_uri": "https://localhost:8080/"
        },
        "id": "uzQ2EiVpb7L0",
        "outputId": "eaf80013-5bb6-4f45-bda2-44e597aab5af"
      },
      "execution_count": null,
      "outputs": [
        {
          "output_type": "execute_result",
          "data": {
            "text/plain": [
              "(array([0, 1, 2], dtype=int32), array([21, 12, 17]))"
            ]
          },
          "metadata": {},
          "execution_count": 244
        }
      ]
    },
    {
      "cell_type": "code",
      "source": [
        "#realizamos el grafico de dispersion de K-means, donde vemos un grupo diferente llamados cluster 1, 2 y 3.\n",
        "plt.scatter(dfnew1[ynew_kmeans == 0, 0], dfnew1[ynew_kmeans == 0, 1], s = 100, marker= '.', c = \"yellow\", label = \"Cluster 1\")\n",
        "plt.scatter(dfnew1[ynew_kmeans == 1, 0], dfnew1[ynew_kmeans == 1, 1], s = 100, marker= '.', c = \"green\", label = \"Cluster 2\")\n",
        "plt.scatter(dfnew1[ynew_kmeans == 2, 0], dfnew1[ynew_kmeans == 2, 1], s = 100, marker= '.', c = \"blue\", label = \"Cluster 3\")\n",
        "plt.scatter(kmeans.cluster_centers_[:, 0], kmeans.cluster_centers_[:, 1], s = 100, marker= '*', c = \"red\", label = \"Centroides\")\n",
        "plt.title(\"Resultados de dispersion K-Means\")\n",
        "plt.xlabel(\"Valores en el componente 1\")\n",
        "plt.ylabel(\"Valores en el componente 2\")\n",
        "plt.legend()\n",
        "plt.show()"
      ],
      "metadata": {
        "colab": {
          "base_uri": "https://localhost:8080/",
          "height": 376
        },
        "id": "Zjz-vDDIcBav",
        "outputId": "f25f5155-0294-48ec-89a6-0f44354515cb"
      },
      "execution_count": null,
      "outputs": [
        {
          "output_type": "display_data",
          "data": {
            "text/plain": [
              "<Figure size 576x396 with 1 Axes>"
            ],
            "image/png": "[encoded data removed]"
          },
          "metadata": {}
        }
      ]
    },
    {
      "cell_type": "code",
      "source": [
        "# Usamos una de la métricas de evaluación de agrupamiento más utilizada, \n",
        "# el coeficiente de silhouette realizando la comparación de la distancia\n",
        "# Importamos las bibliotecas\n",
        "from sklearn import metrics\n",
        "from sklearn.metrics import silhouette_score\n",
        "\n",
        "s_score = silhouette_score(dfnew1, labelsnew, metric='euclidean')\n",
        "print(f'El coeficiente de silueta es de {s_score}.')\n"
      ],
      "metadata": {
        "colab": {
          "base_uri": "https://localhost:8080/"
        },
        "id": "dTGjZ2HMc97H",
        "outputId": "d8fa0d3e-7dc2-4e04-8b52-40361d69fe59"
      },
      "execution_count": null,
      "outputs": [
        {
          "output_type": "stream",
          "name": "stdout",
          "text": [
            "El coeficiente de silueta es de 0.5178446369063634.\n"
          ]
        }
      ]
    },
    {
      "cell_type": "markdown",
      "source": [
        "El puntaje de análisis de silueta fue de 0.5178 el cual tiende a 1, lo que indica una buena agrupación."
      ],
      "metadata": {
        "id": "RJ6xNrCZfORF"
      }
    },
    {
      "cell_type": "code",
      "source": [
        "# Generamos los scores con ayuda de scikit-learn\n",
        "Silueta = metrics.silhouette_score(dfnew1, labelsnew)\n",
        "Calinski_Harabasz = metrics.calinski_harabasz_score(dfnew1, labelsnew)\n",
        "Davies_Bouldin = metrics.davies_bouldin_score(dfnew1, labelsnew)"
      ],
      "metadata": {
        "id": "nWCmED5UPs3S"
      },
      "execution_count": null,
      "outputs": []
    },
    {
      "cell_type": "code",
      "source": [
        "# Imprimimos los scores\n",
        "print(\"Score Analísis de silueta: \", Silueta)\n",
        "print(\"Score indice Calinski-Harabasz : \", Calinski_Harabasz)\n",
        "print(\"Score indice Davies-Bouldin: \", Davies_Bouldin)"
      ],
      "metadata": {
        "colab": {
          "base_uri": "https://localhost:8080/"
        },
        "id": "Ayq1lU1dP4Rz",
        "outputId": "36bbe6b2-711a-4e01-9e87-e2006d46e856"
      },
      "execution_count": null,
      "outputs": [
        {
          "output_type": "stream",
          "name": "stdout",
          "text": [
            "Score Analísis de silueta:  0.5178446369063634\n",
            "Score indice Calinski-Harabasz :  117.95395740959447\n",
            "Score indice Davies-Bouldin:  0.6109164242500865\n"
          ]
        }
      ]
    },
    {
      "cell_type": "markdown",
      "source": [
        "**Punto extra 2**"
      ],
      "metadata": {
        "id": "45EzdKeyIkGt"
      }
    },
    {
      "cell_type": "code",
      "source": [
        "data1 = pd.read_csv('/content/drive/MyDrive/UCamp/costumers.csv')\n",
        "data2 = pd.read_csv('/content/drive/MyDrive/UCamp/new_costumer.csv')"
      ],
      "metadata": {
        "id": "HY810OUGnShG"
      },
      "execution_count": null,
      "outputs": []
    },
    {
      "cell_type": "code",
      "source": [
        "data1.info()"
      ],
      "metadata": {
        "colab": {
          "base_uri": "https://localhost:8080/"
        },
        "id": "Byji7HsVoBPV",
        "outputId": "3ea96fe3-f4a7-4254-cd97-5c608f648550"
      },
      "execution_count": null,
      "outputs": [
        {
          "output_type": "stream",
          "name": "stdout",
          "text": [
            "<class 'pandas.core.frame.DataFrame'>\n",
            "RangeIndex: 500 entries, 0 to 499\n",
            "Data columns (total 6 columns):\n",
            " #   Column             Non-Null Count  Dtype  \n",
            "---  ------             --------------  -----  \n",
            " 0   Salario            500 non-null    float64\n",
            " 1   Credito_tipo_1     500 non-null    int64  \n",
            " 2   Credito_tipo_2     500 non-null    int64  \n",
            " 3   Limite_TC          500 non-null    float64\n",
            " 4   Tiempo_cliente     500 non-null    float64\n",
            " 5   Producto_ofrecido  500 non-null    int64  \n",
            "dtypes: float64(3), int64(3)\n",
            "memory usage: 23.6 KB\n"
          ]
        }
      ]
    },
    {
      "cell_type": "code",
      "source": [
        "data2.info()"
      ],
      "metadata": {
        "colab": {
          "base_uri": "https://localhost:8080/"
        },
        "id": "6mEauTqeogX5",
        "outputId": "4e3bb144-56bb-4b69-edac-03fcd9b04ba7"
      },
      "execution_count": null,
      "outputs": [
        {
          "output_type": "stream",
          "name": "stdout",
          "text": [
            "<class 'pandas.core.frame.DataFrame'>\n",
            "RangeIndex: 50 entries, 0 to 49\n",
            "Data columns (total 7 columns):\n",
            " #   Column             Non-Null Count  Dtype  \n",
            "---  ------             --------------  -----  \n",
            " 0   Salario            50 non-null     float64\n",
            " 1   Credito_tipo_1     50 non-null     int64  \n",
            " 2   Credito_tipo_2     50 non-null     int64  \n",
            " 3   Limite_TC          50 non-null     float64\n",
            " 4   Tiempo_cliente     50 non-null     float64\n",
            " 5   Producto_ofrecido  50 non-null     int64  \n",
            " 6   Tipo_de_cliente    50 non-null     int64  \n",
            "dtypes: float64(3), int64(4)\n",
            "memory usage: 2.9 KB\n"
          ]
        }
      ]
    },
    {
      "cell_type": "code",
      "source": [
        "data_result = data1.append(data2)"
      ],
      "metadata": {
        "id": "Bcvm_llJok8T"
      },
      "execution_count": null,
      "outputs": []
    },
    {
      "cell_type": "code",
      "source": [
        "data_result.head()"
      ],
      "metadata": {
        "colab": {
          "base_uri": "https://localhost:8080/",
          "height": 206
        },
        "id": "Dx9aS0YHpSn3",
        "outputId": "0c1460cc-3bd1-4341-ccfa-443e1e2684e1"
      },
      "execution_count": null,
      "outputs": [
        {
          "output_type": "execute_result",
          "data": {
            "text/plain": [
              "    Salario  Credito_tipo_1  Credito_tipo_2  Limite_TC  Tiempo_cliente  \\\n",
              "0  22572.91               1               0   30136.74             0.0   \n",
              "1  10609.64               1               1   53623.94             0.0   \n",
              "2  10079.48               0               1   18135.44             0.0   \n",
              "3  13871.35               1               0   30831.75             0.0   \n",
              "4   6541.46               0               1   20626.23             0.0   \n",
              "\n",
              "   Producto_ofrecido  Tipo_de_cliente  \n",
              "0                  1              NaN  \n",
              "1                  1              NaN  \n",
              "2                  0              NaN  \n",
              "3                  1              NaN  \n",
              "4                  0              NaN  "
            ],
            "text/html": [
              "\n",
              "  <div id=\"df-2a45824b-6471-4265-b045-489186315554\">\n",
              "    <div class=\"colab-df-container\">\n",
              "      <div>\n",
              "<style scoped>\n",
              "    .dataframe tbody tr th:only-of-type {\n",
              "        vertical-align: middle;\n",
              "    }\n",
              "\n",
              "    .dataframe tbody tr th {\n",
              "        vertical-align: top;\n",
              "    }\n",
              "\n",
              "    .dataframe thead th {\n",
              "        text-align: right;\n",
              "    }\n",
              "</style>\n",
              "<table border=\"1\" class=\"dataframe\">\n",
              "  <thead>\n",
              "    <tr style=\"text-align: right;\">\n",
              "      <th></th>\n",
              "      <th>Salario</th>\n",
              "      <th>Credito_tipo_1</th>\n",
              "      <th>Credito_tipo_2</th>\n",
              "      <th>Limite_TC</th>\n",
              "      <th>Tiempo_cliente</th>\n",
              "      <th>Producto_ofrecido</th>\n",
              "      <th>Tipo_de_cliente</th>\n",
              "    </tr>\n",
              "  </thead>\n",
              "  <tbody>\n",
              "    <tr>\n",
              "      <th>0</th>\n",
              "      <td>22572.91</td>\n",
              "      <td>1</td>\n",
              "      <td>0</td>\n",
              "      <td>30136.74</td>\n",
              "      <td>0.0</td>\n",
              "      <td>1</td>\n",
              "      <td>NaN</td>\n",
              "    </tr>\n",
              "    <tr>\n",
              "      <th>1</th>\n",
              "      <td>10609.64</td>\n",
              "      <td>1</td>\n",
              "      <td>1</td>\n",
              "      <td>53623.94</td>\n",
              "      <td>0.0</td>\n",
              "      <td>1</td>\n",
              "      <td>NaN</td>\n",
              "    </tr>\n",
              "    <tr>\n",
              "      <th>2</th>\n",
              "      <td>10079.48</td>\n",
              "      <td>0</td>\n",
              "      <td>1</td>\n",
              "      <td>18135.44</td>\n",
              "      <td>0.0</td>\n",
              "      <td>0</td>\n",
              "      <td>NaN</td>\n",
              "    </tr>\n",
              "    <tr>\n",
              "      <th>3</th>\n",
              "      <td>13871.35</td>\n",
              "      <td>1</td>\n",
              "      <td>0</td>\n",
              "      <td>30831.75</td>\n",
              "      <td>0.0</td>\n",
              "      <td>1</td>\n",
              "      <td>NaN</td>\n",
              "    </tr>\n",
              "    <tr>\n",
              "      <th>4</th>\n",
              "      <td>6541.46</td>\n",
              "      <td>0</td>\n",
              "      <td>1</td>\n",
              "      <td>20626.23</td>\n",
              "      <td>0.0</td>\n",
              "      <td>0</td>\n",
              "      <td>NaN</td>\n",
              "    </tr>\n",
              "  </tbody>\n",
              "</table>\n",
              "</div>\n",
              "      <button class=\"colab-df-convert\" onclick=\"convertToInteractive('df-2a45824b-6471-4265-b045-489186315554')\"\n",
              "              title=\"Convert this dataframe to an interactive table.\"\n",
              "              style=\"display:none;\">\n",
              "        \n",
              "  <svg xmlns=\"http://www.w3.org/2000/svg\" height=\"24px\"viewBox=\"0 0 24 24\"\n",
              "       width=\"24px\">\n",
              "    <path d=\"M0 0h24v24H0V0z\" fill=\"none\"/>\n",
              "    <path d=\"M18.56 5.44l.94 2.06.94-2.06 2.06-.94-2.06-.94-.94-2.06-.94 2.06-2.06.94zm-11 1L8.5 8.5l.94-2.06 2.06-.94-2.06-.94L8.5 2.5l-.94 2.06-2.06.94zm10 10l.94 2.06.94-2.06 2.06-.94-2.06-.94-.94-2.06-.94 2.06-2.06.94z\"/><path d=\"M17.41 7.96l-1.37-1.37c-.4-.4-.92-.59-1.43-.59-.52 0-1.04.2-1.43.59L10.3 9.45l-7.72 7.72c-.78.78-.78 2.05 0 2.83L4 21.41c.39.39.9.59 1.41.59.51 0 1.02-.2 1.41-.59l7.78-7.78 2.81-2.81c.8-.78.8-2.07 0-2.86zM5.41 20L4 18.59l7.72-7.72 1.47 1.35L5.41 20z\"/>\n",
              "  </svg>\n",
              "      </button>\n",
              "      \n",
              "  <style>\n",
              "    .colab-df-container {\n",
              "      display:flex;\n",
              "      flex-wrap:wrap;\n",
              "      gap: 12px;\n",
              "    }\n",
              "\n",
              "    .colab-df-convert {\n",
              "      background-color: #E8F0FE;\n",
              "      border: none;\n",
              "      border-radius: 50%;\n",
              "      cursor: pointer;\n",
              "      display: none;\n",
              "      fill: #1967D2;\n",
              "      height: 32px;\n",
              "      padding: 0 0 0 0;\n",
              "      width: 32px;\n",
              "    }\n",
              "\n",
              "    .colab-df-convert:hover {\n",
              "      background-color: #E2EBFA;\n",
              "      box-shadow: 0px 1px 2px rgba(60, 64, 67, 0.3), 0px 1px 3px 1px rgba(60, 64, 67, 0.15);\n",
              "      fill: #174EA6;\n",
              "    }\n",
              "\n",
              "    [theme=dark] .colab-df-convert {\n",
              "      background-color: #3B4455;\n",
              "      fill: #D2E3FC;\n",
              "    }\n",
              "\n",
              "    [theme=dark] .colab-df-convert:hover {\n",
              "      background-color: #434B5C;\n",
              "      box-shadow: 0px 1px 3px 1px rgba(0, 0, 0, 0.15);\n",
              "      filter: drop-shadow(0px 1px 2px rgba(0, 0, 0, 0.3));\n",
              "      fill: #FFFFFF;\n",
              "    }\n",
              "  </style>\n",
              "\n",
              "      <script>\n",
              "        const buttonEl =\n",
              "          document.querySelector('#df-2a45824b-6471-4265-b045-489186315554 button.colab-df-convert');\n",
              "        buttonEl.style.display =\n",
              "          google.colab.kernel.accessAllowed ? 'block' : 'none';\n",
              "\n",
              "        async function convertToInteractive(key) {\n",
              "          const element = document.querySelector('#df-2a45824b-6471-4265-b045-489186315554');\n",
              "          const dataTable =\n",
              "            await google.colab.kernel.invokeFunction('convertToInteractive',\n",
              "                                                     [key], {});\n",
              "          if (!dataTable) return;\n",
              "\n",
              "          const docLinkHtml = 'Like what you see? Visit the ' +\n",
              "            '<a target=\"_blank\" href=https://colab.research.google.com/notebooks/data_table.ipynb>data table notebook</a>'\n",
              "            + ' to learn more about interactive tables.';\n",
              "          element.innerHTML = '';\n",
              "          dataTable['output_type'] = 'display_data';\n",
              "          await google.colab.output.renderOutput(dataTable, element);\n",
              "          const docLink = document.createElement('div');\n",
              "          docLink.innerHTML = docLinkHtml;\n",
              "          element.appendChild(docLink);\n",
              "        }\n",
              "      </script>\n",
              "    </div>\n",
              "  </div>\n",
              "  "
            ]
          },
          "metadata": {},
          "execution_count": 253
        }
      ]
    },
    {
      "cell_type": "code",
      "source": [
        "print(data_result)"
      ],
      "metadata": {
        "colab": {
          "base_uri": "https://localhost:8080/"
        },
        "id": "FlscP_3ko0Tu",
        "outputId": "a75b343b-0253-4aa4-9822-3891e143bfe1"
      },
      "execution_count": null,
      "outputs": [
        {
          "output_type": "stream",
          "name": "stdout",
          "text": [
            "     Salario  Credito_tipo_1  Credito_tipo_2  Limite_TC  Tiempo_cliente  \\\n",
            "0   22572.91               1               0   30136.74             0.0   \n",
            "1   10609.64               1               1   53623.94             0.0   \n",
            "2   10079.48               0               1   18135.44             0.0   \n",
            "3   13871.35               1               0   30831.75             0.0   \n",
            "4    6541.46               0               1   20626.23             0.0   \n",
            "..       ...             ...             ...        ...             ...   \n",
            "45   -638.96               1               1   83578.93             5.6   \n",
            "46  11022.47               0               1   23592.14             0.0   \n",
            "47   8384.00               0               1   41851.53             9.3   \n",
            "48  13924.97               0               1   52062.57             7.8   \n",
            "49  19648.87               1               0   39274.59             0.0   \n",
            "\n",
            "    Producto_ofrecido  Tipo_de_cliente  \n",
            "0                   1              NaN  \n",
            "1                   1              NaN  \n",
            "2                   0              NaN  \n",
            "3                   1              NaN  \n",
            "4                   0              NaN  \n",
            "..                ...              ...  \n",
            "45                  1              1.0  \n",
            "46                  1              1.0  \n",
            "47                  1              3.0  \n",
            "48                  1              3.0  \n",
            "49                  1              1.0  \n",
            "\n",
            "[550 rows x 7 columns]\n"
          ]
        }
      ]
    },
    {
      "cell_type": "code",
      "source": [
        "data_result.info()"
      ],
      "metadata": {
        "colab": {
          "base_uri": "https://localhost:8080/"
        },
        "id": "OnEMoOnjo5EN",
        "outputId": "b756688a-e260-4b01-ea52-b09ecb97b657"
      },
      "execution_count": null,
      "outputs": [
        {
          "output_type": "stream",
          "name": "stdout",
          "text": [
            "<class 'pandas.core.frame.DataFrame'>\n",
            "Int64Index: 550 entries, 0 to 49\n",
            "Data columns (total 7 columns):\n",
            " #   Column             Non-Null Count  Dtype  \n",
            "---  ------             --------------  -----  \n",
            " 0   Salario            550 non-null    float64\n",
            " 1   Credito_tipo_1     550 non-null    int64  \n",
            " 2   Credito_tipo_2     550 non-null    int64  \n",
            " 3   Limite_TC          550 non-null    float64\n",
            " 4   Tiempo_cliente     550 non-null    float64\n",
            " 5   Producto_ofrecido  550 non-null    int64  \n",
            " 6   Tipo_de_cliente    50 non-null     float64\n",
            "dtypes: float64(4), int64(3)\n",
            "memory usage: 34.4 KB\n"
          ]
        }
      ]
    },
    {
      "cell_type": "code",
      "source": [
        "data_result.describe().T"
      ],
      "metadata": {
        "colab": {
          "base_uri": "https://localhost:8080/",
          "height": 269
        },
        "id": "-WFhdYlTqF28",
        "outputId": "fc298d42-e668-442d-d12e-547849476d4c"
      },
      "execution_count": null,
      "outputs": [
        {
          "output_type": "execute_result",
          "data": {
            "text/plain": [
              "                   count          mean           std       min         25%  \\\n",
              "Salario            550.0  12193.008018   5190.187143  -2911.65   8611.9825   \n",
              "Credito_tipo_1     550.0      0.601818      0.489969      0.00      0.0000   \n",
              "Credito_tipo_2     550.0      0.461818      0.498994      0.00      0.0000   \n",
              "Limite_TC          550.0  44206.201764  22042.981836 -22207.95  29271.3275   \n",
              "Tiempo_cliente     550.0      4.201273      4.730375      0.00      0.0000   \n",
              "Producto_ofrecido  550.0      0.610909      0.487988      0.00      0.0000   \n",
              "Tipo_de_cliente     50.0      1.380000      1.122861      0.00      0.0000   \n",
              "\n",
              "                        50%         75%        max  \n",
              "Salario            11570.87  15323.3250   30041.40  \n",
              "Credito_tipo_1         1.00      1.0000       1.00  \n",
              "Credito_tipo_2         0.00      1.0000       1.00  \n",
              "Limite_TC          47173.74  58972.0175  118636.82  \n",
              "Tiempo_cliente         0.00      8.2000      19.30  \n",
              "Producto_ofrecido      1.00      1.0000       1.00  \n",
              "Tipo_de_cliente        1.00      2.0000       3.00  "
            ],
            "text/html": [
              "\n",
              "  <div id=\"df-20a067ce-30b2-4b7c-9a5c-17cd08391b28\">\n",
              "    <div class=\"colab-df-container\">\n",
              "      <div>\n",
              "<style scoped>\n",
              "    .dataframe tbody tr th:only-of-type {\n",
              "        vertical-align: middle;\n",
              "    }\n",
              "\n",
              "    .dataframe tbody tr th {\n",
              "        vertical-align: top;\n",
              "    }\n",
              "\n",
              "    .dataframe thead th {\n",
              "        text-align: right;\n",
              "    }\n",
              "</style>\n",
              "<table border=\"1\" class=\"dataframe\">\n",
              "  <thead>\n",
              "    <tr style=\"text-align: right;\">\n",
              "      <th></th>\n",
              "      <th>count</th>\n",
              "      <th>mean</th>\n",
              "      <th>std</th>\n",
              "      <th>min</th>\n",
              "      <th>25%</th>\n",
              "      <th>50%</th>\n",
              "      <th>75%</th>\n",
              "      <th>max</th>\n",
              "    </tr>\n",
              "  </thead>\n",
              "  <tbody>\n",
              "    <tr>\n",
              "      <th>Salario</th>\n",
              "      <td>550.0</td>\n",
              "      <td>12193.008018</td>\n",
              "      <td>5190.187143</td>\n",
              "      <td>-2911.65</td>\n",
              "      <td>8611.9825</td>\n",
              "      <td>11570.87</td>\n",
              "      <td>15323.3250</td>\n",
              "      <td>30041.40</td>\n",
              "    </tr>\n",
              "    <tr>\n",
              "      <th>Credito_tipo_1</th>\n",
              "      <td>550.0</td>\n",
              "      <td>0.601818</td>\n",
              "      <td>0.489969</td>\n",
              "      <td>0.00</td>\n",
              "      <td>0.0000</td>\n",
              "      <td>1.00</td>\n",
              "      <td>1.0000</td>\n",
              "      <td>1.00</td>\n",
              "    </tr>\n",
              "    <tr>\n",
              "      <th>Credito_tipo_2</th>\n",
              "      <td>550.0</td>\n",
              "      <td>0.461818</td>\n",
              "      <td>0.498994</td>\n",
              "      <td>0.00</td>\n",
              "      <td>0.0000</td>\n",
              "      <td>0.00</td>\n",
              "      <td>1.0000</td>\n",
              "      <td>1.00</td>\n",
              "    </tr>\n",
              "    <tr>\n",
              "      <th>Limite_TC</th>\n",
              "      <td>550.0</td>\n",
              "      <td>44206.201764</td>\n",
              "      <td>22042.981836</td>\n",
              "      <td>-22207.95</td>\n",
              "      <td>29271.3275</td>\n",
              "      <td>47173.74</td>\n",
              "      <td>58972.0175</td>\n",
              "      <td>118636.82</td>\n",
              "    </tr>\n",
              "    <tr>\n",
              "      <th>Tiempo_cliente</th>\n",
              "      <td>550.0</td>\n",
              "      <td>4.201273</td>\n",
              "      <td>4.730375</td>\n",
              "      <td>0.00</td>\n",
              "      <td>0.0000</td>\n",
              "      <td>0.00</td>\n",
              "      <td>8.2000</td>\n",
              "      <td>19.30</td>\n",
              "    </tr>\n",
              "    <tr>\n",
              "      <th>Producto_ofrecido</th>\n",
              "      <td>550.0</td>\n",
              "      <td>0.610909</td>\n",
              "      <td>0.487988</td>\n",
              "      <td>0.00</td>\n",
              "      <td>0.0000</td>\n",
              "      <td>1.00</td>\n",
              "      <td>1.0000</td>\n",
              "      <td>1.00</td>\n",
              "    </tr>\n",
              "    <tr>\n",
              "      <th>Tipo_de_cliente</th>\n",
              "      <td>50.0</td>\n",
              "      <td>1.380000</td>\n",
              "      <td>1.122861</td>\n",
              "      <td>0.00</td>\n",
              "      <td>0.0000</td>\n",
              "      <td>1.00</td>\n",
              "      <td>2.0000</td>\n",
              "      <td>3.00</td>\n",
              "    </tr>\n",
              "  </tbody>\n",
              "</table>\n",
              "</div>\n",
              "      <button class=\"colab-df-convert\" onclick=\"convertToInteractive('df-20a067ce-30b2-4b7c-9a5c-17cd08391b28')\"\n",
              "              title=\"Convert this dataframe to an interactive table.\"\n",
              "              style=\"display:none;\">\n",
              "        \n",
              "  <svg xmlns=\"http://www.w3.org/2000/svg\" height=\"24px\"viewBox=\"0 0 24 24\"\n",
              "       width=\"24px\">\n",
              "    <path d=\"M0 0h24v24H0V0z\" fill=\"none\"/>\n",
              "    <path d=\"M18.56 5.44l.94 2.06.94-2.06 2.06-.94-2.06-.94-.94-2.06-.94 2.06-2.06.94zm-11 1L8.5 8.5l.94-2.06 2.06-.94-2.06-.94L8.5 2.5l-.94 2.06-2.06.94zm10 10l.94 2.06.94-2.06 2.06-.94-2.06-.94-.94-2.06-.94 2.06-2.06.94z\"/><path d=\"M17.41 7.96l-1.37-1.37c-.4-.4-.92-.59-1.43-.59-.52 0-1.04.2-1.43.59L10.3 9.45l-7.72 7.72c-.78.78-.78 2.05 0 2.83L4 21.41c.39.39.9.59 1.41.59.51 0 1.02-.2 1.41-.59l7.78-7.78 2.81-2.81c.8-.78.8-2.07 0-2.86zM5.41 20L4 18.59l7.72-7.72 1.47 1.35L5.41 20z\"/>\n",
              "  </svg>\n",
              "      </button>\n",
              "      \n",
              "  <style>\n",
              "    .colab-df-container {\n",
              "      display:flex;\n",
              "      flex-wrap:wrap;\n",
              "      gap: 12px;\n",
              "    }\n",
              "\n",
              "    .colab-df-convert {\n",
              "      background-color: #E8F0FE;\n",
              "      border: none;\n",
              "      border-radius: 50%;\n",
              "      cursor: pointer;\n",
              "      display: none;\n",
              "      fill: #1967D2;\n",
              "      height: 32px;\n",
              "      padding: 0 0 0 0;\n",
              "      width: 32px;\n",
              "    }\n",
              "\n",
              "    .colab-df-convert:hover {\n",
              "      background-color: #E2EBFA;\n",
              "      box-shadow: 0px 1px 2px rgba(60, 64, 67, 0.3), 0px 1px 3px 1px rgba(60, 64, 67, 0.15);\n",
              "      fill: #174EA6;\n",
              "    }\n",
              "\n",
              "    [theme=dark] .colab-df-convert {\n",
              "      background-color: #3B4455;\n",
              "      fill: #D2E3FC;\n",
              "    }\n",
              "\n",
              "    [theme=dark] .colab-df-convert:hover {\n",
              "      background-color: #434B5C;\n",
              "      box-shadow: 0px 1px 3px 1px rgba(0, 0, 0, 0.15);\n",
              "      filter: drop-shadow(0px 1px 2px rgba(0, 0, 0, 0.3));\n",
              "      fill: #FFFFFF;\n",
              "    }\n",
              "  </style>\n",
              "\n",
              "      <script>\n",
              "        const buttonEl =\n",
              "          document.querySelector('#df-20a067ce-30b2-4b7c-9a5c-17cd08391b28 button.colab-df-convert');\n",
              "        buttonEl.style.display =\n",
              "          google.colab.kernel.accessAllowed ? 'block' : 'none';\n",
              "\n",
              "        async function convertToInteractive(key) {\n",
              "          const element = document.querySelector('#df-20a067ce-30b2-4b7c-9a5c-17cd08391b28');\n",
              "          const dataTable =\n",
              "            await google.colab.kernel.invokeFunction('convertToInteractive',\n",
              "                                                     [key], {});\n",
              "          if (!dataTable) return;\n",
              "\n",
              "          const docLinkHtml = 'Like what you see? Visit the ' +\n",
              "            '<a target=\"_blank\" href=https://colab.research.google.com/notebooks/data_table.ipynb>data table notebook</a>'\n",
              "            + ' to learn more about interactive tables.';\n",
              "          element.innerHTML = '';\n",
              "          dataTable['output_type'] = 'display_data';\n",
              "          await google.colab.output.renderOutput(dataTable, element);\n",
              "          const docLink = document.createElement('div');\n",
              "          docLink.innerHTML = docLinkHtml;\n",
              "          element.appendChild(docLink);\n",
              "        }\n",
              "      </script>\n",
              "    </div>\n",
              "  </div>\n",
              "  "
            ]
          },
          "metadata": {},
          "execution_count": 256
        }
      ]
    },
    {
      "cell_type": "code",
      "source": [
        "completitud = pd.DataFrame(data_result.isnull().sum())\n",
        "completitud"
      ],
      "metadata": {
        "colab": {
          "base_uri": "https://localhost:8080/",
          "height": 269
        },
        "id": "QPnWt-oeusub",
        "outputId": "ccc4ded6-2963-4dc4-a20b-22021c2321f5"
      },
      "execution_count": null,
      "outputs": [
        {
          "output_type": "execute_result",
          "data": {
            "text/plain": [
              "                     0\n",
              "Salario              0\n",
              "Credito_tipo_1       0\n",
              "Credito_tipo_2       0\n",
              "Limite_TC            0\n",
              "Tiempo_cliente       0\n",
              "Producto_ofrecido    0\n",
              "Tipo_de_cliente    500"
            ],
            "text/html": [
              "\n",
              "  <div id=\"df-30119ca4-5e31-4075-8390-993a56b480bc\">\n",
              "    <div class=\"colab-df-container\">\n",
              "      <div>\n",
              "<style scoped>\n",
              "    .dataframe tbody tr th:only-of-type {\n",
              "        vertical-align: middle;\n",
              "    }\n",
              "\n",
              "    .dataframe tbody tr th {\n",
              "        vertical-align: top;\n",
              "    }\n",
              "\n",
              "    .dataframe thead th {\n",
              "        text-align: right;\n",
              "    }\n",
              "</style>\n",
              "<table border=\"1\" class=\"dataframe\">\n",
              "  <thead>\n",
              "    <tr style=\"text-align: right;\">\n",
              "      <th></th>\n",
              "      <th>0</th>\n",
              "    </tr>\n",
              "  </thead>\n",
              "  <tbody>\n",
              "    <tr>\n",
              "      <th>Salario</th>\n",
              "      <td>0</td>\n",
              "    </tr>\n",
              "    <tr>\n",
              "      <th>Credito_tipo_1</th>\n",
              "      <td>0</td>\n",
              "    </tr>\n",
              "    <tr>\n",
              "      <th>Credito_tipo_2</th>\n",
              "      <td>0</td>\n",
              "    </tr>\n",
              "    <tr>\n",
              "      <th>Limite_TC</th>\n",
              "      <td>0</td>\n",
              "    </tr>\n",
              "    <tr>\n",
              "      <th>Tiempo_cliente</th>\n",
              "      <td>0</td>\n",
              "    </tr>\n",
              "    <tr>\n",
              "      <th>Producto_ofrecido</th>\n",
              "      <td>0</td>\n",
              "    </tr>\n",
              "    <tr>\n",
              "      <th>Tipo_de_cliente</th>\n",
              "      <td>500</td>\n",
              "    </tr>\n",
              "  </tbody>\n",
              "</table>\n",
              "</div>\n",
              "      <button class=\"colab-df-convert\" onclick=\"convertToInteractive('df-30119ca4-5e31-4075-8390-993a56b480bc')\"\n",
              "              title=\"Convert this dataframe to an interactive table.\"\n",
              "              style=\"display:none;\">\n",
              "        \n",
              "  <svg xmlns=\"http://www.w3.org/2000/svg\" height=\"24px\"viewBox=\"0 0 24 24\"\n",
              "       width=\"24px\">\n",
              "    <path d=\"M0 0h24v24H0V0z\" fill=\"none\"/>\n",
              "    <path d=\"M18.56 5.44l.94 2.06.94-2.06 2.06-.94-2.06-.94-.94-2.06-.94 2.06-2.06.94zm-11 1L8.5 8.5l.94-2.06 2.06-.94-2.06-.94L8.5 2.5l-.94 2.06-2.06.94zm10 10l.94 2.06.94-2.06 2.06-.94-2.06-.94-.94-2.06-.94 2.06-2.06.94z\"/><path d=\"M17.41 7.96l-1.37-1.37c-.4-.4-.92-.59-1.43-.59-.52 0-1.04.2-1.43.59L10.3 9.45l-7.72 7.72c-.78.78-.78 2.05 0 2.83L4 21.41c.39.39.9.59 1.41.59.51 0 1.02-.2 1.41-.59l7.78-7.78 2.81-2.81c.8-.78.8-2.07 0-2.86zM5.41 20L4 18.59l7.72-7.72 1.47 1.35L5.41 20z\"/>\n",
              "  </svg>\n",
              "      </button>\n",
              "      \n",
              "  <style>\n",
              "    .colab-df-container {\n",
              "      display:flex;\n",
              "      flex-wrap:wrap;\n",
              "      gap: 12px;\n",
              "    }\n",
              "\n",
              "    .colab-df-convert {\n",
              "      background-color: #E8F0FE;\n",
              "      border: none;\n",
              "      border-radius: 50%;\n",
              "      cursor: pointer;\n",
              "      display: none;\n",
              "      fill: #1967D2;\n",
              "      height: 32px;\n",
              "      padding: 0 0 0 0;\n",
              "      width: 32px;\n",
              "    }\n",
              "\n",
              "    .colab-df-convert:hover {\n",
              "      background-color: #E2EBFA;\n",
              "      box-shadow: 0px 1px 2px rgba(60, 64, 67, 0.3), 0px 1px 3px 1px rgba(60, 64, 67, 0.15);\n",
              "      fill: #174EA6;\n",
              "    }\n",
              "\n",
              "    [theme=dark] .colab-df-convert {\n",
              "      background-color: #3B4455;\n",
              "      fill: #D2E3FC;\n",
              "    }\n",
              "\n",
              "    [theme=dark] .colab-df-convert:hover {\n",
              "      background-color: #434B5C;\n",
              "      box-shadow: 0px 1px 3px 1px rgba(0, 0, 0, 0.15);\n",
              "      filter: drop-shadow(0px 1px 2px rgba(0, 0, 0, 0.3));\n",
              "      fill: #FFFFFF;\n",
              "    }\n",
              "  </style>\n",
              "\n",
              "      <script>\n",
              "        const buttonEl =\n",
              "          document.querySelector('#df-30119ca4-5e31-4075-8390-993a56b480bc button.colab-df-convert');\n",
              "        buttonEl.style.display =\n",
              "          google.colab.kernel.accessAllowed ? 'block' : 'none';\n",
              "\n",
              "        async function convertToInteractive(key) {\n",
              "          const element = document.querySelector('#df-30119ca4-5e31-4075-8390-993a56b480bc');\n",
              "          const dataTable =\n",
              "            await google.colab.kernel.invokeFunction('convertToInteractive',\n",
              "                                                     [key], {});\n",
              "          if (!dataTable) return;\n",
              "\n",
              "          const docLinkHtml = 'Like what you see? Visit the ' +\n",
              "            '<a target=\"_blank\" href=https://colab.research.google.com/notebooks/data_table.ipynb>data table notebook</a>'\n",
              "            + ' to learn more about interactive tables.';\n",
              "          element.innerHTML = '';\n",
              "          dataTable['output_type'] = 'display_data';\n",
              "          await google.colab.output.renderOutput(dataTable, element);\n",
              "          const docLink = document.createElement('div');\n",
              "          docLink.innerHTML = docLinkHtml;\n",
              "          element.appendChild(docLink);\n",
              "        }\n",
              "      </script>\n",
              "    </div>\n",
              "  </div>\n",
              "  "
            ]
          },
          "metadata": {},
          "execution_count": 257
        }
      ]
    },
    {
      "cell_type": "code",
      "source": [
        "completitud = completitud.rename(columns = {\"index\":\"columna\",0:\"total\"})\n",
        "completitud"
      ],
      "metadata": {
        "colab": {
          "base_uri": "https://localhost:8080/",
          "height": 269
        },
        "id": "tW2NAEY_tzIX",
        "outputId": "ad04fc4a-3654-454e-d4bd-7d806705e517"
      },
      "execution_count": null,
      "outputs": [
        {
          "output_type": "execute_result",
          "data": {
            "text/plain": [
              "                   total\n",
              "Salario                0\n",
              "Credito_tipo_1         0\n",
              "Credito_tipo_2         0\n",
              "Limite_TC              0\n",
              "Tiempo_cliente         0\n",
              "Producto_ofrecido      0\n",
              "Tipo_de_cliente      500"
            ],
            "text/html": [
              "\n",
              "  <div id=\"df-a767e16f-9cae-4a0d-b66a-e4347c5954cc\">\n",
              "    <div class=\"colab-df-container\">\n",
              "      <div>\n",
              "<style scoped>\n",
              "    .dataframe tbody tr th:only-of-type {\n",
              "        vertical-align: middle;\n",
              "    }\n",
              "\n",
              "    .dataframe tbody tr th {\n",
              "        vertical-align: top;\n",
              "    }\n",
              "\n",
              "    .dataframe thead th {\n",
              "        text-align: right;\n",
              "    }\n",
              "</style>\n",
              "<table border=\"1\" class=\"dataframe\">\n",
              "  <thead>\n",
              "    <tr style=\"text-align: right;\">\n",
              "      <th></th>\n",
              "      <th>total</th>\n",
              "    </tr>\n",
              "  </thead>\n",
              "  <tbody>\n",
              "    <tr>\n",
              "      <th>Salario</th>\n",
              "      <td>0</td>\n",
              "    </tr>\n",
              "    <tr>\n",
              "      <th>Credito_tipo_1</th>\n",
              "      <td>0</td>\n",
              "    </tr>\n",
              "    <tr>\n",
              "      <th>Credito_tipo_2</th>\n",
              "      <td>0</td>\n",
              "    </tr>\n",
              "    <tr>\n",
              "      <th>Limite_TC</th>\n",
              "      <td>0</td>\n",
              "    </tr>\n",
              "    <tr>\n",
              "      <th>Tiempo_cliente</th>\n",
              "      <td>0</td>\n",
              "    </tr>\n",
              "    <tr>\n",
              "      <th>Producto_ofrecido</th>\n",
              "      <td>0</td>\n",
              "    </tr>\n",
              "    <tr>\n",
              "      <th>Tipo_de_cliente</th>\n",
              "      <td>500</td>\n",
              "    </tr>\n",
              "  </tbody>\n",
              "</table>\n",
              "</div>\n",
              "      <button class=\"colab-df-convert\" onclick=\"convertToInteractive('df-a767e16f-9cae-4a0d-b66a-e4347c5954cc')\"\n",
              "              title=\"Convert this dataframe to an interactive table.\"\n",
              "              style=\"display:none;\">\n",
              "        \n",
              "  <svg xmlns=\"http://www.w3.org/2000/svg\" height=\"24px\"viewBox=\"0 0 24 24\"\n",
              "       width=\"24px\">\n",
              "    <path d=\"M0 0h24v24H0V0z\" fill=\"none\"/>\n",
              "    <path d=\"M18.56 5.44l.94 2.06.94-2.06 2.06-.94-2.06-.94-.94-2.06-.94 2.06-2.06.94zm-11 1L8.5 8.5l.94-2.06 2.06-.94-2.06-.94L8.5 2.5l-.94 2.06-2.06.94zm10 10l.94 2.06.94-2.06 2.06-.94-2.06-.94-.94-2.06-.94 2.06-2.06.94z\"/><path d=\"M17.41 7.96l-1.37-1.37c-.4-.4-.92-.59-1.43-.59-.52 0-1.04.2-1.43.59L10.3 9.45l-7.72 7.72c-.78.78-.78 2.05 0 2.83L4 21.41c.39.39.9.59 1.41.59.51 0 1.02-.2 1.41-.59l7.78-7.78 2.81-2.81c.8-.78.8-2.07 0-2.86zM5.41 20L4 18.59l7.72-7.72 1.47 1.35L5.41 20z\"/>\n",
              "  </svg>\n",
              "      </button>\n",
              "      \n",
              "  <style>\n",
              "    .colab-df-container {\n",
              "      display:flex;\n",
              "      flex-wrap:wrap;\n",
              "      gap: 12px;\n",
              "    }\n",
              "\n",
              "    .colab-df-convert {\n",
              "      background-color: #E8F0FE;\n",
              "      border: none;\n",
              "      border-radius: 50%;\n",
              "      cursor: pointer;\n",
              "      display: none;\n",
              "      fill: #1967D2;\n",
              "      height: 32px;\n",
              "      padding: 0 0 0 0;\n",
              "      width: 32px;\n",
              "    }\n",
              "\n",
              "    .colab-df-convert:hover {\n",
              "      background-color: #E2EBFA;\n",
              "      box-shadow: 0px 1px 2px rgba(60, 64, 67, 0.3), 0px 1px 3px 1px rgba(60, 64, 67, 0.15);\n",
              "      fill: #174EA6;\n",
              "    }\n",
              "\n",
              "    [theme=dark] .colab-df-convert {\n",
              "      background-color: #3B4455;\n",
              "      fill: #D2E3FC;\n",
              "    }\n",
              "\n",
              "    [theme=dark] .colab-df-convert:hover {\n",
              "      background-color: #434B5C;\n",
              "      box-shadow: 0px 1px 3px 1px rgba(0, 0, 0, 0.15);\n",
              "      filter: drop-shadow(0px 1px 2px rgba(0, 0, 0, 0.3));\n",
              "      fill: #FFFFFF;\n",
              "    }\n",
              "  </style>\n",
              "\n",
              "      <script>\n",
              "        const buttonEl =\n",
              "          document.querySelector('#df-a767e16f-9cae-4a0d-b66a-e4347c5954cc button.colab-df-convert');\n",
              "        buttonEl.style.display =\n",
              "          google.colab.kernel.accessAllowed ? 'block' : 'none';\n",
              "\n",
              "        async function convertToInteractive(key) {\n",
              "          const element = document.querySelector('#df-a767e16f-9cae-4a0d-b66a-e4347c5954cc');\n",
              "          const dataTable =\n",
              "            await google.colab.kernel.invokeFunction('convertToInteractive',\n",
              "                                                     [key], {});\n",
              "          if (!dataTable) return;\n",
              "\n",
              "          const docLinkHtml = 'Like what you see? Visit the ' +\n",
              "            '<a target=\"_blank\" href=https://colab.research.google.com/notebooks/data_table.ipynb>data table notebook</a>'\n",
              "            + ' to learn more about interactive tables.';\n",
              "          element.innerHTML = '';\n",
              "          dataTable['output_type'] = 'display_data';\n",
              "          await google.colab.output.renderOutput(dataTable, element);\n",
              "          const docLink = document.createElement('div');\n",
              "          docLink.innerHTML = docLinkHtml;\n",
              "          element.appendChild(docLink);\n",
              "        }\n",
              "      </script>\n",
              "    </div>\n",
              "  </div>\n",
              "  "
            ]
          },
          "metadata": {},
          "execution_count": 258
        }
      ]
    },
    {
      "cell_type": "code",
      "source": [
        "completitud[\"completitud\"] = (1 - completitud[\"total\"] / data_result.shape[0] * 100)\n",
        "completitud"
      ],
      "metadata": {
        "colab": {
          "base_uri": "https://localhost:8080/",
          "height": 269
        },
        "id": "wfnA5iaXrYqj",
        "outputId": "35657f21-8aed-4ddc-f4cf-7311ab0fe7cb"
      },
      "execution_count": null,
      "outputs": [
        {
          "output_type": "execute_result",
          "data": {
            "text/plain": [
              "                   total  completitud\n",
              "Salario                0     1.000000\n",
              "Credito_tipo_1         0     1.000000\n",
              "Credito_tipo_2         0     1.000000\n",
              "Limite_TC              0     1.000000\n",
              "Tiempo_cliente         0     1.000000\n",
              "Producto_ofrecido      0     1.000000\n",
              "Tipo_de_cliente      500   -89.909091"
            ],
            "text/html": [
              "\n",
              "  <div id=\"df-2dc992d8-3975-4664-9898-ff20cc33f7e7\">\n",
              "    <div class=\"colab-df-container\">\n",
              "      <div>\n",
              "<style scoped>\n",
              "    .dataframe tbody tr th:only-of-type {\n",
              "        vertical-align: middle;\n",
              "    }\n",
              "\n",
              "    .dataframe tbody tr th {\n",
              "        vertical-align: top;\n",
              "    }\n",
              "\n",
              "    .dataframe thead th {\n",
              "        text-align: right;\n",
              "    }\n",
              "</style>\n",
              "<table border=\"1\" class=\"dataframe\">\n",
              "  <thead>\n",
              "    <tr style=\"text-align: right;\">\n",
              "      <th></th>\n",
              "      <th>total</th>\n",
              "      <th>completitud</th>\n",
              "    </tr>\n",
              "  </thead>\n",
              "  <tbody>\n",
              "    <tr>\n",
              "      <th>Salario</th>\n",
              "      <td>0</td>\n",
              "      <td>1.000000</td>\n",
              "    </tr>\n",
              "    <tr>\n",
              "      <th>Credito_tipo_1</th>\n",
              "      <td>0</td>\n",
              "      <td>1.000000</td>\n",
              "    </tr>\n",
              "    <tr>\n",
              "      <th>Credito_tipo_2</th>\n",
              "      <td>0</td>\n",
              "      <td>1.000000</td>\n",
              "    </tr>\n",
              "    <tr>\n",
              "      <th>Limite_TC</th>\n",
              "      <td>0</td>\n",
              "      <td>1.000000</td>\n",
              "    </tr>\n",
              "    <tr>\n",
              "      <th>Tiempo_cliente</th>\n",
              "      <td>0</td>\n",
              "      <td>1.000000</td>\n",
              "    </tr>\n",
              "    <tr>\n",
              "      <th>Producto_ofrecido</th>\n",
              "      <td>0</td>\n",
              "      <td>1.000000</td>\n",
              "    </tr>\n",
              "    <tr>\n",
              "      <th>Tipo_de_cliente</th>\n",
              "      <td>500</td>\n",
              "      <td>-89.909091</td>\n",
              "    </tr>\n",
              "  </tbody>\n",
              "</table>\n",
              "</div>\n",
              "      <button class=\"colab-df-convert\" onclick=\"convertToInteractive('df-2dc992d8-3975-4664-9898-ff20cc33f7e7')\"\n",
              "              title=\"Convert this dataframe to an interactive table.\"\n",
              "              style=\"display:none;\">\n",
              "        \n",
              "  <svg xmlns=\"http://www.w3.org/2000/svg\" height=\"24px\"viewBox=\"0 0 24 24\"\n",
              "       width=\"24px\">\n",
              "    <path d=\"M0 0h24v24H0V0z\" fill=\"none\"/>\n",
              "    <path d=\"M18.56 5.44l.94 2.06.94-2.06 2.06-.94-2.06-.94-.94-2.06-.94 2.06-2.06.94zm-11 1L8.5 8.5l.94-2.06 2.06-.94-2.06-.94L8.5 2.5l-.94 2.06-2.06.94zm10 10l.94 2.06.94-2.06 2.06-.94-2.06-.94-.94-2.06-.94 2.06-2.06.94z\"/><path d=\"M17.41 7.96l-1.37-1.37c-.4-.4-.92-.59-1.43-.59-.52 0-1.04.2-1.43.59L10.3 9.45l-7.72 7.72c-.78.78-.78 2.05 0 2.83L4 21.41c.39.39.9.59 1.41.59.51 0 1.02-.2 1.41-.59l7.78-7.78 2.81-2.81c.8-.78.8-2.07 0-2.86zM5.41 20L4 18.59l7.72-7.72 1.47 1.35L5.41 20z\"/>\n",
              "  </svg>\n",
              "      </button>\n",
              "      \n",
              "  <style>\n",
              "    .colab-df-container {\n",
              "      display:flex;\n",
              "      flex-wrap:wrap;\n",
              "      gap: 12px;\n",
              "    }\n",
              "\n",
              "    .colab-df-convert {\n",
              "      background-color: #E8F0FE;\n",
              "      border: none;\n",
              "      border-radius: 50%;\n",
              "      cursor: pointer;\n",
              "      display: none;\n",
              "      fill: #1967D2;\n",
              "      height: 32px;\n",
              "      padding: 0 0 0 0;\n",
              "      width: 32px;\n",
              "    }\n",
              "\n",
              "    .colab-df-convert:hover {\n",
              "      background-color: #E2EBFA;\n",
              "      box-shadow: 0px 1px 2px rgba(60, 64, 67, 0.3), 0px 1px 3px 1px rgba(60, 64, 67, 0.15);\n",
              "      fill: #174EA6;\n",
              "    }\n",
              "\n",
              "    [theme=dark] .colab-df-convert {\n",
              "      background-color: #3B4455;\n",
              "      fill: #D2E3FC;\n",
              "    }\n",
              "\n",
              "    [theme=dark] .colab-df-convert:hover {\n",
              "      background-color: #434B5C;\n",
              "      box-shadow: 0px 1px 3px 1px rgba(0, 0, 0, 0.15);\n",
              "      filter: drop-shadow(0px 1px 2px rgba(0, 0, 0, 0.3));\n",
              "      fill: #FFFFFF;\n",
              "    }\n",
              "  </style>\n",
              "\n",
              "      <script>\n",
              "        const buttonEl =\n",
              "          document.querySelector('#df-2dc992d8-3975-4664-9898-ff20cc33f7e7 button.colab-df-convert');\n",
              "        buttonEl.style.display =\n",
              "          google.colab.kernel.accessAllowed ? 'block' : 'none';\n",
              "\n",
              "        async function convertToInteractive(key) {\n",
              "          const element = document.querySelector('#df-2dc992d8-3975-4664-9898-ff20cc33f7e7');\n",
              "          const dataTable =\n",
              "            await google.colab.kernel.invokeFunction('convertToInteractive',\n",
              "                                                     [key], {});\n",
              "          if (!dataTable) return;\n",
              "\n",
              "          const docLinkHtml = 'Like what you see? Visit the ' +\n",
              "            '<a target=\"_blank\" href=https://colab.research.google.com/notebooks/data_table.ipynb>data table notebook</a>'\n",
              "            + ' to learn more about interactive tables.';\n",
              "          element.innerHTML = '';\n",
              "          dataTable['output_type'] = 'display_data';\n",
              "          await google.colab.output.renderOutput(dataTable, element);\n",
              "          const docLink = document.createElement('div');\n",
              "          docLink.innerHTML = docLinkHtml;\n",
              "          element.appendChild(docLink);\n",
              "        }\n",
              "      </script>\n",
              "    </div>\n",
              "  </div>\n",
              "  "
            ]
          },
          "metadata": {},
          "execution_count": 259
        }
      ]
    },
    {
      "cell_type": "code",
      "source": [
        "#Se puede realizar eliminacion por index\n",
        "print(completitud.index)"
      ],
      "metadata": {
        "colab": {
          "base_uri": "https://localhost:8080/"
        },
        "id": "j-edUgEk78qG",
        "outputId": "8dd90c0d-6e52-4ac3-dad5-4a81fbae0f38"
      },
      "execution_count": null,
      "outputs": [
        {
          "output_type": "stream",
          "name": "stdout",
          "text": [
            "Index(['Salario', 'Credito_tipo_1', 'Credito_tipo_2', 'Limite_TC',\n",
            "       'Tiempo_cliente', 'Producto_ofrecido', 'Tipo_de_cliente'],\n",
            "      dtype='object')\n"
          ]
        }
      ]
    },
    {
      "cell_type": "code",
      "source": [
        "#Puesto que la variable Tipo_de_cliente tiene de completitud un valor negativo el cual aporta menos informacion, \n",
        "#razon por la que se retira la columna de la muestra\n",
        "data_clean = data_result.iloc[:,[0, 1, 2, 3, 4, 5]]"
      ],
      "metadata": {
        "id": "ufPMceAI8ABT"
      },
      "execution_count": null,
      "outputs": []
    },
    {
      "cell_type": "code",
      "source": [
        "data_clean.info()"
      ],
      "metadata": {
        "colab": {
          "base_uri": "https://localhost:8080/"
        },
        "id": "qYUR2OSsvrqv",
        "outputId": "a826192f-2c7c-4a81-fca3-aef88b558ba7"
      },
      "execution_count": null,
      "outputs": [
        {
          "output_type": "stream",
          "name": "stdout",
          "text": [
            "<class 'pandas.core.frame.DataFrame'>\n",
            "Int64Index: 550 entries, 0 to 49\n",
            "Data columns (total 6 columns):\n",
            " #   Column             Non-Null Count  Dtype  \n",
            "---  ------             --------------  -----  \n",
            " 0   Salario            550 non-null    float64\n",
            " 1   Credito_tipo_1     550 non-null    int64  \n",
            " 2   Credito_tipo_2     550 non-null    int64  \n",
            " 3   Limite_TC          550 non-null    float64\n",
            " 4   Tiempo_cliente     550 non-null    float64\n",
            " 5   Producto_ofrecido  550 non-null    int64  \n",
            "dtypes: float64(3), int64(3)\n",
            "memory usage: 30.1 KB\n"
          ]
        }
      ]
    },
    {
      "cell_type": "code",
      "source": [
        "#Se determina el número máximo de clusters y se aplica PCA para bajar la dimensionalidad, pasar de 6 a 2 dimensiones.\n",
        "from sklearn.decomposition import PCA\n",
        "pca = PCA(n_components=2) # Establecemos el PCA de 2 componentes\n",
        "data_clean1 = pca.fit_transform(data_clean)  # Lo aplicamos a nuestro dataset codificado\n",
        "pca.explained_variance_ratio_.cumsum() # Calculamos las varianzas acumuladas explicadas"
      ],
      "metadata": {
        "colab": {
          "base_uri": "https://localhost:8080/"
        },
        "id": "-wQUykmNqn7A",
        "outputId": "513f63da-531c-44f6-d877-853ef6ecee47"
      },
      "execution_count": null,
      "outputs": [
        {
          "output_type": "execute_result",
          "data": {
            "text/plain": [
              "array([0.95489764, 0.99999998])"
            ]
          },
          "metadata": {},
          "execution_count": 263
        }
      ]
    },
    {
      "cell_type": "code",
      "source": [
        "# Dispersion de Clientes\n",
        "# Grafica con Pyplot\n",
        "data_clean1_feature1 = data_clean1[:,0]\n",
        "data_clean1_feature2 = data_clean1[:,1]\n",
        "plt.scatter(data_clean1_feature1, data_clean1_feature2)\n",
        "plt.title('Gráfica de dispersión de clientes')\n",
        "plt.xlabel('Componente 1')\n",
        "plt.ylabel('Componente 2')\n",
        "plt.show()"
      ],
      "metadata": {
        "colab": {
          "base_uri": "https://localhost:8080/",
          "height": 376
        },
        "id": "3isR8lZOqwu5",
        "outputId": "a14dced1-bcf7-4435-caff-6c2f7e3947e9"
      },
      "execution_count": null,
      "outputs": [
        {
          "output_type": "display_data",
          "data": {
            "text/plain": [
              "<Figure size 576x396 with 1 Axes>"
            ],
            "image/png": "[encoded data removed]"
          },
          "metadata": {}
        }
      ]
    },
    {
      "cell_type": "code",
      "source": [
        "#Selecionamos los datos para el aprendizaje automatico\n",
        "Xdata = data_clean.iloc[:, 0:5].values"
      ],
      "metadata": {
        "id": "GCG8oDmxB4hK"
      },
      "execution_count": null,
      "outputs": []
    },
    {
      "cell_type": "code",
      "source": [
        "# Iniciamos el modelo y el visualizador\n",
        "model = KMeans()\n",
        "visualizer = KElbowVisualizer(model, k=(1, 11), title = \"Número Óptimo de Grupos\" )\n",
        "\n",
        "visualizer.fit(Xdata) # Hacemos fit a los datos en el visualizador\n",
        "visualizer.show() # Renderizamos la figura y la mostramos"
      ],
      "metadata": {
        "colab": {
          "base_uri": "https://localhost:8080/",
          "height": 396
        },
        "id": "ADezAyG9CPV0",
        "outputId": "38a6861a-7717-4311-92b5-aa2a9f16ff89"
      },
      "execution_count": null,
      "outputs": [
        {
          "output_type": "display_data",
          "data": {
            "text/plain": [
              "<Figure size 576x396 with 2 Axes>"
            ],
            "image/png": "[encoded data removed]"
          },
          "metadata": {}
        },
        {
          "output_type": "execute_result",
          "data": {
            "text/plain": [
              "<matplotlib.axes._subplots.AxesSubplot at 0x7f631e5bfdf0>"
            ]
          },
          "metadata": {},
          "execution_count": 266
        }
      ]
    },
    {
      "cell_type": "code",
      "source": [
        "# Usaremos 3 clusters dado el numero de grupos optimos de la grafica del codo.\n",
        "\n",
        "from sklearn.cluster import KMeans\n",
        "kmeans = KMeans(n_clusters = 3, init=\"k-means++\", max_iter = 300, n_init = 10, random_state = 0)\n",
        "ydata_kmeans = kmeans.fit_predict(data_clean1)\n",
        "labelsdata = kmeans.labels_"
      ],
      "metadata": {
        "id": "y9h_2HfgDMhY"
      },
      "execution_count": null,
      "outputs": []
    },
    {
      "cell_type": "code",
      "source": [
        "#Luego de entrenarlo, veamos los valores resultantes\n",
        "ydata_kmeans"
      ],
      "metadata": {
        "colab": {
          "base_uri": "https://localhost:8080/"
        },
        "id": "ZtUxcmeaDacF",
        "outputId": "e15c6361-6a8e-471d-d25b-016773a61d11"
      },
      "execution_count": null,
      "outputs": [
        {
          "output_type": "execute_result",
          "data": {
            "text/plain": [
              "array([0, 2, 1, 0, 1, 2, 2, 0, 2, 0, 1, 2, 0, 0, 2, 0, 2, 1, 1, 0, 0, 1,\n",
              "       2, 0, 2, 0, 2, 0, 1, 0, 0, 2, 1, 0, 1, 2, 0, 1, 0, 0, 0, 2, 0, 2,\n",
              "       0, 0, 0, 1, 0, 0, 0, 2, 0, 0, 2, 2, 2, 2, 2, 0, 0, 2, 2, 0, 2, 2,\n",
              "       0, 0, 0, 2, 1, 2, 2, 2, 0, 2, 0, 0, 0, 1, 0, 2, 2, 2, 1, 2, 1, 0,\n",
              "       2, 1, 2, 1, 0, 0, 2, 0, 1, 1, 1, 2, 1, 2, 2, 2, 0, 1, 2, 2, 0, 0,\n",
              "       1, 2, 0, 2, 2, 0, 2, 0, 0, 2, 0, 1, 0, 2, 0, 1, 0, 1, 2, 2, 1, 2,\n",
              "       1, 1, 0, 1, 0, 2, 0, 0, 1, 2, 0, 2, 1, 0, 1, 0, 2, 2, 2, 0, 2, 2,\n",
              "       0, 1, 2, 2, 2, 2, 0, 2, 0, 0, 0, 0, 2, 0, 1, 2, 2, 2, 0, 0, 1, 1,\n",
              "       0, 1, 2, 1, 0, 0, 2, 0, 1, 2, 2, 2, 2, 2, 2, 0, 0, 0, 2, 0, 2, 1,\n",
              "       0, 0, 0, 1, 1, 0, 2, 2, 0, 1, 2, 2, 1, 1, 1, 0, 2, 0, 2, 2, 1, 2,\n",
              "       2, 2, 2, 0, 1, 2, 2, 1, 1, 1, 1, 0, 0, 2, 2, 1, 2, 1, 2, 0, 0, 2,\n",
              "       0, 2, 2, 0, 0, 0, 2, 0, 1, 0, 2, 2, 2, 1, 2, 0, 1, 2, 2, 0, 0, 2,\n",
              "       1, 2, 2, 2, 2, 2, 0, 1, 2, 0, 1, 2, 0, 2, 1, 0, 1, 1, 1, 1, 1, 0,\n",
              "       0, 2, 2, 1, 1, 2, 2, 2, 0, 2, 0, 2, 1, 0, 0, 2, 0, 1, 2, 2, 1, 1,\n",
              "       0, 0, 0, 0, 1, 0, 0, 1, 1, 0, 1, 1, 2, 2, 2, 2, 0, 1, 0, 2, 2, 1,\n",
              "       2, 0, 0, 2, 0, 0, 0, 2, 2, 2, 0, 1, 1, 2, 0, 1, 0, 0, 0, 2, 1, 2,\n",
              "       0, 1, 2, 0, 2, 2, 0, 2, 0, 0, 0, 2, 2, 0, 0, 2, 0, 0, 2, 2, 2, 1,\n",
              "       2, 2, 0, 0, 0, 1, 0, 0, 0, 2, 1, 1, 2, 1, 1, 0, 2, 0, 1, 2, 2, 0,\n",
              "       1, 0, 2, 1, 0, 0, 2, 0, 2, 0, 0, 0, 2, 0, 2, 0, 0, 1, 2, 1, 2, 2,\n",
              "       0, 1, 0, 2, 1, 0, 1, 2, 1, 2, 0, 0, 2, 2, 2, 2, 0, 0, 1, 0, 0, 2,\n",
              "       2, 2, 0, 0, 2, 0, 0, 2, 0, 1, 0, 0, 1, 2, 0, 0, 2, 2, 2, 1, 0, 2,\n",
              "       2, 2, 0, 2, 0, 1, 2, 1, 0, 2, 2, 1, 2, 0, 2, 2, 1, 1, 0, 0, 2, 2,\n",
              "       2, 0, 1, 1, 2, 2, 2, 0, 0, 2, 1, 0, 2, 1, 0, 2, 1, 1, 2, 1, 2, 0,\n",
              "       0, 2, 2, 2, 0, 1, 2, 1, 0, 0, 0, 1, 0, 1, 2, 1, 1, 1, 1, 0, 2, 2,\n",
              "       1, 0, 1, 1, 0, 0, 0, 0, 1, 0, 0, 1, 1, 0, 2, 2, 1, 2, 1, 0, 0, 0],\n",
              "      dtype=int32)"
            ]
          },
          "metadata": {},
          "execution_count": 268
        }
      ]
    },
    {
      "cell_type": "code",
      "source": [
        "#veamos cuantos resultados se generaron por cada cluster\n",
        "np.unique(ydata_kmeans, return_counts= True)"
      ],
      "metadata": {
        "colab": {
          "base_uri": "https://localhost:8080/"
        },
        "id": "CnTAmuUwDo6l",
        "outputId": "f0f38784-65e9-447e-fe88-4af51c33a156"
      },
      "execution_count": null,
      "outputs": [
        {
          "output_type": "execute_result",
          "data": {
            "text/plain": [
              "(array([0, 1, 2], dtype=int32), array([208, 132, 210]))"
            ]
          },
          "metadata": {},
          "execution_count": 269
        }
      ]
    },
    {
      "cell_type": "code",
      "source": [
        "#realizamos el grafico de dispersion de K-means, donde vemos un grupo diferente llamados cluster 1, 2 y 3.\n",
        "\n",
        "plt.scatter(data_clean1[ydata_kmeans == 0, 0], data_clean1[ydata_kmeans == 0, 1], s = 100, marker= '.', c = \"lightblue\", label = \"Cluster 1\")\n",
        "plt.scatter(data_clean1[ydata_kmeans == 1, 0], data_clean1[ydata_kmeans == 1, 1], s = 100, marker= '.', c = \"gray\", label = \"Cluster 2\")\n",
        "plt.scatter(data_clean1[ydata_kmeans == 2, 0], data_clean1[ydata_kmeans == 2, 1], s = 100, marker= '.', c = \"purple\", label = \"Cluster 3\")\n",
        "plt.scatter(kmeans.cluster_centers_[:, 0], kmeans.cluster_centers_[:, 1], s = 100, marker= '*', c = \"red\", label = \"Centroides\")\n",
        "plt.title(\"Resultados de dispersion K-Means\")\n",
        "plt.xlabel(\"Valores en el componente 1\")\n",
        "plt.ylabel(\"Valores en el componente 2\")\n",
        "plt.legend()\n",
        "plt.show()"
      ],
      "metadata": {
        "colab": {
          "base_uri": "https://localhost:8080/",
          "height": 376
        },
        "id": "hrpHNOHwEITP",
        "outputId": "74fe04a5-4c68-48f9-e28d-1a0f19c5ed29"
      },
      "execution_count": null,
      "outputs": [
        {
          "output_type": "display_data",
          "data": {
            "text/plain": [
              "<Figure size 576x396 with 1 Axes>"
            ],
            "image/png": "[encoded data removed]"
          },
          "metadata": {}
        }
      ]
    },
    {
      "cell_type": "code",
      "source": [
        "# Usamos una de la métricas de evaluación de agrupamiento más utilizada, \n",
        "# el coeficiente de silhouette realizando la comparación de la distancia\n",
        "# Importamos las bibliotecas\n",
        "from sklearn import metrics\n",
        "from sklearn.metrics import silhouette_score\n",
        "\n",
        "s_score = silhouette_score(data_clean1, labelsdata, metric='euclidean')\n",
        "print(f'El coeficiente de silueta es de {s_score}.')"
      ],
      "metadata": {
        "colab": {
          "base_uri": "https://localhost:8080/"
        },
        "id": "jbf7zE60G4yt",
        "outputId": "82f02485-0924-455f-96ee-96636bc04fa9"
      },
      "execution_count": null,
      "outputs": [
        {
          "output_type": "stream",
          "name": "stdout",
          "text": [
            "El coeficiente de silueta es de 0.44145106059944467.\n"
          ]
        }
      ]
    },
    {
      "cell_type": "code",
      "source": [
        "# Generamos los scores con ayuda de scikit-learn\n",
        "Silueta = metrics.silhouette_score(data_clean1, labelsdata)\n",
        "Calinski_Harabasz = metrics.calinski_harabasz_score(data_clean1, labelsdata)\n",
        "Davies_Bouldin = metrics.davies_bouldin_score(data_clean1, labelsdata)"
      ],
      "metadata": {
        "id": "3yXTUkoXI36e"
      },
      "execution_count": null,
      "outputs": []
    },
    {
      "cell_type": "code",
      "source": [
        "# Imprimimos los scores\n",
        "print(\"Score Analísis de silueta: \", Silueta)\n",
        "print(\"Score indice Calinski-Harabasz : \", Calinski_Harabasz)\n",
        "print(\"Score indice Davies-Bouldin: \", Davies_Bouldin)"
      ],
      "metadata": {
        "colab": {
          "base_uri": "https://localhost:8080/"
        },
        "id": "WASD0OBgI85P",
        "outputId": "0358c452-0768-4c46-9352-2b501d8146d3"
      },
      "execution_count": null,
      "outputs": [
        {
          "output_type": "stream",
          "name": "stdout",
          "text": [
            "Score Analísis de silueta:  0.44145106059944467\n",
            "Score indice Calinski-Harabasz :  931.189363816278\n",
            "Score indice Davies-Bouldin:  0.7170518658773272\n"
          ]
        }
      ]
    },
    {
      "cell_type": "markdown",
      "source": [
        "Un mayor número de datos puede no proporcionar un mejor puntaje de análisis de silueta. Esto se debe a que el análisis de silueta se basa en la similitud de los datos dentro de un grupo y la diferencia entre los grupos adyacentes, por lo que un mayor número de datos no necesariamente mejorará el ajuste."
      ],
      "metadata": {
        "id": "RUOhGBLCSvjw"
      }
    }
  ]
}