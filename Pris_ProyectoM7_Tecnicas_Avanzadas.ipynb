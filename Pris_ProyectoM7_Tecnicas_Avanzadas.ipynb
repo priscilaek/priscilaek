{
  "nbformat": 4,
  "nbformat_minor": 0,
  "metadata": {
    "colab": {
      "provenance": [],
      "include_colab_link": true
    },
    "kernelspec": {
      "name": "python3",
      "display_name": "Python 3"
    },
    "language_info": {
      "name": "python"
    }
  },
  "cells": [
    {
      "cell_type": "markdown",
      "metadata": {
        "id": "view-in-github",
        "colab_type": "text"
      },
      "source": [
        "<a href=\"https://colab.research.google.com/github/priscilaek/priscilaek/blob/main/Pris_ProyectoM7_Tecnicas_Avanzadas.ipynb\" target=\"_parent\"><img src=\"https://colab.research.google.com/assets/colab-badge.svg\" alt=\"Open In Colab\"/></a>"
      ]
    },
    {
      "cell_type": "markdown",
      "source": [
        "##Nombre: Priscila Elías Kana"
      ],
      "metadata": {
        "id": "Z6ke4hYBTEEN"
      }
    },
    {
      "cell_type": "markdown",
      "source": [
        "## **Bootcamp: Ciencia de Datos e Inteligencia Artificial**\n",
        "## **Proyecto del Módulo 7: Técnicas avanzadas para ciencia de datos y empleabilidad**\n",
        "\n",
        "Hola, ya es el último proyecto, has avanzado y aprendido mucho hasta acá. ¡Muchas felicidades!\n",
        "\n",
        "Es hora de poner en práctica todo lo que hemos aprendido a lo largo de nuestra travesía.\n",
        "\n",
        "Lee el proyecto y revisa con cuidado cada una de las instrucciones. Procura plasmar todo tu potencial para que lo concluyas de manera sobresaliente.\n",
        "\n",
        "¡Éxito!"
      ],
      "metadata": {
        "id": "tP4QvuPIdTNJ"
      }
    },
    {
      "cell_type": "markdown",
      "source": [
        "# Objetivos\n",
        "- Aplicar con éxito todos los conocimientos que has adquirido a lo largo del Bootcamp.\n",
        "- Consolidar las técnicas de limpieza, entrenamiento, graficación y ajuste a modelos de *Machine Learning*.\n",
        "- Generar una API que brinde predicciones como resultado a partir de datos enviados.\n"
      ],
      "metadata": {
        "id": "urHRQIXyd2qi"
      }
    },
    {
      "cell_type": "markdown",
      "source": [
        "# Proyecto\n",
        "\n",
        "1. Selecciona uno de los siguientes *datasets*:\n",
        "  - Imágenes de rayos X de pecho para detectar neumonía: https://www.kaggle.com/datasets/paultimothymooney/chest-xray-pneumonia\n",
        "  - *Reviews* de aplicaciones de la Google Play Store: https://www.kaggle.com/datasets/lava18/google-play-store-apps\n",
        "  - Estadísticas demográficas de los ganadores del premio Oscar de la Academia: https://www.kaggle.com/datasets/fmejia21/demographics-of-academy-awards-oscars-winners\n",
        "  - Aspiraciones profesionales de la generación Z: https://www.kaggle.com/datasets/kulturehire/understanding-career-aspirations-of-genz\n",
        "\n",
        "Cada uno representa un *dataset*, un problema y una forma diferente de abordarlo. Tu tarea es identificar las técnicas y modelos que podrías usar para tu proyecto.\n",
        "\n",
        "2. Debes hacer un análisis exploratorio y limpieza de los datos. Usa las ténicas que creas convenientes.\n",
        "\n",
        "3. Entrena el modelo de *Machine Learning*, procesamiento de lenguaje natural o red neuronal que creas adecuado.\n",
        "\n",
        "4. Genera por lo menos dos gráficas y dos métricas de rendimiento; explica las puntuaciones de rendimiento que amerite tu problema. Todas las gráficas de rendimiento que realices deben tener leyendas, colores y títulos personalizados por ti. \n",
        "\n",
        "  - Además, antes de subir el modelo a \"producción\", deberás realizar un proceso de ensambles (*ensemblings*) y de ajuste de hiperparámetros o *tuning* para intentar mejorar la precisión y disminuir la varianza de tu modelo.\n",
        "\n",
        "5. Construye una API REST en la que cualquier usuario pueda mandar datos y que esta misma devuelva la predicción del modelo que has hecho. La API debe estar en la nube, ya sea en un servicio como Netlify o Ngrok, para que pueda ser consultada desde internet.\n",
        "\n",
        "6. Genera una presentación del problema y del modelo de solución que planteas. Muestra gráficas, datos de rendimiento y explicaciones. Esta presentación debe estar enfocada a personas que no sepan mucho de ciencia de datos e inteligencia artificial.\n",
        "\n",
        "7. **Solamente se recibirán trabajos subidos a tu cuenta de GitHub con un README.md apropiado que explique tu proyecto**. \n",
        "\n",
        "## Criterios de evaluación\n",
        "\n",
        "| Actividad | Porcentaje | Observaciones | Punto parcial\n",
        "| -- | -- | -- | -- |\n",
        "| Actividad 1. Limpieza y EDA | 20 | Realiza todas las tareas necesarias para hacer el EDA y la limpieza correcta, dependiendo de la problemática. Debes hacer como mínimo el análisis de completitud, escalamiento (si aplica) y tokenización (si aplica). | Realizaste solo algunas tareas de exploración y limpieza y el modelo se muestra aún con oportunidad de completitud, escalamiento y/o mejora. |\n",
        "| Actividad 2. Entrenamiento del modelo | 20 | Elige el modelo y algoritmo adecuados para tu problema, entrénalo con los datos ya limpios y genera algunas predicciones de prueba. | No has realizado predicciones de prueba para tu modelo de ML y/o tu modelo muestra una precisión menor al 60 %. |\n",
        "| Actividad 3. Graficación y métricas | 20 | Genera por lo menos dos gráficas y dos muestras de métricas que permitan visualizar el rendimiento y precisión del modelo que construiste. Además, realizaste los procesos de *tuning* y ensambles adecuados para tu problema. | Las gráficas no tienen leyendas y colores customizados, solo muestras una gráfica o no realizaste el *tuning* de hiperparámetros.\n",
        "| Actividad 4. API REST | 20 | Generaste con éxito un *link* público en el que, por método POST, se puede mandar información y la API REST devuelve una predicción junto con el porcentaje de confianza de esta misma. | N/A\n",
        "| Actividad 5. Presentación | 20 | Genera una presentación en la que establezcas como mínimo: el problema, proceso de solución, metodologías usadas, gráficas de rendimiento, demostración del modelo y aprendizajes obtenidos. Debes redactarla con términos que pueda entender cualquier persona, no solo científicos de datos. | La presentación no expone con claridad o en términos coloquiales el proceso de creación del modelo, sus ventajas y muestras de rendimiento.\n",
        "\n",
        "**Mucho éxito en tu camino como Data Scientist.**"
      ],
      "metadata": {
        "id": "0P7GcQKhexHj"
      }
    },
    {
      "cell_type": "markdown",
      "source": [],
      "metadata": {
        "id": "eFg85CFNTW_2"
      }
    },
    {
      "cell_type": "markdown",
      "source": [
        "##Nombre: Priscila Elías Kana"
      ],
      "metadata": {
        "id": "rsv55_kkTQl1"
      }
    },
    {
      "cell_type": "markdown",
      "source": [
        "## Libraries (Contiene las librerias a usar)"
      ],
      "metadata": {
        "id": "1XYEuzMzTTkt"
      }
    },
    {
      "cell_type": "code",
      "source": [
        "# Importamos bibliotecas\n",
        "import pandas as pd\n",
        "import numpy as np\n",
        "import matplotlib.pyplot as plt\n",
        "from statsmodels.stats.power import NormalIndPower\n",
        "from scipy.stats import norm\n",
        "\n",
        "from google.colab import drive\n",
        "drive.mount('/content/drive')\n",
        "#preprocessing\n",
        "from sklearn.preprocessing import LabelEncoder\n",
        "\n",
        "# Vamos a usar un clasificador de bosque aleatorio:\n",
        "from sklearn.ensemble import RandomForestClassifier\n",
        "# Grafica\n",
        "import matplotlib.pyplot as plt\n",
        "import seaborn as sns"
      ],
      "metadata": {
        "colab": {
          "base_uri": "https://localhost:8080/"
        },
        "id": "v_dyf9EfTO7D",
        "outputId": "2d9673f6-4215-48ac-9a3b-c2a54d477a30"
      },
      "execution_count": 71,
      "outputs": [
        {
          "output_type": "stream",
          "name": "stdout",
          "text": [
            "Drive already mounted at /content/drive; to attempt to forcibly remount, call drive.mount(\"/content/drive\", force_remount=True).\n"
          ]
        }
      ]
    },
    {
      "cell_type": "markdown",
      "source": [
        "##Carga de los datos"
      ],
      "metadata": {
        "id": "VZTV3HUWUzj8"
      }
    },
    {
      "cell_type": "code",
      "source": [
        "CSV_PATH = \"/content/drive/MyDrive/UCamp/googleplaystore_user_reviews.csv\""
      ],
      "metadata": {
        "id": "QtVUJmxfU34O"
      },
      "execution_count": 41,
      "outputs": []
    },
    {
      "cell_type": "code",
      "source": [
        "df = pd.read_csv(CSV_PATH)"
      ],
      "metadata": {
        "id": "Rq7r92ynWVwv"
      },
      "execution_count": 42,
      "outputs": []
    },
    {
      "cell_type": "markdown",
      "source": [
        "## Limpieza y EDA"
      ],
      "metadata": {
        "id": "a1X4qYevTo-R"
      }
    },
    {
      "cell_type": "code",
      "source": [
        "df.head(5)"
      ],
      "metadata": {
        "colab": {
          "base_uri": "https://localhost:8080/",
          "height": 337
        },
        "id": "XE0H9NKETtNY",
        "outputId": "99f94c22-9e99-4a86-ddf1-a04f0f36a47c"
      },
      "execution_count": 43,
      "outputs": [
        {
          "output_type": "execute_result",
          "data": {
            "text/plain": [
              "                     App                                  Translated_Review  \\\n",
              "0  10 Best Foods for You  I like eat delicious food. That's I'm cooking ...   \n",
              "1  10 Best Foods for You    This help eating healthy exercise regular basis   \n",
              "2  10 Best Foods for You                                                NaN   \n",
              "3  10 Best Foods for You         Works great especially going grocery store   \n",
              "4  10 Best Foods for You                                       Best idea us   \n",
              "\n",
              "  Sentiment  Sentiment_Polarity  Sentiment_Subjectivity  \n",
              "0  Positive                1.00                0.533333  \n",
              "1  Positive                0.25                0.288462  \n",
              "2       NaN                 NaN                     NaN  \n",
              "3  Positive                0.40                0.875000  \n",
              "4  Positive                1.00                0.300000  "
            ],
            "text/html": [
              "\n",
              "  <div id=\"df-8f16643d-f43f-443d-871d-ac49f43a81f7\">\n",
              "    <div class=\"colab-df-container\">\n",
              "      <div>\n",
              "<style scoped>\n",
              "    .dataframe tbody tr th:only-of-type {\n",
              "        vertical-align: middle;\n",
              "    }\n",
              "\n",
              "    .dataframe tbody tr th {\n",
              "        vertical-align: top;\n",
              "    }\n",
              "\n",
              "    .dataframe thead th {\n",
              "        text-align: right;\n",
              "    }\n",
              "</style>\n",
              "<table border=\"1\" class=\"dataframe\">\n",
              "  <thead>\n",
              "    <tr style=\"text-align: right;\">\n",
              "      <th></th>\n",
              "      <th>App</th>\n",
              "      <th>Translated_Review</th>\n",
              "      <th>Sentiment</th>\n",
              "      <th>Sentiment_Polarity</th>\n",
              "      <th>Sentiment_Subjectivity</th>\n",
              "    </tr>\n",
              "  </thead>\n",
              "  <tbody>\n",
              "    <tr>\n",
              "      <th>0</th>\n",
              "      <td>10 Best Foods for You</td>\n",
              "      <td>I like eat delicious food. That's I'm cooking ...</td>\n",
              "      <td>Positive</td>\n",
              "      <td>1.00</td>\n",
              "      <td>0.533333</td>\n",
              "    </tr>\n",
              "    <tr>\n",
              "      <th>1</th>\n",
              "      <td>10 Best Foods for You</td>\n",
              "      <td>This help eating healthy exercise regular basis</td>\n",
              "      <td>Positive</td>\n",
              "      <td>0.25</td>\n",
              "      <td>0.288462</td>\n",
              "    </tr>\n",
              "    <tr>\n",
              "      <th>2</th>\n",
              "      <td>10 Best Foods for You</td>\n",
              "      <td>NaN</td>\n",
              "      <td>NaN</td>\n",
              "      <td>NaN</td>\n",
              "      <td>NaN</td>\n",
              "    </tr>\n",
              "    <tr>\n",
              "      <th>3</th>\n",
              "      <td>10 Best Foods for You</td>\n",
              "      <td>Works great especially going grocery store</td>\n",
              "      <td>Positive</td>\n",
              "      <td>0.40</td>\n",
              "      <td>0.875000</td>\n",
              "    </tr>\n",
              "    <tr>\n",
              "      <th>4</th>\n",
              "      <td>10 Best Foods for You</td>\n",
              "      <td>Best idea us</td>\n",
              "      <td>Positive</td>\n",
              "      <td>1.00</td>\n",
              "      <td>0.300000</td>\n",
              "    </tr>\n",
              "  </tbody>\n",
              "</table>\n",
              "</div>\n",
              "      <button class=\"colab-df-convert\" onclick=\"convertToInteractive('df-8f16643d-f43f-443d-871d-ac49f43a81f7')\"\n",
              "              title=\"Convert this dataframe to an interactive table.\"\n",
              "              style=\"display:none;\">\n",
              "        \n",
              "  <svg xmlns=\"http://www.w3.org/2000/svg\" height=\"24px\"viewBox=\"0 0 24 24\"\n",
              "       width=\"24px\">\n",
              "    <path d=\"M0 0h24v24H0V0z\" fill=\"none\"/>\n",
              "    <path d=\"M18.56 5.44l.94 2.06.94-2.06 2.06-.94-2.06-.94-.94-2.06-.94 2.06-2.06.94zm-11 1L8.5 8.5l.94-2.06 2.06-.94-2.06-.94L8.5 2.5l-.94 2.06-2.06.94zm10 10l.94 2.06.94-2.06 2.06-.94-2.06-.94-.94-2.06-.94 2.06-2.06.94z\"/><path d=\"M17.41 7.96l-1.37-1.37c-.4-.4-.92-.59-1.43-.59-.52 0-1.04.2-1.43.59L10.3 9.45l-7.72 7.72c-.78.78-.78 2.05 0 2.83L4 21.41c.39.39.9.59 1.41.59.51 0 1.02-.2 1.41-.59l7.78-7.78 2.81-2.81c.8-.78.8-2.07 0-2.86zM5.41 20L4 18.59l7.72-7.72 1.47 1.35L5.41 20z\"/>\n",
              "  </svg>\n",
              "      </button>\n",
              "      \n",
              "  <style>\n",
              "    .colab-df-container {\n",
              "      display:flex;\n",
              "      flex-wrap:wrap;\n",
              "      gap: 12px;\n",
              "    }\n",
              "\n",
              "    .colab-df-convert {\n",
              "      background-color: #E8F0FE;\n",
              "      border: none;\n",
              "      border-radius: 50%;\n",
              "      cursor: pointer;\n",
              "      display: none;\n",
              "      fill: #1967D2;\n",
              "      height: 32px;\n",
              "      padding: 0 0 0 0;\n",
              "      width: 32px;\n",
              "    }\n",
              "\n",
              "    .colab-df-convert:hover {\n",
              "      background-color: #E2EBFA;\n",
              "      box-shadow: 0px 1px 2px rgba(60, 64, 67, 0.3), 0px 1px 3px 1px rgba(60, 64, 67, 0.15);\n",
              "      fill: #174EA6;\n",
              "    }\n",
              "\n",
              "    [theme=dark] .colab-df-convert {\n",
              "      background-color: #3B4455;\n",
              "      fill: #D2E3FC;\n",
              "    }\n",
              "\n",
              "    [theme=dark] .colab-df-convert:hover {\n",
              "      background-color: #434B5C;\n",
              "      box-shadow: 0px 1px 3px 1px rgba(0, 0, 0, 0.15);\n",
              "      filter: drop-shadow(0px 1px 2px rgba(0, 0, 0, 0.3));\n",
              "      fill: #FFFFFF;\n",
              "    }\n",
              "  </style>\n",
              "\n",
              "      <script>\n",
              "        const buttonEl =\n",
              "          document.querySelector('#df-8f16643d-f43f-443d-871d-ac49f43a81f7 button.colab-df-convert');\n",
              "        buttonEl.style.display =\n",
              "          google.colab.kernel.accessAllowed ? 'block' : 'none';\n",
              "\n",
              "        async function convertToInteractive(key) {\n",
              "          const element = document.querySelector('#df-8f16643d-f43f-443d-871d-ac49f43a81f7');\n",
              "          const dataTable =\n",
              "            await google.colab.kernel.invokeFunction('convertToInteractive',\n",
              "                                                     [key], {});\n",
              "          if (!dataTable) return;\n",
              "\n",
              "          const docLinkHtml = 'Like what you see? Visit the ' +\n",
              "            '<a target=\"_blank\" href=https://colab.research.google.com/notebooks/data_table.ipynb>data table notebook</a>'\n",
              "            + ' to learn more about interactive tables.';\n",
              "          element.innerHTML = '';\n",
              "          dataTable['output_type'] = 'display_data';\n",
              "          await google.colab.output.renderOutput(dataTable, element);\n",
              "          const docLink = document.createElement('div');\n",
              "          docLink.innerHTML = docLinkHtml;\n",
              "          element.appendChild(docLink);\n",
              "        }\n",
              "      </script>\n",
              "    </div>\n",
              "  </div>\n",
              "  "
            ]
          },
          "metadata": {},
          "execution_count": 43
        }
      ]
    },
    {
      "cell_type": "code",
      "source": [
        "df.info()"
      ],
      "metadata": {
        "colab": {
          "base_uri": "https://localhost:8080/"
        },
        "id": "T2gouEQyYzIp",
        "outputId": "dbea3ff5-ace8-4830-ad5b-2c602867846d"
      },
      "execution_count": 44,
      "outputs": [
        {
          "output_type": "stream",
          "name": "stdout",
          "text": [
            "<class 'pandas.core.frame.DataFrame'>\n",
            "RangeIndex: 64295 entries, 0 to 64294\n",
            "Data columns (total 5 columns):\n",
            " #   Column                  Non-Null Count  Dtype  \n",
            "---  ------                  --------------  -----  \n",
            " 0   App                     64295 non-null  object \n",
            " 1   Translated_Review       37427 non-null  object \n",
            " 2   Sentiment               37432 non-null  object \n",
            " 3   Sentiment_Polarity      37432 non-null  float64\n",
            " 4   Sentiment_Subjectivity  37432 non-null  float64\n",
            "dtypes: float64(2), object(3)\n",
            "memory usage: 2.5+ MB\n"
          ]
        }
      ]
    },
    {
      "cell_type": "code",
      "source": [
        "df.isnull().sum()"
      ],
      "metadata": {
        "colab": {
          "base_uri": "https://localhost:8080/"
        },
        "id": "kTlgrNE5Y8fT",
        "outputId": "290ee5d7-6ce1-4f56-8c98-704cca58844d"
      },
      "execution_count": 45,
      "outputs": [
        {
          "output_type": "execute_result",
          "data": {
            "text/plain": [
              "App                           0\n",
              "Translated_Review         26868\n",
              "Sentiment                 26863\n",
              "Sentiment_Polarity        26863\n",
              "Sentiment_Subjectivity    26863\n",
              "dtype: int64"
            ]
          },
          "metadata": {},
          "execution_count": 45
        }
      ]
    },
    {
      "cell_type": "code",
      "source": [
        "df = df.dropna()"
      ],
      "metadata": {
        "id": "-TfPzyyvZL3h"
      },
      "execution_count": 46,
      "outputs": []
    },
    {
      "cell_type": "code",
      "source": [
        "df.isnull().sum()"
      ],
      "metadata": {
        "colab": {
          "base_uri": "https://localhost:8080/"
        },
        "id": "AriNns8uZeIK",
        "outputId": "0f3ff264-c868-4a72-d35c-efc456f3adaf"
      },
      "execution_count": 47,
      "outputs": [
        {
          "output_type": "execute_result",
          "data": {
            "text/plain": [
              "App                       0\n",
              "Translated_Review         0\n",
              "Sentiment                 0\n",
              "Sentiment_Polarity        0\n",
              "Sentiment_Subjectivity    0\n",
              "dtype: int64"
            ]
          },
          "metadata": {},
          "execution_count": 47
        }
      ]
    },
    {
      "cell_type": "code",
      "source": [
        "df.head(5)"
      ],
      "metadata": {
        "colab": {
          "base_uri": "https://localhost:8080/",
          "height": 337
        },
        "id": "r8VgFDCaZg-7",
        "outputId": "83141c60-aa88-48e8-bff6-6ffa0dae87db"
      },
      "execution_count": 48,
      "outputs": [
        {
          "output_type": "execute_result",
          "data": {
            "text/plain": [
              "                     App                                  Translated_Review  \\\n",
              "0  10 Best Foods for You  I like eat delicious food. That's I'm cooking ...   \n",
              "1  10 Best Foods for You    This help eating healthy exercise regular basis   \n",
              "3  10 Best Foods for You         Works great especially going grocery store   \n",
              "4  10 Best Foods for You                                       Best idea us   \n",
              "5  10 Best Foods for You                                           Best way   \n",
              "\n",
              "  Sentiment  Sentiment_Polarity  Sentiment_Subjectivity  \n",
              "0  Positive                1.00                0.533333  \n",
              "1  Positive                0.25                0.288462  \n",
              "3  Positive                0.40                0.875000  \n",
              "4  Positive                1.00                0.300000  \n",
              "5  Positive                1.00                0.300000  "
            ],
            "text/html": [
              "\n",
              "  <div id=\"df-651d6261-983d-44ba-b609-20b0ecce8ba2\">\n",
              "    <div class=\"colab-df-container\">\n",
              "      <div>\n",
              "<style scoped>\n",
              "    .dataframe tbody tr th:only-of-type {\n",
              "        vertical-align: middle;\n",
              "    }\n",
              "\n",
              "    .dataframe tbody tr th {\n",
              "        vertical-align: top;\n",
              "    }\n",
              "\n",
              "    .dataframe thead th {\n",
              "        text-align: right;\n",
              "    }\n",
              "</style>\n",
              "<table border=\"1\" class=\"dataframe\">\n",
              "  <thead>\n",
              "    <tr style=\"text-align: right;\">\n",
              "      <th></th>\n",
              "      <th>App</th>\n",
              "      <th>Translated_Review</th>\n",
              "      <th>Sentiment</th>\n",
              "      <th>Sentiment_Polarity</th>\n",
              "      <th>Sentiment_Subjectivity</th>\n",
              "    </tr>\n",
              "  </thead>\n",
              "  <tbody>\n",
              "    <tr>\n",
              "      <th>0</th>\n",
              "      <td>10 Best Foods for You</td>\n",
              "      <td>I like eat delicious food. That's I'm cooking ...</td>\n",
              "      <td>Positive</td>\n",
              "      <td>1.00</td>\n",
              "      <td>0.533333</td>\n",
              "    </tr>\n",
              "    <tr>\n",
              "      <th>1</th>\n",
              "      <td>10 Best Foods for You</td>\n",
              "      <td>This help eating healthy exercise regular basis</td>\n",
              "      <td>Positive</td>\n",
              "      <td>0.25</td>\n",
              "      <td>0.288462</td>\n",
              "    </tr>\n",
              "    <tr>\n",
              "      <th>3</th>\n",
              "      <td>10 Best Foods for You</td>\n",
              "      <td>Works great especially going grocery store</td>\n",
              "      <td>Positive</td>\n",
              "      <td>0.40</td>\n",
              "      <td>0.875000</td>\n",
              "    </tr>\n",
              "    <tr>\n",
              "      <th>4</th>\n",
              "      <td>10 Best Foods for You</td>\n",
              "      <td>Best idea us</td>\n",
              "      <td>Positive</td>\n",
              "      <td>1.00</td>\n",
              "      <td>0.300000</td>\n",
              "    </tr>\n",
              "    <tr>\n",
              "      <th>5</th>\n",
              "      <td>10 Best Foods for You</td>\n",
              "      <td>Best way</td>\n",
              "      <td>Positive</td>\n",
              "      <td>1.00</td>\n",
              "      <td>0.300000</td>\n",
              "    </tr>\n",
              "  </tbody>\n",
              "</table>\n",
              "</div>\n",
              "      <button class=\"colab-df-convert\" onclick=\"convertToInteractive('df-651d6261-983d-44ba-b609-20b0ecce8ba2')\"\n",
              "              title=\"Convert this dataframe to an interactive table.\"\n",
              "              style=\"display:none;\">\n",
              "        \n",
              "  <svg xmlns=\"http://www.w3.org/2000/svg\" height=\"24px\"viewBox=\"0 0 24 24\"\n",
              "       width=\"24px\">\n",
              "    <path d=\"M0 0h24v24H0V0z\" fill=\"none\"/>\n",
              "    <path d=\"M18.56 5.44l.94 2.06.94-2.06 2.06-.94-2.06-.94-.94-2.06-.94 2.06-2.06.94zm-11 1L8.5 8.5l.94-2.06 2.06-.94-2.06-.94L8.5 2.5l-.94 2.06-2.06.94zm10 10l.94 2.06.94-2.06 2.06-.94-2.06-.94-.94-2.06-.94 2.06-2.06.94z\"/><path d=\"M17.41 7.96l-1.37-1.37c-.4-.4-.92-.59-1.43-.59-.52 0-1.04.2-1.43.59L10.3 9.45l-7.72 7.72c-.78.78-.78 2.05 0 2.83L4 21.41c.39.39.9.59 1.41.59.51 0 1.02-.2 1.41-.59l7.78-7.78 2.81-2.81c.8-.78.8-2.07 0-2.86zM5.41 20L4 18.59l7.72-7.72 1.47 1.35L5.41 20z\"/>\n",
              "  </svg>\n",
              "      </button>\n",
              "      \n",
              "  <style>\n",
              "    .colab-df-container {\n",
              "      display:flex;\n",
              "      flex-wrap:wrap;\n",
              "      gap: 12px;\n",
              "    }\n",
              "\n",
              "    .colab-df-convert {\n",
              "      background-color: #E8F0FE;\n",
              "      border: none;\n",
              "      border-radius: 50%;\n",
              "      cursor: pointer;\n",
              "      display: none;\n",
              "      fill: #1967D2;\n",
              "      height: 32px;\n",
              "      padding: 0 0 0 0;\n",
              "      width: 32px;\n",
              "    }\n",
              "\n",
              "    .colab-df-convert:hover {\n",
              "      background-color: #E2EBFA;\n",
              "      box-shadow: 0px 1px 2px rgba(60, 64, 67, 0.3), 0px 1px 3px 1px rgba(60, 64, 67, 0.15);\n",
              "      fill: #174EA6;\n",
              "    }\n",
              "\n",
              "    [theme=dark] .colab-df-convert {\n",
              "      background-color: #3B4455;\n",
              "      fill: #D2E3FC;\n",
              "    }\n",
              "\n",
              "    [theme=dark] .colab-df-convert:hover {\n",
              "      background-color: #434B5C;\n",
              "      box-shadow: 0px 1px 3px 1px rgba(0, 0, 0, 0.15);\n",
              "      filter: drop-shadow(0px 1px 2px rgba(0, 0, 0, 0.3));\n",
              "      fill: #FFFFFF;\n",
              "    }\n",
              "  </style>\n",
              "\n",
              "      <script>\n",
              "        const buttonEl =\n",
              "          document.querySelector('#df-651d6261-983d-44ba-b609-20b0ecce8ba2 button.colab-df-convert');\n",
              "        buttonEl.style.display =\n",
              "          google.colab.kernel.accessAllowed ? 'block' : 'none';\n",
              "\n",
              "        async function convertToInteractive(key) {\n",
              "          const element = document.querySelector('#df-651d6261-983d-44ba-b609-20b0ecce8ba2');\n",
              "          const dataTable =\n",
              "            await google.colab.kernel.invokeFunction('convertToInteractive',\n",
              "                                                     [key], {});\n",
              "          if (!dataTable) return;\n",
              "\n",
              "          const docLinkHtml = 'Like what you see? Visit the ' +\n",
              "            '<a target=\"_blank\" href=https://colab.research.google.com/notebooks/data_table.ipynb>data table notebook</a>'\n",
              "            + ' to learn more about interactive tables.';\n",
              "          element.innerHTML = '';\n",
              "          dataTable['output_type'] = 'display_data';\n",
              "          await google.colab.output.renderOutput(dataTable, element);\n",
              "          const docLink = document.createElement('div');\n",
              "          docLink.innerHTML = docLinkHtml;\n",
              "          element.appendChild(docLink);\n",
              "        }\n",
              "      </script>\n",
              "    </div>\n",
              "  </div>\n",
              "  "
            ]
          },
          "metadata": {},
          "execution_count": 48
        }
      ]
    },
    {
      "cell_type": "code",
      "source": [
        "df.dtypes"
      ],
      "metadata": {
        "colab": {
          "base_uri": "https://localhost:8080/"
        },
        "id": "zhEuBRQDZnmJ",
        "outputId": "c3aa2bd8-724d-409c-ff13-f0c1eb4de355"
      },
      "execution_count": 49,
      "outputs": [
        {
          "output_type": "execute_result",
          "data": {
            "text/plain": [
              "App                        object\n",
              "Translated_Review          object\n",
              "Sentiment                  object\n",
              "Sentiment_Polarity        float64\n",
              "Sentiment_Subjectivity    float64\n",
              "dtype: object"
            ]
          },
          "metadata": {},
          "execution_count": 49
        }
      ]
    },
    {
      "cell_type": "code",
      "source": [
        "# Codificación One hot encoding para variables categóricas\n",
        "# Creación Dymmies:\n",
        "dummies = pd.get_dummies(df.Sentiment)"
      ],
      "metadata": {
        "id": "MuTOAMulZ9WK"
      },
      "execution_count": 50,
      "outputs": []
    },
    {
      "cell_type": "code",
      "source": [
        "# Agregamos el dataset de los dummies con el dataset original:\n",
        "new_df = pd.concat([df,dummies],axis='columns')\n",
        "print(type(new_df))"
      ],
      "metadata": {
        "colab": {
          "base_uri": "https://localhost:8080/"
        },
        "id": "PSmdrGowcyMc",
        "outputId": "09be8bb0-d873-44ea-de7c-64164257ff2e"
      },
      "execution_count": 51,
      "outputs": [
        {
          "output_type": "stream",
          "name": "stdout",
          "text": [
            "<class 'pandas.core.frame.DataFrame'>\n"
          ]
        }
      ]
    },
    {
      "cell_type": "code",
      "source": [
        "new_df.columns"
      ],
      "metadata": {
        "colab": {
          "base_uri": "https://localhost:8080/"
        },
        "id": "7-KDweGkc5BT",
        "outputId": "f5db4aa2-887e-4a11-bdc5-304a3010f34a"
      },
      "execution_count": 52,
      "outputs": [
        {
          "output_type": "execute_result",
          "data": {
            "text/plain": [
              "Index(['App', 'Translated_Review', 'Sentiment', 'Sentiment_Polarity',\n",
              "       'Sentiment_Subjectivity', 'Negative', 'Neutral', 'Positive'],\n",
              "      dtype='object')"
            ]
          },
          "metadata": {},
          "execution_count": 52
        }
      ]
    },
    {
      "cell_type": "code",
      "source": [
        "new_df.sample(5)"
      ],
      "metadata": {
        "colab": {
          "base_uri": "https://localhost:8080/",
          "height": 444
        },
        "id": "kDBdrS8ddw1i",
        "outputId": "209faadc-c4a8-4150-82bb-50fc4ace25f3"
      },
      "execution_count": 53,
      "outputs": [
        {
          "output_type": "execute_result",
          "data": {
            "text/plain": [
              "                                     App  \\\n",
              "32554  DSLR Camera Hd Ultra Professional   \n",
              "55774      Google Fit - Fitness Tracking   \n",
              "18670       BukuBayi - Perkembangan Bayi   \n",
              "63353                  Honkai Impact 3rd   \n",
              "63413      Hopper - Watch & Book Flights   \n",
              "\n",
              "                                       Translated_Review Sentiment  \\\n",
              "32554                                               Nice  Positive   \n",
              "55774  First-class garbage. Calories burned disappear...  Negative   \n",
              "18670                                        Remember it   Neutral   \n",
              "63353  I love game. The animation super awesome, And ...  Positive   \n",
              "63413  I saved much money friends mad paid flight me!!!!  Negative   \n",
              "\n",
              "       Sentiment_Polarity  Sentiment_Subjectivity  Negative  Neutral  Positive  \n",
              "32554            0.600000                1.000000         0        0         1  \n",
              "55774           -0.100000                0.600000         1        0         0  \n",
              "18670            0.000000                0.000000         0        1         0  \n",
              "63353            0.250345                0.604499         0        0         1  \n",
              "63413           -0.400000                0.600000         1        0         0  "
            ],
            "text/html": [
              "\n",
              "  <div id=\"df-94df5df7-6d81-49fb-8a2a-cabf6242e65e\">\n",
              "    <div class=\"colab-df-container\">\n",
              "      <div>\n",
              "<style scoped>\n",
              "    .dataframe tbody tr th:only-of-type {\n",
              "        vertical-align: middle;\n",
              "    }\n",
              "\n",
              "    .dataframe tbody tr th {\n",
              "        vertical-align: top;\n",
              "    }\n",
              "\n",
              "    .dataframe thead th {\n",
              "        text-align: right;\n",
              "    }\n",
              "</style>\n",
              "<table border=\"1\" class=\"dataframe\">\n",
              "  <thead>\n",
              "    <tr style=\"text-align: right;\">\n",
              "      <th></th>\n",
              "      <th>App</th>\n",
              "      <th>Translated_Review</th>\n",
              "      <th>Sentiment</th>\n",
              "      <th>Sentiment_Polarity</th>\n",
              "      <th>Sentiment_Subjectivity</th>\n",
              "      <th>Negative</th>\n",
              "      <th>Neutral</th>\n",
              "      <th>Positive</th>\n",
              "    </tr>\n",
              "  </thead>\n",
              "  <tbody>\n",
              "    <tr>\n",
              "      <th>32554</th>\n",
              "      <td>DSLR Camera Hd Ultra Professional</td>\n",
              "      <td>Nice</td>\n",
              "      <td>Positive</td>\n",
              "      <td>0.600000</td>\n",
              "      <td>1.000000</td>\n",
              "      <td>0</td>\n",
              "      <td>0</td>\n",
              "      <td>1</td>\n",
              "    </tr>\n",
              "    <tr>\n",
              "      <th>55774</th>\n",
              "      <td>Google Fit - Fitness Tracking</td>\n",
              "      <td>First-class garbage. Calories burned disappear...</td>\n",
              "      <td>Negative</td>\n",
              "      <td>-0.100000</td>\n",
              "      <td>0.600000</td>\n",
              "      <td>1</td>\n",
              "      <td>0</td>\n",
              "      <td>0</td>\n",
              "    </tr>\n",
              "    <tr>\n",
              "      <th>18670</th>\n",
              "      <td>BukuBayi - Perkembangan Bayi</td>\n",
              "      <td>Remember it</td>\n",
              "      <td>Neutral</td>\n",
              "      <td>0.000000</td>\n",
              "      <td>0.000000</td>\n",
              "      <td>0</td>\n",
              "      <td>1</td>\n",
              "      <td>0</td>\n",
              "    </tr>\n",
              "    <tr>\n",
              "      <th>63353</th>\n",
              "      <td>Honkai Impact 3rd</td>\n",
              "      <td>I love game. The animation super awesome, And ...</td>\n",
              "      <td>Positive</td>\n",
              "      <td>0.250345</td>\n",
              "      <td>0.604499</td>\n",
              "      <td>0</td>\n",
              "      <td>0</td>\n",
              "      <td>1</td>\n",
              "    </tr>\n",
              "    <tr>\n",
              "      <th>63413</th>\n",
              "      <td>Hopper - Watch &amp; Book Flights</td>\n",
              "      <td>I saved much money friends mad paid flight me!!!!</td>\n",
              "      <td>Negative</td>\n",
              "      <td>-0.400000</td>\n",
              "      <td>0.600000</td>\n",
              "      <td>1</td>\n",
              "      <td>0</td>\n",
              "      <td>0</td>\n",
              "    </tr>\n",
              "  </tbody>\n",
              "</table>\n",
              "</div>\n",
              "      <button class=\"colab-df-convert\" onclick=\"convertToInteractive('df-94df5df7-6d81-49fb-8a2a-cabf6242e65e')\"\n",
              "              title=\"Convert this dataframe to an interactive table.\"\n",
              "              style=\"display:none;\">\n",
              "        \n",
              "  <svg xmlns=\"http://www.w3.org/2000/svg\" height=\"24px\"viewBox=\"0 0 24 24\"\n",
              "       width=\"24px\">\n",
              "    <path d=\"M0 0h24v24H0V0z\" fill=\"none\"/>\n",
              "    <path d=\"M18.56 5.44l.94 2.06.94-2.06 2.06-.94-2.06-.94-.94-2.06-.94 2.06-2.06.94zm-11 1L8.5 8.5l.94-2.06 2.06-.94-2.06-.94L8.5 2.5l-.94 2.06-2.06.94zm10 10l.94 2.06.94-2.06 2.06-.94-2.06-.94-.94-2.06-.94 2.06-2.06.94z\"/><path d=\"M17.41 7.96l-1.37-1.37c-.4-.4-.92-.59-1.43-.59-.52 0-1.04.2-1.43.59L10.3 9.45l-7.72 7.72c-.78.78-.78 2.05 0 2.83L4 21.41c.39.39.9.59 1.41.59.51 0 1.02-.2 1.41-.59l7.78-7.78 2.81-2.81c.8-.78.8-2.07 0-2.86zM5.41 20L4 18.59l7.72-7.72 1.47 1.35L5.41 20z\"/>\n",
              "  </svg>\n",
              "      </button>\n",
              "      \n",
              "  <style>\n",
              "    .colab-df-container {\n",
              "      display:flex;\n",
              "      flex-wrap:wrap;\n",
              "      gap: 12px;\n",
              "    }\n",
              "\n",
              "    .colab-df-convert {\n",
              "      background-color: #E8F0FE;\n",
              "      border: none;\n",
              "      border-radius: 50%;\n",
              "      cursor: pointer;\n",
              "      display: none;\n",
              "      fill: #1967D2;\n",
              "      height: 32px;\n",
              "      padding: 0 0 0 0;\n",
              "      width: 32px;\n",
              "    }\n",
              "\n",
              "    .colab-df-convert:hover {\n",
              "      background-color: #E2EBFA;\n",
              "      box-shadow: 0px 1px 2px rgba(60, 64, 67, 0.3), 0px 1px 3px 1px rgba(60, 64, 67, 0.15);\n",
              "      fill: #174EA6;\n",
              "    }\n",
              "\n",
              "    [theme=dark] .colab-df-convert {\n",
              "      background-color: #3B4455;\n",
              "      fill: #D2E3FC;\n",
              "    }\n",
              "\n",
              "    [theme=dark] .colab-df-convert:hover {\n",
              "      background-color: #434B5C;\n",
              "      box-shadow: 0px 1px 3px 1px rgba(0, 0, 0, 0.15);\n",
              "      filter: drop-shadow(0px 1px 2px rgba(0, 0, 0, 0.3));\n",
              "      fill: #FFFFFF;\n",
              "    }\n",
              "  </style>\n",
              "\n",
              "      <script>\n",
              "        const buttonEl =\n",
              "          document.querySelector('#df-94df5df7-6d81-49fb-8a2a-cabf6242e65e button.colab-df-convert');\n",
              "        buttonEl.style.display =\n",
              "          google.colab.kernel.accessAllowed ? 'block' : 'none';\n",
              "\n",
              "        async function convertToInteractive(key) {\n",
              "          const element = document.querySelector('#df-94df5df7-6d81-49fb-8a2a-cabf6242e65e');\n",
              "          const dataTable =\n",
              "            await google.colab.kernel.invokeFunction('convertToInteractive',\n",
              "                                                     [key], {});\n",
              "          if (!dataTable) return;\n",
              "\n",
              "          const docLinkHtml = 'Like what you see? Visit the ' +\n",
              "            '<a target=\"_blank\" href=https://colab.research.google.com/notebooks/data_table.ipynb>data table notebook</a>'\n",
              "            + ' to learn more about interactive tables.';\n",
              "          element.innerHTML = '';\n",
              "          dataTable['output_type'] = 'display_data';\n",
              "          await google.colab.output.renderOutput(dataTable, element);\n",
              "          const docLink = document.createElement('div');\n",
              "          docLink.innerHTML = docLinkHtml;\n",
              "          element.appendChild(docLink);\n",
              "        }\n",
              "      </script>\n",
              "    </div>\n",
              "  </div>\n",
              "  "
            ]
          },
          "metadata": {},
          "execution_count": 53
        }
      ]
    },
    {
      "cell_type": "code",
      "source": [
        "# Se elimina la columna categorica anterior\n",
        "new_df.drop(['Sentiment'],axis='columns',inplace=True)\n",
        "print(new_df.head(10))\n",
        "new_df.info()"
      ],
      "metadata": {
        "colab": {
          "base_uri": "https://localhost:8080/"
        },
        "id": "72jKPfndddBg",
        "outputId": "99f299fd-a947-4b64-d85c-f9756c6fa514"
      },
      "execution_count": 54,
      "outputs": [
        {
          "output_type": "stream",
          "name": "stdout",
          "text": [
            "                      App                                  Translated_Review  \\\n",
            "0   10 Best Foods for You  I like eat delicious food. That's I'm cooking ...   \n",
            "1   10 Best Foods for You    This help eating healthy exercise regular basis   \n",
            "3   10 Best Foods for You         Works great especially going grocery store   \n",
            "4   10 Best Foods for You                                       Best idea us   \n",
            "5   10 Best Foods for You                                           Best way   \n",
            "6   10 Best Foods for You                                            Amazing   \n",
            "8   10 Best Foods for You                               Looking forward app,   \n",
            "9   10 Best Foods for You              It helpful site ! It help foods get !   \n",
            "10  10 Best Foods for You                                          good you.   \n",
            "11  10 Best Foods for You  Useful information The amount spelling errors ...   \n",
            "\n",
            "    Sentiment_Polarity  Sentiment_Subjectivity  Negative  Neutral  Positive  \n",
            "0                 1.00                0.533333         0        0         1  \n",
            "1                 0.25                0.288462         0        0         1  \n",
            "3                 0.40                0.875000         0        0         1  \n",
            "4                 1.00                0.300000         0        0         1  \n",
            "5                 1.00                0.300000         0        0         1  \n",
            "6                 0.60                0.900000         0        0         1  \n",
            "8                 0.00                0.000000         0        1         0  \n",
            "9                 0.00                0.000000         0        1         0  \n",
            "10                0.70                0.600000         0        0         1  \n",
            "11                0.20                0.100000         0        0         1  \n",
            "<class 'pandas.core.frame.DataFrame'>\n",
            "Int64Index: 37427 entries, 0 to 64230\n",
            "Data columns (total 7 columns):\n",
            " #   Column                  Non-Null Count  Dtype  \n",
            "---  ------                  --------------  -----  \n",
            " 0   App                     37427 non-null  object \n",
            " 1   Translated_Review       37427 non-null  object \n",
            " 2   Sentiment_Polarity      37427 non-null  float64\n",
            " 3   Sentiment_Subjectivity  37427 non-null  float64\n",
            " 4   Negative                37427 non-null  uint8  \n",
            " 5   Neutral                 37427 non-null  uint8  \n",
            " 6   Positive                37427 non-null  uint8  \n",
            "dtypes: float64(2), object(2), uint8(3)\n",
            "memory usage: 1.5+ MB\n"
          ]
        }
      ]
    },
    {
      "cell_type": "code",
      "source": [
        "#Se eliminan las columnas categoricas de valor único\n",
        "new_df = new_df.drop(columns=['Translated_Review'], axis=1)"
      ],
      "metadata": {
        "id": "LnaIZWOHjTTY"
      },
      "execution_count": 59,
      "outputs": []
    },
    {
      "cell_type": "code",
      "source": [
        "label_encoder_reviews = LabelEncoder()"
      ],
      "metadata": {
        "id": "kJsI59eEf3vx"
      },
      "execution_count": 60,
      "outputs": []
    },
    {
      "cell_type": "code",
      "source": [
        "for col in new_df.columns:\n",
        "    col_type = new_df[col].dtype\n",
        "\n",
        "    if col_type == 'object':\n",
        "        values = new_df[col].values\n",
        "        labels = label_encoder_reviews.fit_transform(values)\n",
        "        mapping = dict(enumerate(label_encoder_reviews.classes_))\n",
        "        #print(values, \"\\n\", labels, \"\\n\", label_encoder.classes_, \"\\n\", mapping, \"\\n\\n\")\n",
        "        new_df[col] = label_encoder_reviews.transform(values)\n",
        "        print(f\"Mapping for {col}: {mapping}\")"
      ],
      "metadata": {
        "colab": {
          "base_uri": "https://localhost:8080/"
        },
        "id": "45jU4bPkgT-0",
        "outputId": "6c4af572-dd9c-4875-f1d7-e8e06235f335"
      },
      "execution_count": 63,
      "outputs": [
        {
          "output_type": "stream",
          "name": "stdout",
          "text": [
            "Mapping for App: {0: '10 Best Foods for You', 1: '104 找工作 - 找工作 找打工 找兼職 履歷健檢 履歷診療室', 2: '11st', 3: '1800 Contacts - Lens Store', 4: '1LINE – One Line with One Touch', 5: '2018Emoji Keyboard 😂 Emoticons Lite -sticker&gif', 6: '21-Day Meditation Experience', 7: '2Date Dating App, Love and matching', 8: '2GIS: directory & navigator', 9: '2RedBeans', 10: '2ndLine - Second Phone Number', 11: '30 Day Fitness Challenge - Workout at Home', 12: '365Scores - Live Scores', 13: '3D Live Neon Weed Launcher', 14: '4 in a Row', 15: '4K Wallpapers and Ultra HD Backgrounds', 16: '591房屋交易-租屋、中古屋、新建案、實價登錄、別墅透天、公寓套房、捷運、買房賣房行情、房價房貸查詢', 17: '591房屋交易-香港', 18: '7 Cups: Anxiety & Stress Chat', 19: '7 Day Food Journal Challenge', 20: '7 Minute Workout', 21: '7 Weeks - Habit & Goal Tracker', 22: '8 Ball Pool', 23: '850 Sports News Digest', 24: '8fit Workouts & Meal Planner', 25: '95Live -SG#1 Live Streaming App', 26: 'A Call From Santa Claus!', 27: 'A Word A Day', 28: 'A&E - Watch Full Episodes of TV Shows', 29: 'A+ Gallery - Photos & Videos', 30: 'A+ Mobile', 31: 'ABC Kids - Tracing & Phonics', 32: 'ABC News - US & World News', 33: 'ABC Preschool Free', 34: 'ABCmouse.com', 35: 'AC - Tips & News for Android™', 36: 'ACE Elite', 37: 'AD - Nieuws, Sport, Regio & Entertainment', 38: 'AMC Theatres', 39: 'ANA', 40: 'AOL - News, Mail & Video', 41: 'AP Mobile - Breaking News', 42: 'APE Weather ( Live Forecast)', 43: 'APUS Launcher - Theme, Wallpaper, Hide Apps', 44: 'ARY NEWS', 45: 'ARY NEWS URDU', 46: 'ASOS', 47: 'ASUS Calling Screen', 48: 'ASUS Cover for ZenFone 2', 49: 'ASUS Quick Memo', 50: 'ASUS Sound Recorder', 51: 'ASUS SuperNote', 52: 'AT&T Navigator: Maps, Traffic', 53: 'AT&T Smart Wi-Fi', 54: 'AT&T Visual Voicemail', 55: 'AVG Cleaner – Speed, Battery & Memory Booster', 56: 'Abs Training-Burn belly fat', 57: 'Account Manager', 58: 'Accounting App - Zoho Books', 59: 'AccuWeather: Daily Forecast & Live Weather Reports', 60: 'Acorn TV: World-class TV from Britain and Beyond', 61: 'Acorns - Invest Spare Change', 62: 'AdWords Express', 63: 'Ada - Your Health Guide', 64: 'Add Text To Photo', 65: 'Adobe Acrobat Reader', 66: 'Adobe Photoshop Express:Photo Editor Collage Maker', 67: 'Advanced Task Killer', 68: 'Agar.io', 69: 'Age Calculator', 70: 'Agoda – Hotel Booking Deals', 71: 'Air Traffic', 72: 'AirAsia', 73: 'AirBrush: Easy Photo Editor', 74: 'Airbnb', 75: 'Airport + Flight Tracker Radar', 76: 'Airway Ex - Intubate. Anesthetize. Train.', 77: 'Akinator', 78: 'AlReader -any text book reader', 79: 'Alarm Clock', 80: 'Alarm Clock Free', 81: 'Alfred Home Security Camera', 82: 'AliExpress - Smarter Shopping, Better Living', 83: 'All Email Providers', 84: 'All Events in City', 85: 'All Football - Latest News & Videos', 86: 'All Football GO- Live Score, Games', 87: 'All Language Translator Free', 88: 'All Maths Formulas', 89: 'All Mental disorders', 90: 'All Social Networks', 91: 'All Video Downloader 2018', 92: 'All-In-One Toolbox: Cleaner, Booster, App Manager', 93: 'All-in-One Mahjong 3 FREE', 94: 'Allegiant', 95: 'Allrecipes Dinner Spinner', 96: \"Alto's Adventure\", 97: 'Amazon Drive', 98: 'Amazon FreeTime – Kids’ Videos, Books, & TV shows', 99: 'Amazon Kindle', 100: 'Amazon Prime Video', 101: 'Amazon Shopping', 102: 'Amazon for Tablets', 103: 'American Airlines', 104: 'Amex Mobile', 105: 'Amino: Communities and Chats', 106: 'Amtrak', 107: 'Anatomy Learning - 3D Atlas', 108: 'Ancestry', 109: 'AndroZip™ FREE File Manager', 110: 'Android Auto - Maps, Media, Messaging & Voice', 111: 'Android Messages', 112: 'Anger of stick 5 : zombie', 113: 'Angry Birds 2', 114: 'Angry Birds Classic', 115: 'Angry Birds Rio', 116: 'Animal Planet GO', 117: 'Animated Photo Editor', 118: 'Anime Avatar Creator: Make Your Own Avatar', 119: 'Anime Manga Coloring Book', 120: 'Anthem Anywhere', 121: 'Anthem BC Anywhere', 122: 'Any.do: To-do list, Calendar, Reminders & Planner', 123: 'Apartment Decorating Ideas', 124: 'Apartment List: Housing, Apt, and Property Rentals', 125: 'Apartment, Home Rental Search: Realtor.com Rentals', 126: 'Apartments & Rentals - Zillow', 127: 'Apartments.com Rental Search', 128: 'Apex Launcher', 129: 'Apk Installer', 130: 'App vault', 131: 'AppLock', 132: 'AppLock - Fingerprint', 133: 'Apple Daily 蘋果動新聞', 134: 'Aprender inglés con Wlingua', 135: 'Archos File Manager', 136: 'Arrow.io', 137: 'Asana: organize team projects', 138: 'Ascape VR: 360° Virtual Travel', 139: 'Asphalt 8: Airborne', 140: 'Associated Credit Union Mobile', 141: 'Asteroids 3D live wallpaper', 142: 'Atlan3D Navigation: Korea navigator', 143: 'AutoCAD - DWG Viewer & Editor', 144: 'AutoScout24 Switzerland – Find your new car', 145: 'Avakin Life - 3D virtual world', 146: 'Aviary Effects: Classic', 147: 'Aviary Stickers: Free Pack', 148: 'Azar', 149: 'Azpen eReader', 150: 'B612 - Beauty & Filter Camera', 151: 'BBC Media Player', 152: 'BBC News', 153: 'BBC Sport', 154: 'BBM - Free Calls & Messages', 155: 'BBVA Compass Banking', 156: 'BBVA Spain', 157: 'BBW Dating & Curvy Singles Chat- LargeFriends', 158: 'BBW Dating & Plus Size Chat', 159: 'BBWCupid - BBW Dating App', 160: 'BELONG Beating Cancer Together', 161: 'BEST CAR SOUNDS', 162: 'BET NOW - Watch Shows', 163: 'BEYBLADE BURST app', 164: 'BIG Launcher', 165: 'BLK - Swipe. Match. Chat.', 166: 'BZWBK24 mobile', 167: 'BaBe - Baca Berita', 168: 'BaBe Lite - Baca Berita Hemat Kuota', 169: 'BaBe+ - Berita Indonesia', 170: 'Babbel – Learn Languages', 171: 'Babbel – Learn Spanish', 172: 'Baby ABC in box! Kids alphabet games for toddlers!', 173: 'Baby Monitor', 174: 'Baby Name Together', 175: 'Baby Panda Care', 176: 'Baby Panda Learns Shapes', 177: 'Baby Panda Musical Genius', 178: 'Baby Panda’s Juice Shop', 179: 'Baby Tiger Care - My Cute Virtual Pet Friend', 180: 'Baby puzzles', 181: 'Baca- Berita Terbaru, Informasi, Gosip dan Politik', 182: 'Backgrounds (HD Wallpapers)', 183: 'Backgrounds HD (Wallpapers)', 184: 'BaconReader for Reddit', 185: 'Bad Piggies', 186: 'Badoo - Free Chat & Dating App', 187: 'Bagan - Myanmar Keyboard', 188: 'Banco Itaú', 189: 'Banco do Brasil', 190: 'Bancomer móvil', 191: 'Banfield Pet Health Tracker', 192: 'Bangla Newspaper – Prothom Alo', 193: 'Banjo', 194: 'Bank of America Mobile Banking', 195: 'BankMobile Vibe App', 196: 'Banorte Movil', 197: 'Banque Populaire', 198: 'Barbie Life™', 199: 'Barbie Magical Fashion', 200: 'Barbie™ Fashion Closet', 201: 'Barclays US for Android', 202: 'Barcode Scanner', 203: 'Baritastic - Bariatric Tracker', 204: 'Baseball Boy!', 205: 'Basketball FRVR - Shoot the Hoop and Slam Dunk!', 206: 'Basketball Stars', 207: 'Bathroom Decorating Ideas', 208: 'Battlelands Royale', 209: 'Be A Legend: Soccer', 210: 'BeSoccer - Soccer Live Score', 211: 'BeWild Free Dating & Chat App', 212: 'Beautiful Design Birthday Cake', 213: 'Beautiful Widgets Free', 214: 'Beautiful Widgets Pro', 215: 'Beauty Camera - Selfie Camera', 216: 'Beauty Makeup Snappy Collage Photo Editor - Lidow', 217: 'BeautyPlus - Easy Photo Editor & Selfie Camera', 218: 'Bed Time Fan - White Noise Sleep Sounds', 219: 'Best Car Wallpapers', 220: 'Best Fiends - Free Puzzle Game', 221: 'Best Ovulation Tracker Fertility Calendar App Glow', 222: 'Best Wallpapers Backgrounds(100,000+ 4K HD)', 223: 'Best Wallpapers QHD', 224: 'BestCam Selfie-selfie, beauty camera, photo editor', 225: 'BetterMe: Weight Loss Workouts', 226: 'Betterment', 227: 'BeyondMenu Food Delivery', 228: 'BeyondPod Podcast Manager', 229: 'Bible', 230: 'Big Days - Events Countdown', 231: 'BigOven Recipes, Meal Planner, Grocery List & More', 232: 'BiggerCity: Chat for gay bears, chubs & chasers', 233: 'Bike Computer - GPS Cycling Tracker', 234: 'Binaural Beats Meditation', 235: 'Binaural Beats Therapy', 236: 'BioLife Plasma Services', 237: 'Birdays – Birthday reminder', 238: 'Birds Sounds Ringtones & Wallpapers', 239: 'Black People Meet Singles Date', 240: 'Block Puzzle', 241: 'Block Puzzle Classic Legend !', 242: 'Blogaway for Android (Blogger)', 243: 'Blogger', 244: \"Bloglovin'\", 245: 'Blood Donor', 246: 'Blood Pressure', 247: 'Blood Pressure Log - MyDiary', 248: 'Blood Pressure(BP) Diary', 249: 'Bloomberg Professional', 250: 'Bloomberg: Market & Financial News', 251: 'Blossom Blast Saga', 252: 'BluTV', 253: 'Blur Image Background', 254: 'Blur Image Background Editor (Blur Photo Editor)', 255: 'Booking.com Travel Deals', 256: 'Bowmasters', 257: 'Box', 258: 'Boxed Wholesale', 259: \"Boys Photo Editor - Six Pack & Men's Suit\", 260: 'Brain Waves - Binaural Beats', 261: 'Branch', 262: 'Brasileirão Pro 2018 - Série A e B', 263: 'Breaking News, Local news, Attacks and Alerts Free', 264: 'Brightest Flashlight Free ®', 265: 'Brightest LED Flashlight', 266: 'Brilliant', 267: 'Brit + Co', 268: 'British Airways', 269: 'Browser 4G', 270: 'Bualuang mBanking', 271: 'Bubble Shooter', 272: 'Bubble Shooter 2', 273: 'Bubble Shooter Genies', 274: 'Bubble Shooter Space', 275: 'Bubble Witch 3 Saga', 276: 'Buienradar - weer', 277: 'Build a Bridge!', 278: 'Bukalapak - Jual Beli Online', 279: 'BukuBayi - Perkembangan Bayi', 280: 'Burner - Free Phone Number', 281: 'Buscapé - Ofertas e descontos', 282: 'Business Calendar 2', 283: 'Butterfly Live Wallpaper', 284: 'Buzz Launcher-Smart&Free Theme', 285: 'BuzzFeed: News, Tasty, Quizzes', 286: 'BÁO MỚI - Đọc Báo, Tin Tức 24h', 287: 'C Programming', 288: 'C++ Programming', 289: 'C++ Tutorials', 290: 'CAIXA', 291: 'CALCU™ Stylish Calculator Free', 292: 'CATS: Crash Arena Turbo Stars', 293: 'CBS News', 294: 'CBS Sports App - Scores, News, Stats & Watch Live', 295: 'CBS Sports Fantasy', 296: 'CDL Practice Test 2018 Edition', 297: 'CIA - Caller ID & Call Blocker', 298: 'CM Browser - Ad Blocker , Fast Download , Privacy', 299: 'CM Flashlight (Compass, SOS)', 300: 'CM Launcher 3D - Theme, Wallpapers, Efficient', 301: 'CM Locker - Security Lockscreen', 302: 'CMB Free Dating App', 303: 'CNBC: Breaking Business News & Live Market Data', 304: 'CNN Breaking US & World News', 305: \"COOKING MAMA Let's Cook!\", 306: 'CVS Caremark', 307: 'CW Seed', 308: 'CWT To Go', 309: 'Cache Cleaner-DU Speed Booster (booster & cleaner)', 310: 'Caf - Mon Compte', 311: 'Calculator - free calculator, multi calculator app', 312: 'Calculator - unit converter', 313: 'Calculator Plus Free', 314: 'Calculator with Percent (Free)', 315: 'Calendar Widget Month + Agenda', 316: 'Calendar+ Schedule Planner App', 317: 'Call Blocker', 318: 'Call Control - Call Blocker', 319: 'Call of Duty:Black Ops Zombies', 320: 'CallApp: Caller ID, Blocker & Phone Call Recorder', 321: 'Caller ID +', 322: 'Calls & Text by Mo+', 323: 'Calls Blacklist - Call Blocker', 324: 'Calm - Meditate, Sleep, Relax', 325: 'Calorie Counter & Diet Tracker', 326: 'Calorie Counter - EasyFit free', 327: 'Calorie Counter - Macros', 328: 'Calorie Counter - MyFitnessPal', 329: 'Calorie Counter - MyNetDiary', 330: 'Cameringo Lite. Filters Camera', 331: 'Candy Bomb', 332: 'Candy Camera - selfie, beauty camera, photo editor', 333: 'Candy Crush Jelly Saga', 334: 'Candy Crush Saga', 335: 'Candy Crush Soda Saga', 336: 'Candy Day', 337: 'Candy Pop Story', 338: 'Candy Smash', 339: 'Candy selfie - photo editor, live filter camera', 340: 'Canva: Poster, banner, card maker & graphic design', 341: 'Canvas Student', 342: 'Cat Sim Online: Play with Cats', 343: 'Caviar - Food Delivery', 344: 'Chakra Cleansing', 345: 'Championat', 346: 'Chapters: Interactive Stories', 347: 'Chase Mobile', 348: 'Chat Rooms, Avatars, Date - Galaxy', 349: 'ChatVideo Meet new people', 350: 'Cheap Flights & Hotels momondo', 351: 'Cheap hotel deals and discounts — Hotellook', 352: 'CheapTickets – Hotels, Flights & Travel Deals', 353: 'Cheapflights – Flight Search', 354: 'CheckPoints 🏆 Rewards App', 355: 'Checkers ✔️', 356: 'Checkout 51: Grocery coupons', 357: 'Choice Hotels', 358: 'Choices: Stories You Play', 359: 'Christian Dating For Free App', 360: 'Chrome Beta', 361: 'Chrome Dev', 362: 'Cinemark Theatres', 363: 'Cisco Webex Meetings', 364: 'Cisco Webex Teams', 365: 'Citi Mobile®', 366: 'Citibanamex Movil', 367: 'Citizens Bank Mobile Banking', 368: 'CityMaps2Go Plan Trips Travel Guide Offline Maps', 369: 'Claro', 370: 'Clash Royale', 371: 'Clash of Clans', 372: 'Color Flashlight', 373: 'Color Road', 374: 'Color Touch Effects', 375: 'Color by Number - Draw Sandbox Pixel Art', 376: 'Color by Number – New Coloring Book', 377: 'ColorFil - Adult Coloring Book', 378: 'ColorNote Notepad Notes', 379: 'ColorSnap® Visualizer', 380: 'Colorfit - Drawing & Coloring', 381: 'Colorful Glitter Neon Butterfly Keyboard Theme', 382: 'Colorfy: Coloring Book for Adults - Free', 383: 'Coloring & Learn', 384: 'Coloring book moana', 385: 'Comedy Central', 386: 'Common Core', 387: 'Comptia A+ 220-901 & 220-902', 388: 'ConnectLine', 389: 'Contacts', 390: 'Contacts+', 391: 'Content Transfer', 392: 'ConvertPad - Unit Converter', 393: 'Cookbook Recipes', 394: 'Cooking Channel', 395: 'Cooking Fever', 396: \"Cooking Madness - A Chef's Restaurant Games\", 397: 'Cookpad', 398: 'Cool Popular Ringtones 2018 🔥', 399: 'Cool Reader', 400: 'Couch to 10K Running Trainer', 401: 'Couch to 5K by RunDouble', 402: 'Couchsurfing Travel App', 403: 'Cougar Dating Life : Date Older Women Sugar Mummy', 404: 'Couple - Relationship App', 405: 'Credit Karma', 406: 'Credit Sesame', 407: 'CreditWise from Capital One', 408: 'Crew - Free Messaging and Scheduling', 409: 'Cricbuzz - Live Cricket Scores & News', 410: 'Cricket Visual Voicemail', 411: 'Crossy Road', 412: 'Crunchyroll - Everything Anime', 413: 'Current debit card and app made for teens', 414: 'Curriculum vitae App CV Builder Free Resume Maker', 415: 'Curso de Ingles Gratis', 416: 'Cut the Rope 2', 417: 'Cut the Rope FULL FREE', 418: 'Cycling - Bike Tracker', 419: 'Cymera Camera- Photo Editor, Filter,Collage,Layout', 420: 'Czech Public Transport IDOS', 421: 'DC Comics', 422: 'DC Super Hero Girls™', 423: 'DEAD TARGET: FPS Zombie Apocalypse Survival Games', 424: 'DEER HUNTER 2018', 425: 'DELISH KITCHEN - 無料レシピ動画で料理を楽しく・簡単に！', 426: 'DINO HUNTER: DEADLY SHORES', 427: 'DIY Garden Ideas', 428: 'DIY On A Budget', 429: 'DMV Permit Practice Test 2018 Edition', 430: 'DRAGON BALL LEGENDS', 431: 'DSLR Camera Hd Ultra Professional', 432: 'DStv Now', 433: 'DU Browser—Browse fast & fun', 434: 'DU Recorder – Screen Recorder, Video Editor, Live', 435: 'Daily Workouts - Exercise Fitness Routine Trainer', 436: 'Daily Yoga - Yoga Fitness Plans', 437: 'Dailyhunt (Newshunt) - Latest News, Viral Videos', 438: 'Dairy Queen', 439: 'Daniel Tiger for Parents', 440: 'DashClock Widget', 441: 'Dashlane Free Password Manager', 442: 'Dating App, Flirt & Chat : W-Match', 443: 'Dating for 50 plus Mature Singles – FINALLY', 444: 'Daum Mail - 다음 메일', 445: \"Davis's Drug Guide\", 446: \"Davis's Drug Guide for Nurses\", 447: 'Debonairs Pizza', 448: 'Delivery Club–Доставка еды:пицца,суши,бургер,салат', 449: 'Delta Dental', 450: 'Despegar.com Hoteles y Vuelos', 451: 'Detector de Radares Gratis', 452: 'Device Help', 453: 'Diabetes & Diet Tracker', 454: 'Diabetes:M', 455: 'Diamond Zipper Lock Screen', 456: 'Diary with lock', 457: 'Diary with lock password', 458: 'Dictionary - Merriam-Webster', 459: 'Die TK-App – alles im Griff', 460: 'Digg', 461: 'DigiCal Calendar Agenda', 462: 'Digit Save Money Automatically', 463: 'Digital Alarm Clock', 464: 'Dil Mil', 465: 'Dino War: Rise of Beasts', 466: 'Dinosaur Simulator: Dino World', 467: 'Discover Mobile', 468: 'Disney Heroes: Battle Mode', 469: 'Disney Magic Kingdoms: Build Your Own Magical Park', 470: 'DisneyNOW – TV Shows & Games', 471: 'Divar', 472: 'Do It Later: Tasks & To-Dos', 473: 'Docs To Go™ Free Office Suite', 474: 'Doctor On Demand', 475: 'Doctor Pets', 476: 'Dog Licks Screen Wallpaper', 477: 'Dog Run - Pet Dog Simulator', 478: 'Dog Sim Online: Raise a Family', 479: \"Domino's Pizza USA\", 480: 'Dominos Game ✔️', 481: 'Domofond Недвижимость. Купить, снять квартиру.', 482: 'Doodle Jump', 483: 'Door Lock Screen', 484: 'DoorDash - Food Delivery', 485: 'Dosecast - Medication Reminder', 486: 'Down Dog: Great Yoga Anywhere', 487: 'Dr. Oetker Rezeptideen', 488: \"Dr. Panda & Toto's Treehouse\", 489: 'Dr. Panda Restaurant 3', 490: 'Dr. Panda Town: Vacation', 491: 'DraftKings - Daily Fantasy Sports', 492: 'Dragon Hills', 493: 'Draw A Stickman', 494: 'Draw In', 495: 'Draw Your Game', 496: 'Draw a Stickman: EPIC 2', 497: 'Drawing for Kids Learning Games for Toddlers age 3', 498: 'Dream League Soccer 2018', 499: 'DreamTrips', 500: 'DreamWorks Friends', 501: 'Dresses Ideas & Fashions +3000', 502: 'Droid Zap by Motorola', 503: 'DroidAdmin for Android - Advice', 504: 'Dropbox', 505: 'Drugs.com Medication Guide', 506: 'Dude Perfect 2', 507: 'Dumb Ways to Die 2: The Games', 508: 'Dungeon Hunter Champions: Epic Online Action RPG', 509: \"Dunkin' Donuts\", 510: 'Duolingo: Learn Languages Free', 511: 'DuraSpeed', 512: 'E*TRADE Mobile', 513: 'Easy - taxi, car, ridesharing', 514: 'Easy Hair Style Design', 515: 'Easy Healthy Recipes', 516: 'Easy Installer - Apps On SD', 517: 'Easy Makeup Tutorials', 518: 'Easy Origami Ideas', 519: 'Easy Recipes', 520: 'Easy Voice Recorder', 521: 'EasyBib: Citation Generator', 522: 'Eat Fit - Diet and Health Free', 523: 'Eat24 Food Delivery & Takeout', 524: 'EatStreet Food Delivery App', 525: 'Ebates: Cash Back, Coupons, Rewards & Savings', 526: 'Ebook Reader', 527: 'Ecobank Mobile Banking', 528: 'Edmodo', 529: 'Educational Games 4 Kids', 530: 'Educational Games for Kids', 531: 'El tiempo de AEMET', 532: 'English with Lingualeo', 533: 'English-Myanmar Dictionary', 534: 'Entel', 535: 'Enterprise Rent-A-Car', 536: 'Episode - Choose Your Story', 537: 'Epocrates Plus', 538: 'Equestria Girls', 539: 'Essential Anatomy 3', 540: 'Essential Resources', 541: 'Etsy: Handmade & Vintage Goods', 542: 'Etta Homes', 543: 'Eurosport', 544: 'Eve Period Tracker - Love, Sex & Relationships App', 545: 'Even - organize your money, get paid early', 546: 'Evernote – Organizer, Planner for Notes & Memos', 547: 'Evie Launcher', 548: 'ExDialer - Dialer & Contacts', 549: 'Expedia Hotels, Flights & Car Rental Travel Deals', 550: 'Expense IQ Money Manager', 551: 'Experian - Free Credit Report', 552: 'Extreme Car Driving Simulator', 553: 'Extreme Coupon Finder', 554: 'Extreme Match', 555: 'Extreme Racing 2 - Real driving RC cars game!', 556: 'EyeCloud', 557: 'EyeEm - Camera & Photo Filter', 558: 'EzCalculator', 559: 'FBReader: Favorite Book Reader', 560: 'FERZU - Furries Social Network', 561: 'FIFA - Tournaments, Soccer News & Live Scores', 562: 'FINAL FANTASY BRAVE EXVIUS', 563: 'FOSSIL Q: DESIGN YOUR DIAL', 564: 'FOX', 565: 'FOX NOW - On Demand & Live TV', 566: 'FOX Sports: Live Streaming, Scores & News', 567: 'FREEDOME VPN Unlimited anonymous Wifi Security', 568: 'FUN Keyboard – Emoji Keyboard, Sticker,Theme & GIF', 569: 'Fabulous: Motivate Me! Meditate, Relax, Sleep', 570: 'Face Filter, Selfie Editor - Sweet Camera', 571: 'Facebook', 572: 'Facebook Ads Manager', 573: 'Facebook Lite', 574: 'Facebook Local', 575: 'Facebook Pages Manager', 576: 'Facetune - Ad Free', 577: 'Fake Call - Fake Caller ID', 578: 'Fallout Shelter', 579: 'Family Album Mitene: Private Photo & Video Sharing', 580: 'Family Dollar', 581: 'Family GPS Tracker and Chat + Baby Monitor Online', 582: 'Family GPS tracker KidControl + GPS by SMS Locator', 583: 'Family Locator - GPS Tracker', 584: 'FamilySearch Tree', 585: 'FanDuel: Daily Fantasy Sports', 586: 'Fancy Widgets', 587: 'Fandango Movies - Times + Tickets', 588: 'Fantasy Football', 589: 'Fantasy Football & NFL News', 590: 'Fantasy Football Manager (FPL)', 591: 'Farm Fruit Pop: Party Time', 592: 'Farm Heroes Saga', 593: 'Farming Simulator 14', 594: 'Farming Simulator 18', 595: 'Fashion in Vogue', 596: 'Fast News', 597: 'Fast Scanner : Free PDF Scan', 598: 'Fast Secure VPN', 599: 'FastMeet: Chat, Dating, Love', 600: 'Fat Burning Workout - Home Weight lose', 601: 'Fate/Grand Order (English)', 602: 'FidMe Loyalty Cards & Deals at Grocery Supermarket', 603: 'File Browser by Astro (File Manager)', 604: 'File Explorer', 605: 'File Manager', 606: 'File Manager -- Take Command of Your Files Easily', 607: 'Files Go by Google: Free up space on your phone', 608: 'FilterGrid - Cam&Photo Editor', 609: 'Filters for B Live', 610: 'Filters for Selfie', 611: 'Final Fantasy XV: A New Empire', 612: 'Financial Times', 613: 'Find Dining Restaurant Finder', 614: 'Find a Way: Addictive Puzzle', 615: 'Find&Save - Local Shopping', 616: 'FindShip', 617: 'Firefox Browser fast & private', 618: 'Firefox Focus: The privacy browser', 619: 'Fishdom', 620: 'Fitbit', 621: 'Flashlight', 622: 'Flashlight & LED Torch', 623: 'Flashlight - Torch LED Light', 624: 'Flashlight HD LED', 625: 'Flickr', 626: 'Flight & Hotel Booking App - ixigo', 627: 'Flightradar24 Flight Tracker', 628: 'Flights', 629: 'Flip the Gun - Simulator Game', 630: 'FlipaClip - Cartoon animation', 631: 'Flipboard: News For Our Time', 632: 'Flipkart Online Shopping App', 633: 'Flipp - Weekly Shopping', 634: 'Flippy Campus - Buy & sell on campus at a discount', 635: 'FlirtChat - ♥Free Dating/Flirting App♥', 636: 'Floor Plan Creator', 637: 'Flow Free', 638: 'Flowers Live Wallpaper', 639: 'Fly Delta', 640: 'FollowMyHealth®', 641: 'Font Studio- Photo Texts Image', 642: 'Food Calorie Calculator', 643: 'Food Network', 644: 'Fooducate Healthy Weight Loss & Calorie Counter', 645: 'Foot Mercato : transferts, résultats, news, live', 646: 'Football Live Scores', 647: 'ForecaWeather', 648: 'Fortune City - A Finance App', 649: 'Four In A Line', 650: 'Four In A Line Free', 651: 'Foursquare City Guide', 652: 'Foursquare Swarm: Check In', 653: 'Fox Business', 654: 'Fox News – Breaking News, Live Video & News Alerts', 655: 'Fraction Calculator Plus Free', 656: 'Free & Premium VPN - FinchVPN', 657: 'Free Dating & Flirt Chat - Choice of Love', 658: 'Free Dating App & Flirt Chat - Cheers', 659: 'Free Dating App & Flirt Chat - Match with Singles', 660: 'Free Dating App - Meet Local Singles - Flirt Chat', 661: 'Free Dating App - YoCutie - Flirt, Chat & Meet', 662: 'Free Dating Hook Up Messenger', 663: 'Free Foreclosure Real Estate Search by USHUD.com', 664: 'Free Hypnosis', 665: 'Free Live Talk-Video Call', 666: 'Free Panda Radio Music', 667: 'Free Sports TV', 668: 'Free TV Shows App:News, TV Series, Episode, Movies', 669: 'Free VIN Report for Used Cars', 670: 'Free live weather on screen', 671: 'Free phone calls, free texting SMS on free number', 672: 'FreePrints – Free Photos Delivered', 673: 'Freeletics: Personal Trainer & Fitness Workouts', 674: 'Freeme Launcher—Stylish Theme', 675: 'Fresh EBT - Food Stamp Balance', 676: 'FreshBooks Classic', 677: 'Frontback - Social Photos', 678: 'Frozen Free Fall', 679: 'Fruit Block - Puzzle Legend', 680: 'Fruit Ninja®', 681: 'Fruits Bomb', 682: 'Fuelio: Gas log & costs', 683: 'Full Screen Caller ID', 684: 'Fun Kid Racing', 685: 'Fun Kid Racing - Motocross', 686: 'Funny Alarm Clock Ringtones', 687: 'Funny Pics', 688: 'Fuzzy Seasons: Animal Forest', 689: 'G Cloud Backup', 690: 'GANMA! - オリジナル漫画が全話無料で読み放題', 691: 'GCash - Buy Load, Pay Bills, Send Money', 692: 'GMAT Math Flashcards', 693: 'GMAT Question Bank', 694: 'GMX Mail', 695: 'GO Keyboard - Cute Emojis, Themes and GIFs', 696: 'GO Keyboard - Emoticon keyboard, Free Theme, GIF', 697: 'GO Notifier', 698: 'GO SMS Pro - Messenger, Free Themes, Emoji', 699: 'GO Weather - Widget, Theme, Wallpaper, Efficient', 700: 'GPS Map Free', 701: 'GPS Speedometer and Odometer', 702: 'GPS Speedometer, Distance Meter', 703: 'GPS Status & Toolbox', 704: 'GPS Traffic Speedcam Route Planner by ViaMichelin', 705: 'GRE Flashcards', 706: 'GRE Prep & Practice by Magoosh', 707: 'GRE Tutor', 708: 'GS SHOP', 709: 'GUNSHIP BATTLE: Helicopter 3D', 710: 'Galactic Core Free Wallpaper', 711: 'Galaxy Attack: Alien Shooter', 712: 'Game of Thrones: Conquest™', 713: 'Gametime - Tickets to Sports, Concerts, Theater', 714: 'Garden Coloring Book', 715: 'Garden Fruit Legend', 716: 'Garden Photo Frames - Garden Photo Editor', 717: 'Gardenscapes', 718: 'Garena Free Fire', 719: 'Garmin Connect™', 720: 'GasBuddy: Find Cheap Gas', 721: 'Gay Sugar Daddy Dating & Hookup – Sudy Gay', 722: 'Gboard - the Google Keyboard', 723: 'Gems or jewels ?', 724: 'Genius Scan - PDF Scanner', 725: 'Gmail', 726: 'GoBank', 727: 'GoPro (formerly Capture)', 728: 'Goal Live Scores', 729: 'Goibibo - Flight Hotel Bus Car IRCTC Booking App', 730: 'Goku Wallpaper Art', 731: 'Gold Butterfly Keyboard Theme', 732: 'Golden Dictionary (EN-AR)', 733: 'Golden Launcher', 734: 'Goldstar: Live Event Tickets', 735: 'Golf Channel', 736: 'Golf GPS Rangefinder: Golf Pad', 737: 'Golf GPS by SwingxSwing', 738: 'GolfLogix GPS + Putt Breaks', 739: 'GolfNow: Tee Time Deals at Golf Courses, Golf GPS', 740: 'Golfshot Plus: Golf GPS', 741: 'Golfshot: Golf GPS + Tee Times', 742: 'GoodRx Drug Prices and Coupons', 743: 'Google', 744: 'Google Ads', 745: 'Google Duo - High Quality Video Calls', 746: 'Google Earth', 747: 'Google Fit - Fitness Tracking', 748: 'Google Handwriting Input', 749: 'Google Keep', 750: 'Google My Business', 751: 'Google News', 752: 'Google PDF Viewer', 753: 'Google Pay', 754: 'Google Photos', 755: 'Google Primer', 756: 'Google Slides', 757: 'Google Street View', 758: 'Google Translate', 759: 'Google Trips - Travel Planner', 760: 'Google Voice', 761: 'Google+', 762: 'Granny', 763: 'Graphing Calculator', 764: 'Grim Soul: Dark Fantasy Survival', 765: 'Groovebook Photo Books & Gifts', 766: 'GroupMe', 767: 'Groupon - Shop Deals, Discounts & Coupons', 768: 'Grubhub: Food Delivery', 769: 'Guns of Glory', 770: 'Gyft - Mobile Gift Card Wallet', 771: 'H Pack', 772: 'H TV', 773: 'H&M', 774: 'HBO GO: Stream with TV Package', 775: 'HD Camera', 776: 'HD Camera - Best Cam with filters & panorama', 777: 'HD Camera - Quick Snap Photo & Video', 778: 'HD Camera Pro for Android', 779: 'HD Camera Ultra', 780: 'HD Camera for Android', 781: 'HD Movie Video Player', 782: 'HD Video Player', 783: 'HD Widgets', 784: 'HDFC Bank MobileBanking', 785: 'HESI A2 Pocket Prep', 786: 'HISTORY: Watch TV Show Full Episodes & Specials', 787: 'HTC Calendar', 788: 'HTC File Manager', 789: 'HTC Gallery', 790: 'HTC Help', 791: 'HTC Lock Screen', 792: 'HTC Mail', 793: 'HTC Sense Input', 794: 'HTC Sense Input-AR', 795: 'HTC Service － DLNA', 796: 'HTC Service—Video Player', 797: 'HTC Social Plugin - Facebook', 798: 'HTC Speak', 799: 'HTC Weather', 800: \"Hacker's Keyboard\", 801: 'Hairstyles step by step', 802: 'Hamilton — The Official App', 803: 'Hangouts', 804: 'Happify', 805: 'Happy Birthday Songs Offline', 806: 'Happy Fruits Bomb - Cube Blast', 807: 'Happy Street', 808: 'Harkins Theatres', 809: 'Harry Potter: Hogwarts Mystery', 810: 'HauteLook', 811: 'Hay Day', 812: 'Haystack TV: Local & World News - Free', 813: 'Headspace: Meditation & Mindfulness', 814: 'Health and Nutrition Guide', 815: 'HealtheLife', 816: 'Healthy Recipes Free', 817: 'Helix Jump', 818: 'Hello Kitty Lunchbox', 819: 'Hello Kitty Nail Salon', 820: 'Hello Stars', 821: 'HelloTalk — Chat, Speak & Learn Foreign Languages', 822: 'Hero Hunters', 823: 'Herpes Dating: 1,000K+ Singles', 824: 'Herpes Positive Singles Dating', 825: 'Hide App, Private Dating, Safe Chat - PrivacyHider', 826: 'Hide Something - Photo, Video', 827: 'Hideman VPN', 828: 'High Blood Pressure Symptoms', 829: 'High-Powered Flashlight', 830: 'High-Speed Camera (GIF,Burst)', 831: 'Hill Climb Racing', 832: 'Hill Climb Racing 2', 833: 'Hily: Dating, Chat, Match, Meet & Hook up', 834: 'Hinge: Dating & Relationships', 835: 'HipChat - Chat Built for Teams', 836: 'Hipmunk Hotels & Flights', 837: 'Hitwe - meet people and chat', 838: 'Hole19: Golf GPS App, Rangefinder & Scorecard', 839: 'Home Decor Showpiece Art making: Medium Difficulty', 840: 'Home Scouting® MLS Mobile', 841: 'Home Security Camera WardenCam - reuse old phones', 842: 'Home Street – Home Design Game', 843: 'Home Workout - No Equipment', 844: 'Home Workout for Men - Bodybuilding', 845: 'Home workouts - fat burning, abs, legs, arms,chest', 846: 'HomeWork', 847: 'Homes.com 🏠 For Sale, Rent', 848: 'Homescapes', 849: 'Homesnap Real Estate & Rentals', 850: 'Homestyler Interior Design & Decorating Ideas', 851: 'Homework Planner', 852: 'Honkai Impact 3rd', 853: 'Hopper - Watch & Book Flights', 854: 'Horoscopes – Daily Zodiac Horoscope and Astrology', 855: 'Horses Live Wallpaper', 856: 'Hostelworld: Hostels & Cheap Hotels Travel App', 857: 'Hot Wheels: Race Off', 858: 'HotelTonight: Book amazing deals at great hotels', 859: 'Hotels Combined - Cheap deals', 860: 'Hotels.com: Book Hotel Rooms & Find Vacation Deals', 861: 'Hotspot Shield Free VPN Proxy & Wi-Fi Security', 862: 'Hotstar', 863: 'Hotwire Hotel & Car Rental App', 864: 'Housing-Real Estate & Property'}\n"
          ]
        }
      ]
    },
    {
      "cell_type": "code",
      "source": [
        "new_df.sample(5)"
      ],
      "metadata": {
        "colab": {
          "base_uri": "https://localhost:8080/",
          "height": 206
        },
        "id": "N2s4K9Kag15X",
        "outputId": "02fde1ab-44fe-493a-a85a-4e1f56663106"
      },
      "execution_count": 64,
      "outputs": [
        {
          "output_type": "execute_result",
          "data": {
            "text/plain": [
              "       App  Sentiment_Polarity  Sentiment_Subjectivity  Negative  Neutral  \\\n",
              "9499   143            0.000000                0.750000         0        1   \n",
              "50393  681            0.003333                0.424444         0        0   \n",
              "55731  746            0.218750                0.750000         0        0   \n",
              "40611  538           -0.206667                0.578333         1        0   \n",
              "39442  530            0.253810                0.401905         0        0   \n",
              "\n",
              "       Positive  \n",
              "9499          0  \n",
              "50393         1  \n",
              "55731         1  \n",
              "40611         0  \n",
              "39442         1  "
            ],
            "text/html": [
              "\n",
              "  <div id=\"df-7bbbce93-738a-43d0-962e-5b2525bbd6e5\">\n",
              "    <div class=\"colab-df-container\">\n",
              "      <div>\n",
              "<style scoped>\n",
              "    .dataframe tbody tr th:only-of-type {\n",
              "        vertical-align: middle;\n",
              "    }\n",
              "\n",
              "    .dataframe tbody tr th {\n",
              "        vertical-align: top;\n",
              "    }\n",
              "\n",
              "    .dataframe thead th {\n",
              "        text-align: right;\n",
              "    }\n",
              "</style>\n",
              "<table border=\"1\" class=\"dataframe\">\n",
              "  <thead>\n",
              "    <tr style=\"text-align: right;\">\n",
              "      <th></th>\n",
              "      <th>App</th>\n",
              "      <th>Sentiment_Polarity</th>\n",
              "      <th>Sentiment_Subjectivity</th>\n",
              "      <th>Negative</th>\n",
              "      <th>Neutral</th>\n",
              "      <th>Positive</th>\n",
              "    </tr>\n",
              "  </thead>\n",
              "  <tbody>\n",
              "    <tr>\n",
              "      <th>9499</th>\n",
              "      <td>143</td>\n",
              "      <td>0.000000</td>\n",
              "      <td>0.750000</td>\n",
              "      <td>0</td>\n",
              "      <td>1</td>\n",
              "      <td>0</td>\n",
              "    </tr>\n",
              "    <tr>\n",
              "      <th>50393</th>\n",
              "      <td>681</td>\n",
              "      <td>0.003333</td>\n",
              "      <td>0.424444</td>\n",
              "      <td>0</td>\n",
              "      <td>0</td>\n",
              "      <td>1</td>\n",
              "    </tr>\n",
              "    <tr>\n",
              "      <th>55731</th>\n",
              "      <td>746</td>\n",
              "      <td>0.218750</td>\n",
              "      <td>0.750000</td>\n",
              "      <td>0</td>\n",
              "      <td>0</td>\n",
              "      <td>1</td>\n",
              "    </tr>\n",
              "    <tr>\n",
              "      <th>40611</th>\n",
              "      <td>538</td>\n",
              "      <td>-0.206667</td>\n",
              "      <td>0.578333</td>\n",
              "      <td>1</td>\n",
              "      <td>0</td>\n",
              "      <td>0</td>\n",
              "    </tr>\n",
              "    <tr>\n",
              "      <th>39442</th>\n",
              "      <td>530</td>\n",
              "      <td>0.253810</td>\n",
              "      <td>0.401905</td>\n",
              "      <td>0</td>\n",
              "      <td>0</td>\n",
              "      <td>1</td>\n",
              "    </tr>\n",
              "  </tbody>\n",
              "</table>\n",
              "</div>\n",
              "      <button class=\"colab-df-convert\" onclick=\"convertToInteractive('df-7bbbce93-738a-43d0-962e-5b2525bbd6e5')\"\n",
              "              title=\"Convert this dataframe to an interactive table.\"\n",
              "              style=\"display:none;\">\n",
              "        \n",
              "  <svg xmlns=\"http://www.w3.org/2000/svg\" height=\"24px\"viewBox=\"0 0 24 24\"\n",
              "       width=\"24px\">\n",
              "    <path d=\"M0 0h24v24H0V0z\" fill=\"none\"/>\n",
              "    <path d=\"M18.56 5.44l.94 2.06.94-2.06 2.06-.94-2.06-.94-.94-2.06-.94 2.06-2.06.94zm-11 1L8.5 8.5l.94-2.06 2.06-.94-2.06-.94L8.5 2.5l-.94 2.06-2.06.94zm10 10l.94 2.06.94-2.06 2.06-.94-2.06-.94-.94-2.06-.94 2.06-2.06.94z\"/><path d=\"M17.41 7.96l-1.37-1.37c-.4-.4-.92-.59-1.43-.59-.52 0-1.04.2-1.43.59L10.3 9.45l-7.72 7.72c-.78.78-.78 2.05 0 2.83L4 21.41c.39.39.9.59 1.41.59.51 0 1.02-.2 1.41-.59l7.78-7.78 2.81-2.81c.8-.78.8-2.07 0-2.86zM5.41 20L4 18.59l7.72-7.72 1.47 1.35L5.41 20z\"/>\n",
              "  </svg>\n",
              "      </button>\n",
              "      \n",
              "  <style>\n",
              "    .colab-df-container {\n",
              "      display:flex;\n",
              "      flex-wrap:wrap;\n",
              "      gap: 12px;\n",
              "    }\n",
              "\n",
              "    .colab-df-convert {\n",
              "      background-color: #E8F0FE;\n",
              "      border: none;\n",
              "      border-radius: 50%;\n",
              "      cursor: pointer;\n",
              "      display: none;\n",
              "      fill: #1967D2;\n",
              "      height: 32px;\n",
              "      padding: 0 0 0 0;\n",
              "      width: 32px;\n",
              "    }\n",
              "\n",
              "    .colab-df-convert:hover {\n",
              "      background-color: #E2EBFA;\n",
              "      box-shadow: 0px 1px 2px rgba(60, 64, 67, 0.3), 0px 1px 3px 1px rgba(60, 64, 67, 0.15);\n",
              "      fill: #174EA6;\n",
              "    }\n",
              "\n",
              "    [theme=dark] .colab-df-convert {\n",
              "      background-color: #3B4455;\n",
              "      fill: #D2E3FC;\n",
              "    }\n",
              "\n",
              "    [theme=dark] .colab-df-convert:hover {\n",
              "      background-color: #434B5C;\n",
              "      box-shadow: 0px 1px 3px 1px rgba(0, 0, 0, 0.15);\n",
              "      filter: drop-shadow(0px 1px 2px rgba(0, 0, 0, 0.3));\n",
              "      fill: #FFFFFF;\n",
              "    }\n",
              "  </style>\n",
              "\n",
              "      <script>\n",
              "        const buttonEl =\n",
              "          document.querySelector('#df-7bbbce93-738a-43d0-962e-5b2525bbd6e5 button.colab-df-convert');\n",
              "        buttonEl.style.display =\n",
              "          google.colab.kernel.accessAllowed ? 'block' : 'none';\n",
              "\n",
              "        async function convertToInteractive(key) {\n",
              "          const element = document.querySelector('#df-7bbbce93-738a-43d0-962e-5b2525bbd6e5');\n",
              "          const dataTable =\n",
              "            await google.colab.kernel.invokeFunction('convertToInteractive',\n",
              "                                                     [key], {});\n",
              "          if (!dataTable) return;\n",
              "\n",
              "          const docLinkHtml = 'Like what you see? Visit the ' +\n",
              "            '<a target=\"_blank\" href=https://colab.research.google.com/notebooks/data_table.ipynb>data table notebook</a>'\n",
              "            + ' to learn more about interactive tables.';\n",
              "          element.innerHTML = '';\n",
              "          dataTable['output_type'] = 'display_data';\n",
              "          await google.colab.output.renderOutput(dataTable, element);\n",
              "          const docLink = document.createElement('div');\n",
              "          docLink.innerHTML = docLinkHtml;\n",
              "          element.appendChild(docLink);\n",
              "        }\n",
              "      </script>\n",
              "    </div>\n",
              "  </div>\n",
              "  "
            ]
          },
          "metadata": {},
          "execution_count": 64
        }
      ]
    },
    {
      "cell_type": "markdown",
      "source": [
        "## Entrenamiento del modelo"
      ],
      "metadata": {
        "id": "qMhn8MVeTtoD"
      }
    },
    {
      "cell_type": "code",
      "source": [
        "# Dividimos el dataset en características y clase target:\n",
        "x = new_df[new_df.columns.difference(['Positive'])]\n",
        "y = new_df['Positive']\n",
        "       \n",
        "classifier = RandomForestClassifier()\n",
        "classifier.fit(x, y)"
      ],
      "metadata": {
        "colab": {
          "base_uri": "https://localhost:8080/",
          "height": 74
        },
        "id": "VASvSuDKTyXv",
        "outputId": "c5923ecd-8dc7-4ddb-a3f0-3acf1c2a7e4c"
      },
      "execution_count": 67,
      "outputs": [
        {
          "output_type": "execute_result",
          "data": {
            "text/plain": [
              "RandomForestClassifier()"
            ],
            "text/html": [
              "<style>#sk-container-id-1 {color: black;background-color: white;}#sk-container-id-1 pre{padding: 0;}#sk-container-id-1 div.sk-toggleable {background-color: white;}#sk-container-id-1 label.sk-toggleable__label {cursor: pointer;display: block;width: 100%;margin-bottom: 0;padding: 0.3em;box-sizing: border-box;text-align: center;}#sk-container-id-1 label.sk-toggleable__label-arrow:before {content: \"▸\";float: left;margin-right: 0.25em;color: #696969;}#sk-container-id-1 label.sk-toggleable__label-arrow:hover:before {color: black;}#sk-container-id-1 div.sk-estimator:hover label.sk-toggleable__label-arrow:before {color: black;}#sk-container-id-1 div.sk-toggleable__content {max-height: 0;max-width: 0;overflow: hidden;text-align: left;background-color: #f0f8ff;}#sk-container-id-1 div.sk-toggleable__content pre {margin: 0.2em;color: black;border-radius: 0.25em;background-color: #f0f8ff;}#sk-container-id-1 input.sk-toggleable__control:checked~div.sk-toggleable__content {max-height: 200px;max-width: 100%;overflow: auto;}#sk-container-id-1 input.sk-toggleable__control:checked~label.sk-toggleable__label-arrow:before {content: \"▾\";}#sk-container-id-1 div.sk-estimator input.sk-toggleable__control:checked~label.sk-toggleable__label {background-color: #d4ebff;}#sk-container-id-1 div.sk-label input.sk-toggleable__control:checked~label.sk-toggleable__label {background-color: #d4ebff;}#sk-container-id-1 input.sk-hidden--visually {border: 0;clip: rect(1px 1px 1px 1px);clip: rect(1px, 1px, 1px, 1px);height: 1px;margin: -1px;overflow: hidden;padding: 0;position: absolute;width: 1px;}#sk-container-id-1 div.sk-estimator {font-family: monospace;background-color: #f0f8ff;border: 1px dotted black;border-radius: 0.25em;box-sizing: border-box;margin-bottom: 0.5em;}#sk-container-id-1 div.sk-estimator:hover {background-color: #d4ebff;}#sk-container-id-1 div.sk-parallel-item::after {content: \"\";width: 100%;border-bottom: 1px solid gray;flex-grow: 1;}#sk-container-id-1 div.sk-label:hover label.sk-toggleable__label {background-color: #d4ebff;}#sk-container-id-1 div.sk-serial::before {content: \"\";position: absolute;border-left: 1px solid gray;box-sizing: border-box;top: 0;bottom: 0;left: 50%;z-index: 0;}#sk-container-id-1 div.sk-serial {display: flex;flex-direction: column;align-items: center;background-color: white;padding-right: 0.2em;padding-left: 0.2em;position: relative;}#sk-container-id-1 div.sk-item {position: relative;z-index: 1;}#sk-container-id-1 div.sk-parallel {display: flex;align-items: stretch;justify-content: center;background-color: white;position: relative;}#sk-container-id-1 div.sk-item::before, #sk-container-id-1 div.sk-parallel-item::before {content: \"\";position: absolute;border-left: 1px solid gray;box-sizing: border-box;top: 0;bottom: 0;left: 50%;z-index: -1;}#sk-container-id-1 div.sk-parallel-item {display: flex;flex-direction: column;z-index: 1;position: relative;background-color: white;}#sk-container-id-1 div.sk-parallel-item:first-child::after {align-self: flex-end;width: 50%;}#sk-container-id-1 div.sk-parallel-item:last-child::after {align-self: flex-start;width: 50%;}#sk-container-id-1 div.sk-parallel-item:only-child::after {width: 0;}#sk-container-id-1 div.sk-dashed-wrapped {border: 1px dashed gray;margin: 0 0.4em 0.5em 0.4em;box-sizing: border-box;padding-bottom: 0.4em;background-color: white;}#sk-container-id-1 div.sk-label label {font-family: monospace;font-weight: bold;display: inline-block;line-height: 1.2em;}#sk-container-id-1 div.sk-label-container {text-align: center;}#sk-container-id-1 div.sk-container {/* jupyter's `normalize.less` sets `[hidden] { display: none; }` but bootstrap.min.css set `[hidden] { display: none !important; }` so we also need the `!important` here to be able to override the default hidden behavior on the sphinx rendered scikit-learn.org. See: https://github.com/scikit-learn/scikit-learn/issues/21755 */display: inline-block !important;position: relative;}#sk-container-id-1 div.sk-text-repr-fallback {display: none;}</style><div id=\"sk-container-id-1\" class=\"sk-top-container\"><div class=\"sk-text-repr-fallback\"><pre>RandomForestClassifier()</pre><b>In a Jupyter environment, please rerun this cell to show the HTML representation or trust the notebook. <br />On GitHub, the HTML representation is unable to render, please try loading this page with nbviewer.org.</b></div><div class=\"sk-container\" hidden><div class=\"sk-item\"><div class=\"sk-estimator sk-toggleable\"><input class=\"sk-toggleable__control sk-hidden--visually\" id=\"sk-estimator-id-1\" type=\"checkbox\" checked><label for=\"sk-estimator-id-1\" class=\"sk-toggleable__label sk-toggleable__label-arrow\">RandomForestClassifier</label><div class=\"sk-toggleable__content\"><pre>RandomForestClassifier()</pre></div></div></div></div></div>"
            ]
          },
          "metadata": {},
          "execution_count": 67
        }
      ]
    },
    {
      "cell_type": "code",
      "source": [
        "\"\"\"\n",
        "Hacemos un head a X porque, a la hora de implementar nuestro \n",
        "modelo en la API REST, es necesario enviar los datos en el mismo orden en el que\n",
        "se entrenaron:\n",
        "\"\"\"\n",
        "x.head()"
      ],
      "metadata": {
        "colab": {
          "base_uri": "https://localhost:8080/",
          "height": 206
        },
        "id": "uzKyhN4EnbZk",
        "outputId": "c978404b-a188-45dd-ce15-e1682b59912c"
      },
      "execution_count": 68,
      "outputs": [
        {
          "output_type": "execute_result",
          "data": {
            "text/plain": [
              "   App  Negative  Neutral  Sentiment_Polarity  Sentiment_Subjectivity\n",
              "0    0         0        0                1.00                0.533333\n",
              "1    0         0        0                0.25                0.288462\n",
              "3    0         0        0                0.40                0.875000\n",
              "4    0         0        0                1.00                0.300000\n",
              "5    0         0        0                1.00                0.300000"
            ],
            "text/html": [
              "\n",
              "  <div id=\"df-b8e78050-0f08-41bc-8a6f-5da6371644cb\">\n",
              "    <div class=\"colab-df-container\">\n",
              "      <div>\n",
              "<style scoped>\n",
              "    .dataframe tbody tr th:only-of-type {\n",
              "        vertical-align: middle;\n",
              "    }\n",
              "\n",
              "    .dataframe tbody tr th {\n",
              "        vertical-align: top;\n",
              "    }\n",
              "\n",
              "    .dataframe thead th {\n",
              "        text-align: right;\n",
              "    }\n",
              "</style>\n",
              "<table border=\"1\" class=\"dataframe\">\n",
              "  <thead>\n",
              "    <tr style=\"text-align: right;\">\n",
              "      <th></th>\n",
              "      <th>App</th>\n",
              "      <th>Negative</th>\n",
              "      <th>Neutral</th>\n",
              "      <th>Sentiment_Polarity</th>\n",
              "      <th>Sentiment_Subjectivity</th>\n",
              "    </tr>\n",
              "  </thead>\n",
              "  <tbody>\n",
              "    <tr>\n",
              "      <th>0</th>\n",
              "      <td>0</td>\n",
              "      <td>0</td>\n",
              "      <td>0</td>\n",
              "      <td>1.00</td>\n",
              "      <td>0.533333</td>\n",
              "    </tr>\n",
              "    <tr>\n",
              "      <th>1</th>\n",
              "      <td>0</td>\n",
              "      <td>0</td>\n",
              "      <td>0</td>\n",
              "      <td>0.25</td>\n",
              "      <td>0.288462</td>\n",
              "    </tr>\n",
              "    <tr>\n",
              "      <th>3</th>\n",
              "      <td>0</td>\n",
              "      <td>0</td>\n",
              "      <td>0</td>\n",
              "      <td>0.40</td>\n",
              "      <td>0.875000</td>\n",
              "    </tr>\n",
              "    <tr>\n",
              "      <th>4</th>\n",
              "      <td>0</td>\n",
              "      <td>0</td>\n",
              "      <td>0</td>\n",
              "      <td>1.00</td>\n",
              "      <td>0.300000</td>\n",
              "    </tr>\n",
              "    <tr>\n",
              "      <th>5</th>\n",
              "      <td>0</td>\n",
              "      <td>0</td>\n",
              "      <td>0</td>\n",
              "      <td>1.00</td>\n",
              "      <td>0.300000</td>\n",
              "    </tr>\n",
              "  </tbody>\n",
              "</table>\n",
              "</div>\n",
              "      <button class=\"colab-df-convert\" onclick=\"convertToInteractive('df-b8e78050-0f08-41bc-8a6f-5da6371644cb')\"\n",
              "              title=\"Convert this dataframe to an interactive table.\"\n",
              "              style=\"display:none;\">\n",
              "        \n",
              "  <svg xmlns=\"http://www.w3.org/2000/svg\" height=\"24px\"viewBox=\"0 0 24 24\"\n",
              "       width=\"24px\">\n",
              "    <path d=\"M0 0h24v24H0V0z\" fill=\"none\"/>\n",
              "    <path d=\"M18.56 5.44l.94 2.06.94-2.06 2.06-.94-2.06-.94-.94-2.06-.94 2.06-2.06.94zm-11 1L8.5 8.5l.94-2.06 2.06-.94-2.06-.94L8.5 2.5l-.94 2.06-2.06.94zm10 10l.94 2.06.94-2.06 2.06-.94-2.06-.94-.94-2.06-.94 2.06-2.06.94z\"/><path d=\"M17.41 7.96l-1.37-1.37c-.4-.4-.92-.59-1.43-.59-.52 0-1.04.2-1.43.59L10.3 9.45l-7.72 7.72c-.78.78-.78 2.05 0 2.83L4 21.41c.39.39.9.59 1.41.59.51 0 1.02-.2 1.41-.59l7.78-7.78 2.81-2.81c.8-.78.8-2.07 0-2.86zM5.41 20L4 18.59l7.72-7.72 1.47 1.35L5.41 20z\"/>\n",
              "  </svg>\n",
              "      </button>\n",
              "      \n",
              "  <style>\n",
              "    .colab-df-container {\n",
              "      display:flex;\n",
              "      flex-wrap:wrap;\n",
              "      gap: 12px;\n",
              "    }\n",
              "\n",
              "    .colab-df-convert {\n",
              "      background-color: #E8F0FE;\n",
              "      border: none;\n",
              "      border-radius: 50%;\n",
              "      cursor: pointer;\n",
              "      display: none;\n",
              "      fill: #1967D2;\n",
              "      height: 32px;\n",
              "      padding: 0 0 0 0;\n",
              "      width: 32px;\n",
              "    }\n",
              "\n",
              "    .colab-df-convert:hover {\n",
              "      background-color: #E2EBFA;\n",
              "      box-shadow: 0px 1px 2px rgba(60, 64, 67, 0.3), 0px 1px 3px 1px rgba(60, 64, 67, 0.15);\n",
              "      fill: #174EA6;\n",
              "    }\n",
              "\n",
              "    [theme=dark] .colab-df-convert {\n",
              "      background-color: #3B4455;\n",
              "      fill: #D2E3FC;\n",
              "    }\n",
              "\n",
              "    [theme=dark] .colab-df-convert:hover {\n",
              "      background-color: #434B5C;\n",
              "      box-shadow: 0px 1px 3px 1px rgba(0, 0, 0, 0.15);\n",
              "      filter: drop-shadow(0px 1px 2px rgba(0, 0, 0, 0.3));\n",
              "      fill: #FFFFFF;\n",
              "    }\n",
              "  </style>\n",
              "\n",
              "      <script>\n",
              "        const buttonEl =\n",
              "          document.querySelector('#df-b8e78050-0f08-41bc-8a6f-5da6371644cb button.colab-df-convert');\n",
              "        buttonEl.style.display =\n",
              "          google.colab.kernel.accessAllowed ? 'block' : 'none';\n",
              "\n",
              "        async function convertToInteractive(key) {\n",
              "          const element = document.querySelector('#df-b8e78050-0f08-41bc-8a6f-5da6371644cb');\n",
              "          const dataTable =\n",
              "            await google.colab.kernel.invokeFunction('convertToInteractive',\n",
              "                                                     [key], {});\n",
              "          if (!dataTable) return;\n",
              "\n",
              "          const docLinkHtml = 'Like what you see? Visit the ' +\n",
              "            '<a target=\"_blank\" href=https://colab.research.google.com/notebooks/data_table.ipynb>data table notebook</a>'\n",
              "            + ' to learn more about interactive tables.';\n",
              "          element.innerHTML = '';\n",
              "          dataTable['output_type'] = 'display_data';\n",
              "          await google.colab.output.renderOutput(dataTable, element);\n",
              "          const docLink = document.createElement('div');\n",
              "          docLink.innerHTML = docLinkHtml;\n",
              "          element.appendChild(docLink);\n",
              "        }\n",
              "      </script>\n",
              "    </div>\n",
              "  </div>\n",
              "  "
            ]
          },
          "metadata": {},
          "execution_count": 68
        }
      ]
    },
    {
      "cell_type": "markdown",
      "source": [
        "## Graficación y Métricas"
      ],
      "metadata": {
        "id": "a7V7pnhoTy3f"
      }
    },
    {
      "cell_type": "code",
      "source": [
        "corr_reviews = new_df.corr()"
      ],
      "metadata": {
        "id": "kgnRn2GuUDcT"
      },
      "execution_count": 70,
      "outputs": []
    },
    {
      "cell_type": "code",
      "source": [
        "corr_reviews"
      ],
      "metadata": {
        "colab": {
          "base_uri": "https://localhost:8080/",
          "height": 237
        },
        "id": "NQYBcDBYn35Y",
        "outputId": "d0429daa-4b67-471c-af19-a0e6986adba3"
      },
      "execution_count": 72,
      "outputs": [
        {
          "output_type": "execute_result",
          "data": {
            "text/plain": [
              "                             App  Sentiment_Polarity  Sentiment_Subjectivity  \\\n",
              "App                     1.000000           -0.002510                0.005490   \n",
              "Sentiment_Polarity     -0.002510            1.000000                0.261587   \n",
              "Sentiment_Subjectivity  0.005490            0.261587                1.000000   \n",
              "Negative               -0.010573           -0.664561                0.086721   \n",
              "Neutral                -0.003352           -0.207315               -0.635292   \n",
              "Positive                0.011554            0.723858                0.381543   \n",
              "\n",
              "                        Negative   Neutral  Positive  \n",
              "App                    -0.010573 -0.003352  0.011554  \n",
              "Sentiment_Polarity     -0.664561 -0.207315  0.723858  \n",
              "Sentiment_Subjectivity  0.086721 -0.635292  0.381543  \n",
              "Negative                1.000000 -0.212943 -0.712001  \n",
              "Neutral                -0.212943  1.000000 -0.534458  \n",
              "Positive               -0.712001 -0.534458  1.000000  "
            ],
            "text/html": [
              "\n",
              "  <div id=\"df-017c00c6-db3d-43dc-a0ab-34b825d2a5fa\">\n",
              "    <div class=\"colab-df-container\">\n",
              "      <div>\n",
              "<style scoped>\n",
              "    .dataframe tbody tr th:only-of-type {\n",
              "        vertical-align: middle;\n",
              "    }\n",
              "\n",
              "    .dataframe tbody tr th {\n",
              "        vertical-align: top;\n",
              "    }\n",
              "\n",
              "    .dataframe thead th {\n",
              "        text-align: right;\n",
              "    }\n",
              "</style>\n",
              "<table border=\"1\" class=\"dataframe\">\n",
              "  <thead>\n",
              "    <tr style=\"text-align: right;\">\n",
              "      <th></th>\n",
              "      <th>App</th>\n",
              "      <th>Sentiment_Polarity</th>\n",
              "      <th>Sentiment_Subjectivity</th>\n",
              "      <th>Negative</th>\n",
              "      <th>Neutral</th>\n",
              "      <th>Positive</th>\n",
              "    </tr>\n",
              "  </thead>\n",
              "  <tbody>\n",
              "    <tr>\n",
              "      <th>App</th>\n",
              "      <td>1.000000</td>\n",
              "      <td>-0.002510</td>\n",
              "      <td>0.005490</td>\n",
              "      <td>-0.010573</td>\n",
              "      <td>-0.003352</td>\n",
              "      <td>0.011554</td>\n",
              "    </tr>\n",
              "    <tr>\n",
              "      <th>Sentiment_Polarity</th>\n",
              "      <td>-0.002510</td>\n",
              "      <td>1.000000</td>\n",
              "      <td>0.261587</td>\n",
              "      <td>-0.664561</td>\n",
              "      <td>-0.207315</td>\n",
              "      <td>0.723858</td>\n",
              "    </tr>\n",
              "    <tr>\n",
              "      <th>Sentiment_Subjectivity</th>\n",
              "      <td>0.005490</td>\n",
              "      <td>0.261587</td>\n",
              "      <td>1.000000</td>\n",
              "      <td>0.086721</td>\n",
              "      <td>-0.635292</td>\n",
              "      <td>0.381543</td>\n",
              "    </tr>\n",
              "    <tr>\n",
              "      <th>Negative</th>\n",
              "      <td>-0.010573</td>\n",
              "      <td>-0.664561</td>\n",
              "      <td>0.086721</td>\n",
              "      <td>1.000000</td>\n",
              "      <td>-0.212943</td>\n",
              "      <td>-0.712001</td>\n",
              "    </tr>\n",
              "    <tr>\n",
              "      <th>Neutral</th>\n",
              "      <td>-0.003352</td>\n",
              "      <td>-0.207315</td>\n",
              "      <td>-0.635292</td>\n",
              "      <td>-0.212943</td>\n",
              "      <td>1.000000</td>\n",
              "      <td>-0.534458</td>\n",
              "    </tr>\n",
              "    <tr>\n",
              "      <th>Positive</th>\n",
              "      <td>0.011554</td>\n",
              "      <td>0.723858</td>\n",
              "      <td>0.381543</td>\n",
              "      <td>-0.712001</td>\n",
              "      <td>-0.534458</td>\n",
              "      <td>1.000000</td>\n",
              "    </tr>\n",
              "  </tbody>\n",
              "</table>\n",
              "</div>\n",
              "      <button class=\"colab-df-convert\" onclick=\"convertToInteractive('df-017c00c6-db3d-43dc-a0ab-34b825d2a5fa')\"\n",
              "              title=\"Convert this dataframe to an interactive table.\"\n",
              "              style=\"display:none;\">\n",
              "        \n",
              "  <svg xmlns=\"http://www.w3.org/2000/svg\" height=\"24px\"viewBox=\"0 0 24 24\"\n",
              "       width=\"24px\">\n",
              "    <path d=\"M0 0h24v24H0V0z\" fill=\"none\"/>\n",
              "    <path d=\"M18.56 5.44l.94 2.06.94-2.06 2.06-.94-2.06-.94-.94-2.06-.94 2.06-2.06.94zm-11 1L8.5 8.5l.94-2.06 2.06-.94-2.06-.94L8.5 2.5l-.94 2.06-2.06.94zm10 10l.94 2.06.94-2.06 2.06-.94-2.06-.94-.94-2.06-.94 2.06-2.06.94z\"/><path d=\"M17.41 7.96l-1.37-1.37c-.4-.4-.92-.59-1.43-.59-.52 0-1.04.2-1.43.59L10.3 9.45l-7.72 7.72c-.78.78-.78 2.05 0 2.83L4 21.41c.39.39.9.59 1.41.59.51 0 1.02-.2 1.41-.59l7.78-7.78 2.81-2.81c.8-.78.8-2.07 0-2.86zM5.41 20L4 18.59l7.72-7.72 1.47 1.35L5.41 20z\"/>\n",
              "  </svg>\n",
              "      </button>\n",
              "      \n",
              "  <style>\n",
              "    .colab-df-container {\n",
              "      display:flex;\n",
              "      flex-wrap:wrap;\n",
              "      gap: 12px;\n",
              "    }\n",
              "\n",
              "    .colab-df-convert {\n",
              "      background-color: #E8F0FE;\n",
              "      border: none;\n",
              "      border-radius: 50%;\n",
              "      cursor: pointer;\n",
              "      display: none;\n",
              "      fill: #1967D2;\n",
              "      height: 32px;\n",
              "      padding: 0 0 0 0;\n",
              "      width: 32px;\n",
              "    }\n",
              "\n",
              "    .colab-df-convert:hover {\n",
              "      background-color: #E2EBFA;\n",
              "      box-shadow: 0px 1px 2px rgba(60, 64, 67, 0.3), 0px 1px 3px 1px rgba(60, 64, 67, 0.15);\n",
              "      fill: #174EA6;\n",
              "    }\n",
              "\n",
              "    [theme=dark] .colab-df-convert {\n",
              "      background-color: #3B4455;\n",
              "      fill: #D2E3FC;\n",
              "    }\n",
              "\n",
              "    [theme=dark] .colab-df-convert:hover {\n",
              "      background-color: #434B5C;\n",
              "      box-shadow: 0px 1px 3px 1px rgba(0, 0, 0, 0.15);\n",
              "      filter: drop-shadow(0px 1px 2px rgba(0, 0, 0, 0.3));\n",
              "      fill: #FFFFFF;\n",
              "    }\n",
              "  </style>\n",
              "\n",
              "      <script>\n",
              "        const buttonEl =\n",
              "          document.querySelector('#df-017c00c6-db3d-43dc-a0ab-34b825d2a5fa button.colab-df-convert');\n",
              "        buttonEl.style.display =\n",
              "          google.colab.kernel.accessAllowed ? 'block' : 'none';\n",
              "\n",
              "        async function convertToInteractive(key) {\n",
              "          const element = document.querySelector('#df-017c00c6-db3d-43dc-a0ab-34b825d2a5fa');\n",
              "          const dataTable =\n",
              "            await google.colab.kernel.invokeFunction('convertToInteractive',\n",
              "                                                     [key], {});\n",
              "          if (!dataTable) return;\n",
              "\n",
              "          const docLinkHtml = 'Like what you see? Visit the ' +\n",
              "            '<a target=\"_blank\" href=https://colab.research.google.com/notebooks/data_table.ipynb>data table notebook</a>'\n",
              "            + ' to learn more about interactive tables.';\n",
              "          element.innerHTML = '';\n",
              "          dataTable['output_type'] = 'display_data';\n",
              "          await google.colab.output.renderOutput(dataTable, element);\n",
              "          const docLink = document.createElement('div');\n",
              "          docLink.innerHTML = docLinkHtml;\n",
              "          element.appendChild(docLink);\n",
              "        }\n",
              "      </script>\n",
              "    </div>\n",
              "  </div>\n",
              "  "
            ]
          },
          "metadata": {},
          "execution_count": 72
        }
      ]
    },
    {
      "cell_type": "code",
      "source": [
        "fig, ax = plt.subplots(figsize=(10, 8))\n",
        "sns.heatmap(corr_reviews, annot=True, cmap='coolwarm', ax=ax)\n",
        "plt.show()"
      ],
      "metadata": {
        "colab": {
          "base_uri": "https://localhost:8080/",
          "height": 812
        },
        "id": "uelWC_NXn8s7",
        "outputId": "b75b46ef-84bd-490b-9897-1565be3d7397"
      },
      "execution_count": 73,
      "outputs": [
        {
          "output_type": "display_data",
          "data": {
            "text/plain": [
              "<Figure size 1000x800 with 2 Axes>"
            ],
            "image/png": "[encoded data removed]"
          },
          "metadata": {}
        }
      ]
    },
    {
      "cell_type": "code",
      "source": [
        "corr_reviews['Positive'].sort_values(ascending= False)"
      ],
      "metadata": {
        "colab": {
          "base_uri": "https://localhost:8080/"
        },
        "id": "QphVKsUlpEHF",
        "outputId": "ed079e6b-a036-41d8-95be-ad7dc3991192"
      },
      "execution_count": 76,
      "outputs": [
        {
          "output_type": "execute_result",
          "data": {
            "text/plain": [
              "Positive                  1.000000\n",
              "Sentiment_Polarity        0.723858\n",
              "Sentiment_Subjectivity    0.381543\n",
              "App                       0.011554\n",
              "Neutral                  -0.534458\n",
              "Negative                 -0.712001\n",
              "Name: Positive, dtype: float64"
            ]
          },
          "metadata": {},
          "execution_count": 76
        }
      ]
    },
    {
      "cell_type": "markdown",
      "source": [
        "Se muestra que el sentimiento de polaridad es el que esta mas correlacionado con los sentimientos positivos."
      ],
      "metadata": {
        "id": "mIVUJ5pOpYI8"
      }
    },
    {
      "cell_type": "markdown",
      "source": [
        "## API REST"
      ],
      "metadata": {
        "id": "USjGebh8UEVc"
      }
    },
    {
      "cell_type": "markdown",
      "source": [
        "Se crea el archivo pkl que se guardara en una ubicacion local."
      ],
      "metadata": {
        "id": "NvApFfW_wluS"
      }
    },
    {
      "cell_type": "code",
      "source": [
        "import joblib\n",
        "\n",
        "joblib.dump(classifier, '/content/drive/MyDrive/UCamp/positive.pkl')"
      ],
      "metadata": {
        "colab": {
          "base_uri": "https://localhost:8080/"
        },
        "id": "Xmgbs7ojULaN",
        "outputId": "43b01451-1f08-4dfb-dd57-2988eae3f29b"
      },
      "execution_count": 78,
      "outputs": [
        {
          "output_type": "execute_result",
          "data": {
            "text/plain": [
              "['/content/drive/MyDrive/UCamp/positive.pkl']"
            ]
          },
          "metadata": {},
          "execution_count": 78
        }
      ]
    },
    {
      "cell_type": "markdown",
      "source": [
        "Se actualiza el archivo app.py con el correspondiente pkl"
      ],
      "metadata": {
        "id": "1xwzQ_DDwsaK"
      }
    },
    {
      "cell_type": "code",
      "source": [
        "from flask import Flask\n",
        "from flask import request\n",
        "import pandas as pd\n",
        "import joblib\n",
        "\n",
        "\n",
        "app = Flask(__name__)\n",
        "\n",
        "@app.route('/predice', methods=['POST'])\n",
        "def predict():\n",
        "    json_ = request.json\n",
        "    query_df = pd.DataFrame(json_, index=[0])\n",
        "    query = pd.get_dummies(query_df)\n",
        "    \n",
        "    classifier = joblib.load('positive.pkl')\n",
        "    prediction = classifier.predict(query)\n",
        "\n",
        "    if prediction[0] :\n",
        "        return \"TRUE: El usuario tiene un sentimiento positivo\"\n",
        "    else :\n",
        "        return \"FALSE: El usuario tiene un sentimiento negativo\"\n",
        "\n",
        "\n",
        "if __name__ == \"__main__\":\n",
        "    app.run(port=8000, debug=True)"
      ],
      "metadata": {
        "id": "GaCJoBbxr4_U"
      },
      "execution_count": null,
      "outputs": []
    },
    {
      "cell_type": "markdown",
      "source": [
        "El endpoint evaluado es: http://127.0.0.1:5000/predice"
      ],
      "metadata": {
        "id": "wjN_vq9rw8KA"
      }
    },
    {
      "cell_type": "markdown",
      "source": [
        "El request a evaluar:"
      ],
      "metadata": {
        "id": "E5AyHzZdxDZ7"
      }
    },
    {
      "cell_type": "markdown",
      "source": [
        "{\n",
        "    \"App\": 0,\n",
        "    \"Negative\":  1,\n",
        "    \"Neutral\": 0.9,\n",
        "    \"Sentiment_Polarity\": 0.1,\n",
        "    \"Sentiment_Subjectivity\": 0.1\n",
        "}"
      ],
      "metadata": {
        "id": "LSTMRNYCxBov"
      }
    },
    {
      "cell_type": "markdown",
      "source": [
        "Se obtiene como respuesta: \n",
        "Status: 200 OK\n",
        "\n",
        "FALSE: El usuario tiene un sentimiento negativo"
      ],
      "metadata": {
        "id": "8e5SJG3pxLUU"
      }
    },
    {
      "cell_type": "markdown",
      "source": [
        "Otro request a evaluar:"
      ],
      "metadata": {
        "id": "5XtnFDxIxW5p"
      }
    },
    {
      "cell_type": "markdown",
      "source": [
        "{\n",
        "    \"App\": 0,\n",
        "    \"Negative\":  1,\n",
        "    \"Neutral\": 0.5,\n",
        "    \"Sentiment_Polarity\": 0.8,\n",
        "    \"Sentiment_Subjectivity\": 0.6\n",
        "}"
      ],
      "metadata": {
        "id": "_pSFslQlxbKD"
      }
    },
    {
      "cell_type": "markdown",
      "source": [
        "Se obtiene como respuest: \n",
        "Status: 200 OK\n",
        "\n",
        "TRUE: El usuario tiene un sentimiento positivo"
      ],
      "metadata": {
        "id": "CJ4f8mBjx9_t"
      }
    }
  ]
}