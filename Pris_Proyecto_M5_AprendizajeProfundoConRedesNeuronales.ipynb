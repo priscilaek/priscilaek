{
  "nbformat": 4,
  "nbformat_minor": 0,
  "metadata": {
    "colab": {
      "provenance": [],
      "include_colab_link": true
    },
    "kernelspec": {
      "name": "python3",
      "display_name": "Python 3"
    },
    "language_info": {
      "name": "python"
    },
    "accelerator": "GPU",
    "gpuClass": "standard"
  },
  "cells": [
    {
      "cell_type": "markdown",
      "metadata": {
        "id": "view-in-github",
        "colab_type": "text"
      },
      "source": [
        "<a href=\"https://colab.research.google.com/github/priscilaek/priscilaek/blob/main/Pris_Proyecto_M5_AprendizajeProfundoConRedesNeuronales.ipynb\" target=\"_parent\"><img src=\"https://colab.research.google.com/assets/colab-badge.svg\" alt=\"Open In Colab\"/></a>"
      ]
    },
    {
      "cell_type": "markdown",
      "source": [
        "## Nombre: Priscila Elias Kana\n",
        "## Bootcamp: Ciencia de Datos e Inteligencia Artificial\n",
        "## Proyecto del Módulo 5: Aprendizaje profundo con redes neuronales\n",
        "¡Hola, qué gusto que estés a un paso de obtener tu insignia del módulo 5! Aquí pondrás en juego las habilidades y conocimientos que has practicado a lo largo de estas semanas.\n",
        "\n",
        "Lee el proyecto y revisa con cuidado cada una de las instrucciones. Procura plasmar todo tu potencial para que concluyas tu proyecto de manera exitosa.\n",
        "\n",
        "¡Éxito!"
      ],
      "metadata": {
        "id": "FWVOeTCLzinO"
      }
    },
    {
      "cell_type": "markdown",
      "source": [
        "# Objetivos\n",
        "- Aplicarás los conocimientos que has adquirido sobre redes neuronales a contextos de la vida real.\n",
        "- Puntuarás la precisión y valor de los modelos creados.\n",
        "- Generarás gráficas que muestren la evolución de la precisión de los modelos."
      ],
      "metadata": {
        "id": "9LJoroXti_C8"
      }
    },
    {
      "cell_type": "markdown",
      "source": [
        "> NOTA: El modelo se entrena en inglés, así que si quieres traducir estas noticias para comprenderlas mejor te puedes apoyar en herramientas como Google Translate, pero recuerda usar el texto en inglés para tu modelo. "
      ],
      "metadata": {
        "id": "3FIZjDqgjC0e"
      }
    },
    {
      "cell_type": "markdown",
      "source": [
        "\n",
        "\n",
        "# Parte 1\n",
        "\n",
        "La propagación de *fake news* o noticias falsas se incrementó a partir de la pandemia por COVID-19. Estas son un problema alarmante porque hacen que las personas realicen actividades que normalmente no llevarían a cabo o que actúen de manera caótica. Un ejemplo es [-> esta noticia <-](https://drive.google.com/file/d/1PrfN83Fm1ib5mHYN6SULVe9CJVECUNn2/view?usp=share_link), en la que se relata cómo notas falsas acerca del daño que ocasiona la 5G al cuerpo provocaron que muchas personas en el Reino Unido quemaran torres de telecomunicaciones aun sin ser estas de 5G.\n",
        "\n",
        "A ti, como persona experta en redes neuronales, te han encargado hacer un predetector de noticias falsas para los *fact-checker* del mundo.\n",
        "\n",
        "Para realizarlo, tienes a tu disposición el siguiente *dataset*: https://www.kaggle.com/datasets/saurabhshahane/fake-news-classification\n",
        "\n",
        "## Criterios de evaluación\n",
        "- Utiliza Keras para entrenar un modelo de *Deep Learning* que ayude a detectar una noticia falsa. Recuerda hacer la limpieza de datos y el análisis exploratorio correspondiente para obtener el puntaje completo (2 puntos).\n",
        "  - Pista: Revisa esto -> https://www.tensorflow.org/api_docs/python/tf/keras/preprocessing/text/Tokenizer\n",
        "- Determina el número de épocas a usar y explica por escrito por qué llegaste a esta conclusión. Si no hay explicación, no hay un punto (2 puntos).\n",
        "- Calcula la precisión y pérdida del modelo (1 punto) y grafícalo a través de las épocas (1 punto).\n",
        "- Prueba tu modelo con esta noticia falsa: https://www.breitbart.com/politics/2016/09/10/exposed-fbi-director-james-comeys-clinton-foundation-connection/\n",
        "- Prueba tu modelo con esta noticia verdadera: https://www.washingtonpost.com/sports/2022/11/14/world-cup-female-referee-kathryn-nesbitt/ (2 puntos por ambas comprobaciones).\n",
        "\n",
        "## Punto extra\n",
        "- Usa PyTorch para el entrenamiento.\n",
        "\n"
      ],
      "metadata": {
        "id": "rIXkMjG4zm48"
      }
    },
    {
      "cell_type": "markdown",
      "source": [
        "# Nombre: Priscila Elias Kana"
      ],
      "metadata": {
        "id": "b4X3DXW3AdNP"
      }
    },
    {
      "cell_type": "markdown",
      "source": [
        "##Libraries (Acondicionamos las librerias a usar en un solo lugar)"
      ],
      "metadata": {
        "id": "YL5aF2cWAGBF"
      }
    },
    {
      "cell_type": "code",
      "source": [
        "from google.colab import drive\n",
        "import pandas as pd\n",
        "import numpy as np\n",
        "import seaborn as sns\n",
        "import matplotlib.pyplot as plt\n",
        "import re\n",
        "from sklearn.model_selection import train_test_split\n",
        "from sklearn.metrics import r2_score\n",
        "from sklearn.metrics import mean_squared_error\n",
        "from sklearn import preprocessing\n",
        "import keras\n",
        "from keras.preprocessing.text import Tokenizer\n",
        "from tensorflow.keras.preprocessing.text import Tokenizer\n",
        "from tensorflow.keras.preprocessing.sequence import pad_sequences\n",
        "from tensorflow.keras.utils import to_categorical\n",
        "from tensorflow.keras import regularizers\n",
        "import tensorflow as tf\n",
        "from tensorflow.python.framework import ops\n",
        "from sklearn.metrics import r2_score, mean_squared_error\n",
        "import requests\n",
        "from bs4 import BeautifulSoup"
      ],
      "metadata": {
        "id": "VPkeEdux_-nR"
      },
      "execution_count": 3,
      "outputs": []
    },
    {
      "cell_type": "markdown",
      "source": [
        "##Mount google drive (Accedemos al servidor de Google Drive)\n"
      ],
      "metadata": {
        "id": "gsAlRHtYAthJ"
      }
    },
    {
      "cell_type": "code",
      "source": [
        "drive.mount('/content/drive')"
      ],
      "metadata": {
        "colab": {
          "base_uri": "https://localhost:8080/"
        },
        "id": "j6yl-AMHAxyc",
        "outputId": "14a5cda1-1349-4874-b257-5f20347cdf19"
      },
      "execution_count": 4,
      "outputs": [
        {
          "output_type": "stream",
          "name": "stdout",
          "text": [
            "Mounted at /content/drive\n"
          ]
        }
      ]
    },
    {
      "cell_type": "markdown",
      "source": [
        "##Global variables (Lectura de archivos zip y asignacion de la data en variables)"
      ],
      "metadata": {
        "id": "vkVXlnSfA7H3"
      }
    },
    {
      "cell_type": "code",
      "source": [
        "DATA_PATH = \"/content/drive/MyDrive/UCamp/WELFake_Dataset.csv.zip\"\n",
        "FAKE_NEWS_URL = \"https://www.breitbart.com/politics/2016/09/10/exposed-fbi-director-james-comeys-clinton-foundation-connection/\"\n",
        "TRUE_NEWS_URL = \"https://www.washingtonpost.com/sports/2022/11/14/world-cup-female-referee-kathryn-nesbitt/\""
      ],
      "metadata": {
        "id": "627OmlXpA_dz"
      },
      "execution_count": 5,
      "outputs": []
    },
    {
      "cell_type": "markdown",
      "source": [
        "##Load data / Create Dataframe (Se realiza la carga de la Data)"
      ],
      "metadata": {
        "id": "moY--MusB_OK"
      }
    },
    {
      "cell_type": "code",
      "source": [
        "df = pd.read_csv(DATA_PATH)"
      ],
      "metadata": {
        "id": "55-9SEnYCEkB"
      },
      "execution_count": 6,
      "outputs": []
    },
    {
      "cell_type": "code",
      "source": [
        "df.sample(5)"
      ],
      "metadata": {
        "colab": {
          "base_uri": "https://localhost:8080/",
          "height": 250
        },
        "id": "ZB-En2zlCZX3",
        "outputId": "32505b5e-f86b-4d00-adef-74d661dca47c"
      },
      "execution_count": 7,
      "outputs": [
        {
          "output_type": "execute_result",
          "data": {
            "text/plain": [
              "       Unnamed: 0                                              title  \\\n",
              "50913       50913                   Anonymous World War 3 Has Begun!   \n",
              "69665       69665  Prime Minster John Key caught channeling milli...   \n",
              "38764       38764  Kevin McCarthy announces he's a candidate for ...   \n",
              "30990       30990   MSNBC Sources Say Everyone At Network Is Dist...   \n",
              "28368       28368   Trump’s Lapdog Chris Christie Breaks ALL TIME...   \n",
              "\n",
              "                                                    text  label  \n",
              "50913  source Add To The Conversation Using Facebook ...      1  \n",
              "69665  Source: Seemorerocks \\n\\nNovember 1, 2016 \\n\\n...      1  \n",
              "38764  The California congressman has worked by John ...      0  \n",
              "30990  Political pundit Joe Scarborough has a Donald ...      1  \n",
              "28368  Remember when Chris Christie was a contender f...      1  "
            ],
            "text/html": [
              "\n",
              "  <div id=\"df-d64782fc-4951-4d1d-99ea-c8e5c338e9cb\">\n",
              "    <div class=\"colab-df-container\">\n",
              "      <div>\n",
              "<style scoped>\n",
              "    .dataframe tbody tr th:only-of-type {\n",
              "        vertical-align: middle;\n",
              "    }\n",
              "\n",
              "    .dataframe tbody tr th {\n",
              "        vertical-align: top;\n",
              "    }\n",
              "\n",
              "    .dataframe thead th {\n",
              "        text-align: right;\n",
              "    }\n",
              "</style>\n",
              "<table border=\"1\" class=\"dataframe\">\n",
              "  <thead>\n",
              "    <tr style=\"text-align: right;\">\n",
              "      <th></th>\n",
              "      <th>Unnamed: 0</th>\n",
              "      <th>title</th>\n",
              "      <th>text</th>\n",
              "      <th>label</th>\n",
              "    </tr>\n",
              "  </thead>\n",
              "  <tbody>\n",
              "    <tr>\n",
              "      <th>50913</th>\n",
              "      <td>50913</td>\n",
              "      <td>Anonymous World War 3 Has Begun!</td>\n",
              "      <td>source Add To The Conversation Using Facebook ...</td>\n",
              "      <td>1</td>\n",
              "    </tr>\n",
              "    <tr>\n",
              "      <th>69665</th>\n",
              "      <td>69665</td>\n",
              "      <td>Prime Minster John Key caught channeling milli...</td>\n",
              "      <td>Source: Seemorerocks \\n\\nNovember 1, 2016 \\n\\n...</td>\n",
              "      <td>1</td>\n",
              "    </tr>\n",
              "    <tr>\n",
              "      <th>38764</th>\n",
              "      <td>38764</td>\n",
              "      <td>Kevin McCarthy announces he's a candidate for ...</td>\n",
              "      <td>The California congressman has worked by John ...</td>\n",
              "      <td>0</td>\n",
              "    </tr>\n",
              "    <tr>\n",
              "      <th>30990</th>\n",
              "      <td>30990</td>\n",
              "      <td>MSNBC Sources Say Everyone At Network Is Dist...</td>\n",
              "      <td>Political pundit Joe Scarborough has a Donald ...</td>\n",
              "      <td>1</td>\n",
              "    </tr>\n",
              "    <tr>\n",
              "      <th>28368</th>\n",
              "      <td>28368</td>\n",
              "      <td>Trump’s Lapdog Chris Christie Breaks ALL TIME...</td>\n",
              "      <td>Remember when Chris Christie was a contender f...</td>\n",
              "      <td>1</td>\n",
              "    </tr>\n",
              "  </tbody>\n",
              "</table>\n",
              "</div>\n",
              "      <button class=\"colab-df-convert\" onclick=\"convertToInteractive('df-d64782fc-4951-4d1d-99ea-c8e5c338e9cb')\"\n",
              "              title=\"Convert this dataframe to an interactive table.\"\n",
              "              style=\"display:none;\">\n",
              "        \n",
              "  <svg xmlns=\"http://www.w3.org/2000/svg\" height=\"24px\"viewBox=\"0 0 24 24\"\n",
              "       width=\"24px\">\n",
              "    <path d=\"M0 0h24v24H0V0z\" fill=\"none\"/>\n",
              "    <path d=\"M18.56 5.44l.94 2.06.94-2.06 2.06-.94-2.06-.94-.94-2.06-.94 2.06-2.06.94zm-11 1L8.5 8.5l.94-2.06 2.06-.94-2.06-.94L8.5 2.5l-.94 2.06-2.06.94zm10 10l.94 2.06.94-2.06 2.06-.94-2.06-.94-.94-2.06-.94 2.06-2.06.94z\"/><path d=\"M17.41 7.96l-1.37-1.37c-.4-.4-.92-.59-1.43-.59-.52 0-1.04.2-1.43.59L10.3 9.45l-7.72 7.72c-.78.78-.78 2.05 0 2.83L4 21.41c.39.39.9.59 1.41.59.51 0 1.02-.2 1.41-.59l7.78-7.78 2.81-2.81c.8-.78.8-2.07 0-2.86zM5.41 20L4 18.59l7.72-7.72 1.47 1.35L5.41 20z\"/>\n",
              "  </svg>\n",
              "      </button>\n",
              "      \n",
              "  <style>\n",
              "    .colab-df-container {\n",
              "      display:flex;\n",
              "      flex-wrap:wrap;\n",
              "      gap: 12px;\n",
              "    }\n",
              "\n",
              "    .colab-df-convert {\n",
              "      background-color: #E8F0FE;\n",
              "      border: none;\n",
              "      border-radius: 50%;\n",
              "      cursor: pointer;\n",
              "      display: none;\n",
              "      fill: #1967D2;\n",
              "      height: 32px;\n",
              "      padding: 0 0 0 0;\n",
              "      width: 32px;\n",
              "    }\n",
              "\n",
              "    .colab-df-convert:hover {\n",
              "      background-color: #E2EBFA;\n",
              "      box-shadow: 0px 1px 2px rgba(60, 64, 67, 0.3), 0px 1px 3px 1px rgba(60, 64, 67, 0.15);\n",
              "      fill: #174EA6;\n",
              "    }\n",
              "\n",
              "    [theme=dark] .colab-df-convert {\n",
              "      background-color: #3B4455;\n",
              "      fill: #D2E3FC;\n",
              "    }\n",
              "\n",
              "    [theme=dark] .colab-df-convert:hover {\n",
              "      background-color: #434B5C;\n",
              "      box-shadow: 0px 1px 3px 1px rgba(0, 0, 0, 0.15);\n",
              "      filter: drop-shadow(0px 1px 2px rgba(0, 0, 0, 0.3));\n",
              "      fill: #FFFFFF;\n",
              "    }\n",
              "  </style>\n",
              "\n",
              "      <script>\n",
              "        const buttonEl =\n",
              "          document.querySelector('#df-d64782fc-4951-4d1d-99ea-c8e5c338e9cb button.colab-df-convert');\n",
              "        buttonEl.style.display =\n",
              "          google.colab.kernel.accessAllowed ? 'block' : 'none';\n",
              "\n",
              "        async function convertToInteractive(key) {\n",
              "          const element = document.querySelector('#df-d64782fc-4951-4d1d-99ea-c8e5c338e9cb');\n",
              "          const dataTable =\n",
              "            await google.colab.kernel.invokeFunction('convertToInteractive',\n",
              "                                                     [key], {});\n",
              "          if (!dataTable) return;\n",
              "\n",
              "          const docLinkHtml = 'Like what you see? Visit the ' +\n",
              "            '<a target=\"_blank\" href=https://colab.research.google.com/notebooks/data_table.ipynb>data table notebook</a>'\n",
              "            + ' to learn more about interactive tables.';\n",
              "          element.innerHTML = '';\n",
              "          dataTable['output_type'] = 'display_data';\n",
              "          await google.colab.output.renderOutput(dataTable, element);\n",
              "          const docLink = document.createElement('div');\n",
              "          docLink.innerHTML = docLinkHtml;\n",
              "          element.appendChild(docLink);\n",
              "        }\n",
              "      </script>\n",
              "    </div>\n",
              "  </div>\n",
              "  "
            ]
          },
          "metadata": {},
          "execution_count": 7
        }
      ]
    },
    {
      "cell_type": "code",
      "source": [
        "df[\"label\"].value_counts()"
      ],
      "metadata": {
        "colab": {
          "base_uri": "https://localhost:8080/"
        },
        "id": "b-1WQW2_WRUc",
        "outputId": "a76ad526-9148-4edd-cde6-c9b03ee79a85"
      },
      "execution_count": 8,
      "outputs": [
        {
          "output_type": "execute_result",
          "data": {
            "text/plain": [
              "1    37106\n",
              "0    35028\n",
              "Name: label, dtype: int64"
            ]
          },
          "metadata": {},
          "execution_count": 8
        }
      ]
    },
    {
      "cell_type": "markdown",
      "source": [
        "##Data Analysis (Seleccion y limpieza de columnas como Dataframe a trabajar)"
      ],
      "metadata": {
        "id": "XNMRDAGCCrT0"
      }
    },
    {
      "cell_type": "code",
      "source": [
        "df.info()"
      ],
      "metadata": {
        "colab": {
          "base_uri": "https://localhost:8080/"
        },
        "id": "u83IuLCC-N43",
        "outputId": "845de33b-c8b1-4ef8-ad3f-4b4657f62fd2"
      },
      "execution_count": 9,
      "outputs": [
        {
          "output_type": "stream",
          "name": "stdout",
          "text": [
            "<class 'pandas.core.frame.DataFrame'>\n",
            "RangeIndex: 72134 entries, 0 to 72133\n",
            "Data columns (total 4 columns):\n",
            " #   Column      Non-Null Count  Dtype \n",
            "---  ------      --------------  ----- \n",
            " 0   Unnamed: 0  72134 non-null  int64 \n",
            " 1   title       71576 non-null  object\n",
            " 2   text        72095 non-null  object\n",
            " 3   label       72134 non-null  int64 \n",
            "dtypes: int64(2), object(2)\n",
            "memory usage: 2.2+ MB\n"
          ]
        }
      ]
    },
    {
      "cell_type": "code",
      "source": [
        "df = df.drop(columns=['Unnamed: 0','title'], axis=1)"
      ],
      "metadata": {
        "id": "qx-brKmVV1Tj"
      },
      "execution_count": 10,
      "outputs": []
    },
    {
      "cell_type": "code",
      "source": [
        "df.head(5)"
      ],
      "metadata": {
        "colab": {
          "base_uri": "https://localhost:8080/",
          "height": 206
        },
        "id": "8xv2QbVdXLvl",
        "outputId": "04b26fff-759d-4ba1-8d54-51e031330d5d"
      },
      "execution_count": 11,
      "outputs": [
        {
          "output_type": "execute_result",
          "data": {
            "text/plain": [
              "                                                text  label\n",
              "0  No comment is expected from Barack Obama Membe...      1\n",
              "1     Did they post their votes for Hillary already?      1\n",
              "2   Now, most of the demonstrators gathered last ...      1\n",
              "3  A dozen politically active pastors came here f...      0\n",
              "4  The RS-28 Sarmat missile, dubbed Satan 2, will...      1"
            ],
            "text/html": [
              "\n",
              "  <div id=\"df-e4b5225c-585b-40ed-ba2e-418f5b063ab5\">\n",
              "    <div class=\"colab-df-container\">\n",
              "      <div>\n",
              "<style scoped>\n",
              "    .dataframe tbody tr th:only-of-type {\n",
              "        vertical-align: middle;\n",
              "    }\n",
              "\n",
              "    .dataframe tbody tr th {\n",
              "        vertical-align: top;\n",
              "    }\n",
              "\n",
              "    .dataframe thead th {\n",
              "        text-align: right;\n",
              "    }\n",
              "</style>\n",
              "<table border=\"1\" class=\"dataframe\">\n",
              "  <thead>\n",
              "    <tr style=\"text-align: right;\">\n",
              "      <th></th>\n",
              "      <th>text</th>\n",
              "      <th>label</th>\n",
              "    </tr>\n",
              "  </thead>\n",
              "  <tbody>\n",
              "    <tr>\n",
              "      <th>0</th>\n",
              "      <td>No comment is expected from Barack Obama Membe...</td>\n",
              "      <td>1</td>\n",
              "    </tr>\n",
              "    <tr>\n",
              "      <th>1</th>\n",
              "      <td>Did they post their votes for Hillary already?</td>\n",
              "      <td>1</td>\n",
              "    </tr>\n",
              "    <tr>\n",
              "      <th>2</th>\n",
              "      <td>Now, most of the demonstrators gathered last ...</td>\n",
              "      <td>1</td>\n",
              "    </tr>\n",
              "    <tr>\n",
              "      <th>3</th>\n",
              "      <td>A dozen politically active pastors came here f...</td>\n",
              "      <td>0</td>\n",
              "    </tr>\n",
              "    <tr>\n",
              "      <th>4</th>\n",
              "      <td>The RS-28 Sarmat missile, dubbed Satan 2, will...</td>\n",
              "      <td>1</td>\n",
              "    </tr>\n",
              "  </tbody>\n",
              "</table>\n",
              "</div>\n",
              "      <button class=\"colab-df-convert\" onclick=\"convertToInteractive('df-e4b5225c-585b-40ed-ba2e-418f5b063ab5')\"\n",
              "              title=\"Convert this dataframe to an interactive table.\"\n",
              "              style=\"display:none;\">\n",
              "        \n",
              "  <svg xmlns=\"http://www.w3.org/2000/svg\" height=\"24px\"viewBox=\"0 0 24 24\"\n",
              "       width=\"24px\">\n",
              "    <path d=\"M0 0h24v24H0V0z\" fill=\"none\"/>\n",
              "    <path d=\"M18.56 5.44l.94 2.06.94-2.06 2.06-.94-2.06-.94-.94-2.06-.94 2.06-2.06.94zm-11 1L8.5 8.5l.94-2.06 2.06-.94-2.06-.94L8.5 2.5l-.94 2.06-2.06.94zm10 10l.94 2.06.94-2.06 2.06-.94-2.06-.94-.94-2.06-.94 2.06-2.06.94z\"/><path d=\"M17.41 7.96l-1.37-1.37c-.4-.4-.92-.59-1.43-.59-.52 0-1.04.2-1.43.59L10.3 9.45l-7.72 7.72c-.78.78-.78 2.05 0 2.83L4 21.41c.39.39.9.59 1.41.59.51 0 1.02-.2 1.41-.59l7.78-7.78 2.81-2.81c.8-.78.8-2.07 0-2.86zM5.41 20L4 18.59l7.72-7.72 1.47 1.35L5.41 20z\"/>\n",
              "  </svg>\n",
              "      </button>\n",
              "      \n",
              "  <style>\n",
              "    .colab-df-container {\n",
              "      display:flex;\n",
              "      flex-wrap:wrap;\n",
              "      gap: 12px;\n",
              "    }\n",
              "\n",
              "    .colab-df-convert {\n",
              "      background-color: #E8F0FE;\n",
              "      border: none;\n",
              "      border-radius: 50%;\n",
              "      cursor: pointer;\n",
              "      display: none;\n",
              "      fill: #1967D2;\n",
              "      height: 32px;\n",
              "      padding: 0 0 0 0;\n",
              "      width: 32px;\n",
              "    }\n",
              "\n",
              "    .colab-df-convert:hover {\n",
              "      background-color: #E2EBFA;\n",
              "      box-shadow: 0px 1px 2px rgba(60, 64, 67, 0.3), 0px 1px 3px 1px rgba(60, 64, 67, 0.15);\n",
              "      fill: #174EA6;\n",
              "    }\n",
              "\n",
              "    [theme=dark] .colab-df-convert {\n",
              "      background-color: #3B4455;\n",
              "      fill: #D2E3FC;\n",
              "    }\n",
              "\n",
              "    [theme=dark] .colab-df-convert:hover {\n",
              "      background-color: #434B5C;\n",
              "      box-shadow: 0px 1px 3px 1px rgba(0, 0, 0, 0.15);\n",
              "      filter: drop-shadow(0px 1px 2px rgba(0, 0, 0, 0.3));\n",
              "      fill: #FFFFFF;\n",
              "    }\n",
              "  </style>\n",
              "\n",
              "      <script>\n",
              "        const buttonEl =\n",
              "          document.querySelector('#df-e4b5225c-585b-40ed-ba2e-418f5b063ab5 button.colab-df-convert');\n",
              "        buttonEl.style.display =\n",
              "          google.colab.kernel.accessAllowed ? 'block' : 'none';\n",
              "\n",
              "        async function convertToInteractive(key) {\n",
              "          const element = document.querySelector('#df-e4b5225c-585b-40ed-ba2e-418f5b063ab5');\n",
              "          const dataTable =\n",
              "            await google.colab.kernel.invokeFunction('convertToInteractive',\n",
              "                                                     [key], {});\n",
              "          if (!dataTable) return;\n",
              "\n",
              "          const docLinkHtml = 'Like what you see? Visit the ' +\n",
              "            '<a target=\"_blank\" href=https://colab.research.google.com/notebooks/data_table.ipynb>data table notebook</a>'\n",
              "            + ' to learn more about interactive tables.';\n",
              "          element.innerHTML = '';\n",
              "          dataTable['output_type'] = 'display_data';\n",
              "          await google.colab.output.renderOutput(dataTable, element);\n",
              "          const docLink = document.createElement('div');\n",
              "          docLink.innerHTML = docLinkHtml;\n",
              "          element.appendChild(docLink);\n",
              "        }\n",
              "      </script>\n",
              "    </div>\n",
              "  </div>\n",
              "  "
            ]
          },
          "metadata": {},
          "execution_count": 11
        }
      ]
    },
    {
      "cell_type": "code",
      "source": [
        "completitud = pd.DataFrame(df.isnull().sum())\n",
        "completitud"
      ],
      "metadata": {
        "colab": {
          "base_uri": "https://localhost:8080/",
          "height": 112
        },
        "id": "kiI77j0e8ybH",
        "outputId": "6e1b5245-a7a3-4e76-9b07-1077629feb33"
      },
      "execution_count": 12,
      "outputs": [
        {
          "output_type": "execute_result",
          "data": {
            "text/plain": [
              "        0\n",
              "text   39\n",
              "label   0"
            ],
            "text/html": [
              "\n",
              "  <div id=\"df-fccf2e55-197a-44bf-be4a-1453e6b28c84\">\n",
              "    <div class=\"colab-df-container\">\n",
              "      <div>\n",
              "<style scoped>\n",
              "    .dataframe tbody tr th:only-of-type {\n",
              "        vertical-align: middle;\n",
              "    }\n",
              "\n",
              "    .dataframe tbody tr th {\n",
              "        vertical-align: top;\n",
              "    }\n",
              "\n",
              "    .dataframe thead th {\n",
              "        text-align: right;\n",
              "    }\n",
              "</style>\n",
              "<table border=\"1\" class=\"dataframe\">\n",
              "  <thead>\n",
              "    <tr style=\"text-align: right;\">\n",
              "      <th></th>\n",
              "      <th>0</th>\n",
              "    </tr>\n",
              "  </thead>\n",
              "  <tbody>\n",
              "    <tr>\n",
              "      <th>text</th>\n",
              "      <td>39</td>\n",
              "    </tr>\n",
              "    <tr>\n",
              "      <th>label</th>\n",
              "      <td>0</td>\n",
              "    </tr>\n",
              "  </tbody>\n",
              "</table>\n",
              "</div>\n",
              "      <button class=\"colab-df-convert\" onclick=\"convertToInteractive('df-fccf2e55-197a-44bf-be4a-1453e6b28c84')\"\n",
              "              title=\"Convert this dataframe to an interactive table.\"\n",
              "              style=\"display:none;\">\n",
              "        \n",
              "  <svg xmlns=\"http://www.w3.org/2000/svg\" height=\"24px\"viewBox=\"0 0 24 24\"\n",
              "       width=\"24px\">\n",
              "    <path d=\"M0 0h24v24H0V0z\" fill=\"none\"/>\n",
              "    <path d=\"M18.56 5.44l.94 2.06.94-2.06 2.06-.94-2.06-.94-.94-2.06-.94 2.06-2.06.94zm-11 1L8.5 8.5l.94-2.06 2.06-.94-2.06-.94L8.5 2.5l-.94 2.06-2.06.94zm10 10l.94 2.06.94-2.06 2.06-.94-2.06-.94-.94-2.06-.94 2.06-2.06.94z\"/><path d=\"M17.41 7.96l-1.37-1.37c-.4-.4-.92-.59-1.43-.59-.52 0-1.04.2-1.43.59L10.3 9.45l-7.72 7.72c-.78.78-.78 2.05 0 2.83L4 21.41c.39.39.9.59 1.41.59.51 0 1.02-.2 1.41-.59l7.78-7.78 2.81-2.81c.8-.78.8-2.07 0-2.86zM5.41 20L4 18.59l7.72-7.72 1.47 1.35L5.41 20z\"/>\n",
              "  </svg>\n",
              "      </button>\n",
              "      \n",
              "  <style>\n",
              "    .colab-df-container {\n",
              "      display:flex;\n",
              "      flex-wrap:wrap;\n",
              "      gap: 12px;\n",
              "    }\n",
              "\n",
              "    .colab-df-convert {\n",
              "      background-color: #E8F0FE;\n",
              "      border: none;\n",
              "      border-radius: 50%;\n",
              "      cursor: pointer;\n",
              "      display: none;\n",
              "      fill: #1967D2;\n",
              "      height: 32px;\n",
              "      padding: 0 0 0 0;\n",
              "      width: 32px;\n",
              "    }\n",
              "\n",
              "    .colab-df-convert:hover {\n",
              "      background-color: #E2EBFA;\n",
              "      box-shadow: 0px 1px 2px rgba(60, 64, 67, 0.3), 0px 1px 3px 1px rgba(60, 64, 67, 0.15);\n",
              "      fill: #174EA6;\n",
              "    }\n",
              "\n",
              "    [theme=dark] .colab-df-convert {\n",
              "      background-color: #3B4455;\n",
              "      fill: #D2E3FC;\n",
              "    }\n",
              "\n",
              "    [theme=dark] .colab-df-convert:hover {\n",
              "      background-color: #434B5C;\n",
              "      box-shadow: 0px 1px 3px 1px rgba(0, 0, 0, 0.15);\n",
              "      filter: drop-shadow(0px 1px 2px rgba(0, 0, 0, 0.3));\n",
              "      fill: #FFFFFF;\n",
              "    }\n",
              "  </style>\n",
              "\n",
              "      <script>\n",
              "        const buttonEl =\n",
              "          document.querySelector('#df-fccf2e55-197a-44bf-be4a-1453e6b28c84 button.colab-df-convert');\n",
              "        buttonEl.style.display =\n",
              "          google.colab.kernel.accessAllowed ? 'block' : 'none';\n",
              "\n",
              "        async function convertToInteractive(key) {\n",
              "          const element = document.querySelector('#df-fccf2e55-197a-44bf-be4a-1453e6b28c84');\n",
              "          const dataTable =\n",
              "            await google.colab.kernel.invokeFunction('convertToInteractive',\n",
              "                                                     [key], {});\n",
              "          if (!dataTable) return;\n",
              "\n",
              "          const docLinkHtml = 'Like what you see? Visit the ' +\n",
              "            '<a target=\"_blank\" href=https://colab.research.google.com/notebooks/data_table.ipynb>data table notebook</a>'\n",
              "            + ' to learn more about interactive tables.';\n",
              "          element.innerHTML = '';\n",
              "          dataTable['output_type'] = 'display_data';\n",
              "          await google.colab.output.renderOutput(dataTable, element);\n",
              "          const docLink = document.createElement('div');\n",
              "          docLink.innerHTML = docLinkHtml;\n",
              "          element.appendChild(docLink);\n",
              "        }\n",
              "      </script>\n",
              "    </div>\n",
              "  </div>\n",
              "  "
            ]
          },
          "metadata": {},
          "execution_count": 12
        }
      ]
    },
    {
      "cell_type": "code",
      "source": [
        "df = df.dropna()"
      ],
      "metadata": {
        "id": "tINYuGRSY5SC"
      },
      "execution_count": 13,
      "outputs": []
    },
    {
      "cell_type": "code",
      "source": [
        "df.isnull().sum()"
      ],
      "metadata": {
        "colab": {
          "base_uri": "https://localhost:8080/"
        },
        "id": "LaVp-5iRZOBK",
        "outputId": "670d90e1-f846-4717-a35e-5c3512515e26"
      },
      "execution_count": 14,
      "outputs": [
        {
          "output_type": "execute_result",
          "data": {
            "text/plain": [
              "text     0\n",
              "label    0\n",
              "dtype: int64"
            ]
          },
          "metadata": {},
          "execution_count": 14
        }
      ]
    },
    {
      "cell_type": "code",
      "source": [
        "print(completitud.index)"
      ],
      "metadata": {
        "colab": {
          "base_uri": "https://localhost:8080/"
        },
        "id": "ulT8692r-mKY",
        "outputId": "b6495443-835f-4247-e5ba-d20f66b166fc"
      },
      "execution_count": 15,
      "outputs": [
        {
          "output_type": "stream",
          "name": "stdout",
          "text": [
            "Index(['text', 'label'], dtype='object')\n"
          ]
        }
      ]
    },
    {
      "cell_type": "code",
      "source": [
        "df.head(5)"
      ],
      "metadata": {
        "colab": {
          "base_uri": "https://localhost:8080/",
          "height": 206
        },
        "id": "XgiS2PkM_d1e",
        "outputId": "fa8090dd-3b36-4a3c-df5b-da7c45b98efa"
      },
      "execution_count": 16,
      "outputs": [
        {
          "output_type": "execute_result",
          "data": {
            "text/plain": [
              "                                                text  label\n",
              "0  No comment is expected from Barack Obama Membe...      1\n",
              "1     Did they post their votes for Hillary already?      1\n",
              "2   Now, most of the demonstrators gathered last ...      1\n",
              "3  A dozen politically active pastors came here f...      0\n",
              "4  The RS-28 Sarmat missile, dubbed Satan 2, will...      1"
            ],
            "text/html": [
              "\n",
              "  <div id=\"df-0c2cc6f7-a128-4d46-8edf-9420d5c46e9c\">\n",
              "    <div class=\"colab-df-container\">\n",
              "      <div>\n",
              "<style scoped>\n",
              "    .dataframe tbody tr th:only-of-type {\n",
              "        vertical-align: middle;\n",
              "    }\n",
              "\n",
              "    .dataframe tbody tr th {\n",
              "        vertical-align: top;\n",
              "    }\n",
              "\n",
              "    .dataframe thead th {\n",
              "        text-align: right;\n",
              "    }\n",
              "</style>\n",
              "<table border=\"1\" class=\"dataframe\">\n",
              "  <thead>\n",
              "    <tr style=\"text-align: right;\">\n",
              "      <th></th>\n",
              "      <th>text</th>\n",
              "      <th>label</th>\n",
              "    </tr>\n",
              "  </thead>\n",
              "  <tbody>\n",
              "    <tr>\n",
              "      <th>0</th>\n",
              "      <td>No comment is expected from Barack Obama Membe...</td>\n",
              "      <td>1</td>\n",
              "    </tr>\n",
              "    <tr>\n",
              "      <th>1</th>\n",
              "      <td>Did they post their votes for Hillary already?</td>\n",
              "      <td>1</td>\n",
              "    </tr>\n",
              "    <tr>\n",
              "      <th>2</th>\n",
              "      <td>Now, most of the demonstrators gathered last ...</td>\n",
              "      <td>1</td>\n",
              "    </tr>\n",
              "    <tr>\n",
              "      <th>3</th>\n",
              "      <td>A dozen politically active pastors came here f...</td>\n",
              "      <td>0</td>\n",
              "    </tr>\n",
              "    <tr>\n",
              "      <th>4</th>\n",
              "      <td>The RS-28 Sarmat missile, dubbed Satan 2, will...</td>\n",
              "      <td>1</td>\n",
              "    </tr>\n",
              "  </tbody>\n",
              "</table>\n",
              "</div>\n",
              "      <button class=\"colab-df-convert\" onclick=\"convertToInteractive('df-0c2cc6f7-a128-4d46-8edf-9420d5c46e9c')\"\n",
              "              title=\"Convert this dataframe to an interactive table.\"\n",
              "              style=\"display:none;\">\n",
              "        \n",
              "  <svg xmlns=\"http://www.w3.org/2000/svg\" height=\"24px\"viewBox=\"0 0 24 24\"\n",
              "       width=\"24px\">\n",
              "    <path d=\"M0 0h24v24H0V0z\" fill=\"none\"/>\n",
              "    <path d=\"M18.56 5.44l.94 2.06.94-2.06 2.06-.94-2.06-.94-.94-2.06-.94 2.06-2.06.94zm-11 1L8.5 8.5l.94-2.06 2.06-.94-2.06-.94L8.5 2.5l-.94 2.06-2.06.94zm10 10l.94 2.06.94-2.06 2.06-.94-2.06-.94-.94-2.06-.94 2.06-2.06.94z\"/><path d=\"M17.41 7.96l-1.37-1.37c-.4-.4-.92-.59-1.43-.59-.52 0-1.04.2-1.43.59L10.3 9.45l-7.72 7.72c-.78.78-.78 2.05 0 2.83L4 21.41c.39.39.9.59 1.41.59.51 0 1.02-.2 1.41-.59l7.78-7.78 2.81-2.81c.8-.78.8-2.07 0-2.86zM5.41 20L4 18.59l7.72-7.72 1.47 1.35L5.41 20z\"/>\n",
              "  </svg>\n",
              "      </button>\n",
              "      \n",
              "  <style>\n",
              "    .colab-df-container {\n",
              "      display:flex;\n",
              "      flex-wrap:wrap;\n",
              "      gap: 12px;\n",
              "    }\n",
              "\n",
              "    .colab-df-convert {\n",
              "      background-color: #E8F0FE;\n",
              "      border: none;\n",
              "      border-radius: 50%;\n",
              "      cursor: pointer;\n",
              "      display: none;\n",
              "      fill: #1967D2;\n",
              "      height: 32px;\n",
              "      padding: 0 0 0 0;\n",
              "      width: 32px;\n",
              "    }\n",
              "\n",
              "    .colab-df-convert:hover {\n",
              "      background-color: #E2EBFA;\n",
              "      box-shadow: 0px 1px 2px rgba(60, 64, 67, 0.3), 0px 1px 3px 1px rgba(60, 64, 67, 0.15);\n",
              "      fill: #174EA6;\n",
              "    }\n",
              "\n",
              "    [theme=dark] .colab-df-convert {\n",
              "      background-color: #3B4455;\n",
              "      fill: #D2E3FC;\n",
              "    }\n",
              "\n",
              "    [theme=dark] .colab-df-convert:hover {\n",
              "      background-color: #434B5C;\n",
              "      box-shadow: 0px 1px 3px 1px rgba(0, 0, 0, 0.15);\n",
              "      filter: drop-shadow(0px 1px 2px rgba(0, 0, 0, 0.3));\n",
              "      fill: #FFFFFF;\n",
              "    }\n",
              "  </style>\n",
              "\n",
              "      <script>\n",
              "        const buttonEl =\n",
              "          document.querySelector('#df-0c2cc6f7-a128-4d46-8edf-9420d5c46e9c button.colab-df-convert');\n",
              "        buttonEl.style.display =\n",
              "          google.colab.kernel.accessAllowed ? 'block' : 'none';\n",
              "\n",
              "        async function convertToInteractive(key) {\n",
              "          const element = document.querySelector('#df-0c2cc6f7-a128-4d46-8edf-9420d5c46e9c');\n",
              "          const dataTable =\n",
              "            await google.colab.kernel.invokeFunction('convertToInteractive',\n",
              "                                                     [key], {});\n",
              "          if (!dataTable) return;\n",
              "\n",
              "          const docLinkHtml = 'Like what you see? Visit the ' +\n",
              "            '<a target=\"_blank\" href=https://colab.research.google.com/notebooks/data_table.ipynb>data table notebook</a>'\n",
              "            + ' to learn more about interactive tables.';\n",
              "          element.innerHTML = '';\n",
              "          dataTable['output_type'] = 'display_data';\n",
              "          await google.colab.output.renderOutput(dataTable, element);\n",
              "          const docLink = document.createElement('div');\n",
              "          docLink.innerHTML = docLinkHtml;\n",
              "          element.appendChild(docLink);\n",
              "        }\n",
              "      </script>\n",
              "    </div>\n",
              "  </div>\n",
              "  "
            ]
          },
          "metadata": {},
          "execution_count": 16
        }
      ]
    },
    {
      "cell_type": "markdown",
      "source": [
        "##Balance Labels (Revisamos como se componen las etiquetas y si tienen un balance sin sesgos)"
      ],
      "metadata": {
        "id": "mvtc2lxVhFCv"
      }
    },
    {
      "cell_type": "code",
      "source": [
        "sns.countplot(x=df[\"label\"])\n",
        "plt.show()"
      ],
      "metadata": {
        "colab": {
          "base_uri": "https://localhost:8080/",
          "height": 449
        },
        "id": "nA8xo_t__xLq",
        "outputId": "9e9327f0-c467-4479-b6be-4c40d00d5f6d"
      },
      "execution_count": 17,
      "outputs": [
        {
          "output_type": "display_data",
          "data": {
            "text/plain": [
              "<Figure size 640x480 with 1 Axes>"
            ],
            "image/png": "[encoded data removed]"
          },
          "metadata": {}
        }
      ]
    },
    {
      "cell_type": "code",
      "source": [
        "np.unique(df[\"label\"])"
      ],
      "metadata": {
        "colab": {
          "base_uri": "https://localhost:8080/"
        },
        "id": "XMVrL_rpz9q7",
        "outputId": "b26eeba7-9a4b-430b-cf5a-3406382f871b"
      },
      "execution_count": 18,
      "outputs": [
        {
          "output_type": "execute_result",
          "data": {
            "text/plain": [
              "array([0, 1])"
            ]
          },
          "metadata": {},
          "execution_count": 18
        }
      ]
    },
    {
      "cell_type": "code",
      "source": [
        "df['label'].value_counts()"
      ],
      "metadata": {
        "colab": {
          "base_uri": "https://localhost:8080/"
        },
        "id": "bz1Jqq020JtT",
        "outputId": "4c2e75ed-a0a8-4011-fbe3-eb8f85341d2c"
      },
      "execution_count": 19,
      "outputs": [
        {
          "output_type": "execute_result",
          "data": {
            "text/plain": [
              "1    37067\n",
              "0    35028\n",
              "Name: label, dtype: int64"
            ]
          },
          "metadata": {},
          "execution_count": 19
        }
      ]
    },
    {
      "cell_type": "code",
      "source": [
        "df['label'].value_counts(normalize=True)"
      ],
      "metadata": {
        "colab": {
          "base_uri": "https://localhost:8080/"
        },
        "id": "Ql6ZpZok0YXB",
        "outputId": "7628149d-6860-4343-e54e-c9488cd3cfbe"
      },
      "execution_count": 20,
      "outputs": [
        {
          "output_type": "execute_result",
          "data": {
            "text/plain": [
              "1    0.514141\n",
              "0    0.485859\n",
              "Name: label, dtype: float64"
            ]
          },
          "metadata": {},
          "execution_count": 20
        }
      ]
    },
    {
      "cell_type": "code",
      "source": [
        "df['label'].value_counts(normalize=True).mul(100)"
      ],
      "metadata": {
        "colab": {
          "base_uri": "https://localhost:8080/"
        },
        "id": "TGQnOSY20tGw",
        "outputId": "edc49dbf-3ae2-46cd-ace7-5eda2a75964a"
      },
      "execution_count": 21,
      "outputs": [
        {
          "output_type": "execute_result",
          "data": {
            "text/plain": [
              "1    51.414106\n",
              "0    48.585894\n",
              "Name: label, dtype: float64"
            ]
          },
          "metadata": {},
          "execution_count": 21
        }
      ]
    },
    {
      "cell_type": "code",
      "source": [
        "df['label'].value_counts(normalize=True).mul(100).round(1)"
      ],
      "metadata": {
        "colab": {
          "base_uri": "https://localhost:8080/"
        },
        "id": "DWT_dhvZ1Kiy",
        "outputId": "f7368e3a-593e-403f-e4ce-8afd62546f3b"
      },
      "execution_count": 22,
      "outputs": [
        {
          "output_type": "execute_result",
          "data": {
            "text/plain": [
              "1    51.4\n",
              "0    48.6\n",
              "Name: label, dtype: float64"
            ]
          },
          "metadata": {},
          "execution_count": 22
        }
      ]
    },
    {
      "cell_type": "code",
      "source": [
        "df['label'].value_counts(normalize=True).mul(100).round(1).astype(str) + \"%\""
      ],
      "metadata": {
        "colab": {
          "base_uri": "https://localhost:8080/"
        },
        "id": "3D5n6PDa1RwP",
        "outputId": "eb295177-7782-4ef3-8349-e6bfda14504d"
      },
      "execution_count": 23,
      "outputs": [
        {
          "output_type": "execute_result",
          "data": {
            "text/plain": [
              "1    51.4%\n",
              "0    48.6%\n",
              "Name: label, dtype: object"
            ]
          },
          "metadata": {},
          "execution_count": 23
        }
      ]
    },
    {
      "cell_type": "markdown",
      "source": [
        "##Clean text (Realizamos limpieza del texto a trabajar)"
      ],
      "metadata": {
        "id": "BjnxwoBR1lsg"
      }
    },
    {
      "cell_type": "markdown",
      "source": [
        "- Convert to lowercase\n",
        "- Remove url\n",
        "- Remove whitespaces"
      ],
      "metadata": {
        "id": "w5J2hhRWXZO4"
      }
    },
    {
      "cell_type": "code",
      "source": [
        "def clean_text(text):\n",
        "  text = str(text).strip()\n",
        "  text = text.lower()\n",
        "  text = re.sub('https?://\\S+|www\\. \\S+', '', text)\n",
        "  text = re.sub('\\\\W',' ', text)\n",
        "  text = re.sub('\\n',' ', text)\n",
        "  text = re.sub(' +',' ', text)\n",
        "  text = re.sub('^ ',' ', text)\n",
        "  text = re.sub(' $',' ', text)\n",
        "  return text"
      ],
      "metadata": {
        "id": "YLupE3Vs2pgu"
      },
      "execution_count": 24,
      "outputs": []
    },
    {
      "cell_type": "code",
      "source": [
        "df['cleaned_text'] = df['text'].apply(clean_text)"
      ],
      "metadata": {
        "id": "zmqlxvtN1pF2"
      },
      "execution_count": 25,
      "outputs": []
    },
    {
      "cell_type": "code",
      "source": [
        "df.sample(5)"
      ],
      "metadata": {
        "colab": {
          "base_uri": "https://localhost:8080/",
          "height": 206
        },
        "id": "neS-DvdR4_Gx",
        "outputId": "1d9af6f3-608b-40f8-d5a9-098dd1ff7017"
      },
      "execution_count": 26,
      "outputs": [
        {
          "output_type": "execute_result",
          "data": {
            "text/plain": [
              "                                                    text  label  \\\n",
              "47930  Ginni Thomas is one of the most hard-working a...      1   \n",
              "69815  SEOUL (Reuters) - South Korea s President Moon...      0   \n",
              "25653  21st Century Wire says Tuesday, President Dona...      1   \n",
              "57629  SEVNICA, Slovenia (Reuters) - The small Sloven...      0   \n",
              "4397   BERLIN (Reuters) - German industry association...      0   \n",
              "\n",
              "                                            cleaned_text  \n",
              "47930  ginni thomas is one of the most hard working a...  \n",
              "69815  seoul reuters south korea s president moon jae...  \n",
              "25653  21st century wire says tuesday president donal...  \n",
              "57629  sevnica slovenia reuters the small slovenian t...  \n",
              "4397   berlin reuters german industry associations on...  "
            ],
            "text/html": [
              "\n",
              "  <div id=\"df-b0253bec-2e0f-490e-b8ec-7f2db6243004\">\n",
              "    <div class=\"colab-df-container\">\n",
              "      <div>\n",
              "<style scoped>\n",
              "    .dataframe tbody tr th:only-of-type {\n",
              "        vertical-align: middle;\n",
              "    }\n",
              "\n",
              "    .dataframe tbody tr th {\n",
              "        vertical-align: top;\n",
              "    }\n",
              "\n",
              "    .dataframe thead th {\n",
              "        text-align: right;\n",
              "    }\n",
              "</style>\n",
              "<table border=\"1\" class=\"dataframe\">\n",
              "  <thead>\n",
              "    <tr style=\"text-align: right;\">\n",
              "      <th></th>\n",
              "      <th>text</th>\n",
              "      <th>label</th>\n",
              "      <th>cleaned_text</th>\n",
              "    </tr>\n",
              "  </thead>\n",
              "  <tbody>\n",
              "    <tr>\n",
              "      <th>47930</th>\n",
              "      <td>Ginni Thomas is one of the most hard-working a...</td>\n",
              "      <td>1</td>\n",
              "      <td>ginni thomas is one of the most hard working a...</td>\n",
              "    </tr>\n",
              "    <tr>\n",
              "      <th>69815</th>\n",
              "      <td>SEOUL (Reuters) - South Korea s President Moon...</td>\n",
              "      <td>0</td>\n",
              "      <td>seoul reuters south korea s president moon jae...</td>\n",
              "    </tr>\n",
              "    <tr>\n",
              "      <th>25653</th>\n",
              "      <td>21st Century Wire says Tuesday, President Dona...</td>\n",
              "      <td>1</td>\n",
              "      <td>21st century wire says tuesday president donal...</td>\n",
              "    </tr>\n",
              "    <tr>\n",
              "      <th>57629</th>\n",
              "      <td>SEVNICA, Slovenia (Reuters) - The small Sloven...</td>\n",
              "      <td>0</td>\n",
              "      <td>sevnica slovenia reuters the small slovenian t...</td>\n",
              "    </tr>\n",
              "    <tr>\n",
              "      <th>4397</th>\n",
              "      <td>BERLIN (Reuters) - German industry association...</td>\n",
              "      <td>0</td>\n",
              "      <td>berlin reuters german industry associations on...</td>\n",
              "    </tr>\n",
              "  </tbody>\n",
              "</table>\n",
              "</div>\n",
              "      <button class=\"colab-df-convert\" onclick=\"convertToInteractive('df-b0253bec-2e0f-490e-b8ec-7f2db6243004')\"\n",
              "              title=\"Convert this dataframe to an interactive table.\"\n",
              "              style=\"display:none;\">\n",
              "        \n",
              "  <svg xmlns=\"http://www.w3.org/2000/svg\" height=\"24px\"viewBox=\"0 0 24 24\"\n",
              "       width=\"24px\">\n",
              "    <path d=\"M0 0h24v24H0V0z\" fill=\"none\"/>\n",
              "    <path d=\"M18.56 5.44l.94 2.06.94-2.06 2.06-.94-2.06-.94-.94-2.06-.94 2.06-2.06.94zm-11 1L8.5 8.5l.94-2.06 2.06-.94-2.06-.94L8.5 2.5l-.94 2.06-2.06.94zm10 10l.94 2.06.94-2.06 2.06-.94-2.06-.94-.94-2.06-.94 2.06-2.06.94z\"/><path d=\"M17.41 7.96l-1.37-1.37c-.4-.4-.92-.59-1.43-.59-.52 0-1.04.2-1.43.59L10.3 9.45l-7.72 7.72c-.78.78-.78 2.05 0 2.83L4 21.41c.39.39.9.59 1.41.59.51 0 1.02-.2 1.41-.59l7.78-7.78 2.81-2.81c.8-.78.8-2.07 0-2.86zM5.41 20L4 18.59l7.72-7.72 1.47 1.35L5.41 20z\"/>\n",
              "  </svg>\n",
              "      </button>\n",
              "      \n",
              "  <style>\n",
              "    .colab-df-container {\n",
              "      display:flex;\n",
              "      flex-wrap:wrap;\n",
              "      gap: 12px;\n",
              "    }\n",
              "\n",
              "    .colab-df-convert {\n",
              "      background-color: #E8F0FE;\n",
              "      border: none;\n",
              "      border-radius: 50%;\n",
              "      cursor: pointer;\n",
              "      display: none;\n",
              "      fill: #1967D2;\n",
              "      height: 32px;\n",
              "      padding: 0 0 0 0;\n",
              "      width: 32px;\n",
              "    }\n",
              "\n",
              "    .colab-df-convert:hover {\n",
              "      background-color: #E2EBFA;\n",
              "      box-shadow: 0px 1px 2px rgba(60, 64, 67, 0.3), 0px 1px 3px 1px rgba(60, 64, 67, 0.15);\n",
              "      fill: #174EA6;\n",
              "    }\n",
              "\n",
              "    [theme=dark] .colab-df-convert {\n",
              "      background-color: #3B4455;\n",
              "      fill: #D2E3FC;\n",
              "    }\n",
              "\n",
              "    [theme=dark] .colab-df-convert:hover {\n",
              "      background-color: #434B5C;\n",
              "      box-shadow: 0px 1px 3px 1px rgba(0, 0, 0, 0.15);\n",
              "      filter: drop-shadow(0px 1px 2px rgba(0, 0, 0, 0.3));\n",
              "      fill: #FFFFFF;\n",
              "    }\n",
              "  </style>\n",
              "\n",
              "      <script>\n",
              "        const buttonEl =\n",
              "          document.querySelector('#df-b0253bec-2e0f-490e-b8ec-7f2db6243004 button.colab-df-convert');\n",
              "        buttonEl.style.display =\n",
              "          google.colab.kernel.accessAllowed ? 'block' : 'none';\n",
              "\n",
              "        async function convertToInteractive(key) {\n",
              "          const element = document.querySelector('#df-b0253bec-2e0f-490e-b8ec-7f2db6243004');\n",
              "          const dataTable =\n",
              "            await google.colab.kernel.invokeFunction('convertToInteractive',\n",
              "                                                     [key], {});\n",
              "          if (!dataTable) return;\n",
              "\n",
              "          const docLinkHtml = 'Like what you see? Visit the ' +\n",
              "            '<a target=\"_blank\" href=https://colab.research.google.com/notebooks/data_table.ipynb>data table notebook</a>'\n",
              "            + ' to learn more about interactive tables.';\n",
              "          element.innerHTML = '';\n",
              "          dataTable['output_type'] = 'display_data';\n",
              "          await google.colab.output.renderOutput(dataTable, element);\n",
              "          const docLink = document.createElement('div');\n",
              "          docLink.innerHTML = docLinkHtml;\n",
              "          element.appendChild(docLink);\n",
              "        }\n",
              "      </script>\n",
              "    </div>\n",
              "  </div>\n",
              "  "
            ]
          },
          "metadata": {},
          "execution_count": 26
        }
      ]
    },
    {
      "cell_type": "markdown",
      "source": [
        "##Data Split (Obtenemos un conjunto de entrenamiento y un subconjunto de datos como prueba)"
      ],
      "metadata": {
        "id": "x00xElFLYLg1"
      }
    },
    {
      "cell_type": "markdown",
      "source": [
        "Dividimos los datos en conjuntos de entrenamiento y prueba"
      ],
      "metadata": {
        "id": "cX-yebr-WrC9"
      }
    },
    {
      "cell_type": "code",
      "source": [
        "X = df['cleaned_text']\n",
        "y = df['label']"
      ],
      "metadata": {
        "id": "evadvpj_50wD"
      },
      "execution_count": 27,
      "outputs": []
    },
    {
      "cell_type": "code",
      "source": [
        "X_train, X_test, y_train, y_test = train_test_split(X, y, test_size=0.2) #, random_state=18"
      ],
      "metadata": {
        "id": "rm8_X__86g9T"
      },
      "execution_count": 28,
      "outputs": []
    },
    {
      "cell_type": "markdown",
      "source": [
        "##Tokenize (Dividimos el texto en palabras, secuencia de tokens para procesar datos)"
      ],
      "metadata": {
        "id": "X-yRDcyz79Ta"
      }
    },
    {
      "cell_type": "code",
      "source": [
        "max_vocab = 10000\n",
        "tokenizer = Tokenizer(num_words=max_vocab)\n",
        "tokenizer.fit_on_texts(X_train)"
      ],
      "metadata": {
        "id": "lBtuHakf78AN"
      },
      "execution_count": 29,
      "outputs": []
    },
    {
      "cell_type": "code",
      "source": [
        "X_train = tokenizer.texts_to_sequences(X_train)\n",
        "X_test = tokenizer.texts_to_sequences(X_test)"
      ],
      "metadata": {
        "id": "9EkgvMLtBUCd"
      },
      "execution_count": 30,
      "outputs": []
    },
    {
      "cell_type": "code",
      "source": [
        "type(X_test)"
      ],
      "metadata": {
        "colab": {
          "base_uri": "https://localhost:8080/"
        },
        "id": "uC56YJ2fCbKp",
        "outputId": "9630ce84-f5f1-4802-dd82-301931e20bb5"
      },
      "execution_count": 31,
      "outputs": [
        {
          "output_type": "execute_result",
          "data": {
            "text/plain": [
              "list"
            ]
          },
          "metadata": {},
          "execution_count": 31
        }
      ]
    },
    {
      "cell_type": "code",
      "source": [
        "len(X_test)"
      ],
      "metadata": {
        "colab": {
          "base_uri": "https://localhost:8080/"
        },
        "id": "tPqt9znoCgf_",
        "outputId": "887c9d55-6c84-4bb5-b29d-f038cbe981fa"
      },
      "execution_count": 32,
      "outputs": [
        {
          "output_type": "execute_result",
          "data": {
            "text/plain": [
              "14419"
            ]
          },
          "metadata": {},
          "execution_count": 32
        }
      ]
    },
    {
      "cell_type": "code",
      "source": [
        "len(X_test[0])"
      ],
      "metadata": {
        "colab": {
          "base_uri": "https://localhost:8080/"
        },
        "id": "LmoGnayPCmiI",
        "outputId": "6cc4cab0-c89b-4ca3-e9fd-4cff80edfe8e"
      },
      "execution_count": 33,
      "outputs": [
        {
          "output_type": "execute_result",
          "data": {
            "text/plain": [
              "320"
            ]
          },
          "metadata": {},
          "execution_count": 33
        }
      ]
    },
    {
      "cell_type": "code",
      "source": [
        "len(X_test[1])"
      ],
      "metadata": {
        "colab": {
          "base_uri": "https://localhost:8080/"
        },
        "id": "MilzsOMfCuZZ",
        "outputId": "5f352022-9883-4fd2-848c-a486cad9f0f6"
      },
      "execution_count": 34,
      "outputs": [
        {
          "output_type": "execute_result",
          "data": {
            "text/plain": [
              "458"
            ]
          },
          "metadata": {},
          "execution_count": 34
        }
      ]
    },
    {
      "cell_type": "markdown",
      "source": [
        "##Padding (Se ajusta el contenido para tener un tamaño fijo, con aspecto uniforme y legible)"
      ],
      "metadata": {
        "id": "0-mYDLIDDzk6"
      }
    },
    {
      "cell_type": "code",
      "source": [
        "X_train = tf.keras.preprocessing.sequence.pad_sequences(X_train, padding='post', truncating='post', maxlen=50)\n",
        "X_test = tf.keras.preprocessing.sequence.pad_sequences(X_test, padding='post', truncating='post', maxlen=50)"
      ],
      "metadata": {
        "id": "sR08XyGzD1-P"
      },
      "execution_count": 35,
      "outputs": []
    },
    {
      "cell_type": "code",
      "source": [
        "X_test"
      ],
      "metadata": {
        "colab": {
          "base_uri": "https://localhost:8080/"
        },
        "id": "snyR858_PXlk",
        "outputId": "dfc18b50-0fe8-4165-b7be-e24cf867ae84"
      },
      "execution_count": 36,
      "outputs": [
        {
          "output_type": "execute_result",
          "data": {
            "text/plain": [
              "array([[ 136,    8,   76, ..., 6204,    7,   92],\n",
              "       [ 364,   48,   88, ...,   29,  247, 1802],\n",
              "       [ 139,  265,    3, ..., 2403,   11,   48],\n",
              "       ...,\n",
              "       [ 382,  150,   46, ..., 1623,    1,  611],\n",
              "       [ 174,    2,  121, ...,    5,  403,  636],\n",
              "       [2650, 5784,    9, ...,  430, 1284,    1]], dtype=int32)"
            ]
          },
          "metadata": {},
          "execution_count": 36
        }
      ]
    },
    {
      "cell_type": "code",
      "source": [
        "X_test.shape"
      ],
      "metadata": {
        "colab": {
          "base_uri": "https://localhost:8080/"
        },
        "id": "CvXWvnVKPimp",
        "outputId": "55ad1b67-449e-4f4a-af79-ab562881384a"
      },
      "execution_count": 37,
      "outputs": [
        {
          "output_type": "execute_result",
          "data": {
            "text/plain": [
              "(14419, 50)"
            ]
          },
          "metadata": {},
          "execution_count": 37
        }
      ]
    },
    {
      "cell_type": "markdown",
      "source": [
        "##RNN (Se utiliza una red neuronal recurrente de una capa que se compone de varias capas secuenciales para realizar la clasificación)"
      ],
      "metadata": {
        "id": "ie56vMWSPrxR"
      }
    },
    {
      "cell_type": "markdown",
      "source": [
        "Este modelo es una red neuronal recurrente (RNN) de una capa que se compone de varias capas secuenciales. La primera capa es una capa de incrustación, que se usa para convertir los enteros a vectores de tamaño predefinido. La segunda capa es una capa de desactivación, que se usa para evitar el sobreajuste. La tercera capa es una capa de convolución 1D, que se usa para extraer características de los datos. La cuarta capa es una capa de agrupación máxima, que se usa para extraer la característica más importante de los datos. La quinta capa es una capa LSTM, que se utiliza para capturar la dependencia temporal. La última capa es una capa densa, que se usa para realizar la clasificación binaria."
      ],
      "metadata": {
        "id": "N6ynoGeOViqq"
      }
    },
    {
      "cell_type": "code",
      "source": [
        "model = tf.keras.Sequential([\n",
        "    tf.keras.layers.Embedding(input_dim=1000, output_dim=50, input_length=50),\n",
        "    tf.keras.layers.Dropout(0.2),\n",
        "    tf.keras.layers.Conv1D(64, 5, activation='relu'),\n",
        "    tf.keras.layers.MaxPooling1D(pool_size=4),\n",
        "    tf.keras.layers.LSTM(64),\n",
        "    tf.keras.layers.Dense(1, activation='sigmoid')\n",
        "])"
      ],
      "metadata": {
        "id": "ayp01j4ePvfo"
      },
      "execution_count": 38,
      "outputs": []
    },
    {
      "cell_type": "code",
      "source": [
        "early_stop = tf.keras.callbacks.EarlyStopping(\n",
        "    monitor='val_loss', \n",
        "    patience=2, \n",
        "    restore_best_weights=True\n",
        ")"
      ],
      "metadata": {
        "id": "sOuKcNJRRGgg"
      },
      "execution_count": 39,
      "outputs": []
    },
    {
      "cell_type": "markdown",
      "source": [
        "##Compile model (Se realiza la compilacion con la clase secuencial de Keras .compile que toma de argumentos una funcion de perdida, un optimizador y metricas)"
      ],
      "metadata": {
        "id": "7rT-gYVuRHa3"
      }
    },
    {
      "cell_type": "code",
      "source": [
        "model.compile(\n",
        "    loss=tf.keras.losses.BinaryCrossentropy(from_logits=True),\n",
        "    optimizer=tf.keras.optimizers.Adam(1e-4),\n",
        "    metrics=['accuracy']\n",
        ")"
      ],
      "metadata": {
        "id": "JGnbLbe7RmPC"
      },
      "execution_count": 40,
      "outputs": []
    },
    {
      "cell_type": "code",
      "source": [
        "model.summary()"
      ],
      "metadata": {
        "colab": {
          "base_uri": "https://localhost:8080/"
        },
        "id": "GfvaMrAIaG6O",
        "outputId": "b88553b0-4c1b-4cce-8a06-4d2884474c74"
      },
      "execution_count": 41,
      "outputs": [
        {
          "output_type": "stream",
          "name": "stdout",
          "text": [
            "Model: \"sequential\"\n",
            "_________________________________________________________________\n",
            " Layer (type)                Output Shape              Param #   \n",
            "=================================================================\n",
            " embedding (Embedding)       (None, 50, 50)            50000     \n",
            "                                                                 \n",
            " dropout (Dropout)           (None, 50, 50)            0         \n",
            "                                                                 \n",
            " conv1d (Conv1D)             (None, 46, 64)            16064     \n",
            "                                                                 \n",
            " max_pooling1d (MaxPooling1D  (None, 11, 64)           0         \n",
            " )                                                               \n",
            "                                                                 \n",
            " lstm (LSTM)                 (None, 64)                33024     \n",
            "                                                                 \n",
            " dense (Dense)               (None, 1)                 65        \n",
            "                                                                 \n",
            "=================================================================\n",
            "Total params: 99,153\n",
            "Trainable params: 99,153\n",
            "Non-trainable params: 0\n",
            "_________________________________________________________________\n"
          ]
        }
      ]
    },
    {
      "cell_type": "markdown",
      "source": [
        "##Train (Se entrena el modelo con los datos de entrenamiento, el número de épocas define las veces que se entrenará con un lote definido de muestras en cada época, se usará early stop para evitar el sobreajuste antes de que llegue al máximo de épocas)"
      ],
      "metadata": {
        "id": "IvU-UIlTSIGJ"
      }
    },
    {
      "cell_type": "code",
      "source": [
        "history = model.fit(\n",
        "    X_train, \n",
        "    y_train, \n",
        "    epochs=10,\n",
        "    validation_split=0.1, \n",
        "    batch_size=1000, \n",
        "    shuffle=True, \n",
        "    callbacks=[early_stop]\n",
        ")"
      ],
      "metadata": {
        "colab": {
          "base_uri": "https://localhost:8080/"
        },
        "id": "oyd5457KSKMu",
        "outputId": "823f8457-3148-460a-ab04-249908b39975"
      },
      "execution_count": 42,
      "outputs": [
        {
          "output_type": "stream",
          "name": "stdout",
          "text": [
            "Epoch 1/10\n"
          ]
        },
        {
          "output_type": "stream",
          "name": "stderr",
          "text": [
            "/usr/local/lib/python3.9/dist-packages/keras/backend.py:5703: UserWarning: \"`binary_crossentropy` received `from_logits=True`, but the `output` argument was produced by a Sigmoid activation and thus does not represent logits. Was this intended?\n",
            "  output, from_logits = _get_logits(\n"
          ]
        },
        {
          "output_type": "stream",
          "name": "stdout",
          "text": [
            "52/52 [==============================] - 22s 172ms/step - loss: 0.6902 - accuracy: 0.5445 - val_loss: 0.6868 - val_accuracy: 0.5106\n",
            "Epoch 2/10\n",
            "52/52 [==============================] - 8s 157ms/step - loss: 0.6697 - accuracy: 0.6738 - val_loss: 0.6354 - val_accuracy: 0.7973\n",
            "Epoch 3/10\n",
            "52/52 [==============================] - 5s 104ms/step - loss: 0.5125 - accuracy: 0.8189 - val_loss: 0.3835 - val_accuracy: 0.8315\n",
            "Epoch 4/10\n",
            "52/52 [==============================] - 5s 100ms/step - loss: 0.3495 - accuracy: 0.8485 - val_loss: 0.3292 - val_accuracy: 0.8568\n",
            "Epoch 5/10\n",
            "52/52 [==============================] - 5s 92ms/step - loss: 0.3093 - accuracy: 0.8681 - val_loss: 0.3024 - val_accuracy: 0.8695\n",
            "Epoch 6/10\n",
            "52/52 [==============================] - 3s 57ms/step - loss: 0.2857 - accuracy: 0.8795 - val_loss: 0.2860 - val_accuracy: 0.8779\n",
            "Epoch 7/10\n",
            "52/52 [==============================] - 4s 83ms/step - loss: 0.2716 - accuracy: 0.8857 - val_loss: 0.2751 - val_accuracy: 0.8805\n",
            "Epoch 8/10\n",
            "52/52 [==============================] - 2s 38ms/step - loss: 0.2610 - accuracy: 0.8902 - val_loss: 0.2682 - val_accuracy: 0.8847\n",
            "Epoch 9/10\n",
            "52/52 [==============================] - 2s 45ms/step - loss: 0.2538 - accuracy: 0.8933 - val_loss: 0.2640 - val_accuracy: 0.8852\n",
            "Epoch 10/10\n",
            "52/52 [==============================] - 3s 53ms/step - loss: 0.2490 - accuracy: 0.8947 - val_loss: 0.2605 - val_accuracy: 0.8852\n"
          ]
        }
      ]
    },
    {
      "cell_type": "code",
      "source": [
        "history.history.keys()"
      ],
      "metadata": {
        "colab": {
          "base_uri": "https://localhost:8080/"
        },
        "id": "q1M4NhugTDlw",
        "outputId": "81340861-15e9-4313-c505-a64a224afe27"
      },
      "execution_count": 43,
      "outputs": [
        {
          "output_type": "execute_result",
          "data": {
            "text/plain": [
              "dict_keys(['loss', 'accuracy', 'val_loss', 'val_accuracy'])"
            ]
          },
          "metadata": {},
          "execution_count": 43
        }
      ]
    },
    {
      "cell_type": "markdown",
      "source": [
        "##Evaluation (Se grafica el rendimiento del modelo durante el entrenamiento y lo evaluamos con los datos de prueba y las métricas que son útiles para medir la precisión)"
      ],
      "metadata": {
        "id": "gKko0mK_TMjH"
      }
    },
    {
      "cell_type": "code",
      "source": [
        "fig = plt.figure()\n",
        "\n",
        "ax1 = fig.add_subplot(2,1,1)\n",
        "ax1.plot(history.history['loss'])\n",
        "\n",
        "ax2 = fig.add_subplot(2,1,2, sharex=ax1)\n",
        "ax2.plot(history.history['accuracy'])\n",
        "plt.show()"
      ],
      "metadata": {
        "colab": {
          "base_uri": "https://localhost:8080/",
          "height": 431
        },
        "id": "MkX7GmGKTQ_F",
        "outputId": "1cf8f426-7fcd-43eb-a3db-071a59d67e3a"
      },
      "execution_count": 44,
      "outputs": [
        {
          "output_type": "display_data",
          "data": {
            "text/plain": [
              "<Figure size 640x480 with 2 Axes>"
            ],
            "image/png": "[encoded data removed]"
          },
          "metadata": {}
        }
      ]
    },
    {
      "cell_type": "markdown",
      "source": [
        "Se puede ver la perdida en el primer eje y la presicion en el segundo, con esto identificamos el sobre ajuste."
      ],
      "metadata": {
        "id": "k5HHbTtt9PGq"
      }
    },
    {
      "cell_type": "code",
      "source": [
        "_, accuracy = model.evaluate(X_train, y_train)\n",
        "accuracy = 100 * accuracy"
      ],
      "metadata": {
        "colab": {
          "base_uri": "https://localhost:8080/"
        },
        "id": "5xYkp8JeUW40",
        "outputId": "73cc9efc-05bc-4367-d43e-8c7c94216dba"
      },
      "execution_count": 45,
      "outputs": [
        {
          "output_type": "stream",
          "name": "stdout",
          "text": [
            "1803/1803 [==============================] - 6s 3ms/step - loss: 0.2419 - accuracy: 0.8983\n"
          ]
        }
      ]
    },
    {
      "cell_type": "code",
      "source": [
        "predictions = model.predict(X_test)\n",
        "score_r2 = r2_score(y_test, predictions)\n",
        "score_rmse = np.sqrt(mean_squared_error(y_test, predictions))"
      ],
      "metadata": {
        "colab": {
          "base_uri": "https://localhost:8080/"
        },
        "id": "u1Z47tZiUtLz",
        "outputId": "5c079d33-ff35-44eb-85e5-3970239d339e"
      },
      "execution_count": 46,
      "outputs": [
        {
          "output_type": "stream",
          "name": "stdout",
          "text": [
            "451/451 [==============================] - 1s 2ms/step\n"
          ]
        }
      ]
    },
    {
      "cell_type": "code",
      "source": [
        "print('R2 Score:', score_r2)\n",
        "print('RMSE Score:', score_rmse)"
      ],
      "metadata": {
        "colab": {
          "base_uri": "https://localhost:8080/"
        },
        "id": "zj9fRtZUV9G4",
        "outputId": "d27b9c8c-2a42-4f58-9e73-0746503cddaf"
      },
      "execution_count": 47,
      "outputs": [
        {
          "output_type": "stream",
          "name": "stdout",
          "text": [
            "R2 Score: 0.6772240485174679\n",
            "RMSE Score: 0.28400579072482446\n"
          ]
        }
      ]
    },
    {
      "cell_type": "code",
      "source": [
        "predictions"
      ],
      "metadata": {
        "colab": {
          "base_uri": "https://localhost:8080/"
        },
        "id": "FWYNvd92dZt3",
        "outputId": "1b02563c-c604-4f7a-9508-bc5164fc8f1b"
      },
      "execution_count": 48,
      "outputs": [
        {
          "output_type": "execute_result",
          "data": {
            "text/plain": [
              "array([[0.93132114],\n",
              "       [0.72863925],\n",
              "       [0.06072844],\n",
              "       ...,\n",
              "       [0.8757983 ],\n",
              "       [0.10168399],\n",
              "       [0.7105377 ]], dtype=float32)"
            ]
          },
          "metadata": {},
          "execution_count": 48
        }
      ]
    },
    {
      "cell_type": "code",
      "source": [
        "predictions.shape"
      ],
      "metadata": {
        "colab": {
          "base_uri": "https://localhost:8080/"
        },
        "id": "ij3-UTgUdcq7",
        "outputId": "1a8361a4-e49e-47cb-cee8-e47fa223d280"
      },
      "execution_count": 49,
      "outputs": [
        {
          "output_type": "execute_result",
          "data": {
            "text/plain": [
              "(14419, 1)"
            ]
          },
          "metadata": {},
          "execution_count": 49
        }
      ]
    },
    {
      "cell_type": "code",
      "source": [
        "pd.DataFrame({\n",
        "    \"predictions\": predictions[:, 0],\n",
        "    \"y_test\": y_test,\n",
        "}).sample(100)"
      ],
      "metadata": {
        "colab": {
          "base_uri": "https://localhost:8080/",
          "height": 423
        },
        "id": "bRLLSEb1dfVB",
        "outputId": "4475b819-d2b2-4d03-d0fb-b1260f3000d5"
      },
      "execution_count": 50,
      "outputs": [
        {
          "output_type": "execute_result",
          "data": {
            "text/plain": [
              "       predictions  y_test\n",
              "31215     0.925019       1\n",
              "2762      0.339323       0\n",
              "51679     0.676707       0\n",
              "37520     0.975101       1\n",
              "3418      0.010047       0\n",
              "...            ...     ...\n",
              "39285     0.911822       1\n",
              "50366     0.006670       0\n",
              "55088     0.912044       1\n",
              "49166     0.979455       1\n",
              "64163     0.932140       1\n",
              "\n",
              "[100 rows x 2 columns]"
            ],
            "text/html": [
              "\n",
              "  <div id=\"df-c3a56b71-55b4-4257-a6ab-5527a6c12e56\">\n",
              "    <div class=\"colab-df-container\">\n",
              "      <div>\n",
              "<style scoped>\n",
              "    .dataframe tbody tr th:only-of-type {\n",
              "        vertical-align: middle;\n",
              "    }\n",
              "\n",
              "    .dataframe tbody tr th {\n",
              "        vertical-align: top;\n",
              "    }\n",
              "\n",
              "    .dataframe thead th {\n",
              "        text-align: right;\n",
              "    }\n",
              "</style>\n",
              "<table border=\"1\" class=\"dataframe\">\n",
              "  <thead>\n",
              "    <tr style=\"text-align: right;\">\n",
              "      <th></th>\n",
              "      <th>predictions</th>\n",
              "      <th>y_test</th>\n",
              "    </tr>\n",
              "  </thead>\n",
              "  <tbody>\n",
              "    <tr>\n",
              "      <th>31215</th>\n",
              "      <td>0.925019</td>\n",
              "      <td>1</td>\n",
              "    </tr>\n",
              "    <tr>\n",
              "      <th>2762</th>\n",
              "      <td>0.339323</td>\n",
              "      <td>0</td>\n",
              "    </tr>\n",
              "    <tr>\n",
              "      <th>51679</th>\n",
              "      <td>0.676707</td>\n",
              "      <td>0</td>\n",
              "    </tr>\n",
              "    <tr>\n",
              "      <th>37520</th>\n",
              "      <td>0.975101</td>\n",
              "      <td>1</td>\n",
              "    </tr>\n",
              "    <tr>\n",
              "      <th>3418</th>\n",
              "      <td>0.010047</td>\n",
              "      <td>0</td>\n",
              "    </tr>\n",
              "    <tr>\n",
              "      <th>...</th>\n",
              "      <td>...</td>\n",
              "      <td>...</td>\n",
              "    </tr>\n",
              "    <tr>\n",
              "      <th>39285</th>\n",
              "      <td>0.911822</td>\n",
              "      <td>1</td>\n",
              "    </tr>\n",
              "    <tr>\n",
              "      <th>50366</th>\n",
              "      <td>0.006670</td>\n",
              "      <td>0</td>\n",
              "    </tr>\n",
              "    <tr>\n",
              "      <th>55088</th>\n",
              "      <td>0.912044</td>\n",
              "      <td>1</td>\n",
              "    </tr>\n",
              "    <tr>\n",
              "      <th>49166</th>\n",
              "      <td>0.979455</td>\n",
              "      <td>1</td>\n",
              "    </tr>\n",
              "    <tr>\n",
              "      <th>64163</th>\n",
              "      <td>0.932140</td>\n",
              "      <td>1</td>\n",
              "    </tr>\n",
              "  </tbody>\n",
              "</table>\n",
              "<p>100 rows × 2 columns</p>\n",
              "</div>\n",
              "      <button class=\"colab-df-convert\" onclick=\"convertToInteractive('df-c3a56b71-55b4-4257-a6ab-5527a6c12e56')\"\n",
              "              title=\"Convert this dataframe to an interactive table.\"\n",
              "              style=\"display:none;\">\n",
              "        \n",
              "  <svg xmlns=\"http://www.w3.org/2000/svg\" height=\"24px\"viewBox=\"0 0 24 24\"\n",
              "       width=\"24px\">\n",
              "    <path d=\"M0 0h24v24H0V0z\" fill=\"none\"/>\n",
              "    <path d=\"M18.56 5.44l.94 2.06.94-2.06 2.06-.94-2.06-.94-.94-2.06-.94 2.06-2.06.94zm-11 1L8.5 8.5l.94-2.06 2.06-.94-2.06-.94L8.5 2.5l-.94 2.06-2.06.94zm10 10l.94 2.06.94-2.06 2.06-.94-2.06-.94-.94-2.06-.94 2.06-2.06.94z\"/><path d=\"M17.41 7.96l-1.37-1.37c-.4-.4-.92-.59-1.43-.59-.52 0-1.04.2-1.43.59L10.3 9.45l-7.72 7.72c-.78.78-.78 2.05 0 2.83L4 21.41c.39.39.9.59 1.41.59.51 0 1.02-.2 1.41-.59l7.78-7.78 2.81-2.81c.8-.78.8-2.07 0-2.86zM5.41 20L4 18.59l7.72-7.72 1.47 1.35L5.41 20z\"/>\n",
              "  </svg>\n",
              "      </button>\n",
              "      \n",
              "  <style>\n",
              "    .colab-df-container {\n",
              "      display:flex;\n",
              "      flex-wrap:wrap;\n",
              "      gap: 12px;\n",
              "    }\n",
              "\n",
              "    .colab-df-convert {\n",
              "      background-color: #E8F0FE;\n",
              "      border: none;\n",
              "      border-radius: 50%;\n",
              "      cursor: pointer;\n",
              "      display: none;\n",
              "      fill: #1967D2;\n",
              "      height: 32px;\n",
              "      padding: 0 0 0 0;\n",
              "      width: 32px;\n",
              "    }\n",
              "\n",
              "    .colab-df-convert:hover {\n",
              "      background-color: #E2EBFA;\n",
              "      box-shadow: 0px 1px 2px rgba(60, 64, 67, 0.3), 0px 1px 3px 1px rgba(60, 64, 67, 0.15);\n",
              "      fill: #174EA6;\n",
              "    }\n",
              "\n",
              "    [theme=dark] .colab-df-convert {\n",
              "      background-color: #3B4455;\n",
              "      fill: #D2E3FC;\n",
              "    }\n",
              "\n",
              "    [theme=dark] .colab-df-convert:hover {\n",
              "      background-color: #434B5C;\n",
              "      box-shadow: 0px 1px 3px 1px rgba(0, 0, 0, 0.15);\n",
              "      filter: drop-shadow(0px 1px 2px rgba(0, 0, 0, 0.3));\n",
              "      fill: #FFFFFF;\n",
              "    }\n",
              "  </style>\n",
              "\n",
              "      <script>\n",
              "        const buttonEl =\n",
              "          document.querySelector('#df-c3a56b71-55b4-4257-a6ab-5527a6c12e56 button.colab-df-convert');\n",
              "        buttonEl.style.display =\n",
              "          google.colab.kernel.accessAllowed ? 'block' : 'none';\n",
              "\n",
              "        async function convertToInteractive(key) {\n",
              "          const element = document.querySelector('#df-c3a56b71-55b4-4257-a6ab-5527a6c12e56');\n",
              "          const dataTable =\n",
              "            await google.colab.kernel.invokeFunction('convertToInteractive',\n",
              "                                                     [key], {});\n",
              "          if (!dataTable) return;\n",
              "\n",
              "          const docLinkHtml = 'Like what you see? Visit the ' +\n",
              "            '<a target=\"_blank\" href=https://colab.research.google.com/notebooks/data_table.ipynb>data table notebook</a>'\n",
              "            + ' to learn more about interactive tables.';\n",
              "          element.innerHTML = '';\n",
              "          dataTable['output_type'] = 'display_data';\n",
              "          await google.colab.output.renderOutput(dataTable, element);\n",
              "          const docLink = document.createElement('div');\n",
              "          docLink.innerHTML = docLinkHtml;\n",
              "          element.appendChild(docLink);\n",
              "        }\n",
              "      </script>\n",
              "    </div>\n",
              "  </div>\n",
              "  "
            ]
          },
          "metadata": {},
          "execution_count": 50
        }
      ]
    },
    {
      "cell_type": "markdown",
      "source": [
        "##Validate Fake News from a URL (Con la ayuda de una funcion se obtiene el contenido de texto limpio de una noticia (fake) en una web, se busca un tamaño máximo de palabras con el cual aprender y predecir si un texto es falso)"
      ],
      "metadata": {
        "id": "2IrzFQKDX_3j"
      }
    },
    {
      "cell_type": "code",
      "source": [
        "def get_news_paragraphs_cleaned_text(url, container_id, paragraphs_element=\"p\", clean=True):\n",
        "    response = requests.get(url)\n",
        "    response_text = response.text\n",
        "    soup = BeautifulSoup(response_text, 'html.parser') \n",
        "\n",
        "    container = soup.find(id=container_id)\n",
        "    paragraphs = container.findAll(paragraphs_element)\n",
        "\n",
        "    text = \" \".join([paragraph.get_text() for paragraph in paragraphs])\n",
        "\n",
        "    if not clean:\n",
        "        return text\n",
        "        \n",
        "    return clean_text(text) "
      ],
      "metadata": {
        "id": "i6CBQf5rd0Zd"
      },
      "execution_count": 51,
      "outputs": []
    },
    {
      "cell_type": "markdown",
      "source": [
        "Esta función se usa para obtener el contenido de texto limpio de una noticia de una URL. La función toma como argumentos la URL de la noticia, el ID del contenedor de la noticia y el elemento de párrafo para obtener los párrafos de la noticia. La función también toma un argumento booleano para limpiar el texto. Si el argumento es verdadero, se usará la función clean_text() para limpiar el texto. La función devuelve el contenido de texto limpio de la noticia."
      ],
      "metadata": {
        "id": "U3AWzUaCDTTV"
      }
    },
    {
      "cell_type": "code",
      "source": [
        "fake_cleaned_text = get_news_paragraphs_cleaned_text(\n",
        "    url=FAKE_NEWS_URL, \n",
        "    container_id='MainW', \n",
        "    paragraphs_element=\"p\"\n",
        ")"
      ],
      "metadata": {
        "id": "vPFDsU-cdwDH"
      },
      "execution_count": 52,
      "outputs": []
    },
    {
      "cell_type": "code",
      "source": [
        "fake_cleaned_text"
      ],
      "metadata": {
        "colab": {
          "base_uri": "https://localhost:8080/",
          "height": 195
        },
        "id": "6boN5F87eAI7",
        "outputId": "093b68bb-4fcd-467f-8099-c483409bbf95"
      },
      "execution_count": 53,
      "outputs": [
        {
          "output_type": "execute_result",
          "data": {
            "text/plain": [
              "'washington d c a review of fbi director james comey s professional history and relationships shows that the obama cabinet leader now under fire for his handling of the investigation of hillary clinton is deeply entrenched in the big money cronyism culture of washington d c his personal and professional relationships all undisclosed as he announced the bureau would not prosecute clinton reinforce bipartisan concerns that he may have politicized the criminal probe these concerns focus on millions of dollars that comey accepted from a clinton foundation defense contractor comey s former membership on a clinton foundation corporate partner s board and his surprising financial relationship with his brother peter comey who works at the law firm that does the clinton foundation s taxes lockheed martin when president obama nominated comey to become fbi director in 2013 comey promised the united states senate that he would recuse himself on all cases involving former employers but comey earned 6 million in one year alone from lockheed martin lockheed martin became a clinton foundation donor that very year comey served as deputy attorney general under john ashcroft for two years of the bush administration when he left the bush administration he went directly to lockheed martin and became vice president acting as a general counsel how much money did james comey make from lockheed martin in his last year with the company which he left in 2010 more than 6 million in compensation lockheed martin is a clinton foundation donor the company admitted to becoming a clinton global initiative member in 2010 according to records lockheed martin is also a member of the american chamber of commerce in egypt which paid bill clinton 250 000 to deliver a speech in 2010 in 2010 lockheed martin won 17 approvals for private contracts from the hillary clinton state department hsbc holdings in 2013 comey became a board member a director and a financial system vulnerabilities committee member of the london bank hsbc holdings mr comey s appointment will be for an initial three year term which subject to re election by shareholders will expire at the conclusion of the 2016 annual general meeting according to hsbc company records hsbc holdings and its various philanthropic branches routinely partner with the clinton foundation for instance hsbc holdings has partnered with deutsche bank through the clinton foundation to retrofit 1 500 to 2 500 housing units primarily in the low to moderate income sector in new york city retrofitting refers to a green initiative to conserve energy in commercial housing units clinton foundation records show that the foundation projected 1 billion in financing for this green initiative to conserve people s energy in low income housing units who is peter comey when our source called the chinatown offices of d c law firm dla piper and asked for peter comey a receptionist immediately put him through to comey s direct line but peter comey is not featured on the dla piper website peter comey serves as senior director of real estate operations for the americas for dla piper james comey was not questioned about his relationship with peter comey in his confirmation hearing dla piper is the firm that performed the independent audit of the clinton foundation in november during clinton world s first big push to put the email scandal behind them dla piper s employees taken as a whole represent a major hillary clinton 2016 campaign donation bloc and clinton foundation donation base dla piper ranks 5 on hillary clinton s all time career top contributors list just ahead of goldman sachs and here is another thing peter comey has a mortgage on his house that is owned by his brother james comey the fbi director peter comey s financial records obtained by breitbart news show that he bought a 950 000 house in vienna virginia in june 2008 he needed a 712 500 mortgage from first savings mortgage corporation but on january 31 2011 james comey and his wife stepped in to become private party lenders they granted a mortgage on the house for 711 000 financial records suggest that peter comey took out two such mortgages from his brother that day this financial relationship between the comey brothers began prior to james comey s nomination to become director of the fbi dla piper did not answer breitbart news question as to whether james comey and peter comey spoke at any point about this mortgage or anything else during the clinton email investigation peter comey re designed the fbi building fbi director james comey grew up in the new jersey suburbs with his brother peter both comeys were briefly taken captive in 1977 by the ramsey rapist but the boys managed to escape through a window in their home and neither boy was harmed james comey became a prosecutor who worked on the gambino crime family case he went on to the bush administration a handful of private sector jobs and then the obama administration in 2013 peter comey meanwhile went into construction after getting an mba in real estate and urban development from george washington university in 1998 peter comey became an executive at a company that re designed george washington university between 2004 and 2007 while his brother was in town working for the bush administration in january 2009 at the beginning of the obama administration peter comey became a real estate and construction consultant for procon consulting procon consulting s client list includes fbi headquarters washington dc so what did procon consulting do for fbi headquarters quite a bit apparently according to the firm s records procon provided strategic project management for the consolidation of over 11 000 fbi personnel into one high security facility since 1972 the federal bureau of investigation has had its headquarters in a purpose built 2 1 million square foot building on pennsylvania avenue having become functionally obsolete and in need of major repairs gsa and the fbi were considering ways to meet the space needs required to maintain the bureau s mission and consolidate over 11 000 personnel procon assisted gsa in assessing the fbi s space needs and options for fulfilling those needs services provided included project management related to site evaluations budgeting due diligence and the development of procurement and funding strategies those funding strategies included talking to stakeholders worked with stakeholders and key leadership to identify strategic objectives goals and long range plans for capital and real estate projects procon consulting obtained its contract for fbi headquarters prior to james comey s nomination to serve as director of the fbi in june 2011 peter comey left procon consulting to become senior director of real estate operations for the americas for dla piper peter comey has generated some controversy in that role according to law360 in may 2013 the same month that james comey was confirmed as someone being considered by obama to become fbi director two real estate services businesses filed a 10 million suit against the law firm monday alleging it stiffed them on as much as 760 000 of work done at dla piper s chicago office and improperly gave proprietary information to a competitor the plaintiffs take particular aim at peter comey dla piper s senior director of real estate operations leasecorp and spacelogik include several emails in the complaint that are purportedly from dla piper senior real estate partners jay epstein and rich klawiter and are sharply critical of comey s handling of the matter in one email epstein wrote that it s an embarrassment for the firm to be treating someone who we are working with like this in another email allegedly from klawiter on feb 20 the dla piper partner informed leasecorp president michael walker a principal for both plaintiffs that comey had sent him and epstein an email claiming that the real estate services firms were behind on their contractual obligations i just received an email from peter jay was also a recipient that is so inflammatory i can t even send it or you ll hit the roof klawiter said in the email according to the complaint this is not going to end well politicsclinton email scandalclinton foundationfbihsbcjames comeylockheed martin please let us know if you re having issues with commenting '"
            ],
            "application/vnd.google.colaboratory.intrinsic+json": {
              "type": "string"
            }
          },
          "metadata": {},
          "execution_count": 53
        }
      ]
    },
    {
      "cell_type": "markdown",
      "source": [
        "El texto se tokeniza y luego se convierte en una secuencia de tokens que se pasa a la función de preprocesamiento de secuencias de Keras para ajustarlo al tamaño máximo especificado (200). Finalmente, el modelo predice si el texto es real o falso usando la función predict (). Esto devuelve una matriz con una sola entrada y una sola salida que es la probabilidad de que el texto sea verdadero o falso."
      ],
      "metadata": {
        "id": "NMxiw5rElhcS"
      }
    },
    {
      "cell_type": "code",
      "source": [
        "fake_sequences = tokenizer.texts_to_sequences([fake_cleaned_text])\n",
        "fake_sequences = tf.keras.preprocessing.sequence.pad_sequences(fake_sequences, maxlen=200) "
      ],
      "metadata": {
        "id": "lTL73d-2ZH8N"
      },
      "execution_count": 54,
      "outputs": []
    },
    {
      "cell_type": "code",
      "source": [
        "fake_prediction = model.predict(fake_sequences)[0][0]"
      ],
      "metadata": {
        "colab": {
          "base_uri": "https://localhost:8080/"
        },
        "id": "wPrjEVeTZj1i",
        "outputId": "4ad583c2-c76f-47c8-dbb2-2aaf70e04836"
      },
      "execution_count": 55,
      "outputs": [
        {
          "output_type": "stream",
          "name": "stdout",
          "text": [
            "1/1 [==============================] - 0s 361ms/step\n"
          ]
        }
      ]
    },
    {
      "cell_type": "code",
      "source": [
        "fake_prediction"
      ],
      "metadata": {
        "colab": {
          "base_uri": "https://localhost:8080/"
        },
        "id": "e1sesS0PeyUf",
        "outputId": "083824d0-4aef-4ead-cb11-166c12a33d96"
      },
      "execution_count": 56,
      "outputs": [
        {
          "output_type": "execute_result",
          "data": {
            "text/plain": [
              "0.0013647043"
            ]
          },
          "metadata": {},
          "execution_count": 56
        }
      ]
    },
    {
      "cell_type": "code",
      "source": [
        "round_prediction = round(fake_prediction)"
      ],
      "metadata": {
        "id": "cOR-3pCOiRMg"
      },
      "execution_count": 57,
      "outputs": []
    },
    {
      "cell_type": "code",
      "source": [
        "round_prediction"
      ],
      "metadata": {
        "colab": {
          "base_uri": "https://localhost:8080/"
        },
        "id": "CseP94USio9I",
        "outputId": "011e067b-0051-4c79-caf1-8076a44b5994"
      },
      "execution_count": 58,
      "outputs": [
        {
          "output_type": "execute_result",
          "data": {
            "text/plain": [
              "0"
            ]
          },
          "metadata": {},
          "execution_count": 58
        }
      ]
    },
    {
      "cell_type": "code",
      "source": [
        "\"Noticia Verdadera\" if np.max(round_prediction) == 1 else \"Noticia Falsa\""
      ],
      "metadata": {
        "colab": {
          "base_uri": "https://localhost:8080/",
          "height": 36
        },
        "id": "czcSOGCZIh5j",
        "outputId": "dacb17e3-8ffe-472d-ebb1-14ef897a5ed4"
      },
      "execution_count": 59,
      "outputs": [
        {
          "output_type": "execute_result",
          "data": {
            "text/plain": [
              "'Noticia Falsa'"
            ],
            "application/vnd.google.colaboratory.intrinsic+json": {
              "type": "string"
            }
          },
          "metadata": {},
          "execution_count": 59
        }
      ]
    },
    {
      "cell_type": "markdown",
      "source": [
        "##Validate True News from a URL (Se obtiene el contenido de texto limpio de otra noticia (real) de otra web, se utiliza el mismo tamaño máximo de palabras para aprender y predecir si el texto es verdadero)"
      ],
      "metadata": {
        "id": "adxHsZSfbN8T"
      }
    },
    {
      "cell_type": "code",
      "source": [
        "true_cleaned_text = get_news_paragraphs_cleaned_text(\n",
        "    url=TRUE_NEWS_URL, \n",
        "    container_id='__next', \n",
        "    paragraphs_element=\"p\"\n",
        ")"
      ],
      "metadata": {
        "id": "RtlLL9Cd_L_e"
      },
      "execution_count": 60,
      "outputs": []
    },
    {
      "cell_type": "code",
      "source": [
        "true_cleaned_text"
      ],
      "metadata": {
        "colab": {
          "base_uri": "https://localhost:8080/",
          "height": 195
        },
        "id": "YtrdnhnRgm8h",
        "outputId": "aa1c209c-8bb0-4526-e71b-bc9b222da026"
      },
      "execution_count": 61,
      "outputs": [
        {
          "output_type": "execute_result",
          "data": {
            "text/plain": [
              "'sign in kathryn nesbitt had spent a decade balancing parallel careers in analytical chemistry and soccer officiating when in 2019 she put her scientific brain to work and synthesized a solution for the most pragmatic path forward two weeks before nesbitt left for france to serve as an assistant referee at the women s world cup she stepped down from her assistant professor position at towson university to focus on officiating full time what data points informed that decision she reached the pinnacle of women s soccer refereeing that summer and had broken into top flight men s soccer as well with dozens of mls games under her belt knowing the 2026 men s world cup would be held in the united states canada and mexico nesbitt mapped out a plan that would culminate in her being on the sideline of the sport s premier spectacle i had no idea if they d ever let women officiate at that world cup but i wanted to see if i could do that said nesbitt 34 i realized at the time that in order to even attempt that i would need to dedicate all of my time and effort into one job once nesbitt shifted her focus to officiating her ascent accelerated in 2020 she claimed mls assistant referee of the year honors and became the first woman to officiate an mls cup final a few months later concacaf the confederation that oversees soccer in north america central america and the caribbean tasked her with men s world cup qualifying assignments by the time fifa soccer s global governing body announced its pool of referees for the 2022 world cup in qatar the philadelphia based official thought she might have a shot on may 19 nesbitt woke up scrolled through twitter and saw fifa s unveiling the tournament fifa stated in its announcement would feature the first female referees in the 92 year history of the men s world cup with six women among the 129 officials zooming in on the 69 assistant referees she saw the listing nesbitt kathryn usa i just got jaw dropped stared at it couldn t even believe that this was happening nesbitt recalled then i probably jumped around the room for the next 20 minutes nesbitt prides herself as a referee or a chemist in processing the information at her disposal and arriving at the right conclusion but in calculating her path to a men s world cup assignment she shortchanged herself by four years in fact she certainly achieves the highest standard in everything that she does said mark geiger a former mls olympic and world cup referee who now serves as the director of senior match officials at the u s based professional referee organization she doesn t settle for anything she sets goals for herself and she does everything that she possibly can to achieve those goals whether it s in the science field or whether it s on the soccer field a soccer player in her youth nesbitt was a restless 14 year old sitting through her little brother s games in rochester n y when she first volunteered to be an assistant referee commonly known as a linesman the role typically involves making throw in goal kick corner kick foul and offside calls but as a teen volunteer with a familial conflict of interest nesbitt was simply asked to wave the flag when the ball went out of bounds and leave the rest to the paid referee then one of the guys actually asked me hey would you like to make money doing this nesbitt said and i was like yeah that sounds great a senior level figure skater and a volleyball player who competed for st john fisher university in rochester nesbitt divided her time among no shortage of athletic exploits around the time she was wrapping up her college career she began serving as a fourth official a largely administrative role stationed between the team benches for games involving rochester s minor league men s team before long nesbitt landed a spot in a now defunct u s soccer program for fast tracking top officiating prospects in 2013 she became an assistant referee for the nwsl felisha mariscal broke through as an mls official a year later and nesbitt made her mls debut in 2015 graphic a closer look at the usmnt but even as she rose up the ranks soccer remained a side hustle after studying chemistry as a graduate student at the university of pittsburgh and completing a postdoctoral research fellowship at michigan nesbitt joined the faculty at towson a public university in maryland in 2017 for the better part of two years she did some 50 hours of lab research per week most friday nights nesbitt would crawl to the airport through baltimore rush hour traffic and hop on a plane to los angeles minnesota or wherever else her mls assignments took her after officiating a match she would fly back sunday night and do it all again she managed those competing responsibilities exceptionally well said john sivey a professor who worked with nesbitt in towson s chemistry department i don t know how she did it to be very honest because the demands of both of those careers can be pretty substantial after those long days of lab research nesbitt would flip on mls games or devour film of the teams she would be officiating that weekend deeply understanding each club s players and tactics allows her to better anticipate the flow of the game she reasoned and helps her parlay her strengths in academia to the soccer pitch one of the characteristics that i think strongly overlaps between a very good sports official and a very good analytical chemist is precision said sivey himself a former high school baseball and softball umpire and basketball referee for precision in analytical chemistry we basically mean how repeatable or reproducible is a particular experiment in the sports officiating world i think that looks a lot like consistency to geiger who officiated alongside nesbitt before retiring as a referee in 2019 that precision is just one of nesbitt s strengths as a 6 foot former college athlete she has no problem acing refereeing fitness standards designed for men and geiger can t recall seeing her rattled even in games that threatened to spiral out of the referee crew s control she not only can analyze what the correct decision should be but she also knows from a feeling aspect what the best decision for the game would be geiger said and they re not always the same sometimes you need to really feel the game and know what the best decision is at that particular moment and what s going to help the referee group maintain control of the game she understands that although mls recently completed its eighth season using female referees nesbitt last year became the first woman to officiate concacaf men s world cup qualifying games she remembered getting plenty of stares from players especially in those first few matches nesbitt said match coordinators also tended to mistakenly assume she was just the fourth official there to help with substitutions and timekeeping but not roam the pitch one of the biggest things i ve learned in my career and this has been in chemistry too both being very male heavy areas is the best way to impress is to do your job well nesbitt said but it would always be funny the first time i would do a sprint with one of the players down to the corner flag and he d look over and i d be keeping up with him i think that had a really big effect just gaining some respect within months of her first men s qualifier nesbitt had gained enough respect to book her ticket to qatar on that may morning when fifa unveiled the world cup officials sivey went door to door through the towson chemistry department to excitedly share the news of their former colleague s new assignment usmnt s walker zimmerman is a very good soccer player he might be a better teammate eventually nesbitt figures she will hang up her cleats stash away her flag and return to chemistry for now though she understands her status as a soccer trailblazer even if hearing that label prompts her to let out an embarrassed groan as she prepares to make world cup history nesbitt revels appropriately enough in the satisfaction that she made the right call back in 2019 this was an impossible dream for me and just being able to witness females at this event now makes this realistic for all women nesbitt said whether it be in refereeing whether it be in a different sport whether it be in something completely different sometimes just having a visual like that can make something actually be real if i get to play even a small role in that that s really cool '"
            ],
            "application/vnd.google.colaboratory.intrinsic+json": {
              "type": "string"
            }
          },
          "metadata": {},
          "execution_count": 61
        }
      ]
    },
    {
      "cell_type": "code",
      "source": [
        "true_sequences = tokenizer.texts_to_sequences([true_cleaned_text])\n",
        "true_sequences = tf.keras.preprocessing.sequence.pad_sequences(true_sequences, maxlen=200)"
      ],
      "metadata": {
        "id": "kQJ3JHpfeYfi"
      },
      "execution_count": 62,
      "outputs": []
    },
    {
      "cell_type": "code",
      "source": [
        "true_prediction = model.predict(true_sequences)[0][0]"
      ],
      "metadata": {
        "colab": {
          "base_uri": "https://localhost:8080/"
        },
        "id": "yMXJ8gnUeo1J",
        "outputId": "7f85e2dd-07aa-4564-f244-c40a2edcba11"
      },
      "execution_count": 63,
      "outputs": [
        {
          "output_type": "stream",
          "name": "stdout",
          "text": [
            "1/1 [==============================] - 0s 22ms/step\n"
          ]
        }
      ]
    },
    {
      "cell_type": "code",
      "source": [
        "true_prediction"
      ],
      "metadata": {
        "colab": {
          "base_uri": "https://localhost:8080/"
        },
        "id": "eR6GiT9GgGwq",
        "outputId": "67654cf0-11d4-4ba2-bcba-e95787e34efc"
      },
      "execution_count": 64,
      "outputs": [
        {
          "output_type": "execute_result",
          "data": {
            "text/plain": [
              "0.9960622"
            ]
          },
          "metadata": {},
          "execution_count": 64
        }
      ]
    },
    {
      "cell_type": "code",
      "source": [
        "round_prediction = round(true_prediction)"
      ],
      "metadata": {
        "id": "gNbutmg1gJuc"
      },
      "execution_count": 65,
      "outputs": []
    },
    {
      "cell_type": "code",
      "source": [
        "round_prediction"
      ],
      "metadata": {
        "colab": {
          "base_uri": "https://localhost:8080/"
        },
        "id": "576LdSLUjEMJ",
        "outputId": "e638c197-a38f-48d9-ec34-bfb715202868"
      },
      "execution_count": 66,
      "outputs": [
        {
          "output_type": "execute_result",
          "data": {
            "text/plain": [
              "1"
            ]
          },
          "metadata": {},
          "execution_count": 66
        }
      ]
    },
    {
      "cell_type": "code",
      "source": [
        "\"Noticia Verdadera\" if np.max(round_prediction) == 1 else \"Noticia Falsa\""
      ],
      "metadata": {
        "id": "iZHLYXBAtQeA",
        "outputId": "7ce4fe81-d3da-4911-efad-16eb846ad261",
        "colab": {
          "base_uri": "https://localhost:8080/",
          "height": 36
        }
      },
      "execution_count": 67,
      "outputs": [
        {
          "output_type": "execute_result",
          "data": {
            "text/plain": [
              "'Noticia Verdadera'"
            ],
            "application/vnd.google.colaboratory.intrinsic+json": {
              "type": "string"
            }
          },
          "metadata": {},
          "execution_count": 67
        }
      ]
    },
    {
      "cell_type": "markdown",
      "source": [
        "# Parte 2\n",
        "Se acerca el fin de año y con ello la necesidad de realizar los balances generales, estados financieros, etc. Una empresa te contrata para capturar manualmente todos sus recibos de ventas, solo que hay un pequeño problema: todos están hechos a mano, por lo que sería muy tardado ver recibo tras recibo y capturarlos de forma manual.\n",
        "\n",
        "Sin embargo, recuerdas que aprendiste acerca de las redes neuronales convolucionales. Por ello, decides hacer un modelo que afronte este problema con Inteligencia Artificial y que convierta la escritura a mano en caracteres.\n",
        "\n",
        "Tienes el *dataset* de dígitos escritos a mano de Mnist a tu disposición:\n",
        "https://www.tensorflow.org/datasets/catalog/mnist , que puedes invocar de esta manera:\n",
        "\n",
        "\n",
        "```python\n",
        "from tensorflow import keras\n",
        "(x_train, y_train), (x_test, y_test) = keras.datasets.mnist.load_data()\n",
        "\n",
        "```\n",
        "\n",
        "## Criterios de evaluación\n",
        "- Entrena el modelo utilizando Tensorflow y todas las capas que creas necesarias. Explica por qué elegiste esas capas. Si no hay explicación, se invalida un punto (2 puntos).\n",
        "- Grafica la evolución de la pérdida y la precisión del entrenamiento y genera un conjunto de 10 predicciones con los mismos datos del *dataset* (2 puntos).\n",
        "\n",
        "\n",
        "¡Éxito! Te vemos en el contenido del siguiente módulo."
      ],
      "metadata": {
        "id": "Zy6F4hWSpkwU"
      }
    },
    {
      "cell_type": "markdown",
      "source": [
        "##Library (Se importan las librerias necesarias)"
      ],
      "metadata": {
        "id": "Z0zmBXOKrDsr"
      }
    },
    {
      "cell_type": "code",
      "source": [
        "##Library import\n",
        "import numpy as np\n",
        "np.random.seed(2)\n",
        "import matplotlib.pyplot as plt\n",
        "#Mnist as data set \n",
        "from keras.datasets import mnist\n",
        "#np_utils for one hot format\n",
        "from keras.utils import np_utils\n",
        "#to create the model container\n",
        "from keras.models import Sequential\n",
        "#to implement convolutional layers\n",
        "from keras.layers.convolutional import Conv2D, MaxPooling2D\n",
        "#to use the gradient descending method during training\n",
        "from keras.layers import Flatten, Dense, Dropout\n",
        "from keras.optimizers import SGD\n",
        "from keras import optimizers"
      ],
      "metadata": {
        "id": "dvmF3AWDMybg"
      },
      "execution_count": 68,
      "outputs": []
    },
    {
      "cell_type": "markdown",
      "source": [
        "##Reading and Preprocessing for data (Se importan los datos de Mnist desde el módulo de conjuntos de datos de Keras.)"
      ],
      "metadata": {
        "id": "HOKR_xqbs-4A"
      }
    },
    {
      "cell_type": "code",
      "source": [
        "#Use mnist to load data (bitmap of 60 rows of matrix 28x28)\n",
        "(x_train, y_train), (x_test,y_test) = mnist.load_data()\n",
        "print(x_train.shape)\n",
        "print(y_train.shape)\n",
        "print(x_test.shape)\n",
        "print(y_test.shape)"
      ],
      "metadata": {
        "colab": {
          "base_uri": "https://localhost:8080/"
        },
        "id": "ImtU1L6_rhWs",
        "outputId": "0f744151-e528-444d-e38e-682170a88582"
      },
      "execution_count": 69,
      "outputs": [
        {
          "output_type": "stream",
          "name": "stdout",
          "text": [
            "Downloading data from https://storage.googleapis.com/tensorflow/tf-keras-datasets/mnist.npz\n",
            "11490434/11490434 [==============================] - 0s 0us/step\n",
            "(60000, 28, 28)\n",
            "(60000,)\n",
            "(10000, 28, 28)\n",
            "(10000,)\n"
          ]
        }
      ]
    },
    {
      "cell_type": "code",
      "source": [
        "x_train[50000] [5] [9]\n",
        "#posicion 9 tiene un valor 12 fila 5 de la matriz 28x28 en la posicion 50mil"
      ],
      "metadata": {
        "colab": {
          "base_uri": "https://localhost:8080/"
        },
        "id": "EWBSjKT_OC8C",
        "outputId": "8a94a0b5-6df7-44b9-fdaa-74e70dbeed28"
      },
      "execution_count": 70,
      "outputs": [
        {
          "output_type": "execute_result",
          "data": {
            "text/plain": [
              "12"
            ]
          },
          "metadata": {},
          "execution_count": 70
        }
      ]
    },
    {
      "cell_type": "code",
      "source": [
        "plt.imshow(x_train[50000]) "
      ],
      "metadata": {
        "colab": {
          "base_uri": "https://localhost:8080/",
          "height": 448
        },
        "id": "UjsYqYY7Om6Y",
        "outputId": "d9556c54-8ed1-4367-ac61-b7ea314de992"
      },
      "execution_count": 71,
      "outputs": [
        {
          "output_type": "execute_result",
          "data": {
            "text/plain": [
              "<matplotlib.image.AxesImage at 0x7f13fc110e20>"
            ]
          },
          "metadata": {},
          "execution_count": 71
        },
        {
          "output_type": "display_data",
          "data": {
            "text/plain": [
              "<Figure size 640x480 with 1 Axes>"
            ],
            "image/png": "[encoded data removed]"
          },
          "metadata": {}
        }
      ]
    },
    {
      "cell_type": "code",
      "source": [
        "print(y_train[50000]) "
      ],
      "metadata": {
        "colab": {
          "base_uri": "https://localhost:8080/"
        },
        "id": "UrsJYYghO8rf",
        "outputId": "76758e8c-eba4-479e-bfb3-139a7d69e42b"
      },
      "execution_count": 72,
      "outputs": [
        {
          "output_type": "stream",
          "name": "stdout",
          "text": [
            "3\n"
          ]
        }
      ]
    },
    {
      "cell_type": "code",
      "source": [
        "# Cambiar las dimensiones de las imágenes a 28x28x1 y escalar los valores de píxel\n",
        "x_train = x_train.reshape(-1, 28, 28, 1) / 255.0\n",
        "x_test = x_test.reshape(-1, 28, 28, 1) / 255.0"
      ],
      "metadata": {
        "id": "RdS-7NEXqdAF"
      },
      "execution_count": 73,
      "outputs": []
    },
    {
      "cell_type": "code",
      "source": [
        "#x_train= x_train.astype('float32')\n",
        "#x_test= x_test.astype('float32')"
      ],
      "metadata": {
        "id": "Hkfg8k-UPUdL"
      },
      "execution_count": 74,
      "outputs": []
    },
    {
      "cell_type": "code",
      "source": [
        "#To normalize the values of each image in the range 0 to 1 (bits - rgb values 0-255) \n",
        "#x_train = x_train/255.0\n",
        "#x_test = x_test/255.0"
      ],
      "metadata": {
        "id": "MdBxVuV7ttSY"
      },
      "execution_count": 75,
      "outputs": []
    },
    {
      "cell_type": "code",
      "source": [
        "x_train.shape"
      ],
      "metadata": {
        "colab": {
          "base_uri": "https://localhost:8080/"
        },
        "id": "22w5fsbIM8IW",
        "outputId": "e4afa8fd-00f5-46f9-a23a-242dd1062dd2"
      },
      "execution_count": 76,
      "outputs": [
        {
          "output_type": "execute_result",
          "data": {
            "text/plain": [
              "(60000, 28, 28, 1)"
            ]
          },
          "metadata": {},
          "execution_count": 76
        }
      ]
    },
    {
      "cell_type": "code",
      "source": [
        "#To convert the training set label to the one-hot format\n",
        "nclases = 10\n",
        "y_train = np_utils.to_categorical(y_train,nclases)\n",
        "y_test = np_utils.to_categorical(y_test,nclases)"
      ],
      "metadata": {
        "id": "iL4_xp7JwCxe"
      },
      "execution_count": 77,
      "outputs": []
    },
    {
      "cell_type": "code",
      "source": [
        "#To visualize one of the mnist image from the set\n",
        "nimagen=400\n",
        "plt.imshow(x_train[nimagen,:].reshape(28,28), cmap='gray_r')\n",
        "plt.title('Example Image:' + str(np.argmax(y_train[nimagen])))\n",
        "plt.axis('off')\n",
        "plt.show()"
      ],
      "metadata": {
        "colab": {
          "base_uri": "https://localhost:8080/",
          "height": 428
        },
        "id": "WfB-QJusxEBL",
        "outputId": "f3d10c4a-78af-401f-bec7-f82982b8ebc3"
      },
      "execution_count": 78,
      "outputs": [
        {
          "output_type": "display_data",
          "data": {
            "text/plain": [
              "<Figure size 640x480 with 1 Axes>"
            ],
            "image/png": "[encoded data removed]"
          },
          "metadata": {}
        }
      ]
    },
    {
      "cell_type": "code",
      "source": [
        "#To readjust the training and validation images because they are grayscale images, use reshape .\n",
        "x_train = x_train.reshape(60000,28,28,1)\n",
        "x_test = x_test.reshape(10000,28,28,1)"
      ],
      "metadata": {
        "id": "SxpfcpuJw1gt"
      },
      "execution_count": 79,
      "outputs": []
    },
    {
      "cell_type": "markdown",
      "source": [
        "##Implementing Keras model (Se crea un modelo secuencial con tres capas: Entrada (convierte la imagen de pixeles), Oculta (neuronas para aprender los patrones) y Salida (neuronas para generar predicciones). "
      ],
      "metadata": {
        "id": "AmeuGkS0Dkw2"
      }
    },
    {
      "cell_type": "markdown",
      "source": [
        "- Use Sequential to create the model container"
      ],
      "metadata": {
        "id": "JHhUL2Vjc3kT"
      }
    },
    {
      "cell_type": "code",
      "source": [
        "num_classes = 10\n",
        "\n",
        "modelo = Sequential()\n",
        "modelo.add(Conv2D(32, 1, padding='same', input_shape=x_train.shape[1:], activation='relu'))\n",
        "modelo.add(Conv2D(32, 1, activation='relu'))\n",
        "modelo.add(MaxPooling2D())\n",
        "modelo.add(Dropout(0.25))                      \n",
        "\n",
        "modelo.add(Conv2D(64, 1, padding='same', activation='relu'))\n",
        "modelo.add(Conv2D(64, 1, activation='relu'))\n",
        "modelo.add(MaxPooling2D())\n",
        "modelo.add(Dropout(0.25))\n",
        "\n",
        "modelo.add(Flatten())\n",
        "modelo.add(Dense(512, activation='relu'))\n",
        "modelo.add(Dropout(0.5))\n",
        "modelo.add(Dense(num_classes, activation='softmax'))\n",
        "\n",
        "\n",
        "modelo.summary()"
      ],
      "metadata": {
        "colab": {
          "base_uri": "https://localhost:8080/"
        },
        "id": "vDI3NkjMMcFa",
        "outputId": "4c82f990-ea47-482c-f082-d2db838a8208"
      },
      "execution_count": 80,
      "outputs": [
        {
          "output_type": "stream",
          "name": "stdout",
          "text": [
            "Model: \"sequential_1\"\n",
            "_________________________________________________________________\n",
            " Layer (type)                Output Shape              Param #   \n",
            "=================================================================\n",
            " conv2d (Conv2D)             (None, 28, 28, 32)        64        \n",
            "                                                                 \n",
            " conv2d_1 (Conv2D)           (None, 28, 28, 32)        1056      \n",
            "                                                                 \n",
            " max_pooling2d (MaxPooling2D  (None, 14, 14, 32)       0         \n",
            " )                                                               \n",
            "                                                                 \n",
            " dropout_1 (Dropout)         (None, 14, 14, 32)        0         \n",
            "                                                                 \n",
            " conv2d_2 (Conv2D)           (None, 14, 14, 64)        2112      \n",
            "                                                                 \n",
            " conv2d_3 (Conv2D)           (None, 14, 14, 64)        4160      \n",
            "                                                                 \n",
            " max_pooling2d_1 (MaxPooling  (None, 7, 7, 64)         0         \n",
            " 2D)                                                             \n",
            "                                                                 \n",
            " dropout_2 (Dropout)         (None, 7, 7, 64)          0         \n",
            "                                                                 \n",
            " flatten (Flatten)           (None, 3136)              0         \n",
            "                                                                 \n",
            " dense_1 (Dense)             (None, 512)               1606144   \n",
            "                                                                 \n",
            " dropout_3 (Dropout)         (None, 512)               0         \n",
            "                                                                 \n",
            " dense_2 (Dense)             (None, 10)                5130      \n",
            "                                                                 \n",
            "=================================================================\n",
            "Total params: 1,618,666\n",
            "Trainable params: 1,618,666\n",
            "Non-trainable params: 0\n",
            "_________________________________________________________________\n"
          ]
        }
      ]
    },
    {
      "cell_type": "markdown",
      "source": [
        "##Model Compilation (Se compila el modelo usando el optimizador RMSprop, con una tasa de aprendizaje y descenso, tiene una funcion de entropia cruzada para calcular la salida prevista y la deseada, con una metrica de precision para medir la exactitud al predecir.)"
      ],
      "metadata": {
        "id": "9C2v_io6FjvX"
      }
    },
    {
      "cell_type": "code",
      "source": [
        "modelo.compile(optimizers.RMSprop(learning_rate=0.0001, decay=1e-06),\n",
        "            loss='categorical_crossentropy', metrics=['acc'])"
      ],
      "metadata": {
        "id": "PBqTQVVYThKP"
      },
      "execution_count": 81,
      "outputs": []
    },
    {
      "cell_type": "markdown",
      "source": [
        "##Training and validation of the model ( Se usa el metodo fit para entrenar el modelo, se usan los datos de entrenamiento, un numero de épocas, tamaño del lote, verbose como nivel de detalle, y con los datos de prueba se valida el modelo. Los resultados se almacenan en una variable history para su visualización)"
      ],
      "metadata": {
        "id": "NmNYlcuZGNhn"
      }
    },
    {
      "cell_type": "code",
      "source": [
        "batch_size = 32\n",
        "epochs = 20"
      ],
      "metadata": {
        "id": "emBM5683Vh4_"
      },
      "execution_count": 82,
      "outputs": []
    },
    {
      "cell_type": "code",
      "source": [
        "history = modelo.fit(x_train, y_train, \n",
        "                    batch_size= batch_size, \n",
        "                    epochs= epochs, \n",
        "                    validation_data= (x_test, y_test))"
      ],
      "metadata": {
        "colab": {
          "base_uri": "https://localhost:8080/"
        },
        "id": "KbqeHkHyVkYp",
        "outputId": "23cdfba4-8a13-4d54-e93c-182d0b21897b"
      },
      "execution_count": 83,
      "outputs": [
        {
          "output_type": "stream",
          "name": "stdout",
          "text": [
            "Epoch 1/20\n",
            "1875/1875 [==============================] - 11s 6ms/step - loss: 0.7485 - acc: 0.7715 - val_loss: 0.4859 - val_acc: 0.8503\n",
            "Epoch 2/20\n",
            "1875/1875 [==============================] - 8s 5ms/step - loss: 0.4286 - acc: 0.8630 - val_loss: 0.4422 - val_acc: 0.8736\n",
            "Epoch 3/20\n",
            "1875/1875 [==============================] - 9s 5ms/step - loss: 0.3592 - acc: 0.8865 - val_loss: 0.4462 - val_acc: 0.8749\n",
            "Epoch 4/20\n",
            "1875/1875 [==============================] - 10s 5ms/step - loss: 0.3227 - acc: 0.8986 - val_loss: 0.4475 - val_acc: 0.8780\n",
            "Epoch 5/20\n",
            "1875/1875 [==============================] - 9s 5ms/step - loss: 0.2988 - acc: 0.9082 - val_loss: 0.4355 - val_acc: 0.8956\n",
            "Epoch 6/20\n",
            "1875/1875 [==============================] - 9s 5ms/step - loss: 0.2822 - acc: 0.9133 - val_loss: 0.4056 - val_acc: 0.9170\n",
            "Epoch 7/20\n",
            "1875/1875 [==============================] - 10s 5ms/step - loss: 0.2712 - acc: 0.9170 - val_loss: 0.3917 - val_acc: 0.9282\n",
            "Epoch 8/20\n",
            "1875/1875 [==============================] - 9s 5ms/step - loss: 0.2597 - acc: 0.9202 - val_loss: 0.3674 - val_acc: 0.9279\n",
            "Epoch 9/20\n",
            "1875/1875 [==============================] - 9s 5ms/step - loss: 0.2554 - acc: 0.9232 - val_loss: 0.3802 - val_acc: 0.9322\n",
            "Epoch 10/20\n",
            "1875/1875 [==============================] - 9s 5ms/step - loss: 0.2469 - acc: 0.9246 - val_loss: 0.3451 - val_acc: 0.9352\n",
            "Epoch 11/20\n",
            "1875/1875 [==============================] - 9s 5ms/step - loss: 0.2408 - acc: 0.9261 - val_loss: 0.3141 - val_acc: 0.9383\n",
            "Epoch 12/20\n",
            "1875/1875 [==============================] - 9s 5ms/step - loss: 0.2389 - acc: 0.9276 - val_loss: 0.3094 - val_acc: 0.9392\n",
            "Epoch 13/20\n",
            "1875/1875 [==============================] - 9s 5ms/step - loss: 0.2352 - acc: 0.9276 - val_loss: 0.3203 - val_acc: 0.9384\n",
            "Epoch 14/20\n",
            "1875/1875 [==============================] - 9s 5ms/step - loss: 0.2332 - acc: 0.9300 - val_loss: 0.2925 - val_acc: 0.9418\n",
            "Epoch 15/20\n",
            "1875/1875 [==============================] - 9s 5ms/step - loss: 0.2328 - acc: 0.9291 - val_loss: 0.3226 - val_acc: 0.9384\n",
            "Epoch 16/20\n",
            "1875/1875 [==============================] - 9s 5ms/step - loss: 0.2305 - acc: 0.9299 - val_loss: 0.3383 - val_acc: 0.9357\n",
            "Epoch 17/20\n",
            "1875/1875 [==============================] - 9s 5ms/step - loss: 0.2310 - acc: 0.9284 - val_loss: 0.3102 - val_acc: 0.9414\n",
            "Epoch 18/20\n",
            "1875/1875 [==============================] - 8s 4ms/step - loss: 0.2303 - acc: 0.9301 - val_loss: 0.2992 - val_acc: 0.9414\n",
            "Epoch 19/20\n",
            "1875/1875 [==============================] - 9s 5ms/step - loss: 0.2302 - acc: 0.9305 - val_loss: 0.3280 - val_acc: 0.9394\n",
            "Epoch 20/20\n",
            "1875/1875 [==============================] - 8s 4ms/step - loss: 0.2298 - acc: 0.9302 - val_loss: 0.2882 - val_acc: 0.9474\n"
          ]
        }
      ]
    },
    {
      "cell_type": "markdown",
      "source": [
        "##Performance evaluation (Se realiza una gráfica para visualizar la evolución de la pérdida y precisión del entrenamiento)"
      ],
      "metadata": {
        "id": "3_1WUWo8GiYb"
      }
    },
    {
      "cell_type": "code",
      "source": [
        "fig = plt.figure()\n",
        "ax1 = fig.add_subplot(2,1,1)\n",
        "ax1.plot(history.history['loss'])\n",
        "ax1.set_title('Función de pérdida del conjunto de entrenamiento')\n",
        "ax2 = fig.add_subplot(2,1,2, sharex= ax1)\n",
        "ax2.plot(history.history['acc'])\n",
        "ax2.set_title('Precisión del conjunto de entrenamiento')\n",
        "\n",
        "plt.setp(ax1.get_xticklabels(), visible=False)\n",
        "\n",
        "plt.show()"
      ],
      "metadata": {
        "colab": {
          "base_uri": "https://localhost:8080/",
          "height": 453
        },
        "id": "KqIMXffUVXRw",
        "outputId": "9c1d4203-1e08-459e-c9ca-d45853772363"
      },
      "execution_count": 84,
      "outputs": [
        {
          "output_type": "display_data",
          "data": {
            "text/plain": [
              "<Figure size 640x480 with 2 Axes>"
            ],
            "image/png": "[encoded data removed]"
          },
          "metadata": {}
        }
      ]
    },
    {
      "cell_type": "markdown",
      "source": [
        "## Confusion Matrix Graph (Se muestra la cantidad de veces que cada clase fue correctamente o incorrectamente predicha)"
      ],
      "metadata": {
        "id": "8u5ni1xlkKml"
      }
    },
    {
      "cell_type": "code",
      "source": [
        "#Se crea la funcion de la matriz de confusion \n",
        "from sklearn.metrics import confusion_matrix\n",
        "import matplotlib.pyplot as plt\n",
        "import numpy as np\n",
        "\n",
        "def graficar_matriz_de_confusion(y_ref, y_pred, clases, cmap=plt.cm.Blues):\n",
        "\n",
        "    titulo = 'Matriz de confusión'\n",
        "\n",
        "    cm = confusion_matrix(y_ref, y_pred)\n",
        "\n",
        "    # Generar figura\n",
        "    fig, ax = plt.subplots()\n",
        "    im = ax.imshow(cm, interpolation='nearest', cmap=cmap)\n",
        "    ax.set(xticks=np.arange(cm.shape[1]),\n",
        "           yticks=np.arange(cm.shape[0]),\n",
        "           xticklabels=clases, yticklabels=clases,\n",
        "           title=titulo,\n",
        "           ylabel='Categoría real',\n",
        "           xlabel='Predicción')\n",
        "\n",
        "    # Rotar y alinear ticks\n",
        "    plt.setp(ax.get_xticklabels(), rotation=45, ha=\"right\",\n",
        "             rotation_mode=\"anchor\")\n",
        "\n",
        "    # Rellenar gráfica con los valores de la matriz de confusión\n",
        "    fmt = 'd'\n",
        "    thresh = cm.max() / 2.\n",
        "    for i in range(cm.shape[0]):\n",
        "        for j in range(cm.shape[1]):\n",
        "            ax.text(j, i, format(cm[i, j], fmt),\n",
        "                    ha=\"center\", va=\"center\",\n",
        "                    color=\"white\" if cm[i, j] > thresh else \"black\")\n",
        "    fig.tight_layout()\n",
        "    plt.show()"
      ],
      "metadata": {
        "id": "eZI6kuLBJjvs"
      },
      "execution_count": 85,
      "outputs": []
    },
    {
      "cell_type": "code",
      "source": [
        "#To analize the detail of behavior to use the confusion matrix\n",
        "#from matriz_confusion import graficar_matriz_de_confusion\n",
        "\n",
        "y_pred = modelo.predict(x_test)\n",
        "y_ref = np.argmax(y_test,axis=1)\n",
        "y_pred = np.argmax(y_pred,axis=1)\n",
        "etiquetas = ['0','1','2','3','4','5','6','7','8','9']\n",
        "graficar_matriz_de_confusion(y_ref, y_pred, etiquetas)"
      ],
      "metadata": {
        "colab": {
          "base_uri": "https://localhost:8080/",
          "height": 505
        },
        "id": "Su8Dih5V5VwY",
        "outputId": "bbca05db-bfe0-4cec-d0b2-5ae60e2b117b"
      },
      "execution_count": 86,
      "outputs": [
        {
          "output_type": "stream",
          "name": "stdout",
          "text": [
            "313/313 [==============================] - 1s 2ms/step\n"
          ]
        },
        {
          "output_type": "display_data",
          "data": {
            "text/plain": [
              "<Figure size 640x480 with 1 Axes>"
            ],
            "image/png": "[encoded data removed]"
          },
          "metadata": {}
        }
      ]
    },
    {
      "cell_type": "markdown",
      "source": [
        "##10 predictions (Generamos un conjunto de 10 predicciones con los mismos datos del dataset de prueba. Esto nos permite ver si el modelo se comporta de la misma manera con datos desconocidos)"
      ],
      "metadata": {
        "id": "UZhsSSDupdG4"
      }
    },
    {
      "cell_type": "code",
      "source": [
        "# Generate 10 predictions\n",
        "\n",
        "predictions = modelo.predict(x_test[0:10])\n",
        "\n",
        "# print the predictions\n",
        "\n",
        "for i in range(len(predictions)):\n",
        "    print(\"prediction\", i, \": \", np.argmax(predictions[i]))"
      ],
      "metadata": {
        "colab": {
          "base_uri": "https://localhost:8080/"
        },
        "id": "EP7AJfYnoiUX",
        "outputId": "59deea73-a876-4baa-cf54-1f2c703468c0"
      },
      "execution_count": 87,
      "outputs": [
        {
          "output_type": "stream",
          "name": "stdout",
          "text": [
            "1/1 [==============================] - 0s 219ms/step\n",
            "prediction 0 :  7\n",
            "prediction 1 :  2\n",
            "prediction 2 :  1\n",
            "prediction 3 :  0\n",
            "prediction 4 :  4\n",
            "prediction 5 :  1\n",
            "prediction 6 :  4\n",
            "prediction 7 :  9\n",
            "prediction 8 :  6\n",
            "prediction 9 :  9\n"
          ]
        }
      ]
    }
  ]
}